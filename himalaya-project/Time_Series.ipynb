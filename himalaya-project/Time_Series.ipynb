{
 "cells": [
  {
   "cell_type": "code",
   "execution_count": 2,
   "metadata": {},
   "outputs": [],
   "source": [
    "import pandas as pd\n",
    "import numpy as np\n",
    "import matplotlib.pyplot as plt\n",
    "import os"
   ]
  },
  {
   "cell_type": "markdown",
   "metadata": {},
   "source": [
    "# Data Sourcing"
   ]
  },
  {
   "cell_type": "code",
   "execution_count": 3,
   "metadata": {},
   "outputs": [],
   "source": [
    "from weather import Weather\n",
    "weather = Weather().get_data()\n",
    "weather = Weather().clean_data(weather)\n",
    "\n",
    "from expeds import Expeds\n",
    "exped = Expeds().get_data()\n",
    "exped = Expeds().clean_data(exped)\n",
    "\n",
    "root_dir = os.path.abspath('')\n",
    "xls_path = os.path.join(root_dir, 'data\\\\exped_time_2.xls')\n",
    "time = pd.read_excel(xls_path)"
   ]
  },
  {
   "cell_type": "markdown",
   "metadata": {},
   "source": [
    "# Column Dropping"
   ]
  },
  {
   "cell_type": "code",
   "execution_count": 29,
   "metadata": {},
   "outputs": [],
   "source": [
    "exp_to_drop = ['year','season','route1','route2','nation','leaders','sponsor','success1','success2',\n",
    "               'ascent1','claimed','disputed','countries','summit_time','term_date','term_reason', 'summit_days',\n",
    "               'term_note','high_point','traverse','ski','parapente','o2_climb','o2_descent','o2_sleep','o2_medical',\n",
    "               'o2_taken','o2_unkwn','o2_used','o2_none','other_smts','campsites','accidents','achievment','agency',\n",
    "               'peak_name','primmem','summiter_deaths','summit_hired','hired_deaths']\n",
    "\n",
    "exped.drop(columns= exp_to_drop, inplace=True)\n",
    "\n",
    "exped['summit_date'] = pd.to_datetime(exped.summit_date, errors = 'coerce')\n",
    "exped['bc_date'] = pd.to_datetime(exped.bc_date , errors = 'coerce')"
   ]
  },
  {
   "cell_type": "markdown",
   "metadata": {},
   "source": [
    "# Merging"
   ]
  },
  {
   "cell_type": "code",
   "execution_count": 112,
   "metadata": {},
   "outputs": [
    {
     "name": "stderr",
     "output_type": "stream",
     "text": [
      "c:\\users\\kyril\\.venvs\\himalaya\\lib\\site-packages\\pandas\\core\\frame.py:4174: SettingWithCopyWarning: \n",
      "A value is trying to be set on a copy of a slice from a DataFrame\n",
      "\n",
      "See the caveats in the documentation: https://pandas.pydata.org/pandas-docs/stable/user_guide/indexing.html#returning-a-view-versus-a-copy\n",
      "  errors=errors,\n",
      "c:\\users\\kyril\\.venvs\\himalaya\\lib\\site-packages\\ipykernel_launcher.py:3: SettingWithCopyWarning: \n",
      "A value is trying to be set on a copy of a slice from a DataFrame.\n",
      "Try using .loc[row_indexer,col_indexer] = value instead\n",
      "\n",
      "See the caveats in the documentation: https://pandas.pydata.org/pandas-docs/stable/user_guide/indexing.html#returning-a-view-versus-a-copy\n",
      "  This is separate from the ipykernel package so we can avoid doing imports until\n"
     ]
    }
   ],
   "source": [
    "df = time[time['peakid']=='EVER']\n",
    "df.drop(['peakid'], axis=1, inplace=True)\n",
    "df['smtdate'] = pd.to_datetime(df.smtdate, errors = 'coerce')"
   ]
  },
  {
   "cell_type": "markdown",
   "metadata": {},
   "source": [
    "# Group by date"
   ]
  },
  {
   "cell_type": "code",
   "execution_count": 113,
   "metadata": {},
   "outputs": [
    {
     "data": {
      "text/html": [
       "<div>\n",
       "<style scoped>\n",
       "    .dataframe tbody tr th:only-of-type {\n",
       "        vertical-align: middle;\n",
       "    }\n",
       "\n",
       "    .dataframe tbody tr th {\n",
       "        vertical-align: top;\n",
       "    }\n",
       "\n",
       "    .dataframe thead th {\n",
       "        text-align: right;\n",
       "    }\n",
       "</style>\n",
       "<table border=\"1\" class=\"dataframe\">\n",
       "  <thead>\n",
       "    <tr style=\"text-align: right;\">\n",
       "      <th></th>\n",
       "      <th>year</th>\n",
       "      <th>season</th>\n",
       "      <th>host</th>\n",
       "      <th>success1</th>\n",
       "      <th>smtdays</th>\n",
       "      <th>totdays</th>\n",
       "      <th>termreason</th>\n",
       "      <th>camps</th>\n",
       "      <th>rope</th>\n",
       "      <th>totmembers</th>\n",
       "      <th>smtmembers</th>\n",
       "      <th>mdeaths</th>\n",
       "      <th>tothired</th>\n",
       "      <th>smthired</th>\n",
       "      <th>hdeaths</th>\n",
       "      <th>heightm</th>\n",
       "    </tr>\n",
       "    <tr>\n",
       "      <th>smtdate</th>\n",
       "      <th></th>\n",
       "      <th></th>\n",
       "      <th></th>\n",
       "      <th></th>\n",
       "      <th></th>\n",
       "      <th></th>\n",
       "      <th></th>\n",
       "      <th></th>\n",
       "      <th></th>\n",
       "      <th></th>\n",
       "      <th></th>\n",
       "      <th></th>\n",
       "      <th></th>\n",
       "      <th></th>\n",
       "      <th></th>\n",
       "      <th></th>\n",
       "    </tr>\n",
       "  </thead>\n",
       "  <tbody>\n",
       "    <tr>\n",
       "      <th>1960-01-01</th>\n",
       "      <td>0.0</td>\n",
       "      <td>0.0</td>\n",
       "      <td>0.0</td>\n",
       "      <td>0.0</td>\n",
       "      <td>0.0</td>\n",
       "      <td>0.0</td>\n",
       "      <td>0.0</td>\n",
       "      <td>0.0</td>\n",
       "      <td>0.0</td>\n",
       "      <td>0.0</td>\n",
       "      <td>0.0</td>\n",
       "      <td>0.0</td>\n",
       "      <td>0.0</td>\n",
       "      <td>0.0</td>\n",
       "      <td>0.0</td>\n",
       "      <td>0.0</td>\n",
       "    </tr>\n",
       "    <tr>\n",
       "      <th>1960-01-02</th>\n",
       "      <td>0.0</td>\n",
       "      <td>0.0</td>\n",
       "      <td>0.0</td>\n",
       "      <td>0.0</td>\n",
       "      <td>0.0</td>\n",
       "      <td>0.0</td>\n",
       "      <td>0.0</td>\n",
       "      <td>0.0</td>\n",
       "      <td>0.0</td>\n",
       "      <td>0.0</td>\n",
       "      <td>0.0</td>\n",
       "      <td>0.0</td>\n",
       "      <td>0.0</td>\n",
       "      <td>0.0</td>\n",
       "      <td>0.0</td>\n",
       "      <td>0.0</td>\n",
       "    </tr>\n",
       "    <tr>\n",
       "      <th>1960-01-03</th>\n",
       "      <td>0.0</td>\n",
       "      <td>0.0</td>\n",
       "      <td>0.0</td>\n",
       "      <td>0.0</td>\n",
       "      <td>0.0</td>\n",
       "      <td>0.0</td>\n",
       "      <td>0.0</td>\n",
       "      <td>0.0</td>\n",
       "      <td>0.0</td>\n",
       "      <td>0.0</td>\n",
       "      <td>0.0</td>\n",
       "      <td>0.0</td>\n",
       "      <td>0.0</td>\n",
       "      <td>0.0</td>\n",
       "      <td>0.0</td>\n",
       "      <td>0.0</td>\n",
       "    </tr>\n",
       "    <tr>\n",
       "      <th>1960-01-04</th>\n",
       "      <td>0.0</td>\n",
       "      <td>0.0</td>\n",
       "      <td>0.0</td>\n",
       "      <td>0.0</td>\n",
       "      <td>0.0</td>\n",
       "      <td>0.0</td>\n",
       "      <td>0.0</td>\n",
       "      <td>0.0</td>\n",
       "      <td>0.0</td>\n",
       "      <td>0.0</td>\n",
       "      <td>0.0</td>\n",
       "      <td>0.0</td>\n",
       "      <td>0.0</td>\n",
       "      <td>0.0</td>\n",
       "      <td>0.0</td>\n",
       "      <td>0.0</td>\n",
       "    </tr>\n",
       "    <tr>\n",
       "      <th>1960-01-05</th>\n",
       "      <td>0.0</td>\n",
       "      <td>0.0</td>\n",
       "      <td>0.0</td>\n",
       "      <td>0.0</td>\n",
       "      <td>0.0</td>\n",
       "      <td>0.0</td>\n",
       "      <td>0.0</td>\n",
       "      <td>0.0</td>\n",
       "      <td>0.0</td>\n",
       "      <td>0.0</td>\n",
       "      <td>0.0</td>\n",
       "      <td>0.0</td>\n",
       "      <td>0.0</td>\n",
       "      <td>0.0</td>\n",
       "      <td>0.0</td>\n",
       "      <td>0.0</td>\n",
       "    </tr>\n",
       "  </tbody>\n",
       "</table>\n",
       "</div>"
      ],
      "text/plain": [
       "            year  season  host  success1  smtdays  totdays  termreason  camps  \\\n",
       "smtdate                                                                         \n",
       "1960-01-01   0.0     0.0   0.0       0.0      0.0      0.0         0.0    0.0   \n",
       "1960-01-02   0.0     0.0   0.0       0.0      0.0      0.0         0.0    0.0   \n",
       "1960-01-03   0.0     0.0   0.0       0.0      0.0      0.0         0.0    0.0   \n",
       "1960-01-04   0.0     0.0   0.0       0.0      0.0      0.0         0.0    0.0   \n",
       "1960-01-05   0.0     0.0   0.0       0.0      0.0      0.0         0.0    0.0   \n",
       "\n",
       "            rope  totmembers  smtmembers  mdeaths  tothired  smthired  \\\n",
       "smtdate                                                                 \n",
       "1960-01-01   0.0         0.0         0.0      0.0       0.0       0.0   \n",
       "1960-01-02   0.0         0.0         0.0      0.0       0.0       0.0   \n",
       "1960-01-03   0.0         0.0         0.0      0.0       0.0       0.0   \n",
       "1960-01-04   0.0         0.0         0.0      0.0       0.0       0.0   \n",
       "1960-01-05   0.0         0.0         0.0      0.0       0.0       0.0   \n",
       "\n",
       "            hdeaths  heightm  \n",
       "smtdate                       \n",
       "1960-01-01      0.0      0.0  \n",
       "1960-01-02      0.0      0.0  \n",
       "1960-01-03      0.0      0.0  \n",
       "1960-01-04      0.0      0.0  \n",
       "1960-01-05      0.0      0.0  "
      ]
     },
     "execution_count": 113,
     "metadata": {},
     "output_type": "execute_result"
    }
   ],
   "source": [
    "df_ts = df.dropna()\n",
    "df_ts.set_index('smtdate', inplace=True)\n",
    "df_ts = df_ts.groupby(['smtdate']).sum(['smtmembers'])\n",
    "df_ts = df_ts.asfreq('d')\n",
    "df_ts = df_ts.fillna(0)\n",
    "df_ts = df_ts[df_ts.index >= '1960']\n",
    "df_ts.head()"
   ]
  },
  {
   "cell_type": "markdown",
   "metadata": {
    "heading_collapsed": true
   },
   "source": [
    "# ARIMA"
   ]
  },
  {
   "cell_type": "markdown",
   "metadata": {
    "heading_collapsed": true,
    "hidden": true
   },
   "source": [
    "## Model"
   ]
  },
  {
   "cell_type": "code",
   "execution_count": null,
   "metadata": {
    "hidden": true
   },
   "outputs": [],
   "source": [
    "from statsmodels.tsa.arima_model import ARIMA\n",
    "import warnings\n",
    "warnings.filterwarnings(\"ignore\")\n",
    "\n",
    "p,d,q = 3,0,3\n",
    "\n",
    "arima = ARIMA(df_ts, order=(p,d,q))\n",
    "arima = arima.fit()\n",
    "arima.summary()"
   ]
  },
  {
   "cell_type": "markdown",
   "metadata": {
    "heading_collapsed": true,
    "hidden": true
   },
   "source": [
    "## Evaluation"
   ]
  },
  {
   "cell_type": "code",
   "execution_count": null,
   "metadata": {
    "hidden": true
   },
   "outputs": [],
   "source": [
    "# Actual vs Fitted\n",
    "arima.plot_predict(dynamic= False);"
   ]
  },
  {
   "cell_type": "markdown",
   "metadata": {
    "heading_collapsed": true,
    "hidden": true
   },
   "source": [
    "### Out-of-sample forecasts (real \"future\")"
   ]
  },
  {
   "cell_type": "code",
   "execution_count": null,
   "metadata": {
    "hidden": true
   },
   "outputs": [],
   "source": [
    "train = df_ts[:'2017']\n",
    "test = df_ts['2018':]\n",
    "\n",
    "arima = ARIMA(train, order=(p,d,q))\n",
    "arima = arima.fit()\n",
    "arima.summary()"
   ]
  },
  {
   "cell_type": "code",
   "execution_count": null,
   "metadata": {
    "hidden": true
   },
   "outputs": [],
   "source": [
    "ypred = arima.forecast(len(test))[0]"
   ]
  },
  {
   "cell_type": "code",
   "execution_count": null,
   "metadata": {
    "hidden": true
   },
   "outputs": [],
   "source": [
    "preds = pd.DataFrame(index=test.index, data=ypred)\n",
    "ts.plot()\n",
    "plt.plot(preds, color = 'r', label= 'forecast')\n",
    "plt.legend()\n",
    "plt.show()"
   ]
  },
  {
   "cell_type": "markdown",
   "metadata": {
    "heading_collapsed": true,
    "hidden": true
   },
   "source": [
    "## Auto ARIMA"
   ]
  },
  {
   "cell_type": "code",
   "execution_count": 193,
   "metadata": {
    "hidden": true
   },
   "outputs": [
    {
     "name": "stdout",
     "output_type": "stream",
     "text": [
      "Performing stepwise search to minimize aic\n",
      " ARIMA(1,0,1)(0,0,0)[0]             : AIC=471.337, Time=0.03 sec\n",
      " ARIMA(0,0,0)(0,0,0)[0]             : AIC=470.365, Time=0.01 sec\n",
      " ARIMA(1,0,0)(0,0,0)[0]             : AIC=470.133, Time=0.02 sec\n",
      " ARIMA(0,0,1)(0,0,0)[0]             : AIC=468.954, Time=0.02 sec\n",
      " ARIMA(0,0,2)(0,0,0)[0]             : AIC=470.289, Time=0.03 sec\n",
      " ARIMA(1,0,2)(0,0,0)[0]             : AIC=466.842, Time=0.04 sec\n",
      " ARIMA(2,0,2)(0,0,0)[0]             : AIC=462.762, Time=0.05 sec\n",
      " ARIMA(2,0,1)(0,0,0)[0]             : AIC=462.012, Time=0.05 sec\n",
      " ARIMA(2,0,0)(0,0,0)[0]             : AIC=466.297, Time=0.02 sec\n",
      " ARIMA(3,0,1)(0,0,0)[0]             : AIC=459.189, Time=0.07 sec\n",
      " ARIMA(3,0,0)(0,0,0)[0]             : AIC=458.721, Time=0.03 sec\n",
      " ARIMA(4,0,0)(0,0,0)[0]             : AIC=460.587, Time=0.04 sec\n",
      " ARIMA(4,0,1)(0,0,0)[0]             : AIC=460.824, Time=0.09 sec\n",
      " ARIMA(3,0,0)(0,0,0)[0] intercept   : AIC=458.227, Time=0.06 sec\n",
      " ARIMA(2,0,0)(0,0,0)[0] intercept   : AIC=461.893, Time=0.04 sec\n",
      " ARIMA(4,0,0)(0,0,0)[0] intercept   : AIC=460.227, Time=0.09 sec\n",
      " ARIMA(3,0,1)(0,0,0)[0] intercept   : AIC=460.228, Time=0.06 sec\n",
      " ARIMA(2,0,1)(0,0,0)[0] intercept   : AIC=458.876, Time=0.06 sec\n",
      " ARIMA(4,0,1)(0,0,0)[0] intercept   : AIC=461.806, Time=0.18 sec\n",
      "\n",
      "Best model:  ARIMA(3,0,0)(0,0,0)[0] intercept\n",
      "Total fit time: 0.993 seconds\n",
      "                               SARIMAX Results                                \n",
      "==============================================================================\n",
      "Dep. Variable:                      y   No. Observations:                   50\n",
      "Model:               SARIMAX(3, 0, 0)   Log Likelihood                -224.114\n",
      "Date:                Fri, 06 Nov 2020   AIC                            458.227\n",
      "Time:                        11:27:48   BIC                            467.787\n",
      "Sample:                             0   HQIC                           461.868\n",
      "                                 - 50                                         \n",
      "Covariance Type:                  opg                                         \n",
      "==============================================================================\n",
      "                 coef    std err          z      P>|z|      [0.025      0.975]\n",
      "------------------------------------------------------------------------------\n",
      "intercept      5.4111      7.230      0.748      0.454      -8.760      19.582\n",
      "ar.L1         -0.2228      0.131     -1.704      0.088      -0.479       0.033\n",
      "ar.L2         -0.2794      0.193     -1.451      0.147      -0.657       0.098\n",
      "ar.L3          0.3416      0.100      3.400      0.001       0.145       0.539\n",
      "sigma2       450.6922     82.248      5.480      0.000     289.489     611.896\n",
      "===================================================================================\n",
      "Ljung-Box (Q):                       10.25   Jarque-Bera (JB):               104.48\n",
      "Prob(Q):                              1.00   Prob(JB):                         0.00\n",
      "Heteroskedasticity (H):              20.70   Skew:                             1.88\n",
      "Prob(H) (two-sided):                  0.00   Kurtosis:                         9.00\n",
      "===================================================================================\n",
      "\n",
      "Warnings:\n",
      "[1] Covariance matrix calculated using the outer product of gradients (complex-step).\n"
     ]
    }
   ],
   "source": [
    "import pmdarima as pm\n",
    "\n",
    "arima = pm.auto_arima(train, \n",
    "                      start_p=1, start_q=1,\n",
    "                      test='adf',       # use adftest to find optimal 'd'\n",
    "                      max_p=5, max_q=5, # maximum p and q\n",
    "                      m=1,              # frequency of series\n",
    "                      d=None,           # let model determine 'd'\n",
    "                      seasonal=False,   # No Seasonality\n",
    "                      start_P=0, \n",
    "                      D=None, \n",
    "                      trace=True,\n",
    "                      error_action='ignore',  \n",
    "                      suppress_warnings=True, \n",
    "                      stepwise=True)\n",
    "\n",
    "print(arima.summary())"
   ]
  },
  {
   "cell_type": "code",
   "execution_count": 194,
   "metadata": {
    "hidden": true
   },
   "outputs": [
    {
     "data": {
      "image/png": "[encoded data removed]",
      "text/plain": [
       "<Figure size 432x288 with 1 Axes>"
      ]
     },
     "metadata": {
      "needs_background": "light"
     },
     "output_type": "display_data"
    }
   ],
   "source": [
    "ypred = arima.predict(len(test))\n",
    "\n",
    "plt.plot(pd.DataFrame(data = ypred, index = test.index, columns=['ypred']), label = 'Prediction')\n",
    "plt.plot(test, label= 'True')\n",
    "plt.legend()\n",
    "plt.show()"
   ]
  },
  {
   "cell_type": "markdown",
   "metadata": {},
   "source": [
    "# SARIMA"
   ]
  },
  {
   "cell_type": "code",
   "execution_count": 114,
   "metadata": {},
   "outputs": [
    {
     "data": {
      "text/html": [
       "<div>\n",
       "<style scoped>\n",
       "    .dataframe tbody tr th:only-of-type {\n",
       "        vertical-align: middle;\n",
       "    }\n",
       "\n",
       "    .dataframe tbody tr th {\n",
       "        vertical-align: top;\n",
       "    }\n",
       "\n",
       "    .dataframe thead th {\n",
       "        text-align: right;\n",
       "    }\n",
       "</style>\n",
       "<table border=\"1\" class=\"dataframe\">\n",
       "  <thead>\n",
       "    <tr style=\"text-align: right;\">\n",
       "      <th></th>\n",
       "      <th>smtdays</th>\n",
       "      <th>camps</th>\n",
       "      <th>rope</th>\n",
       "      <th>totmembers</th>\n",
       "      <th>smtmembers</th>\n",
       "      <th>tothired</th>\n",
       "    </tr>\n",
       "    <tr>\n",
       "      <th>year</th>\n",
       "      <th></th>\n",
       "      <th></th>\n",
       "      <th></th>\n",
       "      <th></th>\n",
       "      <th></th>\n",
       "      <th></th>\n",
       "    </tr>\n",
       "  </thead>\n",
       "  <tbody>\n",
       "    <tr>\n",
       "      <th>1960</th>\n",
       "      <td>3.774194</td>\n",
       "      <td>0.483871</td>\n",
       "      <td>0.0</td>\n",
       "      <td>51.0</td>\n",
       "      <td>3.0</td>\n",
       "      <td>3.516129</td>\n",
       "    </tr>\n",
       "    <tr>\n",
       "      <th>1961</th>\n",
       "      <td>0.000000</td>\n",
       "      <td>0.000000</td>\n",
       "      <td>0.0</td>\n",
       "      <td>0.0</td>\n",
       "      <td>0.0</td>\n",
       "      <td>0.000000</td>\n",
       "    </tr>\n",
       "    <tr>\n",
       "      <th>1962</th>\n",
       "      <td>2.000000</td>\n",
       "      <td>0.225806</td>\n",
       "      <td>0.0</td>\n",
       "      <td>14.0</td>\n",
       "      <td>0.0</td>\n",
       "      <td>1.419355</td>\n",
       "    </tr>\n",
       "    <tr>\n",
       "      <th>1963</th>\n",
       "      <td>1.322581</td>\n",
       "      <td>0.193548</td>\n",
       "      <td>0.0</td>\n",
       "      <td>20.0</td>\n",
       "      <td>5.0</td>\n",
       "      <td>1.290323</td>\n",
       "    </tr>\n",
       "    <tr>\n",
       "      <th>1964</th>\n",
       "      <td>0.000000</td>\n",
       "      <td>0.000000</td>\n",
       "      <td>0.0</td>\n",
       "      <td>0.0</td>\n",
       "      <td>0.0</td>\n",
       "      <td>0.000000</td>\n",
       "    </tr>\n",
       "  </tbody>\n",
       "</table>\n",
       "</div>"
      ],
      "text/plain": [
       "       smtdays     camps  rope  totmembers  smtmembers  tothired\n",
       "year                                                            \n",
       "1960  3.774194  0.483871   0.0        51.0         3.0  3.516129\n",
       "1961  0.000000  0.000000   0.0         0.0         0.0  0.000000\n",
       "1962  2.000000  0.225806   0.0        14.0         0.0  1.419355\n",
       "1963  1.322581  0.193548   0.0        20.0         5.0  1.290323\n",
       "1964  0.000000  0.000000   0.0         0.0         0.0  0.000000"
      ]
     },
     "execution_count": 114,
     "metadata": {},
     "output_type": "execute_result"
    }
   ],
   "source": [
    "df_ts = df_ts.drop(columns=[\n",
    "                 'year', \n",
    "                 'season', \n",
    "                 'host', \n",
    "                 'success1',  \n",
    "                 'termreason',\n",
    "                'mdeaths',\n",
    "                 'heightm',\n",
    "                'smthired', \n",
    "                 'hdeaths',\n",
    "                'totdays'])\n",
    "\n",
    "df_ts['month'] = df_ts.index.month\n",
    "df_ts['year'] = df_ts.index.year\n",
    "df_ts_may = df_ts[df_ts['month']==5]\n",
    "df_ts_may = df_ts_may.groupby(['year']).agg({'smtdays' : 'mean',\n",
    "                                'camps' : 'mean',\n",
    "                                'rope' : 'mean',\n",
    "                                'totmembers' : 'sum',\n",
    "                                'smtmembers' : 'sum',\n",
    "                                'tothired' : 'mean'})\n",
    "\n",
    "df_ts_may.head()"
   ]
  },
  {
   "cell_type": "code",
   "execution_count": 126,
   "metadata": {},
   "outputs": [],
   "source": [
    "date_rng = pd.date_range(start='1960', end='2020', freq='A-MAY')\n",
    "df = pd.DataFrame(date_rng, columns=['date'])\n",
    "df = df.set_index(df.date.dt.year)\n",
    "df = df.merge(df_ts_may, how='left', left_index=True, right_index=True)\n",
    "df = df.set_index('date')\n",
    "df = df.asfreq('A-MAY')\n",
    "\n",
    "ts = df.smtmembers"
   ]
  },
  {
   "cell_type": "code",
   "execution_count": 216,
   "metadata": {},
   "outputs": [
    {
     "data": {
      "text/plain": [
       "[<matplotlib.lines.Line2D at 0x197a0b57b08>]"
      ]
     },
     "execution_count": 216,
     "metadata": {},
     "output_type": "execute_result"
    },
    {
     "data": {
      "image/png": "[encoded data removed]",
      "text/plain": [
       "<Figure size 432x288 with 1 Axes>"
      ]
     },
     "metadata": {
      "needs_background": "light"
     },
     "output_type": "display_data"
    }
   ],
   "source": [
    "plt.plot(df.smtmembers)"
   ]
  },
  {
   "cell_type": "markdown",
   "metadata": {
    "heading_collapsed": true
   },
   "source": [
    "## TS Analysis"
   ]
  },
  {
   "cell_type": "code",
   "execution_count": 175,
   "metadata": {
    "hidden": true
   },
   "outputs": [
    {
     "name": "stdout",
     "output_type": "stream",
     "text": [
      "p_val:  0.004014189836831847\n"
     ]
    },
    {
     "data": {
      "image/png": "[encoded data removed]",
      "text/plain": [
       "<Figure size 432x288 with 1 Axes>"
      ]
     },
     "metadata": {
      "needs_background": "light"
     },
     "output_type": "display_data"
    },
    {
     "data": {
      "image/png": "[encoded data removed]",
      "text/plain": [
       "<Figure size 432x288 with 1 Axes>"
      ]
     },
     "metadata": {
      "needs_background": "light"
     },
     "output_type": "display_data"
    }
   ],
   "source": [
    "from statsmodels.tsa.stattools import adfuller\n",
    "from statsmodels.graphics.tsaplots import plot_acf, plot_pacf\n",
    "\n",
    "res = adfuller(ts_tr)\n",
    "print('p_val: ', res[1])\n",
    "\n",
    "plot_acf(ts_tr, lags=50);\n",
    "\n",
    "plot_acf(ts_tr, lags=50);"
   ]
  },
  {
   "cell_type": "markdown",
   "metadata": {},
   "source": [
    "## TS transformation"
   ]
  },
  {
   "cell_type": "code",
   "execution_count": 174,
   "metadata": {},
   "outputs": [],
   "source": [
    "ts_tr = df_tr.smtmembers_shift"
   ]
  },
  {
   "cell_type": "code",
   "execution_count": 173,
   "metadata": {},
   "outputs": [
    {
     "data": {
      "text/plain": [
       "<AxesSubplot:xlabel='date'>"
      ]
     },
     "execution_count": 173,
     "metadata": {},
     "output_type": "execute_result"
    },
    {
     "data": {
      "image/png": "[encoded data removed]",
      "text/plain": [
       "<Figure size 432x288 with 1 Axes>"
      ]
     },
     "metadata": {
      "needs_background": "light"
     },
     "output_type": "display_data"
    }
   ],
   "source": [
    "df_tr = df.copy()\n",
    "df_tr.loc['2014', 'smtmembers'] = int(df_tr.loc['2013', 'smtmembers'])\n",
    "df_tr.loc['2015', 'smtmembers'] = (int(df_tr.loc['2014', 'smtmembers']) + int(df_tr.loc['2016', 'smtmembers']))/2\n",
    "df_tr['smtmembers_shift'] = df_tr['smtmembers'] - df_tr['smtmembers'].shift(1)\n",
    "df_tr = df_tr.dropna()\n",
    "df_tr['smtmembers_shift'].plot()"
   ]
  },
  {
   "cell_type": "code",
   "execution_count": 218,
   "metadata": {},
   "outputs": [
    {
     "data": {
      "text/plain": [
       "<AxesSubplot:xlabel='date'>"
      ]
     },
     "execution_count": 218,
     "metadata": {},
     "output_type": "execute_result"
    },
    {
     "data": {
      "image/png": "[encoded data removed]",
      "text/plain": [
       "<Figure size 432x288 with 1 Axes>"
      ]
     },
     "metadata": {
      "needs_background": "light"
     },
     "output_type": "display_data"
    }
   ],
   "source": [
    "df_tr['smtmembers'].plot()"
   ]
  },
  {
   "cell_type": "code",
   "execution_count": 176,
   "metadata": {},
   "outputs": [
    {
     "data": {
      "image/png": "[encoded data removed]",
      "text/plain": [
       "<Figure size 432x288 with 4 Axes>"
      ]
     },
     "metadata": {
      "needs_background": "light"
     },
     "output_type": "display_data"
    }
   ],
   "source": [
    "from statsmodels.tsa.seasonal import seasonal_decompose\n",
    "\n",
    "result_add = seasonal_decompose(ts_tr, model='additive')\n",
    "result_add.plot();"
   ]
  },
  {
   "cell_type": "code",
   "execution_count": 212,
   "metadata": {},
   "outputs": [
    {
     "name": "stdout",
     "output_type": "stream",
     "text": [
      "Performing stepwise search to minimize aic\n",
      " ARIMA(0,0,0)(0,1,1)[12] intercept   : AIC=376.462, Time=0.11 sec\n",
      " ARIMA(0,0,0)(0,1,0)[12] intercept   : AIC=377.718, Time=0.01 sec\n",
      " ARIMA(1,0,0)(1,1,0)[12] intercept   : AIC=373.976, Time=0.16 sec\n",
      " ARIMA(0,0,1)(0,1,1)[12] intercept   : AIC=368.695, Time=0.17 sec\n",
      " ARIMA(0,0,0)(0,1,0)[12]             : AIC=376.586, Time=0.01 sec\n",
      " ARIMA(0,0,1)(0,1,0)[12] intercept   : AIC=369.329, Time=0.05 sec\n",
      " ARIMA(0,0,1)(1,1,1)[12] intercept   : AIC=370.694, Time=0.38 sec\n",
      " ARIMA(0,0,1)(0,1,2)[12] intercept   : AIC=370.694, Time=0.52 sec\n",
      " ARIMA(0,0,1)(1,1,0)[12] intercept   : AIC=369.233, Time=0.15 sec\n",
      " ARIMA(0,0,1)(1,1,2)[12] intercept   : AIC=inf, Time=0.78 sec\n",
      " ARIMA(1,0,1)(0,1,1)[12] intercept   : AIC=370.681, Time=0.24 sec\n",
      " ARIMA(0,0,2)(0,1,1)[12] intercept   : AIC=370.615, Time=0.40 sec\n",
      " ARIMA(1,0,0)(0,1,1)[12] intercept   : AIC=373.931, Time=0.17 sec\n",
      " ARIMA(1,0,2)(0,1,1)[12] intercept   : AIC=inf, Time=0.32 sec\n",
      " ARIMA(0,0,1)(0,1,1)[12]             : AIC=372.727, Time=0.08 sec\n",
      "\n",
      "Best model:  ARIMA(0,0,1)(0,1,1)[12] intercept\n",
      "Total fit time: 3.550 seconds\n",
      "                                     SARIMAX Results                                      \n",
      "==========================================================================================\n",
      "Dep. Variable:                                  y   No. Observations:                   50\n",
      "Model:             SARIMAX(0, 0, 1)x(0, 1, 1, 12)   Log Likelihood                -180.348\n",
      "Date:                            Fri, 06 Nov 2020   AIC                            368.695\n",
      "Time:                                    11:47:46   BIC                            375.246\n",
      "Sample:                                         0   HQIC                           371.026\n",
      "                                             - 50                                         \n",
      "Covariance Type:                              opg                                         \n",
      "==============================================================================\n",
      "                 coef    std err          z      P>|z|      [0.025      0.975]\n",
      "------------------------------------------------------------------------------\n",
      "intercept      5.1179      2.548      2.009      0.045       0.124      10.112\n",
      "ma.L1         -0.5534      0.222     -2.497      0.013      -0.988      -0.119\n",
      "ma.S.L12      -0.4754      0.796     -0.597      0.550      -2.036       1.085\n",
      "sigma2       709.3967    236.042      3.005      0.003     246.763    1172.030\n",
      "===================================================================================\n",
      "Ljung-Box (Q):                       14.53   Jarque-Bera (JB):                65.29\n",
      "Prob(Q):                              1.00   Prob(JB):                         0.00\n",
      "Heteroskedasticity (H):              16.21   Skew:                             1.92\n",
      "Prob(H) (two-sided):                  0.00   Kurtosis:                         8.15\n",
      "===================================================================================\n",
      "\n",
      "Warnings:\n",
      "[1] Covariance matrix calculated using the outer product of gradients (complex-step).\n"
     ]
    }
   ],
   "source": [
    "import pmdarima as pm\n",
    "\n",
    "train = ts_tr[:'2010']\n",
    "test = ts_tr['2011':]\n",
    "\n",
    "sarima = pm.auto_arima(train, \n",
    "                      start_p=0, \n",
    "                      start_q=0,\n",
    "                      test='adf',\n",
    "                      max_p=3, \n",
    "                      max_q=3,\n",
    "                      m=12,\n",
    "                      d=None,\n",
    "                      seasonal=True,\n",
    "                      start_P=0, \n",
    "                      D=1, \n",
    "                      trace=True,\n",
    "                      error_action='ignore',  \n",
    "                      suppress_warnings=True, \n",
    "                      stepwise=True)\n",
    "\n",
    "print(sarima.summary())"
   ]
  },
  {
   "cell_type": "code",
   "execution_count": 213,
   "metadata": {},
   "outputs": [
    {
     "data": {
      "image/png": "[encoded data removed]",
      "text/plain": [
       "<Figure size 432x288 with 1 Axes>"
      ]
     },
     "metadata": {
      "needs_background": "light"
     },
     "output_type": "display_data"
    }
   ],
   "source": [
    "ypred = sarima.predict(len(test))\n",
    "\n",
    "plt.plot(pd.DataFrame(data = ypred, index = test.index, columns=['ypred']), label = 'Prediction')\n",
    "plt.plot(test, label= 'True')\n",
    "plt.legend()\n",
    "plt.show()"
   ]
  },
  {
   "cell_type": "code",
   "execution_count": 214,
   "metadata": {},
   "outputs": [
    {
     "data": {
      "text/plain": [
       "(array(10957.), array(18262.))"
      ]
     },
     "execution_count": 214,
     "metadata": {},
     "output_type": "execute_result"
    },
    {
     "data": {
      "image/png": "[encoded data removed]",
      "text/plain": [
       "<Figure size 432x288 with 1 Axes>"
      ]
     },
     "metadata": {
      "needs_background": "light"
     },
     "output_type": "display_data"
    }
   ],
   "source": [
    "plt.plot(df_tr.smtmembers_shift)\n",
    "plt.plot(pd.DataFrame(data = ypred, index = test.index, columns=['ypred']), label = 'Prediction')\n",
    "plt.xlim('2000', \"2020\")"
   ]
  },
  {
   "cell_type": "code",
   "execution_count": null,
   "metadata": {},
   "outputs": [],
   "source": [
    "# ARIMA(0,0,1)(0,1,1)[12]"
   ]
  },
  {
   "cell_type": "code",
   "execution_count": 195,
   "metadata": {},
   "outputs": [
    {
     "data": {
      "image/png": "[encoded data removed]",
      "text/plain": [
       "<Figure size 720x720 with 4 Axes>"
      ]
     },
     "metadata": {
      "needs_background": "light"
     },
     "output_type": "display_data"
    }
   ],
   "source": [
    "sarima.plot_diagnostics(figsize=(10,10));"
   ]
  },
  {
   "cell_type": "code",
   "execution_count": 203,
   "metadata": {},
   "outputs": [],
   "source": [
    "from statsmodels.tsa.stattools import acf\n",
    "\n",
    "def forecast_accuracy(y_pred: pd.Series, y_true: pd.Series) -> float:\n",
    "    \n",
    "    mape = np.mean(np.abs(y_pred - y_true)/np.abs(y_true))  # Mean Absolute Percentage Error\n",
    "    me = np.mean(y_pred - y_true)             # ME\n",
    "    mae = np.mean(np.abs(y_pred - y_true))    # MAE\n",
    "    mpe = np.mean((y_pred - y_true)/y_true)   # MPE\n",
    "    rmse = np.mean((y_pred - y_true)**2)**.5  # RMSE\n",
    "    corr = np.corrcoef(y_pred, y_true)[0,1]   # Correlation between the Actual and the Forecast\n",
    "    mins = np.amin(np.hstack([y_pred[:,None], y_true[:,None]]), axis=1)\n",
    "    maxs = np.amax(np.hstack([y_pred[:,None], y_true[:,None]]), axis=1)\n",
    "    minmax = 1 - np.mean(mins/maxs)             # minmax\n",
    "    acf1 = acf(y_pred-y_true)[1]                      # Lag 1 Autocorrelation of Error\n",
    "    return({'mape':mape, 'me':me, 'mae': mae, \n",
    "            'mpe': mpe, 'rmse':rmse, 'acf1':acf1, \n",
    "            'corr':corr, 'minmax':minmax})"
   ]
  },
  {
   "cell_type": "code",
   "execution_count": 215,
   "metadata": {},
   "outputs": [
    {
     "name": "stderr",
     "output_type": "stream",
     "text": [
      "c:\\users\\kyril\\.venvs\\himalaya\\lib\\site-packages\\ipykernel_launcher.py:11: FutureWarning: Support for multi-dimensional indexing (e.g. `obj[:, None]`) is deprecated and will be removed in a future version.  Convert to a numpy array before indexing instead.\n",
      "  # This is added back by InteractiveShellApp.init_path()\n",
      "c:\\users\\kyril\\.venvs\\himalaya\\lib\\site-packages\\ipykernel_launcher.py:12: FutureWarning: Support for multi-dimensional indexing (e.g. `obj[:, None]`) is deprecated and will be removed in a future version.  Convert to a numpy array before indexing instead.\n",
      "  if sys.path[0] == '':\n",
      "c:\\users\\kyril\\.venvs\\himalaya\\lib\\site-packages\\statsmodels\\tsa\\stattools.py:572: FutureWarning: fft=True will become the default in a future version of statsmodels. To suppress this warning, explicitly set fft=False.\n",
      "  FutureWarning\n"
     ]
    },
    {
     "data": {
      "text/plain": [
       "{'mape': inf,\n",
       " 'me': 7.764559227640992,\n",
       " 'mae': 20.507449245082178,\n",
       " 'mpe': inf,\n",
       " 'rmse': 23.992625745729296,\n",
       " 'acf1': -0.05220874310406166,\n",
       " 'corr': 0.5628284121085361,\n",
       " 'minmax': 1.2924373116090364}"
      ]
     },
     "execution_count": 215,
     "metadata": {},
     "output_type": "execute_result"
    }
   ],
   "source": [
    "forecast_accuracy(ypred, test)"
   ]
  },
  {
   "cell_type": "markdown",
   "metadata": {
    "heading_collapsed": true
   },
   "source": [
    "# RNN"
   ]
  },
  {
   "cell_type": "code",
   "execution_count": 20,
   "metadata": {
    "hidden": true
   },
   "outputs": [
    {
     "data": {
      "text/html": [
       "<div>\n",
       "<style scoped>\n",
       "    .dataframe tbody tr th:only-of-type {\n",
       "        vertical-align: middle;\n",
       "    }\n",
       "\n",
       "    .dataframe tbody tr th {\n",
       "        vertical-align: top;\n",
       "    }\n",
       "\n",
       "    .dataframe thead th {\n",
       "        text-align: right;\n",
       "    }\n",
       "</style>\n",
       "<table border=\"1\" class=\"dataframe\">\n",
       "  <thead>\n",
       "    <tr style=\"text-align: right;\">\n",
       "      <th></th>\n",
       "      <th>year</th>\n",
       "      <th>season</th>\n",
       "      <th>host</th>\n",
       "      <th>success1</th>\n",
       "      <th>smtdays</th>\n",
       "      <th>totdays</th>\n",
       "      <th>termreason</th>\n",
       "      <th>camps</th>\n",
       "      <th>rope</th>\n",
       "      <th>totmembers</th>\n",
       "      <th>smtmembers</th>\n",
       "      <th>mdeaths</th>\n",
       "      <th>tothired</th>\n",
       "      <th>smthired</th>\n",
       "      <th>hdeaths</th>\n",
       "      <th>heightm</th>\n",
       "    </tr>\n",
       "    <tr>\n",
       "      <th>smtdate</th>\n",
       "      <th></th>\n",
       "      <th></th>\n",
       "      <th></th>\n",
       "      <th></th>\n",
       "      <th></th>\n",
       "      <th></th>\n",
       "      <th></th>\n",
       "      <th></th>\n",
       "      <th></th>\n",
       "      <th></th>\n",
       "      <th></th>\n",
       "      <th></th>\n",
       "      <th></th>\n",
       "      <th></th>\n",
       "      <th></th>\n",
       "      <th></th>\n",
       "    </tr>\n",
       "  </thead>\n",
       "  <tbody>\n",
       "    <tr>\n",
       "      <th>1960-01-01</th>\n",
       "      <td>0.0</td>\n",
       "      <td>0.0</td>\n",
       "      <td>0.0</td>\n",
       "      <td>0.0</td>\n",
       "      <td>0.0</td>\n",
       "      <td>0.0</td>\n",
       "      <td>0.0</td>\n",
       "      <td>0.0</td>\n",
       "      <td>0.0</td>\n",
       "      <td>0.0</td>\n",
       "      <td>0.0</td>\n",
       "      <td>0.0</td>\n",
       "      <td>0.0</td>\n",
       "      <td>0.0</td>\n",
       "      <td>0.0</td>\n",
       "      <td>0.0</td>\n",
       "    </tr>\n",
       "    <tr>\n",
       "      <th>1960-01-02</th>\n",
       "      <td>0.0</td>\n",
       "      <td>0.0</td>\n",
       "      <td>0.0</td>\n",
       "      <td>0.0</td>\n",
       "      <td>0.0</td>\n",
       "      <td>0.0</td>\n",
       "      <td>0.0</td>\n",
       "      <td>0.0</td>\n",
       "      <td>0.0</td>\n",
       "      <td>0.0</td>\n",
       "      <td>0.0</td>\n",
       "      <td>0.0</td>\n",
       "      <td>0.0</td>\n",
       "      <td>0.0</td>\n",
       "      <td>0.0</td>\n",
       "      <td>0.0</td>\n",
       "    </tr>\n",
       "    <tr>\n",
       "      <th>1960-01-03</th>\n",
       "      <td>0.0</td>\n",
       "      <td>0.0</td>\n",
       "      <td>0.0</td>\n",
       "      <td>0.0</td>\n",
       "      <td>0.0</td>\n",
       "      <td>0.0</td>\n",
       "      <td>0.0</td>\n",
       "      <td>0.0</td>\n",
       "      <td>0.0</td>\n",
       "      <td>0.0</td>\n",
       "      <td>0.0</td>\n",
       "      <td>0.0</td>\n",
       "      <td>0.0</td>\n",
       "      <td>0.0</td>\n",
       "      <td>0.0</td>\n",
       "      <td>0.0</td>\n",
       "    </tr>\n",
       "    <tr>\n",
       "      <th>1960-01-04</th>\n",
       "      <td>0.0</td>\n",
       "      <td>0.0</td>\n",
       "      <td>0.0</td>\n",
       "      <td>0.0</td>\n",
       "      <td>0.0</td>\n",
       "      <td>0.0</td>\n",
       "      <td>0.0</td>\n",
       "      <td>0.0</td>\n",
       "      <td>0.0</td>\n",
       "      <td>0.0</td>\n",
       "      <td>0.0</td>\n",
       "      <td>0.0</td>\n",
       "      <td>0.0</td>\n",
       "      <td>0.0</td>\n",
       "      <td>0.0</td>\n",
       "      <td>0.0</td>\n",
       "    </tr>\n",
       "    <tr>\n",
       "      <th>1960-01-05</th>\n",
       "      <td>0.0</td>\n",
       "      <td>0.0</td>\n",
       "      <td>0.0</td>\n",
       "      <td>0.0</td>\n",
       "      <td>0.0</td>\n",
       "      <td>0.0</td>\n",
       "      <td>0.0</td>\n",
       "      <td>0.0</td>\n",
       "      <td>0.0</td>\n",
       "      <td>0.0</td>\n",
       "      <td>0.0</td>\n",
       "      <td>0.0</td>\n",
       "      <td>0.0</td>\n",
       "      <td>0.0</td>\n",
       "      <td>0.0</td>\n",
       "      <td>0.0</td>\n",
       "    </tr>\n",
       "  </tbody>\n",
       "</table>\n",
       "</div>"
      ],
      "text/plain": [
       "            year  season  host  success1  smtdays  totdays  termreason  camps  \\\n",
       "smtdate                                                                         \n",
       "1960-01-01   0.0     0.0   0.0       0.0      0.0      0.0         0.0    0.0   \n",
       "1960-01-02   0.0     0.0   0.0       0.0      0.0      0.0         0.0    0.0   \n",
       "1960-01-03   0.0     0.0   0.0       0.0      0.0      0.0         0.0    0.0   \n",
       "1960-01-04   0.0     0.0   0.0       0.0      0.0      0.0         0.0    0.0   \n",
       "1960-01-05   0.0     0.0   0.0       0.0      0.0      0.0         0.0    0.0   \n",
       "\n",
       "            rope  totmembers  smtmembers  mdeaths  tothired  smthired  \\\n",
       "smtdate                                                                 \n",
       "1960-01-01   0.0         0.0         0.0      0.0       0.0       0.0   \n",
       "1960-01-02   0.0         0.0         0.0      0.0       0.0       0.0   \n",
       "1960-01-03   0.0         0.0         0.0      0.0       0.0       0.0   \n",
       "1960-01-04   0.0         0.0         0.0      0.0       0.0       0.0   \n",
       "1960-01-05   0.0         0.0         0.0      0.0       0.0       0.0   \n",
       "\n",
       "            hdeaths  heightm  \n",
       "smtdate                       \n",
       "1960-01-01      0.0      0.0  \n",
       "1960-01-02      0.0      0.0  \n",
       "1960-01-03      0.0      0.0  \n",
       "1960-01-04      0.0      0.0  \n",
       "1960-01-05      0.0      0.0  "
      ]
     },
     "execution_count": 20,
     "metadata": {},
     "output_type": "execute_result"
    }
   ],
   "source": [
    "df_ts.head()"
   ]
  },
  {
   "cell_type": "code",
   "execution_count": 23,
   "metadata": {
    "hidden": true
   },
   "outputs": [],
   "source": [
    "df_ts = df_ts.drop(columns=[\n",
    "                 'year', \n",
    "                 'season', \n",
    "                 'host', \n",
    "                 'success1',  \n",
    "                 'termreason',\n",
    "                'mdeaths',\n",
    "                 'heightm',\n",
    "                'smthired', \n",
    "                 'hdeaths',\n",
    "                'totdays'])\n",
    "\n",
    "df_ts['month'] = df_ts.index.month\n",
    "df_ts['year'] = df_ts.index.year\n",
    "df_ts_may = df_ts[df_ts['month']==5]\n",
    "df_ts_may = df_ts_may.groupby(['year']).agg({'smtdays' : 'mean',\n",
    "                                'camps' : 'mean',\n",
    "                                'rope' : 'mean',\n",
    "                                'totmembers' : 'sum',\n",
    "                                'smtmembers' : 'sum',\n",
    "                                'tothired' : 'mean'})\n",
    "\n",
    "df_ts_may.head()"
   ]
  },
  {
   "cell_type": "code",
   "execution_count": 40,
   "metadata": {
    "hidden": true
   },
   "outputs": [
    {
     "data": {
      "text/plain": [
       "[<matplotlib.lines.Line2D at 0x1979f6da0c8>]"
      ]
     },
     "execution_count": 40,
     "metadata": {},
     "output_type": "execute_result"
    },
    {
     "data": {
      "image/png": "[encoded data removed]",
      "text/plain": [
       "<Figure size 432x288 with 1 Axes>"
      ]
     },
     "metadata": {
      "needs_background": "light"
     },
     "output_type": "display_data"
    }
   ],
   "source": [
    "plt.plot(df_ts_may.smtmembers)"
   ]
  },
  {
   "cell_type": "markdown",
   "metadata": {
    "heading_collapsed": true
   },
   "source": [
    "# Exploration"
   ]
  },
  {
   "cell_type": "code",
   "execution_count": 134,
   "metadata": {
    "hidden": true
   },
   "outputs": [],
   "source": [
    "df_ts['month'] = df_ts.index.month\n",
    "df_ts['year'] = df_ts.index.year"
   ]
  },
  {
   "cell_type": "code",
   "execution_count": 142,
   "metadata": {
    "hidden": true
   },
   "outputs": [],
   "source": [
    "df_month = df_ts.groupby(pd.Grouper(freq=\"M\")).agg({'smtmembers': 'sum',\n",
    "                                                   'month' : 'mean'})"
   ]
  },
  {
   "cell_type": "code",
   "execution_count": 143,
   "metadata": {
    "hidden": true
   },
   "outputs": [
    {
     "data": {
      "text/plain": [
       "[<matplotlib.lines.Line2D at 0x26f00540708>]"
      ]
     },
     "execution_count": 143,
     "metadata": {},
     "output_type": "execute_result"
    },
    {
     "data": {
      "image/png": "[encoded data removed]",
      "text/plain": [
       "<Figure size 432x288 with 1 Axes>"
      ]
     },
     "metadata": {
      "needs_background": "light"
     },
     "output_type": "display_data"
    }
   ],
   "source": [
    "plt.plot(df_month.smtmembers)"
   ]
  },
  {
   "cell_type": "code",
   "execution_count": 144,
   "metadata": {
    "hidden": true
   },
   "outputs": [
    {
     "data": {
      "text/plain": [
       "[<matplotlib.lines.Line2D at 0x26f0058cdc8>]"
      ]
     },
     "execution_count": 144,
     "metadata": {},
     "output_type": "execute_result"
    },
    {
     "data": {
      "image/png": "[encoded data removed]",
      "text/plain": [
       "<Figure size 432x288 with 1 Axes>"
      ]
     },
     "metadata": {
      "needs_background": "light"
     },
     "output_type": "display_data"
    }
   ],
   "source": [
    "df_may = df_month[df_month['month']==5]\n",
    "plt.plot(df_may.smtmembers)"
   ]
  },
  {
   "cell_type": "code",
   "execution_count": 150,
   "metadata": {
    "hidden": true
   },
   "outputs": [
    {
     "name": "stdout",
     "output_type": "stream",
     "text": [
      "Performing stepwise search to minimize aic\n",
      " ARIMA(0,0,0)(0,0,0)[0] intercept   : AIC=684.726, Time=0.02 sec\n",
      " ARIMA(1,0,0)(0,0,0)[0] intercept   : AIC=632.317, Time=0.03 sec\n",
      " ARIMA(0,0,1)(0,0,0)[0] intercept   : AIC=636.461, Time=0.07 sec\n",
      " ARIMA(0,0,0)(0,0,0)[0]             : AIC=704.454, Time=0.00 sec\n",
      " ARIMA(2,0,0)(0,0,0)[0] intercept   : AIC=634.013, Time=0.06 sec\n",
      " ARIMA(1,0,1)(0,0,0)[0] intercept   : AIC=627.856, Time=0.05 sec\n",
      " ARIMA(2,0,1)(0,0,0)[0] intercept   : AIC=622.581, Time=0.08 sec\n",
      " ARIMA(3,0,1)(0,0,0)[0] intercept   : AIC=602.692, Time=0.07 sec\n",
      " ARIMA(3,0,0)(0,0,0)[0] intercept   : AIC=605.813, Time=0.12 sec\n",
      " ARIMA(3,0,2)(0,0,0)[0] intercept   : AIC=603.317, Time=0.14 sec\n",
      " ARIMA(2,0,2)(0,0,0)[0] intercept   : AIC=612.644, Time=0.11 sec\n",
      " ARIMA(3,0,1)(0,0,0)[0]             : AIC=601.868, Time=0.05 sec\n",
      " ARIMA(2,0,1)(0,0,0)[0]             : AIC=623.719, Time=0.05 sec\n",
      " ARIMA(3,0,0)(0,0,0)[0]             : AIC=604.809, Time=0.04 sec\n",
      " ARIMA(3,0,2)(0,0,0)[0]             : AIC=602.332, Time=0.10 sec\n",
      " ARIMA(2,0,0)(0,0,0)[0]             : AIC=634.196, Time=0.02 sec\n",
      " ARIMA(2,0,2)(0,0,0)[0]             : AIC=611.600, Time=0.08 sec\n",
      "\n",
      "Best model:  ARIMA(3,0,1)(0,0,0)[0]          \n",
      "Total fit time: 1.110 seconds\n",
      "                               SARIMAX Results                                \n",
      "==============================================================================\n",
      "Dep. Variable:                      y   No. Observations:                   57\n",
      "Model:               SARIMAX(3, 0, 1)   Log Likelihood                -295.934\n",
      "Date:                Thu, 05 Nov 2020   AIC                            601.868\n",
      "Time:                        17:24:13   BIC                            612.083\n",
      "Sample:                             0   HQIC                           605.838\n",
      "                                 - 57                                         \n",
      "Covariance Type:                  opg                                         \n",
      "==============================================================================\n",
      "                 coef    std err          z      P>|z|      [0.025      0.975]\n",
      "------------------------------------------------------------------------------\n",
      "ar.L1          0.3297      0.200      1.651      0.099      -0.062       0.721\n",
      "ar.L2         -0.2275      0.170     -1.341      0.180      -0.560       0.105\n",
      "ar.L3          0.8194      0.101      8.098      0.000       0.621       1.018\n",
      "ma.L1          0.6626      0.212      3.125      0.002       0.247       1.078\n",
      "sigma2      1730.1274    239.019      7.238      0.000    1261.659    2198.596\n",
      "===================================================================================\n",
      "Ljung-Box (Q):                       11.83   Jarque-Bera (JB):               483.32\n",
      "Prob(Q):                              1.00   Prob(JB):                         0.00\n",
      "Heteroskedasticity (H):              68.91   Skew:                            -2.11\n",
      "Prob(H) (two-sided):                  0.00   Kurtosis:                        16.62\n",
      "===================================================================================\n",
      "\n",
      "Warnings:\n",
      "[1] Covariance matrix calculated using the outer product of gradients (complex-step).\n"
     ]
    }
   ],
   "source": [
    "train = df_may.loc[:'2016', 'smtmembers']\n",
    "test = df_may.loc['2017':, 'smtmembers']\n",
    "\n",
    "model = pm.auto_arima(train, \n",
    "                      start_p=0, \n",
    "                      start_q=0,\n",
    "                      test='adf',\n",
    "                      max_p=3, \n",
    "                      max_q=3,\n",
    "                      m=1,\n",
    "                      d=0,\n",
    "                      seasonal=True,\n",
    "                      start_P=0, \n",
    "                      D=1, \n",
    "                      trace=True,\n",
    "                      error_action='ignore',  \n",
    "                      suppress_warnings=True, \n",
    "                      stepwise=True)\n",
    "\n",
    "print(model.summary())"
   ]
  },
  {
   "cell_type": "code",
   "execution_count": 151,
   "metadata": {
    "hidden": true
   },
   "outputs": [
    {
     "data": {
      "image/png": "[encoded data removed]",
      "text/plain": [
       "<Figure size 432x288 with 1 Axes>"
      ]
     },
     "metadata": {
      "needs_background": "light"
     },
     "output_type": "display_data"
    }
   ],
   "source": [
    "ypred = model.predict(len(test))\n",
    "\n",
    "plt.plot(pd.DataFrame(data = ypred, index = test.index, columns=['ypred']))\n",
    "plt.plot(test)\n",
    "plt.show()"
   ]
  },
  {
   "cell_type": "markdown",
   "metadata": {},
   "source": [
    "# Weather Evoluation"
   ]
  },
  {
   "cell_type": "code",
   "execution_count": 6,
   "metadata": {},
   "outputs": [],
   "source": [
    "weather.set_index('date_time', inplace=True)"
   ]
  },
  {
   "cell_type": "code",
   "execution_count": 9,
   "metadata": {},
   "outputs": [],
   "source": [
    "weather['month'] = weather.index.month\n",
    "weather['year'] = weather.index.year"
   ]
  },
  {
   "cell_type": "code",
   "execution_count": 15,
   "metadata": {},
   "outputs": [
    {
     "data": {
      "text/plain": [
       "[<matplotlib.lines.Line2D at 0x1ad6c367f48>]"
      ]
     },
     "execution_count": 15,
     "metadata": {},
     "output_type": "execute_result"
    },
    {
     "data": {
      "image/png": "[encoded data removed]",
      "text/plain": [
       "<Figure size 432x288 with 1 Axes>"
      ]
     },
     "metadata": {
      "needs_background": "light"
     },
     "output_type": "display_data"
    }
   ],
   "source": [
    "plt.plot(weather['2010-05'].pressure)"
   ]
  },
  {
   "cell_type": "code",
   "execution_count": 57,
   "metadata": {},
   "outputs": [],
   "source": [
    "weather['rolling_pressure_past'] = weather['pressure'].rolling(window=3).mean()\n",
    "weather['rolling_pressure_futur'] = weather['pressure'].shift(-2).rolling(window=3).mean()\n",
    "weather['stability'] = weather['rolling_pressure_futur'] - weather['rolling_pressure_past']"
   ]
  },
  {
   "cell_type": "markdown",
   "metadata": {
    "heading_collapsed": true
   },
   "source": [
    "# Snow Accumulation"
   ]
  },
  {
   "cell_type": "code",
   "execution_count": 227,
   "metadata": {
    "hidden": true
   },
   "outputs": [
    {
     "data": {
      "text/html": [
       "<div>\n",
       "<style scoped>\n",
       "    .dataframe tbody tr th:only-of-type {\n",
       "        vertical-align: middle;\n",
       "    }\n",
       "\n",
       "    .dataframe tbody tr th {\n",
       "        vertical-align: top;\n",
       "    }\n",
       "\n",
       "    .dataframe thead th {\n",
       "        text-align: right;\n",
       "    }\n",
       "</style>\n",
       "<table border=\"1\" class=\"dataframe\">\n",
       "  <thead>\n",
       "    <tr style=\"text-align: right;\">\n",
       "      <th></th>\n",
       "      <th>summit_date</th>\n",
       "      <th>exp_id</th>\n",
       "      <th>peak_id</th>\n",
       "      <th>host</th>\n",
       "      <th>bc_date</th>\n",
       "      <th>summit_days</th>\n",
       "      <th>tot_days</th>\n",
       "      <th>term_reason</th>\n",
       "      <th>camps</th>\n",
       "      <th>rope</th>\n",
       "      <th>...</th>\n",
       "      <th>WindChillC</th>\n",
       "      <th>WindGustKmph</th>\n",
       "      <th>cloudcover</th>\n",
       "      <th>humidity</th>\n",
       "      <th>precipMM</th>\n",
       "      <th>pressure</th>\n",
       "      <th>tempC</th>\n",
       "      <th>visibility</th>\n",
       "      <th>winddirDegree</th>\n",
       "      <th>windspeedKmph</th>\n",
       "    </tr>\n",
       "  </thead>\n",
       "  <tbody>\n",
       "    <tr>\n",
       "      <th>5</th>\n",
       "      <td>NaT</td>\n",
       "      <td>SHNW10101</td>\n",
       "      <td>SHNW</td>\n",
       "      <td>Nepal</td>\n",
       "      <td>2010-04-04</td>\n",
       "      <td>0</td>\n",
       "      <td>54</td>\n",
       "      <td>Success_main</td>\n",
       "      <td>3</td>\n",
       "      <td>3000</td>\n",
       "      <td>...</td>\n",
       "      <td>NaN</td>\n",
       "      <td>NaN</td>\n",
       "      <td>NaN</td>\n",
       "      <td>NaN</td>\n",
       "      <td>NaN</td>\n",
       "      <td>NaN</td>\n",
       "      <td>NaN</td>\n",
       "      <td>NaN</td>\n",
       "      <td>NaN</td>\n",
       "      <td>NaN</td>\n",
       "    </tr>\n",
       "    <tr>\n",
       "      <th>6</th>\n",
       "      <td>NaT</td>\n",
       "      <td>EVER10303</td>\n",
       "      <td>EVER</td>\n",
       "      <td>China</td>\n",
       "      <td>2010-08-16</td>\n",
       "      <td>0</td>\n",
       "      <td>77</td>\n",
       "      <td>Bad_conditions</td>\n",
       "      <td>0</td>\n",
       "      <td>0</td>\n",
       "      <td>...</td>\n",
       "      <td>NaN</td>\n",
       "      <td>NaN</td>\n",
       "      <td>NaN</td>\n",
       "      <td>NaN</td>\n",
       "      <td>NaN</td>\n",
       "      <td>NaN</td>\n",
       "      <td>NaN</td>\n",
       "      <td>NaN</td>\n",
       "      <td>NaN</td>\n",
       "      <td>NaN</td>\n",
       "    </tr>\n",
       "    <tr>\n",
       "      <th>7</th>\n",
       "      <td>NaT</td>\n",
       "      <td>CHOY10342</td>\n",
       "      <td>CHOY</td>\n",
       "      <td>China</td>\n",
       "      <td>NaT</td>\n",
       "      <td>0</td>\n",
       "      <td>0</td>\n",
       "      <td>Unknown</td>\n",
       "      <td>0</td>\n",
       "      <td>0</td>\n",
       "      <td>...</td>\n",
       "      <td>NaN</td>\n",
       "      <td>NaN</td>\n",
       "      <td>NaN</td>\n",
       "      <td>NaN</td>\n",
       "      <td>NaN</td>\n",
       "      <td>NaN</td>\n",
       "      <td>NaN</td>\n",
       "      <td>NaN</td>\n",
       "      <td>NaN</td>\n",
       "      <td>NaN</td>\n",
       "    </tr>\n",
       "    <tr>\n",
       "      <th>9</th>\n",
       "      <td>NaT</td>\n",
       "      <td>CHOY10118</td>\n",
       "      <td>CHOY</td>\n",
       "      <td>China</td>\n",
       "      <td>NaT</td>\n",
       "      <td>0</td>\n",
       "      <td>0</td>\n",
       "      <td>Illness</td>\n",
       "      <td>0</td>\n",
       "      <td>0</td>\n",
       "      <td>...</td>\n",
       "      <td>NaN</td>\n",
       "      <td>NaN</td>\n",
       "      <td>NaN</td>\n",
       "      <td>NaN</td>\n",
       "      <td>NaN</td>\n",
       "      <td>NaN</td>\n",
       "      <td>NaN</td>\n",
       "      <td>NaN</td>\n",
       "      <td>NaN</td>\n",
       "      <td>NaN</td>\n",
       "    </tr>\n",
       "    <tr>\n",
       "      <th>10</th>\n",
       "      <td>NaT</td>\n",
       "      <td>PYRM10301</td>\n",
       "      <td>PYRM</td>\n",
       "      <td>Nepal</td>\n",
       "      <td>NaT</td>\n",
       "      <td>0</td>\n",
       "      <td>0</td>\n",
       "      <td>lack_of_motivation</td>\n",
       "      <td>0</td>\n",
       "      <td>0</td>\n",
       "      <td>...</td>\n",
       "      <td>NaN</td>\n",
       "      <td>NaN</td>\n",
       "      <td>NaN</td>\n",
       "      <td>NaN</td>\n",
       "      <td>NaN</td>\n",
       "      <td>NaN</td>\n",
       "      <td>NaN</td>\n",
       "      <td>NaN</td>\n",
       "      <td>NaN</td>\n",
       "      <td>NaN</td>\n",
       "    </tr>\n",
       "  </tbody>\n",
       "</table>\n",
       "<p>5 rows × 36 columns</p>\n",
       "</div>"
      ],
      "text/plain": [
       "   summit_date     exp_id peak_id   host    bc_date  summit_days  tot_days  \\\n",
       "5          NaT  SHNW10101    SHNW  Nepal 2010-04-04            0        54   \n",
       "6          NaT  EVER10303    EVER  China 2010-08-16            0        77   \n",
       "7          NaT  CHOY10342    CHOY  China        NaT            0         0   \n",
       "9          NaT  CHOY10118    CHOY  China        NaT            0         0   \n",
       "10         NaT  PYRM10301    PYRM  Nepal        NaT            0         0   \n",
       "\n",
       "           term_reason  camps  rope  ...  WindChillC  WindGustKmph  \\\n",
       "5         Success_main      3  3000  ...         NaN           NaN   \n",
       "6       Bad_conditions      0     0  ...         NaN           NaN   \n",
       "7              Unknown      0     0  ...         NaN           NaN   \n",
       "9              Illness      0     0  ...         NaN           NaN   \n",
       "10  lack_of_motivation      0     0  ...         NaN           NaN   \n",
       "\n",
       "    cloudcover  humidity  precipMM  pressure  tempC  visibility  \\\n",
       "5          NaN       NaN       NaN       NaN    NaN         NaN   \n",
       "6          NaN       NaN       NaN       NaN    NaN         NaN   \n",
       "7          NaN       NaN       NaN       NaN    NaN         NaN   \n",
       "9          NaN       NaN       NaN       NaN    NaN         NaN   \n",
       "10         NaN       NaN       NaN       NaN    NaN         NaN   \n",
       "\n",
       "    winddirDegree  windspeedKmph  \n",
       "5             NaN            NaN  \n",
       "6             NaN            NaN  \n",
       "7             NaN            NaN  \n",
       "9             NaN            NaN  \n",
       "10            NaN            NaN  \n",
       "\n",
       "[5 rows x 36 columns]"
      ]
     },
     "execution_count": 227,
     "metadata": {},
     "output_type": "execute_result"
    }
   ],
   "source": [
    "exped = Expeds().get_data()\n",
    "exped = Expeds().clean_data(exped)\n",
    "\n",
    "exp_to_drop = ['year','season','route1','route2','nation','leaders','sponsor','success1','success2',\n",
    "               'ascent1','claimed','disputed','countries','summit_time','term_date',\n",
    "               'term_note','high_point','traverse','ski','parapente','o2_climb','o2_descent','o2_sleep','o2_medical',\n",
    "               'o2_taken','o2_unkwn','o2_used','o2_none','other_smts','campsites','accidents','achievment','agency',\n",
    "               'peak_name','primmem','summiter_deaths','summit_members','summit_hired','hired_deaths']\n",
    "\n",
    "exped.drop(columns= exp_to_drop, inplace=True)\n",
    "\n",
    "exped['summit_date'] = pd.to_datetime(exped.summit_date, errors = 'coerce')\n",
    "exped['bc_date'] = pd.to_datetime(exped.bc_date , errors = 'coerce')\n",
    "\n",
    "from weather import Weather\n",
    "weather = Weather().get_data()\n",
    "weather = Weather().clean_data(weather)\n",
    "\n",
    "exped = exped.set_index('summit_date')\n",
    "wet = weather.set_index('date_time')\n",
    "df = exped.merge(wet, how='left', left_index=True, right_index=True)\n",
    "\n",
    "df = df.reset_index()\n",
    "df.drop(columns=['moonrise', 'moonset', 'sunrise', 'sunset'], inplace = True)\n",
    "df = df.rename(columns={'index' : 'summit_date'})\n",
    "\n",
    "df = df[df['term_reason']!= 'no_attempt_climb']\n",
    "df = df[df['term_reason']!= 'no_reach_camp']\n",
    "\n",
    "df.head()"
   ]
  },
  {
   "cell_type": "code",
   "execution_count": 231,
   "metadata": {
    "hidden": true
   },
   "outputs": [],
   "source": [
    "df = df.dropna()"
   ]
  },
  {
   "cell_type": "code",
   "execution_count": 234,
   "metadata": {
    "hidden": true
   },
   "outputs": [
    {
     "data": {
      "text/html": [
       "<div>\n",
       "<style scoped>\n",
       "    .dataframe tbody tr th:only-of-type {\n",
       "        vertical-align: middle;\n",
       "    }\n",
       "\n",
       "    .dataframe tbody tr th {\n",
       "        vertical-align: top;\n",
       "    }\n",
       "\n",
       "    .dataframe thead th {\n",
       "        text-align: right;\n",
       "    }\n",
       "</style>\n",
       "<table border=\"1\" class=\"dataframe\">\n",
       "  <thead>\n",
       "    <tr style=\"text-align: right;\">\n",
       "      <th></th>\n",
       "      <th>summit_date</th>\n",
       "      <th>exp_id</th>\n",
       "      <th>peak_id</th>\n",
       "      <th>host</th>\n",
       "      <th>bc_date</th>\n",
       "      <th>summit_days</th>\n",
       "      <th>tot_days</th>\n",
       "      <th>term_reason</th>\n",
       "      <th>camps</th>\n",
       "      <th>rope</th>\n",
       "      <th>...</th>\n",
       "      <th>WindChillC</th>\n",
       "      <th>WindGustKmph</th>\n",
       "      <th>cloudcover</th>\n",
       "      <th>humidity</th>\n",
       "      <th>precipMM</th>\n",
       "      <th>pressure</th>\n",
       "      <th>tempC</th>\n",
       "      <th>visibility</th>\n",
       "      <th>winddirDegree</th>\n",
       "      <th>windspeedKmph</th>\n",
       "    </tr>\n",
       "  </thead>\n",
       "  <tbody>\n",
       "    <tr>\n",
       "      <th>331</th>\n",
       "      <td>2010-03-12</td>\n",
       "      <td>TKRG10101</td>\n",
       "      <td>TKRG</td>\n",
       "      <td>Nepal</td>\n",
       "      <td>2010-03-06</td>\n",
       "      <td>6</td>\n",
       "      <td>8</td>\n",
       "      <td>Success_main</td>\n",
       "      <td>0</td>\n",
       "      <td>0</td>\n",
       "      <td>...</td>\n",
       "      <td>-15.0</td>\n",
       "      <td>24.0</td>\n",
       "      <td>10.0</td>\n",
       "      <td>67.0</td>\n",
       "      <td>0.0</td>\n",
       "      <td>1020.0</td>\n",
       "      <td>-1.0</td>\n",
       "      <td>10.0</td>\n",
       "      <td>270.0</td>\n",
       "      <td>15.0</td>\n",
       "    </tr>\n",
       "    <tr>\n",
       "      <th>332</th>\n",
       "      <td>2010-03-18</td>\n",
       "      <td>BHRS10101</td>\n",
       "      <td>BHRS</td>\n",
       "      <td>Nepal</td>\n",
       "      <td>2010-03-16</td>\n",
       "      <td>2</td>\n",
       "      <td>3</td>\n",
       "      <td>Success_main</td>\n",
       "      <td>1</td>\n",
       "      <td>0</td>\n",
       "      <td>...</td>\n",
       "      <td>-11.0</td>\n",
       "      <td>13.0</td>\n",
       "      <td>43.0</td>\n",
       "      <td>90.0</td>\n",
       "      <td>3.4</td>\n",
       "      <td>1025.0</td>\n",
       "      <td>-3.0</td>\n",
       "      <td>8.0</td>\n",
       "      <td>252.0</td>\n",
       "      <td>7.0</td>\n",
       "    </tr>\n",
       "    <tr>\n",
       "      <th>333</th>\n",
       "      <td>2010-03-31</td>\n",
       "      <td>KYR110101</td>\n",
       "      <td>KYR1</td>\n",
       "      <td>Nepal</td>\n",
       "      <td>2010-03-25</td>\n",
       "      <td>6</td>\n",
       "      <td>13</td>\n",
       "      <td>Bad_weather</td>\n",
       "      <td>2</td>\n",
       "      <td>750</td>\n",
       "      <td>...</td>\n",
       "      <td>-12.0</td>\n",
       "      <td>25.0</td>\n",
       "      <td>51.0</td>\n",
       "      <td>86.0</td>\n",
       "      <td>0.0</td>\n",
       "      <td>1010.0</td>\n",
       "      <td>-2.0</td>\n",
       "      <td>9.0</td>\n",
       "      <td>240.0</td>\n",
       "      <td>19.0</td>\n",
       "    </tr>\n",
       "    <tr>\n",
       "      <th>334</th>\n",
       "      <td>2010-04-01</td>\n",
       "      <td>PUMO10103</td>\n",
       "      <td>PUMO</td>\n",
       "      <td>Nepal</td>\n",
       "      <td>2010-03-20</td>\n",
       "      <td>12</td>\n",
       "      <td>43</td>\n",
       "      <td>Lack_sse</td>\n",
       "      <td>2</td>\n",
       "      <td>400</td>\n",
       "      <td>...</td>\n",
       "      <td>-13.0</td>\n",
       "      <td>24.0</td>\n",
       "      <td>20.0</td>\n",
       "      <td>80.0</td>\n",
       "      <td>0.0</td>\n",
       "      <td>1011.0</td>\n",
       "      <td>-1.0</td>\n",
       "      <td>10.0</td>\n",
       "      <td>254.0</td>\n",
       "      <td>16.0</td>\n",
       "    </tr>\n",
       "    <tr>\n",
       "      <th>335</th>\n",
       "      <td>2010-04-01</td>\n",
       "      <td>URMA10101</td>\n",
       "      <td>URMA</td>\n",
       "      <td>Nepal</td>\n",
       "      <td>2010-03-29</td>\n",
       "      <td>3</td>\n",
       "      <td>3</td>\n",
       "      <td>Success_main</td>\n",
       "      <td>0</td>\n",
       "      <td>0</td>\n",
       "      <td>...</td>\n",
       "      <td>-13.0</td>\n",
       "      <td>24.0</td>\n",
       "      <td>20.0</td>\n",
       "      <td>80.0</td>\n",
       "      <td>0.0</td>\n",
       "      <td>1011.0</td>\n",
       "      <td>-1.0</td>\n",
       "      <td>10.0</td>\n",
       "      <td>254.0</td>\n",
       "      <td>16.0</td>\n",
       "    </tr>\n",
       "  </tbody>\n",
       "</table>\n",
       "<p>5 rows × 36 columns</p>\n",
       "</div>"
      ],
      "text/plain": [
       "    summit_date     exp_id peak_id   host    bc_date  summit_days  tot_days  \\\n",
       "331  2010-03-12  TKRG10101    TKRG  Nepal 2010-03-06            6         8   \n",
       "332  2010-03-18  BHRS10101    BHRS  Nepal 2010-03-16            2         3   \n",
       "333  2010-03-31  KYR110101    KYR1  Nepal 2010-03-25            6        13   \n",
       "334  2010-04-01  PUMO10103    PUMO  Nepal 2010-03-20           12        43   \n",
       "335  2010-04-01  URMA10101    URMA  Nepal 2010-03-29            3         3   \n",
       "\n",
       "      term_reason  camps  rope  ...  WindChillC  WindGustKmph  cloudcover  \\\n",
       "331  Success_main      0     0  ...       -15.0          24.0        10.0   \n",
       "332  Success_main      1     0  ...       -11.0          13.0        43.0   \n",
       "333   Bad_weather      2   750  ...       -12.0          25.0        51.0   \n",
       "334      Lack_sse      2   400  ...       -13.0          24.0        20.0   \n",
       "335  Success_main      0     0  ...       -13.0          24.0        20.0   \n",
       "\n",
       "     humidity  precipMM  pressure  tempC  visibility  winddirDegree  \\\n",
       "331      67.0       0.0    1020.0   -1.0        10.0          270.0   \n",
       "332      90.0       3.4    1025.0   -3.0         8.0          252.0   \n",
       "333      86.0       0.0    1010.0   -2.0         9.0          240.0   \n",
       "334      80.0       0.0    1011.0   -1.0        10.0          254.0   \n",
       "335      80.0       0.0    1011.0   -1.0        10.0          254.0   \n",
       "\n",
       "     windspeedKmph  \n",
       "331           15.0  \n",
       "332            7.0  \n",
       "333           19.0  \n",
       "334           16.0  \n",
       "335           16.0  \n",
       "\n",
       "[5 rows x 36 columns]"
      ]
     },
     "execution_count": 234,
     "metadata": {},
     "output_type": "execute_result"
    }
   ],
   "source": [
    "df.head()"
   ]
  },
  {
   "cell_type": "code",
   "execution_count": 256,
   "metadata": {
    "hidden": true
   },
   "outputs": [],
   "source": [
    "df['cumul_snow'] = 0\n",
    "\n",
    "for index, row in df.iterrows():\n",
    "    date1 = row['bc_date'].date()\n",
    "    date2 = row['summit_date'].date()\n",
    "    acc_snow = wet.loc[date1:date2, 'totalSnow_cm'].sum()\n",
    "    df.loc[index, 'cumul_snow'] = acc_snow\n",
    "    "
   ]
  },
  {
   "cell_type": "code",
   "execution_count": 257,
   "metadata": {
    "hidden": true
   },
   "outputs": [
    {
     "data": {
      "text/html": [
       "<div>\n",
       "<style scoped>\n",
       "    .dataframe tbody tr th:only-of-type {\n",
       "        vertical-align: middle;\n",
       "    }\n",
       "\n",
       "    .dataframe tbody tr th {\n",
       "        vertical-align: top;\n",
       "    }\n",
       "\n",
       "    .dataframe thead th {\n",
       "        text-align: right;\n",
       "    }\n",
       "</style>\n",
       "<table border=\"1\" class=\"dataframe\">\n",
       "  <thead>\n",
       "    <tr style=\"text-align: right;\">\n",
       "      <th></th>\n",
       "      <th>summit_date</th>\n",
       "      <th>exp_id</th>\n",
       "      <th>peak_id</th>\n",
       "      <th>host</th>\n",
       "      <th>bc_date</th>\n",
       "      <th>summit_days</th>\n",
       "      <th>tot_days</th>\n",
       "      <th>term_reason</th>\n",
       "      <th>camps</th>\n",
       "      <th>rope</th>\n",
       "      <th>...</th>\n",
       "      <th>WindGustKmph</th>\n",
       "      <th>cloudcover</th>\n",
       "      <th>humidity</th>\n",
       "      <th>precipMM</th>\n",
       "      <th>pressure</th>\n",
       "      <th>tempC</th>\n",
       "      <th>visibility</th>\n",
       "      <th>winddirDegree</th>\n",
       "      <th>windspeedKmph</th>\n",
       "      <th>cumul_snow</th>\n",
       "    </tr>\n",
       "  </thead>\n",
       "  <tbody>\n",
       "    <tr>\n",
       "      <th>331</th>\n",
       "      <td>2010-03-12</td>\n",
       "      <td>TKRG10101</td>\n",
       "      <td>TKRG</td>\n",
       "      <td>Nepal</td>\n",
       "      <td>2010-03-06</td>\n",
       "      <td>6</td>\n",
       "      <td>8</td>\n",
       "      <td>Success_main</td>\n",
       "      <td>0</td>\n",
       "      <td>0</td>\n",
       "      <td>...</td>\n",
       "      <td>24.0</td>\n",
       "      <td>10.0</td>\n",
       "      <td>67.0</td>\n",
       "      <td>0.0</td>\n",
       "      <td>1020.0</td>\n",
       "      <td>-1.0</td>\n",
       "      <td>10.0</td>\n",
       "      <td>270.0</td>\n",
       "      <td>15.0</td>\n",
       "      <td>0.0</td>\n",
       "    </tr>\n",
       "    <tr>\n",
       "      <th>332</th>\n",
       "      <td>2010-03-18</td>\n",
       "      <td>BHRS10101</td>\n",
       "      <td>BHRS</td>\n",
       "      <td>Nepal</td>\n",
       "      <td>2010-03-16</td>\n",
       "      <td>2</td>\n",
       "      <td>3</td>\n",
       "      <td>Success_main</td>\n",
       "      <td>1</td>\n",
       "      <td>0</td>\n",
       "      <td>...</td>\n",
       "      <td>13.0</td>\n",
       "      <td>43.0</td>\n",
       "      <td>90.0</td>\n",
       "      <td>3.4</td>\n",
       "      <td>1025.0</td>\n",
       "      <td>-3.0</td>\n",
       "      <td>8.0</td>\n",
       "      <td>252.0</td>\n",
       "      <td>7.0</td>\n",
       "      <td>11.6</td>\n",
       "    </tr>\n",
       "    <tr>\n",
       "      <th>333</th>\n",
       "      <td>2010-03-31</td>\n",
       "      <td>KYR110101</td>\n",
       "      <td>KYR1</td>\n",
       "      <td>Nepal</td>\n",
       "      <td>2010-03-25</td>\n",
       "      <td>6</td>\n",
       "      <td>13</td>\n",
       "      <td>Bad_weather</td>\n",
       "      <td>2</td>\n",
       "      <td>750</td>\n",
       "      <td>...</td>\n",
       "      <td>25.0</td>\n",
       "      <td>51.0</td>\n",
       "      <td>86.0</td>\n",
       "      <td>0.0</td>\n",
       "      <td>1010.0</td>\n",
       "      <td>-2.0</td>\n",
       "      <td>9.0</td>\n",
       "      <td>240.0</td>\n",
       "      <td>19.0</td>\n",
       "      <td>10.5</td>\n",
       "    </tr>\n",
       "    <tr>\n",
       "      <th>334</th>\n",
       "      <td>2010-04-01</td>\n",
       "      <td>PUMO10103</td>\n",
       "      <td>PUMO</td>\n",
       "      <td>Nepal</td>\n",
       "      <td>2010-03-20</td>\n",
       "      <td>12</td>\n",
       "      <td>43</td>\n",
       "      <td>Lack_sse</td>\n",
       "      <td>2</td>\n",
       "      <td>400</td>\n",
       "      <td>...</td>\n",
       "      <td>24.0</td>\n",
       "      <td>20.0</td>\n",
       "      <td>80.0</td>\n",
       "      <td>0.0</td>\n",
       "      <td>1011.0</td>\n",
       "      <td>-1.0</td>\n",
       "      <td>10.0</td>\n",
       "      <td>254.0</td>\n",
       "      <td>16.0</td>\n",
       "      <td>10.7</td>\n",
       "    </tr>\n",
       "    <tr>\n",
       "      <th>335</th>\n",
       "      <td>2010-04-01</td>\n",
       "      <td>URMA10101</td>\n",
       "      <td>URMA</td>\n",
       "      <td>Nepal</td>\n",
       "      <td>2010-03-29</td>\n",
       "      <td>3</td>\n",
       "      <td>3</td>\n",
       "      <td>Success_main</td>\n",
       "      <td>0</td>\n",
       "      <td>0</td>\n",
       "      <td>...</td>\n",
       "      <td>24.0</td>\n",
       "      <td>20.0</td>\n",
       "      <td>80.0</td>\n",
       "      <td>0.0</td>\n",
       "      <td>1011.0</td>\n",
       "      <td>-1.0</td>\n",
       "      <td>10.0</td>\n",
       "      <td>254.0</td>\n",
       "      <td>16.0</td>\n",
       "      <td>7.0</td>\n",
       "    </tr>\n",
       "    <tr>\n",
       "      <th>...</th>\n",
       "      <td>...</td>\n",
       "      <td>...</td>\n",
       "      <td>...</td>\n",
       "      <td>...</td>\n",
       "      <td>...</td>\n",
       "      <td>...</td>\n",
       "      <td>...</td>\n",
       "      <td>...</td>\n",
       "      <td>...</td>\n",
       "      <td>...</td>\n",
       "      <td>...</td>\n",
       "      <td>...</td>\n",
       "      <td>...</td>\n",
       "      <td>...</td>\n",
       "      <td>...</td>\n",
       "      <td>...</td>\n",
       "      <td>...</td>\n",
       "      <td>...</td>\n",
       "      <td>...</td>\n",
       "      <td>...</td>\n",
       "      <td>...</td>\n",
       "    </tr>\n",
       "    <tr>\n",
       "      <th>3695</th>\n",
       "      <td>2019-12-08</td>\n",
       "      <td>AMAD19357</td>\n",
       "      <td>AMAD</td>\n",
       "      <td>Nepal</td>\n",
       "      <td>2019-11-23</td>\n",
       "      <td>15</td>\n",
       "      <td>17</td>\n",
       "      <td>Success_main</td>\n",
       "      <td>2</td>\n",
       "      <td>0</td>\n",
       "      <td>...</td>\n",
       "      <td>23.0</td>\n",
       "      <td>0.0</td>\n",
       "      <td>21.0</td>\n",
       "      <td>0.0</td>\n",
       "      <td>1019.0</td>\n",
       "      <td>-14.0</td>\n",
       "      <td>10.0</td>\n",
       "      <td>334.0</td>\n",
       "      <td>11.0</td>\n",
       "      <td>0.0</td>\n",
       "    </tr>\n",
       "    <tr>\n",
       "      <th>3697</th>\n",
       "      <td>2020-02-02</td>\n",
       "      <td>AMAD19402</td>\n",
       "      <td>AMAD</td>\n",
       "      <td>Nepal</td>\n",
       "      <td>2020-01-27</td>\n",
       "      <td>6</td>\n",
       "      <td>9</td>\n",
       "      <td>Success_main</td>\n",
       "      <td>3</td>\n",
       "      <td>0</td>\n",
       "      <td>...</td>\n",
       "      <td>17.0</td>\n",
       "      <td>12.0</td>\n",
       "      <td>27.0</td>\n",
       "      <td>0.1</td>\n",
       "      <td>1019.0</td>\n",
       "      <td>-19.0</td>\n",
       "      <td>10.0</td>\n",
       "      <td>337.0</td>\n",
       "      <td>9.0</td>\n",
       "      <td>0.1</td>\n",
       "    </tr>\n",
       "    <tr>\n",
       "      <th>3698</th>\n",
       "      <td>2020-02-24</td>\n",
       "      <td>EVER19401</td>\n",
       "      <td>EVER</td>\n",
       "      <td>Nepal</td>\n",
       "      <td>2019-12-19</td>\n",
       "      <td>67</td>\n",
       "      <td>73</td>\n",
       "      <td>lack_of_motivation</td>\n",
       "      <td>3</td>\n",
       "      <td>150</td>\n",
       "      <td>...</td>\n",
       "      <td>11.0</td>\n",
       "      <td>32.0</td>\n",
       "      <td>76.0</td>\n",
       "      <td>4.3</td>\n",
       "      <td>1018.0</td>\n",
       "      <td>-16.0</td>\n",
       "      <td>8.0</td>\n",
       "      <td>213.0</td>\n",
       "      <td>6.0</td>\n",
       "      <td>42.6</td>\n",
       "    </tr>\n",
       "    <tr>\n",
       "      <th>3700</th>\n",
       "      <td>2020-02-27</td>\n",
       "      <td>EVER19403</td>\n",
       "      <td>EVER</td>\n",
       "      <td>Nepal</td>\n",
       "      <td>2020-02-24</td>\n",
       "      <td>3</td>\n",
       "      <td>6</td>\n",
       "      <td>Bad_conditions</td>\n",
       "      <td>1</td>\n",
       "      <td>0</td>\n",
       "      <td>...</td>\n",
       "      <td>27.0</td>\n",
       "      <td>6.0</td>\n",
       "      <td>57.0</td>\n",
       "      <td>0.0</td>\n",
       "      <td>1018.0</td>\n",
       "      <td>-16.0</td>\n",
       "      <td>10.0</td>\n",
       "      <td>352.0</td>\n",
       "      <td>15.0</td>\n",
       "      <td>5.9</td>\n",
       "    </tr>\n",
       "    <tr>\n",
       "      <th>3703</th>\n",
       "      <td>2020-05-28</td>\n",
       "      <td>EVER20103</td>\n",
       "      <td>EVER</td>\n",
       "      <td>China</td>\n",
       "      <td>2020-04-23</td>\n",
       "      <td>35</td>\n",
       "      <td>38</td>\n",
       "      <td>Success_main</td>\n",
       "      <td>3</td>\n",
       "      <td>0</td>\n",
       "      <td>...</td>\n",
       "      <td>9.0</td>\n",
       "      <td>62.0</td>\n",
       "      <td>65.0</td>\n",
       "      <td>4.3</td>\n",
       "      <td>1011.0</td>\n",
       "      <td>-6.0</td>\n",
       "      <td>8.0</td>\n",
       "      <td>193.0</td>\n",
       "      <td>5.0</td>\n",
       "      <td>113.9</td>\n",
       "    </tr>\n",
       "  </tbody>\n",
       "</table>\n",
       "<p>2962 rows × 37 columns</p>\n",
       "</div>"
      ],
      "text/plain": [
       "     summit_date     exp_id peak_id   host    bc_date  summit_days  tot_days  \\\n",
       "331   2010-03-12  TKRG10101    TKRG  Nepal 2010-03-06            6         8   \n",
       "332   2010-03-18  BHRS10101    BHRS  Nepal 2010-03-16            2         3   \n",
       "333   2010-03-31  KYR110101    KYR1  Nepal 2010-03-25            6        13   \n",
       "334   2010-04-01  PUMO10103    PUMO  Nepal 2010-03-20           12        43   \n",
       "335   2010-04-01  URMA10101    URMA  Nepal 2010-03-29            3         3   \n",
       "...          ...        ...     ...    ...        ...          ...       ...   \n",
       "3695  2019-12-08  AMAD19357    AMAD  Nepal 2019-11-23           15        17   \n",
       "3697  2020-02-02  AMAD19402    AMAD  Nepal 2020-01-27            6         9   \n",
       "3698  2020-02-24  EVER19401    EVER  Nepal 2019-12-19           67        73   \n",
       "3700  2020-02-27  EVER19403    EVER  Nepal 2020-02-24            3         6   \n",
       "3703  2020-05-28  EVER20103    EVER  China 2020-04-23           35        38   \n",
       "\n",
       "             term_reason  camps  rope  ...  WindGustKmph  cloudcover  \\\n",
       "331         Success_main      0     0  ...          24.0        10.0   \n",
       "332         Success_main      1     0  ...          13.0        43.0   \n",
       "333          Bad_weather      2   750  ...          25.0        51.0   \n",
       "334             Lack_sse      2   400  ...          24.0        20.0   \n",
       "335         Success_main      0     0  ...          24.0        20.0   \n",
       "...                  ...    ...   ...  ...           ...         ...   \n",
       "3695        Success_main      2     0  ...          23.0         0.0   \n",
       "3697        Success_main      3     0  ...          17.0        12.0   \n",
       "3698  lack_of_motivation      3   150  ...          11.0        32.0   \n",
       "3700      Bad_conditions      1     0  ...          27.0         6.0   \n",
       "3703        Success_main      3     0  ...           9.0        62.0   \n",
       "\n",
       "      humidity  precipMM  pressure  tempC  visibility  winddirDegree  \\\n",
       "331       67.0       0.0    1020.0   -1.0        10.0          270.0   \n",
       "332       90.0       3.4    1025.0   -3.0         8.0          252.0   \n",
       "333       86.0       0.0    1010.0   -2.0         9.0          240.0   \n",
       "334       80.0       0.0    1011.0   -1.0        10.0          254.0   \n",
       "335       80.0       0.0    1011.0   -1.0        10.0          254.0   \n",
       "...        ...       ...       ...    ...         ...            ...   \n",
       "3695      21.0       0.0    1019.0  -14.0        10.0          334.0   \n",
       "3697      27.0       0.1    1019.0  -19.0        10.0          337.0   \n",
       "3698      76.0       4.3    1018.0  -16.0         8.0          213.0   \n",
       "3700      57.0       0.0    1018.0  -16.0        10.0          352.0   \n",
       "3703      65.0       4.3    1011.0   -6.0         8.0          193.0   \n",
       "\n",
       "      windspeedKmph  cumul_snow  \n",
       "331            15.0         0.0  \n",
       "332             7.0        11.6  \n",
       "333            19.0        10.5  \n",
       "334            16.0        10.7  \n",
       "335            16.0         7.0  \n",
       "...             ...         ...  \n",
       "3695           11.0         0.0  \n",
       "3697            9.0         0.1  \n",
       "3698            6.0        42.6  \n",
       "3700           15.0         5.9  \n",
       "3703            5.0       113.9  \n",
       "\n",
       "[2962 rows x 37 columns]"
      ]
     },
     "execution_count": 257,
     "metadata": {},
     "output_type": "execute_result"
    }
   ],
   "source": [
    "df"
   ]
  },
  {
   "cell_type": "code",
   "execution_count": null,
   "metadata": {
    "hidden": true
   },
   "outputs": [],
   "source": []
  }
 ],
 "metadata": {
  "kernelspec": {
   "display_name": "Python 3",
   "language": "python",
   "name": "python3"
  },
  "language_info": {
   "codemirror_mode": {
    "name": "ipython",
    "version": 3
   },
   "file_extension": ".py",
   "mimetype": "text/x-python",
   "name": "python",
   "nbconvert_exporter": "python",
   "pygments_lexer": "ipython3",
   "version": "3.7.7"
  },
  "toc": {
   "base_numbering": 1,
   "nav_menu": {},
   "number_sections": true,
   "sideBar": true,
   "skip_h1_title": true,
   "title_cell": "Table of Contents",
   "title_sidebar": "Contents",
   "toc_cell": false,
   "toc_position": {},
   "toc_section_display": true,
   "toc_window_display": false
  }
 },
 "nbformat": 4,
 "nbformat_minor": 4
}
