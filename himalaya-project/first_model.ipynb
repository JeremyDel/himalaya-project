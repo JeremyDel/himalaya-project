{
 "cells": [
  {
   "cell_type": "code",
   "execution_count": 2,
   "metadata": {},
   "outputs": [],
   "source": [
    "from members import Members\n",
    "from expeds import Expeds\n",
    "from peaks import Peaks\n",
    "from xgboost import XGBClassifier"
   ]
  },
  {
   "cell_type": "code",
   "execution_count": 17,
   "metadata": {},
   "outputs": [],
   "source": [
    "import pandas as pd"
   ]
  },
  {
   "cell_type": "code",
   "execution_count": 5,
   "metadata": {},
   "outputs": [
    {
     "name": "stdout",
     "output_type": "stream",
     "text": [
      "Collecting xgboost\n",
      "  Downloading xgboost-1.2.1-py3-none-win_amd64.whl (86.5 MB)\n",
      "Requirement already satisfied: numpy in c:\\users\\jerem\\.venvs\\himalaya\\lib\\site-packages (from xgboost) (1.19.3)\n",
      "Requirement already satisfied: scipy in c:\\users\\jerem\\.venvs\\himalaya\\lib\\site-packages (from xgboost) (1.5.3)\n",
      "Installing collected packages: xgboost\n",
      "Successfully installed xgboost-1.2.1\n"
     ]
    }
   ],
   "source": [
    "!pip install xgboost"
   ]
  },
  {
   "cell_type": "code",
   "execution_count": 3,
   "metadata": {},
   "outputs": [],
   "source": [
    "expeds =  Expeds().get_data()\n"
   ]
  },
  {
   "cell_type": "code",
   "execution_count": 4,
   "metadata": {},
   "outputs": [],
   "source": [
    "expeds = Expeds().clean_data(expeds)"
   ]
  },
  {
   "cell_type": "code",
   "execution_count": 6,
   "metadata": {},
   "outputs": [],
   "source": [
    "members =  Members().get_data()\n",
    "members = Members().clean_data(members)"
   ]
  },
  {
   "cell_type": "code",
   "execution_count": 14,
   "metadata": {},
   "outputs": [
    {
     "data": {
      "text/plain": [
       "16383"
      ]
     },
     "execution_count": 14,
     "metadata": {},
     "output_type": "execute_result"
    }
   ],
   "source": [
    "len(members['occupation'].to_list())\n"
   ]
  },
  {
   "cell_type": "code",
   "execution_count": 19,
   "metadata": {},
   "outputs": [
    {
     "data": {
      "text/html": [
       "<div>\n",
       "<style scoped>\n",
       "    .dataframe tbody tr th:only-of-type {\n",
       "        vertical-align: middle;\n",
       "    }\n",
       "\n",
       "    .dataframe tbody tr th {\n",
       "        vertical-align: top;\n",
       "    }\n",
       "\n",
       "    .dataframe thead th {\n",
       "        text-align: right;\n",
       "    }\n",
       "</style>\n",
       "<table border=\"1\" class=\"dataframe\">\n",
       "  <thead>\n",
       "    <tr style=\"text-align: right;\">\n",
       "      <th></th>\n",
       "      <th>0</th>\n",
       "    </tr>\n",
       "    <tr>\n",
       "      <th>occupation</th>\n",
       "      <th></th>\n",
       "    </tr>\n",
       "  </thead>\n",
       "  <tbody>\n",
       "    <tr>\n",
       "      <th>Unknown</th>\n",
       "      <td>6610</td>\n",
       "    </tr>\n",
       "    <tr>\n",
       "      <th>Alpine guide</th>\n",
       "      <td>1229</td>\n",
       "    </tr>\n",
       "    <tr>\n",
       "      <th>Physician</th>\n",
       "      <td>336</td>\n",
       "    </tr>\n",
       "    <tr>\n",
       "      <th>Engineer</th>\n",
       "      <td>305</td>\n",
       "    </tr>\n",
       "    <tr>\n",
       "      <th>Student</th>\n",
       "      <td>279</td>\n",
       "    </tr>\n",
       "    <tr>\n",
       "      <th>...</th>\n",
       "      <td>...</td>\n",
       "    </tr>\n",
       "    <tr>\n",
       "      <th>Scientist (geology researcher)</th>\n",
       "      <td>1</td>\n",
       "    </tr>\n",
       "    <tr>\n",
       "      <th>Machine operator in a plastics factory</th>\n",
       "      <td>1</td>\n",
       "    </tr>\n",
       "    <tr>\n",
       "      <th>Machine shop owner</th>\n",
       "      <td>1</td>\n",
       "    </tr>\n",
       "    <tr>\n",
       "      <th>Magazine editor</th>\n",
       "      <td>1</td>\n",
       "    </tr>\n",
       "    <tr>\n",
       "      <th>2nd Lt, Nepal Army</th>\n",
       "      <td>1</td>\n",
       "    </tr>\n",
       "  </tbody>\n",
       "</table>\n",
       "<p>3071 rows × 1 columns</p>\n",
       "</div>"
      ],
      "text/plain": [
       "                                           0\n",
       "occupation                                  \n",
       "Unknown                                 6610\n",
       "Alpine guide                            1229\n",
       "Physician                                336\n",
       "Engineer                                 305\n",
       "Student                                  279\n",
       "...                                      ...\n",
       "Scientist (geology researcher)             1\n",
       "Machine operator in a plastics factory     1\n",
       "Machine shop owner                         1\n",
       "Magazine editor                            1\n",
       "2nd Lt, Nepal Army                         1\n",
       "\n",
       "[3071 rows x 1 columns]"
      ]
     },
     "execution_count": 19,
     "metadata": {},
     "output_type": "execute_result"
    }
   ],
   "source": [
    "pd.DataFrame(members[['occupation']].value_counts())"
   ]
  },
  {
   "cell_type": "code",
   "execution_count": 8,
   "metadata": {},
   "outputs": [],
   "source": [
    "peaks =  Peaks().get_data()\n",
    "peaks = Peaks().clean_data(peaks)"
   ]
  },
  {
   "cell_type": "code",
   "execution_count": 11,
   "metadata": {},
   "outputs": [],
   "source": [
    "model = XGBClassifier()"
   ]
  },
  {
   "cell_type": "code",
   "execution_count": 5,
   "metadata": {},
   "outputs": [
    {
     "data": {
      "text/plain": [
       "exp_id                0\n",
       "peak_id               0\n",
       "year                  0\n",
       "season                0\n",
       "host                  0\n",
       "route1                0\n",
       "route2                0\n",
       "nation                0\n",
       "leaders               0\n",
       "sponsor               0\n",
       "success1              0\n",
       "success2              0\n",
       "ascent1               0\n",
       "claimed               0\n",
       "disputed              0\n",
       "countries          2271\n",
       "bc_date               0\n",
       "summit_date           0\n",
       "summit_time           0\n",
       "summit_days           0\n",
       "tot_days              0\n",
       "term_date             0\n",
       "term_reason           0\n",
       "term_note          2250\n",
       "high_point            0\n",
       "traverse              0\n",
       "ski                   0\n",
       "parapente             0\n",
       "camps                 0\n",
       "rope                  0\n",
       "tot_members           0\n",
       "summit_members        0\n",
       "summiter_deaths       0\n",
       "tot_hired             0\n",
       "summit_hired          0\n",
       "hired_deaths          0\n",
       "no_hired              0\n",
       "o2_used               0\n",
       "o2_none               0\n",
       "o2_climb              0\n",
       "o2_descent            0\n",
       "o2_sleep              0\n",
       "o2_medical            0\n",
       "o2_taken              0\n",
       "o2_unkwn              0\n",
       "other_smts            0\n",
       "campsites           153\n",
       "accidents          3368\n",
       "achievment            0\n",
       "agency                0\n",
       "comrte                0\n",
       "stdrte                0\n",
       "primrte               0\n",
       "primmem               0\n",
       "peak_name             0\n",
       "peak_height           0\n",
       "dtype: int64"
      ]
     },
     "execution_count": 5,
     "metadata": {},
     "output_type": "execute_result"
    }
   ],
   "source": [
    "expeds.isnull().sum()"
   ]
  },
  {
   "cell_type": "code",
   "execution_count": 199,
   "metadata": {},
   "outputs": [
    {
     "data": {
      "text/html": [
       "<div>\n",
       "<style scoped>\n",
       "    .dataframe tbody tr th:only-of-type {\n",
       "        vertical-align: middle;\n",
       "    }\n",
       "\n",
       "    .dataframe tbody tr th {\n",
       "        vertical-align: top;\n",
       "    }\n",
       "\n",
       "    .dataframe thead th {\n",
       "        text-align: right;\n",
       "    }\n",
       "</style>\n",
       "<table border=\"1\" class=\"dataframe\">\n",
       "  <thead>\n",
       "    <tr style=\"text-align: right;\">\n",
       "      <th></th>\n",
       "      <th>exp_id</th>\n",
       "      <th>memb_id</th>\n",
       "      <th>peak_id</th>\n",
       "      <th>year</th>\n",
       "      <th>season</th>\n",
       "      <th>sex_M</th>\n",
       "      <th>yob</th>\n",
       "      <th>citizenship</th>\n",
       "      <th>status</th>\n",
       "      <th>residence</th>\n",
       "      <th>...</th>\n",
       "      <th>o2_sleep</th>\n",
       "      <th>o2_medical</th>\n",
       "      <th>death</th>\n",
       "      <th>death_type</th>\n",
       "      <th>death_height</th>\n",
       "      <th>death_class</th>\n",
       "      <th>summit_bid</th>\n",
       "      <th>summit_term</th>\n",
       "      <th>unique_id</th>\n",
       "      <th>age</th>\n",
       "    </tr>\n",
       "  </thead>\n",
       "  <tbody>\n",
       "    <tr>\n",
       "      <th>0</th>\n",
       "      <td>TKRG10101</td>\n",
       "      <td>1</td>\n",
       "      <td>TKRG</td>\n",
       "      <td>2010</td>\n",
       "      <td>Spring</td>\n",
       "      <td>1.0</td>\n",
       "      <td>1967.0</td>\n",
       "      <td>USA</td>\n",
       "      <td>Leader</td>\n",
       "      <td>Carlton, Washington</td>\n",
       "      <td>...</td>\n",
       "      <td>False</td>\n",
       "      <td>False</td>\n",
       "      <td>False</td>\n",
       "      <td>Unspecified</td>\n",
       "      <td>0</td>\n",
       "      <td>Unspecified</td>\n",
       "      <td>Successful summit bid</td>\n",
       "      <td>Success</td>\n",
       "      <td>TKRG10101_1</td>\n",
       "      <td>53.0</td>\n",
       "    </tr>\n",
       "    <tr>\n",
       "      <th>1</th>\n",
       "      <td>TKRG10101</td>\n",
       "      <td>2</td>\n",
       "      <td>TKRG</td>\n",
       "      <td>2010</td>\n",
       "      <td>Spring</td>\n",
       "      <td>0.0</td>\n",
       "      <td>1971.0</td>\n",
       "      <td>USA</td>\n",
       "      <td>BC Manager</td>\n",
       "      <td>Carlton, Washington</td>\n",
       "      <td>...</td>\n",
       "      <td>False</td>\n",
       "      <td>False</td>\n",
       "      <td>False</td>\n",
       "      <td>Unspecified</td>\n",
       "      <td>0</td>\n",
       "      <td>Unspecified</td>\n",
       "      <td>No summit bid</td>\n",
       "      <td>No climbing</td>\n",
       "      <td>TKRG10101_2</td>\n",
       "      <td>49.0</td>\n",
       "    </tr>\n",
       "    <tr>\n",
       "      <th>2</th>\n",
       "      <td>TKRG10101</td>\n",
       "      <td>3</td>\n",
       "      <td>TKRG</td>\n",
       "      <td>2010</td>\n",
       "      <td>Spring</td>\n",
       "      <td>1.0</td>\n",
       "      <td>1973.0</td>\n",
       "      <td>USA</td>\n",
       "      <td>Climber</td>\n",
       "      <td>Leavenworth, Washington</td>\n",
       "      <td>...</td>\n",
       "      <td>False</td>\n",
       "      <td>False</td>\n",
       "      <td>False</td>\n",
       "      <td>Unspecified</td>\n",
       "      <td>0</td>\n",
       "      <td>Unspecified</td>\n",
       "      <td>Successful summit bid</td>\n",
       "      <td>Success</td>\n",
       "      <td>TKRG10101_3</td>\n",
       "      <td>47.0</td>\n",
       "    </tr>\n",
       "    <tr>\n",
       "      <th>3</th>\n",
       "      <td>AMPG10101</td>\n",
       "      <td>1</td>\n",
       "      <td>AMPG</td>\n",
       "      <td>2010</td>\n",
       "      <td>Spring</td>\n",
       "      <td>1.0</td>\n",
       "      <td>1961.0</td>\n",
       "      <td>UK</td>\n",
       "      <td>Leader</td>\n",
       "      <td>Sheffield, S Yorkshire, England</td>\n",
       "      <td>...</td>\n",
       "      <td>False</td>\n",
       "      <td>False</td>\n",
       "      <td>False</td>\n",
       "      <td>Unspecified</td>\n",
       "      <td>0</td>\n",
       "      <td>Unspecified</td>\n",
       "      <td>No summit bid</td>\n",
       "      <td>No climbing</td>\n",
       "      <td>AMPG10101_1</td>\n",
       "      <td>59.0</td>\n",
       "    </tr>\n",
       "    <tr>\n",
       "      <th>4</th>\n",
       "      <td>AMPG10101</td>\n",
       "      <td>2</td>\n",
       "      <td>AMPG</td>\n",
       "      <td>2010</td>\n",
       "      <td>Spring</td>\n",
       "      <td>1.0</td>\n",
       "      <td>1964.0</td>\n",
       "      <td>UK</td>\n",
       "      <td>Climber</td>\n",
       "      <td>Stockport, Derby, England</td>\n",
       "      <td>...</td>\n",
       "      <td>False</td>\n",
       "      <td>False</td>\n",
       "      <td>False</td>\n",
       "      <td>Unspecified</td>\n",
       "      <td>0</td>\n",
       "      <td>Unspecified</td>\n",
       "      <td>No summit bid</td>\n",
       "      <td>No climbing</td>\n",
       "      <td>AMPG10101_2</td>\n",
       "      <td>56.0</td>\n",
       "    </tr>\n",
       "    <tr>\n",
       "      <th>...</th>\n",
       "      <td>...</td>\n",
       "      <td>...</td>\n",
       "      <td>...</td>\n",
       "      <td>...</td>\n",
       "      <td>...</td>\n",
       "      <td>...</td>\n",
       "      <td>...</td>\n",
       "      <td>...</td>\n",
       "      <td>...</td>\n",
       "      <td>...</td>\n",
       "      <td>...</td>\n",
       "      <td>...</td>\n",
       "      <td>...</td>\n",
       "      <td>...</td>\n",
       "      <td>...</td>\n",
       "      <td>...</td>\n",
       "      <td>...</td>\n",
       "      <td>...</td>\n",
       "      <td>...</td>\n",
       "      <td>...</td>\n",
       "      <td>...</td>\n",
       "    </tr>\n",
       "    <tr>\n",
       "      <th>16378</th>\n",
       "      <td>AMAD16316</td>\n",
       "      <td>3</td>\n",
       "      <td>AMAD</td>\n",
       "      <td>2016</td>\n",
       "      <td>Autumn</td>\n",
       "      <td>1.0</td>\n",
       "      <td>1954.0</td>\n",
       "      <td>Switzerland</td>\n",
       "      <td>Climber</td>\n",
       "      <td>Bern, Switzerland</td>\n",
       "      <td>...</td>\n",
       "      <td>False</td>\n",
       "      <td>False</td>\n",
       "      <td>False</td>\n",
       "      <td>Unspecified</td>\n",
       "      <td>0</td>\n",
       "      <td>Unspecified</td>\n",
       "      <td>Aborted at high camp</td>\n",
       "      <td>Other</td>\n",
       "      <td>AMAD16316_3</td>\n",
       "      <td>66.0</td>\n",
       "    </tr>\n",
       "    <tr>\n",
       "      <th>16379</th>\n",
       "      <td>AMAD16316</td>\n",
       "      <td>2</td>\n",
       "      <td>AMAD</td>\n",
       "      <td>2016</td>\n",
       "      <td>Autumn</td>\n",
       "      <td>0.0</td>\n",
       "      <td>1984.0</td>\n",
       "      <td>Switzerland</td>\n",
       "      <td>Climber</td>\n",
       "      <td>Bern, Switzerland</td>\n",
       "      <td>...</td>\n",
       "      <td>False</td>\n",
       "      <td>False</td>\n",
       "      <td>False</td>\n",
       "      <td>Unspecified</td>\n",
       "      <td>0</td>\n",
       "      <td>Unspecified</td>\n",
       "      <td>Aborted at high camp</td>\n",
       "      <td>Other</td>\n",
       "      <td>AMAD16316_2</td>\n",
       "      <td>36.0</td>\n",
       "    </tr>\n",
       "    <tr>\n",
       "      <th>16380</th>\n",
       "      <td>AMAD16316</td>\n",
       "      <td>4</td>\n",
       "      <td>AMAD</td>\n",
       "      <td>2016</td>\n",
       "      <td>Autumn</td>\n",
       "      <td>1.0</td>\n",
       "      <td>1980.0</td>\n",
       "      <td>Switzerland</td>\n",
       "      <td>Climber</td>\n",
       "      <td>Caux, Vaud, Switzerland</td>\n",
       "      <td>...</td>\n",
       "      <td>False</td>\n",
       "      <td>False</td>\n",
       "      <td>False</td>\n",
       "      <td>Unspecified</td>\n",
       "      <td>0</td>\n",
       "      <td>Unspecified</td>\n",
       "      <td>Successful summit bid</td>\n",
       "      <td>Success</td>\n",
       "      <td>AMAD16316_4</td>\n",
       "      <td>40.0</td>\n",
       "    </tr>\n",
       "    <tr>\n",
       "      <th>16381</th>\n",
       "      <td>AMAD16316</td>\n",
       "      <td>8</td>\n",
       "      <td>AMAD</td>\n",
       "      <td>2016</td>\n",
       "      <td>Autumn</td>\n",
       "      <td>0.0</td>\n",
       "      <td>1983.0</td>\n",
       "      <td>Switzerland</td>\n",
       "      <td>Climber</td>\n",
       "      <td>Unknown</td>\n",
       "      <td>...</td>\n",
       "      <td>False</td>\n",
       "      <td>False</td>\n",
       "      <td>False</td>\n",
       "      <td>Unspecified</td>\n",
       "      <td>0</td>\n",
       "      <td>Unspecified</td>\n",
       "      <td>Successful summit bid</td>\n",
       "      <td>Success</td>\n",
       "      <td>AMAD16316_8</td>\n",
       "      <td>37.0</td>\n",
       "    </tr>\n",
       "    <tr>\n",
       "      <th>16382</th>\n",
       "      <td>AMAD16316</td>\n",
       "      <td>7</td>\n",
       "      <td>AMAD</td>\n",
       "      <td>2016</td>\n",
       "      <td>Autumn</td>\n",
       "      <td>1.0</td>\n",
       "      <td>1989.0</td>\n",
       "      <td>UK</td>\n",
       "      <td>Climber</td>\n",
       "      <td>Unknown</td>\n",
       "      <td>...</td>\n",
       "      <td>False</td>\n",
       "      <td>False</td>\n",
       "      <td>False</td>\n",
       "      <td>Unspecified</td>\n",
       "      <td>0</td>\n",
       "      <td>Unspecified</td>\n",
       "      <td>No summit bid</td>\n",
       "      <td>No climbing</td>\n",
       "      <td>AMAD16316_7</td>\n",
       "      <td>31.0</td>\n",
       "    </tr>\n",
       "  </tbody>\n",
       "</table>\n",
       "<p>16383 rows × 47 columns</p>\n",
       "</div>"
      ],
      "text/plain": [
       "          exp_id  memb_id peak_id  year  season  sex_M     yob  citizenship  \\\n",
       "0      TKRG10101        1    TKRG  2010  Spring    1.0  1967.0          USA   \n",
       "1      TKRG10101        2    TKRG  2010  Spring    0.0  1971.0          USA   \n",
       "2      TKRG10101        3    TKRG  2010  Spring    1.0  1973.0          USA   \n",
       "3      AMPG10101        1    AMPG  2010  Spring    1.0  1961.0           UK   \n",
       "4      AMPG10101        2    AMPG  2010  Spring    1.0  1964.0           UK   \n",
       "...          ...      ...     ...   ...     ...    ...     ...          ...   \n",
       "16378  AMAD16316        3    AMAD  2016  Autumn    1.0  1954.0  Switzerland   \n",
       "16379  AMAD16316        2    AMAD  2016  Autumn    0.0  1984.0  Switzerland   \n",
       "16380  AMAD16316        4    AMAD  2016  Autumn    1.0  1980.0  Switzerland   \n",
       "16381  AMAD16316        8    AMAD  2016  Autumn    0.0  1983.0  Switzerland   \n",
       "16382  AMAD16316        7    AMAD  2016  Autumn    1.0  1989.0           UK   \n",
       "\n",
       "           status                        residence  ... o2_sleep  o2_medical  \\\n",
       "0          Leader              Carlton, Washington  ...    False       False   \n",
       "1      BC Manager              Carlton, Washington  ...    False       False   \n",
       "2         Climber          Leavenworth, Washington  ...    False       False   \n",
       "3          Leader  Sheffield, S Yorkshire, England  ...    False       False   \n",
       "4         Climber        Stockport, Derby, England  ...    False       False   \n",
       "...           ...                              ...  ...      ...         ...   \n",
       "16378     Climber                Bern, Switzerland  ...    False       False   \n",
       "16379     Climber                Bern, Switzerland  ...    False       False   \n",
       "16380     Climber          Caux, Vaud, Switzerland  ...    False       False   \n",
       "16381     Climber                          Unknown  ...    False       False   \n",
       "16382     Climber                          Unknown  ...    False       False   \n",
       "\n",
       "       death   death_type  death_height  death_class             summit_bid  \\\n",
       "0      False  Unspecified             0  Unspecified  Successful summit bid   \n",
       "1      False  Unspecified             0  Unspecified          No summit bid   \n",
       "2      False  Unspecified             0  Unspecified  Successful summit bid   \n",
       "3      False  Unspecified             0  Unspecified          No summit bid   \n",
       "4      False  Unspecified             0  Unspecified          No summit bid   \n",
       "...      ...          ...           ...          ...                    ...   \n",
       "16378  False  Unspecified             0  Unspecified   Aborted at high camp   \n",
       "16379  False  Unspecified             0  Unspecified   Aborted at high camp   \n",
       "16380  False  Unspecified             0  Unspecified  Successful summit bid   \n",
       "16381  False  Unspecified             0  Unspecified  Successful summit bid   \n",
       "16382  False  Unspecified             0  Unspecified          No summit bid   \n",
       "\n",
       "       summit_term    unique_id   age  \n",
       "0          Success  TKRG10101_1  53.0  \n",
       "1      No climbing  TKRG10101_2  49.0  \n",
       "2          Success  TKRG10101_3  47.0  \n",
       "3      No climbing  AMPG10101_1  59.0  \n",
       "4      No climbing  AMPG10101_2  56.0  \n",
       "...            ...          ...   ...  \n",
       "16378        Other  AMAD16316_3  66.0  \n",
       "16379        Other  AMAD16316_2  36.0  \n",
       "16380      Success  AMAD16316_4  40.0  \n",
       "16381      Success  AMAD16316_8  37.0  \n",
       "16382  No climbing  AMAD16316_7  31.0  \n",
       "\n",
       "[16383 rows x 47 columns]"
      ]
     },
     "execution_count": 199,
     "metadata": {},
     "output_type": "execute_result"
    }
   ],
   "source": []
  },
  {
   "cell_type": "code",
   "execution_count": 16,
   "metadata": {},
   "outputs": [
    {
     "data": {
      "text/plain": [
       "Index(['exp_id', 'peak_id', 'year', 'season', 'host', 'route1', 'route2',\n",
       "       'nation', 'leaders', 'sponsor', 'success1', 'success2', 'ascent1',\n",
       "       'ascent2', 'claimed', 'disputed', 'countries', 'bc_date', 'summit_date',\n",
       "       'summit_time', 'summit_days', 'tot_days', 'term_date', 'term_reason',\n",
       "       'term_note', 'high_point', 'traverse', 'ski', 'parapente', 'camps',\n",
       "       'rope', 'tot_members', 'summit_members', 'summiter_deaths', 'tot_hired',\n",
       "       'summit_hired', 'hired_deaths', 'no_hired', 'o2_used', 'o2_none',\n",
       "       'o2_climb', 'o2_descent', 'o2_sleep', 'o2_medical', 'o2_taken',\n",
       "       'o2_unkwn', 'other_smts', 'campsites', 'accidents', 'achievment',\n",
       "       'agency', 'comrte', 'stdrte', 'primrte', 'primmem', 'peak_name',\n",
       "       'peak_height'],\n",
       "      dtype='object')"
      ]
     },
     "execution_count": 16,
     "metadata": {},
     "output_type": "execute_result"
    }
   ],
   "source": [
    "expeds.columns"
   ]
  },
  {
   "cell_type": "code",
   "execution_count": 164,
   "metadata": {},
   "outputs": [],
   "source": [
    "col_to_drop = ['summit_time', \"peak_name\", \"exp_id\", \"route1\", \"route2\", \"leaders\", 'ascent1',\n",
    "       'ascent2','claimed', 'disputed', 'bc_date', 'summit_date','other_smts', 'campsites', 'accidents',\n",
    "       'summit_time' , 'term_reason', 'term_note', 'term_date', 'host', 'countries', 'success1', 'success2', 'summiter_deaths', 'hired_deaths', 'high_point', 'achievment', 'summit_members', 'summit_hired', 'summit_days']"
   ]
  },
  {
   "cell_type": "code",
   "execution_count": 145,
   "metadata": {},
   "outputs": [],
   "source": [
    "expeds['term_reason'] = expeds['term_reason'].map({\n",
    "        'Unknown' : False,\n",
    "            1 : True,\n",
    "            2 : True,\n",
    "            3 : True,\n",
    "            4 : False,\n",
    "            5 : False,\n",
    "            6 : False,\n",
    "            7 : False,\n",
    "            8 : False,\n",
    "            9 : False,\n",
    "            10 : False,\n",
    "            11 : False,\n",
    "            12 : False,\n",
    "            13 : False,\n",
    "            14 : False}"
   ]
  },
  {
   "cell_type": "code",
   "execution_count": null,
   "metadata": {},
   "outputs": [],
   "source": []
  },
  {
   "cell_type": "code",
   "execution_count": 165,
   "metadata": {},
   "outputs": [],
   "source": [
    "data = expeds.copy()"
   ]
  },
  {
   "cell_type": "code",
   "execution_count": 166,
   "metadata": {},
   "outputs": [],
   "source": [
    "data.drop(col_to_drop, axis=1, inplace=True)"
   ]
  },
  {
   "cell_type": "code",
   "execution_count": 167,
   "metadata": {},
   "outputs": [
    {
     "data": {
      "text/plain": [
       "Index(['peak_id', 'year', 'season', 'nation', 'sponsor', 'tot_days',\n",
       "       'traverse', 'ski', 'parapente', 'camps', 'rope', 'tot_members',\n",
       "       'tot_hired', 'no_hired', 'o2_used', 'o2_none', 'o2_climb', 'o2_descent',\n",
       "       'o2_sleep', 'o2_medical', 'o2_taken', 'o2_unkwn', 'agency', 'comrte',\n",
       "       'stdrte', 'primrte', 'primmem', 'peak_height'],\n",
       "      dtype='object')"
      ]
     },
     "execution_count": 167,
     "metadata": {},
     "output_type": "execute_result"
    }
   ],
   "source": [
    "data.columns"
   ]
  },
  {
   "cell_type": "code",
   "execution_count": null,
   "metadata": {},
   "outputs": [],
   "source": []
  },
  {
   "cell_type": "code",
   "execution_count": 168,
   "metadata": {},
   "outputs": [],
   "source": [
    "data['sponsor'].fillna('None',inplace=True)\n",
    "data['agency'].fillna('None',inplace=True)"
   ]
  },
  {
   "cell_type": "code",
   "execution_count": 183,
   "metadata": {},
   "outputs": [
    {
     "name": "stdout",
     "output_type": "stream",
     "text": [
      "<class 'pandas.core.frame.DataFrame'>\n",
      "RangeIndex: 3704 entries, 0 to 3703\n",
      "Data columns (total 28 columns):\n",
      " #   Column       Non-Null Count  Dtype \n",
      "---  ------       --------------  ----- \n",
      " 0   peak_id      3704 non-null   object\n",
      " 1   year         3704 non-null   int64 \n",
      " 2   season       3704 non-null   object\n",
      " 3   nation       3704 non-null   object\n",
      " 4   sponsor      3704 non-null   object\n",
      " 5   tot_days     3704 non-null   int64 \n",
      " 6   traverse     3704 non-null   bool  \n",
      " 7   ski          3704 non-null   bool  \n",
      " 8   parapente    3704 non-null   bool  \n",
      " 9   camps        3704 non-null   int64 \n",
      " 10  rope         3704 non-null   int64 \n",
      " 11  tot_members  3704 non-null   int64 \n",
      " 12  tot_hired    3704 non-null   int64 \n",
      " 13  no_hired     3704 non-null   bool  \n",
      " 14  o2_used      3704 non-null   bool  \n",
      " 15  o2_none      3704 non-null   bool  \n",
      " 16  o2_climb     3704 non-null   bool  \n",
      " 17  o2_descent   3704 non-null   bool  \n",
      " 18  o2_sleep     3704 non-null   bool  \n",
      " 19  o2_medical   3704 non-null   bool  \n",
      " 20  o2_taken     3704 non-null   bool  \n",
      " 21  o2_unkwn     3704 non-null   bool  \n",
      " 22  agency       3704 non-null   object\n",
      " 23  comrte       3704 non-null   bool  \n",
      " 24  stdrte       3704 non-null   bool  \n",
      " 25  primrte      3704 non-null   bool  \n",
      " 26  primmem      3704 non-null   bool  \n",
      " 27  peak_height  3704 non-null   int64 \n",
      "dtypes: bool(16), int64(7), object(5)\n",
      "memory usage: 405.2+ KB\n"
     ]
    }
   ],
   "source": [
    "data.info()"
   ]
  },
  {
   "cell_type": "code",
   "execution_count": 173,
   "metadata": {},
   "outputs": [],
   "source": [
    "from sklearn.compose import ColumnTransformer\n",
    "from sklearn.ensemble import GradientBoostingRegressor, RandomForestRegressor\n",
    "from sklearn.linear_model import Lasso, Ridge, LinearRegression\n",
    "from sklearn.model_selection import train_test_split, RandomizedSearchCV\n",
    "from sklearn.pipeline import Pipeline, make_pipeline\n",
    "from sklearn.preprocessing import OneHotEncoder, RobustScaler, MinMaxScaler\n",
    "\n",
    "col_ohe = ['peak_id','season', 'agency', 'nation', 'sponsor']\n",
    "col_scaler = ['peak_height', 'year', 'tot_members', 'tot_hired',\n",
    "       'tot_days']\n",
    "transformer = [('one_hote',OneHotEncoder(handle_unknown='ignore'), col_ohe ), ('scaler', MinMaxScaler(), col_scaler)]\n",
    "\n",
    "ct = ColumnTransformer(transformer, n_jobs=None, remainder=\"passthrough\")"
   ]
  },
  {
   "cell_type": "code",
   "execution_count": 174,
   "metadata": {},
   "outputs": [],
   "source": [
    "from sklearn.linear_model import LogisticRegression\n",
    "pipeline = Pipeline(steps=[(\"features\", ct), (\"xgb\", XGBClassifier())])\n",
    "log_pip = Pipeline(steps=[(\"features\", ct), (\"log\", LogisticRegression(max_iter =2000))])"
   ]
  },
  {
   "cell_type": "code",
   "execution_count": 175,
   "metadata": {},
   "outputs": [
    {
     "data": {
      "text/plain": [
       "Pipeline(steps=[('features',\n",
       "                 ColumnTransformer(remainder='passthrough',\n",
       "                                   transformers=[('one_hote',\n",
       "                                                  OneHotEncoder(handle_unknown='ignore'),\n",
       "                                                  ['peak_id', 'season',\n",
       "                                                   'agency', 'nation',\n",
       "                                                   'sponsor']),\n",
       "                                                 ('scaler', MinMaxScaler(),\n",
       "                                                  ['peak_height', 'year',\n",
       "                                                   'tot_members', 'tot_hired',\n",
       "                                                   'tot_days'])])),\n",
       "                ('xgb',\n",
       "                 XGBClassifier(base_score=0.5, booster='gbtree',\n",
       "                               colsample_bylevel=1, col...\n",
       "                               colsample_bytree=1, gamma=0, gpu_id=-1,\n",
       "                               importance_type='gain',\n",
       "                               interaction_constraints='',\n",
       "                               learning_rate=0.300000012, max_delta_step=0,\n",
       "                               max_depth=6, min_child_weight=1, missing=nan,\n",
       "                               monotone_constraints='()', n_estimators=100,\n",
       "                               n_jobs=0, num_parallel_tree=1, random_state=0,\n",
       "                               reg_alpha=0, reg_lambda=1, scale_pos_weight=1,\n",
       "                               subsample=1, tree_method='exact',\n",
       "                               validate_parameters=1, verbosity=None))])"
      ]
     },
     "execution_count": 175,
     "metadata": {},
     "output_type": "execute_result"
    }
   ],
   "source": [
    "from sklearn.model_selection import train_test_split\n",
    "\n",
    "X = data\n",
    "y\n",
    "\n",
    "X_train, X_test, y_train, y_test = train_test_split(X, y, test_size=0.3, random_state=42)\n",
    "\n",
    "pipeline.fit(X_train, y_train)"
   ]
  },
  {
   "cell_type": "code",
   "execution_count": null,
   "metadata": {},
   "outputs": [],
   "source": []
  },
  {
   "cell_type": "code",
   "execution_count": 21,
   "metadata": {},
   "outputs": [],
   "source": [
    "from sklearn.metrics import classification_report"
   ]
  },
  {
   "cell_type": "code",
   "execution_count": 177,
   "metadata": {},
   "outputs": [
    {
     "name": "stdout",
     "output_type": "stream",
     "text": [
      "              precision    recall  f1-score   support\n",
      "\n",
      "       False       0.77      0.71      0.74       468\n",
      "        True       0.80      0.85      0.82       644\n",
      "\n",
      "    accuracy                           0.79      1112\n",
      "   macro avg       0.79      0.78      0.78      1112\n",
      "weighted avg       0.79      0.79      0.79      1112\n",
      "\n"
     ]
    }
   ],
   "source": [
    "print(classification_report(y_test, y_pred))"
   ]
  },
  {
   "cell_type": "code",
   "execution_count": 20,
   "metadata": {},
   "outputs": [
    {
     "ename": "NameError",
     "evalue": "name 'log_pip' is not defined",
     "output_type": "error",
     "traceback": [
      "\u001b[1;31m---------------------------------------------------------------------------\u001b[0m",
      "\u001b[1;31mNameError\u001b[0m                                 Traceback (most recent call last)",
      "\u001b[1;32m<ipython-input-20-583c562092d0>\u001b[0m in \u001b[0;36m<module>\u001b[1;34m\u001b[0m\n\u001b[1;32m----> 1\u001b[1;33m \u001b[0mlog_pip\u001b[0m\u001b[1;33m.\u001b[0m\u001b[0mfit\u001b[0m\u001b[1;33m(\u001b[0m\u001b[0mX_train\u001b[0m\u001b[1;33m,\u001b[0m \u001b[0my_train\u001b[0m\u001b[1;33m)\u001b[0m\u001b[1;33m\u001b[0m\u001b[1;33m\u001b[0m\u001b[0m\n\u001b[0m",
      "\u001b[1;31mNameError\u001b[0m: name 'log_pip' is not defined"
     ]
    }
   ],
   "source": [
    "log_pip.fit(X_train, y_train, max_iter =)"
   ]
  },
  {
   "cell_type": "code",
   "execution_count": 181,
   "metadata": {},
   "outputs": [],
   "source": [
    "y_log = log_pip.predict(X_test)"
   ]
  },
  {
   "cell_type": "code",
   "execution_count": 182,
   "metadata": {},
   "outputs": [
    {
     "name": "stdout",
     "output_type": "stream",
     "text": [
      "              precision    recall  f1-score   support\n",
      "\n",
      "       False       0.75      0.71      0.73       468\n",
      "        True       0.80      0.83      0.81       644\n",
      "\n",
      "    accuracy                           0.78      1112\n",
      "   macro avg       0.77      0.77      0.77      1112\n",
      "weighted avg       0.77      0.78      0.78      1112\n",
      "\n"
     ]
    }
   ],
   "source": [
    "print(classification_report(y_test, y_log))"
   ]
  },
  {
   "cell_type": "code",
   "execution_count": null,
   "metadata": {},
   "outputs": [],
   "source": []
  }
 ],
 "metadata": {
  "kernelspec": {
   "display_name": "Python 3",
   "language": "python",
   "name": "python3"
  },
  "language_info": {
   "codemirror_mode": {
    "name": "ipython",
    "version": 3
   },
   "file_extension": ".py",
   "mimetype": "text/x-python",
   "name": "python",
   "nbconvert_exporter": "python",
   "pygments_lexer": "ipython3",
   "version": "3.7.7"
  }
 },
 "nbformat": 4,
 "nbformat_minor": 4
}
