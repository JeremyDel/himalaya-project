{
 "cells": [
  {
   "cell_type": "code",
   "execution_count": 1,
   "metadata": {},
   "outputs": [],
   "source": [
    "%load_ext autoreload\n",
    "%autoreload 2"
   ]
  },
  {
   "cell_type": "code",
   "execution_count": 2,
   "metadata": {},
   "outputs": [],
   "source": [
    "import matplotlib.pyplot as plt\n",
    "import seaborn as sns\n",
    "import pandas as pd\n",
    "import numpy as np"
   ]
  },
  {
   "cell_type": "markdown",
   "metadata": {
    "heading_collapsed": true
   },
   "source": [
    "# Model"
   ]
  },
  {
   "cell_type": "code",
   "execution_count": 185,
   "metadata": {
    "hidden": true
   },
   "outputs": [],
   "source": [
    "from sklearn.preprocessing import MinMaxScaler, OneHotEncoder\n",
    "from sklearn.model_selection import train_test_split\n",
    "from sklearn.pipeline import Pipeline\n",
    "from sklearn.compose import ColumnTransformer, make_column_selector\n",
    "from sklearn.impute import SimpleImputer\n",
    "from xgboost import XGBClassifier\n",
    "from members import Members\n",
    "from weather import Weather\n",
    "from expeds import Expeds\n",
    "\n",
    "\n",
    "# Get Data\n",
    "member = Members().get_data()\n",
    "member = Members().clean_data(member)\n",
    "\n",
    "weather = Weather().get_data()\n",
    "weather = Weather().clean_data(weather)\n",
    "\n",
    "exped = Expeds().get_data()\n",
    "exped = Expeds().clean_data(exped)\n",
    "\n",
    "# Drop columns\n",
    "mem_to_drop = ['memb_id','year','unique_id','peak_id','residence','occupation',\n",
    "'summit_claimed','summit_disputed','highpt','high_point','death','death_type',\n",
    "'death_height','death_class','summit_term','summit_date1', 'summit_bid',\n",
    "'citizenship','o2_climb','o2_descent','o2_sleep','o2_medical', 'o2_none', \n",
    "'yob', 'route1', 'ascent1', 'leader', 'deputy', 'bconly', 'nottobc', 'support', \n",
    "'hired', 'sherpa', 'tibetan']\n",
    "\n",
    "\n",
    "exp_to_drop = ['year','season','route1','route2','nation','leaders',\n",
    "'sponsor','success1','success2', 'ascent1','claimed','disputed',\n",
    "'countries','summit_time','term_date','term_note','high_point',\n",
    "'traverse','ski','parapente','o2_climb','o2_descent','o2_sleep',\n",
    "'o2_medical','o2_taken','o2_unkwn','o2_used','o2_none','other_smts',\n",
    "'campsites','accidents','achievment','agency','peak_name','primmem',\n",
    "'summiter_deaths','summit_members','summit_hired','hired_deaths']\n",
    "\n",
    "member.drop(columns= mem_to_drop, inplace=True)\n",
    "exped.drop(columns= exp_to_drop, inplace=True)\n",
    "\n",
    "exped['summit_date'] = pd.to_datetime(exped.summit_date, errors = 'coerce')\n",
    "exped['bc_date'] = pd.to_datetime(exped.bc_date , errors = 'coerce')\n",
    "exped['rope'] = np.where(exped['rope']>0, True, False)\n",
    "\n",
    "exped = exped.set_index('summit_date')\n",
    "weather = weather.set_index('date_time')\n",
    "\n",
    "# Feature Engineering (1/2)\n",
    "exped['sherpa_ratio'] = exped['tot_hired'] / exped['tot_members']\n",
    "exped['sherpa_ratio'] = np.where(exped['sherpa_ratio'] == np.inf, 0, exped['sherpa_ratio'])\n",
    "\n",
    "weather['pressure_past'] = weather['pressure'].rolling(window=3).mean()\n",
    "weather['pressure_futur'] = weather['pressure'].shift(-2).rolling(window=3).mean()\n",
    "weather['stability'] = weather['pressure_futur'] - weather['pressure_past']\n",
    "\n",
    "# Merge DataFrames\n",
    "df = exped.merge(weather, how='left', left_index=True, right_index=True)\n",
    "df = df.reset_index()\n",
    "df = df.rename(columns={'index' : 'summit_date'})\n",
    "df = df.merge(member, on='exp_id', how = 'right')\n",
    "df = df.dropna(subset=['summit_date', 'bc_date'])\n",
    "\n",
    "# Feature Engineering (2/2)\n",
    "df['cumul_snow'] = 0\n",
    "\n",
    "for index, row in df.iterrows():\n",
    "    date1 = row['bc_date'].date()\n",
    "    date2 = row['summit_date'].date()\n",
    "    acc_snow = weather.loc[date1:date2, 'totalSnow_cm'].sum()\n",
    "    df.loc[index, 'cumul_snow'] = acc_snow\n",
    "    \n",
    "feature_to_drop = ['tempC', 'WindChillC', 'primrte', 'disabled','moonrise', 'moonset', \n",
    "                   'sunrise', 'sunset', 'traverse', 'parapente', 'solo', 'ski', 'speed', \n",
    "                   'summit_date', 'exp_id', 'bc_date', 'term_reason', 'tot_days',\n",
    "                   'pressure_past', 'pressure_futur', 'uvIndex', 'o2_used', 'date_season']\n",
    "\n",
    "df.drop(columns= feature_to_drop, inplace=True)"
   ]
  },
  {
   "cell_type": "code",
   "execution_count": 78,
   "metadata": {
    "hidden": true
   },
   "outputs": [],
   "source": [
    "from sklearn.base import BaseEstimator, TransformerMixin\n",
    "\n",
    "class BoolImputer(BaseEstimator, TransformerMixin):\n",
    "    def __init__(self):\n",
    "        return None\n",
    "    def fit(self, X, y=None):\n",
    "        return self\n",
    "    def transform(self, X):\n",
    "        return X\n",
    "\n",
    "# Data Processing\n",
    "col_num = []\n",
    "col_bool =[]\n",
    "col_object =[]\n",
    "\n",
    "for col in df:\n",
    "    if df[col].dtype == \"float64\":\n",
    "        col_num.append(col)\n",
    "        \n",
    "    if df[col].dtype == \"int64\":\n",
    "        col_num.append(col)\n",
    "        \n",
    "    if df[col].dtype == 'bool':\n",
    "        col_bool.append(col)\n",
    "        \n",
    "    if df[col].dtype == 'object':\n",
    "        col_object.append(col)\n",
    "        \n",
    "col_bool.remove('summit_success')\n",
    "\n",
    "numeric_transformer = Pipeline(steps=[\n",
    "    ('imputer', SimpleImputer()),\n",
    "    ('scaler', MinMaxScaler())])\n",
    "\n",
    "bool_transformer = Pipeline(steps=[\n",
    "    ('imputer', BoolImputer())])\n",
    "\n",
    "categorical_transformer = Pipeline(steps=[\n",
    "    ('imputer', SimpleImputer(strategy='most_frequent')),\n",
    "    ('onehot', OneHotEncoder(drop= 'first', handle_unknown='error'))])\n",
    "\n",
    "preprocessor = ColumnTransformer(\n",
    "    transformers=[\n",
    "        ('num', numeric_transformer, col_num),\n",
    "        ('bool', bool_transformer, col_bool),\n",
    "        ('cat', categorical_transformer, col_object)])\n",
    "\n",
    "clf = Pipeline(steps=[('preprocessor', preprocessor)])\n",
    "\n",
    "X = df.drop(columns=['summit_success'])\n",
    "y = df.summit_success\n",
    "\n",
    "X_trans = clf.fit_transform(X)\n",
    "X_tr = X_trans.toarray()\n",
    "\n",
    "X_train, X_test, y_train, y_test = train_test_split(X_tr, y, test_size= 0.3)"
   ]
  },
  {
   "cell_type": "code",
   "execution_count": 79,
   "metadata": {
    "hidden": true
   },
   "outputs": [],
   "source": [
    "ohe_col = list(clf.named_steps['preprocessor'].transformers_[2][1]\\\n",
    "   .named_steps['onehot'].get_feature_names(col_object))\n",
    "\n",
    "feature_names = col_num + col_bool + ohe_col"
   ]
  },
  {
   "cell_type": "code",
   "execution_count": 80,
   "metadata": {
    "hidden": true
   },
   "outputs": [
    {
     "name": "stdout",
     "output_type": "stream",
     "text": [
      "              precision    recall  f1-score   support\n",
      "\n",
      "       False       0.85      0.80      0.83      2287\n",
      "        True       0.77      0.82      0.80      1855\n",
      "\n",
      "    accuracy                           0.81      4142\n",
      "   macro avg       0.81      0.81      0.81      4142\n",
      "weighted avg       0.81      0.81      0.81      4142\n",
      "\n"
     ]
    }
   ],
   "source": [
    "# Model Traning\n",
    "from sklearn.metrics import classification_report\n",
    "boost = XGBClassifier()\n",
    "boost.fit(X_train, y_train)\n",
    "ypred = boost.predict(X_test)\n",
    "print(classification_report(y_test, ypred))"
   ]
  },
  {
   "cell_type": "markdown",
   "metadata": {
    "heading_collapsed": true,
    "hidden": true
   },
   "source": [
    "## Test with new data"
   ]
  },
  {
   "cell_type": "code",
   "execution_count": 6,
   "metadata": {
    "hidden": true
   },
   "outputs": [],
   "source": [
    "test = X.reset_index()\n",
    "test = test.iloc[[1122]]\n",
    "test1 = X.reset_index()\n",
    "test1 = test1.iloc[[1122]]"
   ]
  },
  {
   "cell_type": "code",
   "execution_count": 7,
   "metadata": {
    "hidden": true
   },
   "outputs": [],
   "source": [
    "test['rope'] = True\n",
    "test['camps'] = 5\n",
    "test['summit_days'] = 20\n",
    "\n",
    "test1['rope'] = False\n",
    "test1['camps'] = 2\n",
    "test1['summit_days'] = 10"
   ]
  },
  {
   "cell_type": "code",
   "execution_count": 8,
   "metadata": {
    "hidden": true
   },
   "outputs": [
    {
     "name": "stderr",
     "output_type": "stream",
     "text": [
      "c:\\users\\kyril\\.venvs\\himalaya\\lib\\site-packages\\sklearn\\compose\\_column_transformer.py:440: FutureWarning: Given feature/column names or counts do not match the ones for the data given during fit. This will fail from v0.24.\n",
      "  FutureWarning)\n"
     ]
    },
    {
     "data": {
      "text/plain": [
       "array([[0.02564985, 0.97435015]], dtype=float32)"
      ]
     },
     "execution_count": 8,
     "metadata": {},
     "output_type": "execute_result"
    }
   ],
   "source": [
    "X_trans = clf.transform(test)\n",
    "X_tr = X_trans.toarray()\n",
    "boost.predict_proba(X_tr)"
   ]
  },
  {
   "cell_type": "code",
   "execution_count": 9,
   "metadata": {
    "hidden": true
   },
   "outputs": [
    {
     "name": "stderr",
     "output_type": "stream",
     "text": [
      "c:\\users\\kyril\\.venvs\\himalaya\\lib\\site-packages\\sklearn\\compose\\_column_transformer.py:440: FutureWarning: Given feature/column names or counts do not match the ones for the data given during fit. This will fail from v0.24.\n",
      "  FutureWarning)\n"
     ]
    },
    {
     "data": {
      "text/plain": [
       "array([[0.42166865, 0.57833135]], dtype=float32)"
      ]
     },
     "execution_count": 9,
     "metadata": {},
     "output_type": "execute_result"
    }
   ],
   "source": [
    "X_trans = clf.transform(test1)\n",
    "X_tr = X_trans.toarray()\n",
    "boost.predict_proba(X_tr)"
   ]
  },
  {
   "cell_type": "markdown",
   "metadata": {
    "heading_collapsed": true,
    "hidden": true
   },
   "source": [
    "## Features"
   ]
  },
  {
   "cell_type": "markdown",
   "metadata": {
    "heading_collapsed": true,
    "hidden": true
   },
   "source": [
    "### Feature Importance"
   ]
  },
  {
   "cell_type": "code",
   "execution_count": 10,
   "metadata": {
    "hidden": true
   },
   "outputs": [
    {
     "data": {
      "image/png": "[encoded data removed]",
      "text/plain": [
       "<Figure size 432x288 with 1 Axes>"
      ]
     },
     "metadata": {
      "needs_background": "light"
     },
     "output_type": "display_data"
    }
   ],
   "source": [
    "# feature importance\n",
    "dfeat = pd.DataFrame(data=boost.feature_importances_)\n",
    "dfeat['feature'] = feature_names\n",
    "dfeat.columns = ['value', 'feature']\n",
    "dfeat = dfeat[dfeat['feature'].str.contains('peak_id')]\n",
    "dfeat = dfeat.sort_values(by='value')\n",
    "\n",
    "val = 0\n",
    "# plot\n",
    "plt.bar(dfeat.loc[dfeat['value']> val , 'feature'], dfeat.loc[dfeat['value']> val , 'value'])\n",
    "plt.xticks(rotation=90)\n",
    "plt.show()"
   ]
  },
  {
   "cell_type": "code",
   "execution_count": 11,
   "metadata": {
    "hidden": true
   },
   "outputs": [
    {
     "ename": "NameError",
     "evalue": "name 'font' is not defined",
     "output_type": "error",
     "traceback": [
      "\u001b[1;31m---------------------------------------------------------------------------\u001b[0m",
      "\u001b[1;31mNameError\u001b[0m                                 Traceback (most recent call last)",
      "\u001b[1;32m<ipython-input-11-e0f6d32bbcdf>\u001b[0m in \u001b[0;36m<module>\u001b[1;34m\u001b[0m\n\u001b[0;32m     17\u001b[0m \u001b[0mplt\u001b[0m\u001b[1;33m.\u001b[0m\u001b[0myticks\u001b[0m\u001b[1;33m(\u001b[0m\u001b[1;33m[\u001b[0m\u001b[1;33m]\u001b[0m\u001b[1;33m)\u001b[0m\u001b[1;33m\u001b[0m\u001b[1;33m\u001b[0m\u001b[0m\n\u001b[0;32m     18\u001b[0m \u001b[0mplt\u001b[0m\u001b[1;33m.\u001b[0m\u001b[0mylabel\u001b[0m\u001b[1;33m(\u001b[0m\u001b[1;34m''\u001b[0m\u001b[1;33m)\u001b[0m\u001b[1;33m\u001b[0m\u001b[1;33m\u001b[0m\u001b[0m\n\u001b[1;32m---> 19\u001b[1;33m \u001b[0mplt\u001b[0m\u001b[1;33m.\u001b[0m\u001b[0mtitle\u001b[0m\u001b[1;33m(\u001b[0m\u001b[1;34m'Features Importance Without O2 Used'\u001b[0m\u001b[1;33m,\u001b[0m \u001b[0mfontdict\u001b[0m \u001b[1;33m=\u001b[0m \u001b[0mfont\u001b[0m\u001b[1;33m)\u001b[0m\u001b[1;33m\u001b[0m\u001b[1;33m\u001b[0m\u001b[0m\n\u001b[0m\u001b[0;32m     20\u001b[0m \u001b[0mplt\u001b[0m\u001b[1;33m.\u001b[0m\u001b[0mshow\u001b[0m\u001b[1;33m(\u001b[0m\u001b[1;33m)\u001b[0m\u001b[1;33m\u001b[0m\u001b[1;33m\u001b[0m\u001b[0m\n",
      "\u001b[1;31mNameError\u001b[0m: name 'font' is not defined"
     ]
    },
    {
     "data": {
      "image/png": "[encoded data removed]",
      "text/plain": [
       "<Figure size 1080x504 with 1 Axes>"
      ]
     },
     "metadata": {
      "needs_background": "light"
     },
     "output_type": "display_data"
    }
   ],
   "source": [
    "# feature without peak_id\n",
    "dfeat = pd.DataFrame(data=boost.feature_importances_)\n",
    "dfeat['feature'] = feature_names\n",
    "dfeat.columns = ['value', 'feature']\n",
    "df_feat_2 = dfeat[~dfeat['feature'].str.contains('peak_id')]\n",
    "df_feat_2 = df_feat_2.sort_values(by='value')\n",
    "\n",
    "palette = sns.color_palette(\"Blues_r\", n_colors=10)\n",
    "palette.reverse()\n",
    "\n",
    "plt.figure(figsize=(15,7))\n",
    "sns.barplot(x=df_feat_2.tail(10)['feature'], y=df_feat_2.tail(10)['value'], palette=palette)\n",
    "plt.xticks(rotation=90)\n",
    "sns.set()\n",
    "sns.set_style('white')\n",
    "sns.despine(offset=10, trim=True, bottom=True, left=True)\n",
    "plt.yticks([])\n",
    "plt.ylabel('')\n",
    "plt.title('Features Importance Without O2 Used', fontdict = font)\n",
    "plt.show()"
   ]
  },
  {
   "cell_type": "raw",
   "metadata": {
    "hidden": true
   },
   "source": [
    "font = {'family': 'sans-serif',\n",
    "        'color':  'black',\n",
    "        'weight': 'normal',\n",
    "        'size': 16}\n",
    "\n",
    "x, y, hue = \"o2_used\", \"Percentage\", \"summit_success\"\n",
    "prop_df = (df[hue]\n",
    "           .groupby(df[x])\n",
    "           .value_counts(normalize=True)\n",
    "           .rename(y)\n",
    "           .reset_index())\n",
    "\n",
    "splot = sns.barplot(x=x, y=y, hue=hue, data=prop_df, palette=\"Blues_r\")\n",
    "sns.set()\n",
    "sns.set_style('white')\n",
    "sns.despine(left=True)\n",
    "plt.ylabel('')\n",
    "plt.yticks([], [])\n",
    "plt.legend(title='Success')\n",
    "plt.xlabel('O2 Used', fontdict=font)\n",
    "\n",
    "for p in splot.patches:\n",
    "    splot.annotate(format(p.get_height()*100, '.1f'), \n",
    "                   (p.get_x() + p.get_width() / 2., p.get_height()), \n",
    "                   ha = 'center', \n",
    "                   va = 'center', \n",
    "                   size=15,\n",
    "                   xytext = (0, -12), \n",
    "                   textcoords = 'offset points',\n",
    "                   color = 'white',\n",
    "                  fontsize=20)"
   ]
  },
  {
   "cell_type": "code",
   "execution_count": null,
   "metadata": {
    "hidden": true
   },
   "outputs": [],
   "source": [
    "font = {'family': 'sans-serif',\n",
    "        'color':  'black',\n",
    "        'weight': 'normal',\n",
    "        'size': 16}\n",
    "\n",
    "x, y, hue = \"comrte\", \"Percentage\", \"summit_success\"\n",
    "prop_df = (df[hue]\n",
    "           .groupby(df[x])\n",
    "           .value_counts(normalize=True)\n",
    "           .rename(y)\n",
    "           .reset_index())\n",
    "\n",
    "splot = sns.barplot(x=x, y=y, hue=hue, data=prop_df, palette=\"Blues_r\")\n",
    "sns.set()\n",
    "sns.set_style('white')\n",
    "sns.despine(offset=10, trim=True, bottom=True)\n",
    "plt.legend().remove()\n",
    "plt.xlabel('Commercial Route', fontdict=font)\n",
    "plt.show()"
   ]
  },
  {
   "cell_type": "code",
   "execution_count": null,
   "metadata": {
    "hidden": true
   },
   "outputs": [],
   "source": [
    "x, y, hue = \"status\", \"Percentage\", \"summit_success\"\n",
    "prop_df = (df[hue]\n",
    "           .groupby(df[x])\n",
    "           .value_counts(normalize=True)\n",
    "           .rename(y)\n",
    "           .reset_index())\n",
    "\n",
    "splot = sns.barplot(x=x, y=y, hue=hue, data=prop_df, palette=\"Blues_r\")\n",
    "sns.set()\n",
    "sns.set_style('white')\n",
    "sns.despine(offset=10, trim=True, bottom=True)\n",
    "plt.legend().remove()\n",
    "plt.xlabel('Status', fontdict=font)\n",
    "plt.show()"
   ]
  },
  {
   "cell_type": "code",
   "execution_count": null,
   "metadata": {
    "hidden": true
   },
   "outputs": [],
   "source": [
    "sns.boxplot(y=df[\"peak_height\"],x=df['summit_success'], palette=\"Blues_r\")\n",
    "sns.despine(offset=10, trim=True, bottom=True)\n",
    "plt.xlabel('Success', fontdict=font)\n",
    "plt.ylabel('Peak Height')\n",
    "plt.show()"
   ]
  },
  {
   "cell_type": "code",
   "execution_count": null,
   "metadata": {
    "hidden": true
   },
   "outputs": [],
   "source": [
    "x, y, hue = \"season\", \"Percentage\", \"summit_success\"\n",
    "\n",
    "prop_df = (df[hue]\n",
    "           .groupby(df[x])\n",
    "           .value_counts(normalize=True)\n",
    "           .rename(y)\n",
    "           .reset_index())\n",
    "\n",
    "field = \"season\"\n",
    "day_order = [\"Spring\", \"Summer\", \"Autumn\", \"Winter\"]\n",
    "prop_df = prop_df.set_index(field).loc[day_order]\n",
    "\n",
    "sns.barplot(x=prop_df.index, y=y, hue=hue, data=prop_df, palette=\"Blues_r\")\n",
    "sns.despine(offset=10, trim=True, bottom=True)\n",
    "plt.xlabel('Season', fontdict=font)\n",
    "plt.legend().remove()\n",
    "plt.show()"
   ]
  },
  {
   "cell_type": "code",
   "execution_count": null,
   "metadata": {
    "hidden": true
   },
   "outputs": [],
   "source": [
    "sns.boxplot(y=df[\"summit_days\"],x=df['summit_success'], palette=\"Blues_r\")\n",
    "sns.despine(offset=10, trim=True, bottom=True)\n",
    "plt.xlabel('Success', fontdict=font)\n",
    "plt.ylabel('Summit Days')\n",
    "plt.show()"
   ]
  },
  {
   "cell_type": "code",
   "execution_count": null,
   "metadata": {
    "hidden": true
   },
   "outputs": [],
   "source": [
    "sns.boxplot(y=df[\"camps\"],x=df['summit_success'], palette=\"Blues_r\")\n",
    "plt.ylim((0,10))\n",
    "sns.despine(offset=10, trim=True, bottom=True)\n",
    "plt.xlabel('Success', fontdict=font)\n",
    "plt.ylabel('Number of Camps')\n",
    "plt.show()"
   ]
  },
  {
   "cell_type": "code",
   "execution_count": null,
   "metadata": {
    "hidden": true
   },
   "outputs": [],
   "source": [
    "x, y, hue = \"no_hired\", \"Percentage\", \"summit_success\"\n",
    "\n",
    "prop_df = (df[hue]\n",
    "           .groupby(df[x])\n",
    "           .value_counts(normalize=True)\n",
    "           .rename(y)\n",
    "           .reset_index())\n",
    "\n",
    "sns.barplot(x=x, y=y, hue=hue, data=prop_df, palette=\"Blues_r\")\n",
    "sns.despine(offset=10, trim=True, bottom=True)\n",
    "plt.legend().remove()\n",
    "plt.xlabel('Hired Sherpas', fontdict=font)\n",
    "plt.show()"
   ]
  },
  {
   "cell_type": "markdown",
   "metadata": {
    "heading_collapsed": true,
    "hidden": true
   },
   "source": [
    "### Feature permutation"
   ]
  },
  {
   "cell_type": "code",
   "execution_count": null,
   "metadata": {
    "hidden": true
   },
   "outputs": [],
   "source": [
    "from sklearn.inspection import permutation_importance\n",
    "perm_importance = permutation_importance(boost, X_test, y_test)"
   ]
  },
  {
   "cell_type": "code",
   "execution_count": null,
   "metadata": {
    "hidden": true,
    "scrolled": false
   },
   "outputs": [],
   "source": [
    "sorted_idx = perm_importance.importances_mean.argsort()\n",
    "\n",
    "Y = list(sorted_idx)\n",
    "sorted_feat = [x for _,x in sorted(zip(Y,feature_names))]\n",
    "\n",
    "dfeat_prem = pd.DataFrame(data=perm_importance.importances_mean[sorted_idx])\n",
    "dfeat_prem['feature'] = sorted_feat\n",
    "dfeat_prem.columns = ['value', 'feature']\n",
    "dfeat_prem = dfeat_prem.sort_values(by='value')\n",
    "dfeat_prem = dfeat_prem[~dfeat_prem['feature'].str.contains('peak')]\n",
    "dfeat_prem = dfeat_prem[dfeat_prem['value']!=0]\n",
    "\n",
    "\n",
    "val = 0.005\n",
    "# plot\n",
    "plt.bar(dfeat_prem.feature, dfeat_prem.value)\n",
    "plt.xticks(rotation=90)\n",
    "plt.show()"
   ]
  },
  {
   "cell_type": "code",
   "execution_count": null,
   "metadata": {
    "hidden": true
   },
   "outputs": [],
   "source": [
    "import shap\n",
    "explainer = shap.TreeExplainer(boost)\n",
    "shap_values = explainer.shap_values(X_test)\n",
    "\n",
    "shap.summary_plot(shap_values, X_test, feature_names= feature_names)"
   ]
  },
  {
   "cell_type": "markdown",
   "metadata": {
    "heading_collapsed": true,
    "hidden": true
   },
   "source": [
    "## Other Models"
   ]
  },
  {
   "cell_type": "code",
   "execution_count": null,
   "metadata": {
    "hidden": true
   },
   "outputs": [],
   "source": [
    "from sklearn.linear_model import LogisticRegression\n",
    "\n",
    "reg = LogisticRegression(max_iter=500)\n",
    "reg.fit(X_train, y_train)\n",
    "ypred = reg.predict(X_test)\n",
    "print(classification_report(y_test, ypred))"
   ]
  },
  {
   "cell_type": "code",
   "execution_count": null,
   "metadata": {
    "hidden": true
   },
   "outputs": [],
   "source": [
    "from sklearn.ensemble import RandomForestClassifier\n",
    "clf = RandomForestClassifier(random_state=0)\n",
    "clf.fit(X_train, y_train)\n",
    "ypred = clf.predict(X_test)\n",
    "print(classification_report(y_test, ypred))"
   ]
  },
  {
   "cell_type": "code",
   "execution_count": null,
   "metadata": {
    "hidden": true
   },
   "outputs": [],
   "source": [
    "import tensorflow as tf\n",
    "from tensorflow.keras import models\n",
    "from tensorflow.keras.models import Sequential\n",
    "from tensorflow.keras import layers\n",
    "from tensorflow.keras.regularizers import l1\n",
    "\n",
    "\n",
    "def initialize_model():\n",
    "    \n",
    "    # Model architecture\n",
    "    model = Sequential()\n",
    "    model.add(layers.Dropout(0.2, input_shape=(176,)))\n",
    "    model.add(layers.Dense(200, activation = 'relu', activity_regularizer=l1(0.0001)))\n",
    "    model.add(layers.Dense(100, activation = 'relu', activity_regularizer=l1(0.0001)))\n",
    "    model.add(layers.Dense(50, activation = 'relu'))\n",
    "    model.add(layers.Dense(1, activation = 'sigmoid'))\n",
    "    \n",
    "    # Model optimization : Optimizer, loss and metric \n",
    "    model.compile(optimizer = 'adam', \n",
    "                  loss = 'binary_crossentropy', \n",
    "                  metrics = ['accuracy'])\n",
    "    \n",
    "    return model\n",
    "\n",
    "from tensorflow.keras.callbacks import EarlyStopping\n",
    "\n",
    "es = EarlyStopping(patience = 30, restore_best_weights=True)\n",
    "\n",
    "model_NN = initialize_model()\n",
    "\n",
    "history = model_NN.fit(X_train, y_train, \n",
    "                    validation_data=(X_test, y_test), \n",
    "                    epochs= 300, \n",
    "                    batch_size=8,\n",
    "                    verbose=0,\n",
    "                   callbacks = [es])\n",
    "\n",
    "y_pred_NN = model_NN.predict_classes(X_test)\n",
    "print(classification_report(y_test, y_pred_NN))"
   ]
  },
  {
   "cell_type": "markdown",
   "metadata": {
    "heading_collapsed": true,
    "hidden": true
   },
   "source": [
    "## RandomSearchCV"
   ]
  },
  {
   "cell_type": "markdown",
   "metadata": {
    "heading_collapsed": true,
    "hidden": true
   },
   "source": [
    "### XGB"
   ]
  },
  {
   "cell_type": "code",
   "execution_count": null,
   "metadata": {
    "hidden": true
   },
   "outputs": [],
   "source": [
    "%%time\n",
    "from sklearn.model_selection import RandomizedSearchCV\n",
    "\n",
    "params = {'booster' : ['gbtree', 'gblinear'],\n",
    "        'min_child_weight': [0.1, 1, 5, 10, 50],\n",
    "        'gamma': [0.5, 1, 1.5, 2, 5],\n",
    "        'subsample': [0.6, 0.8, 1.0],\n",
    "        'colsample_bytree': [0.6, 0.8, 1.0],\n",
    "        'max_depth': [5, 10, 25, 50],\n",
    "        'learning_rate': [0.0001, 0.001, 0.1, 1],\n",
    "        'n_estimators': [50, 100, 250, 500],\n",
    "        'reg_alpha': [0.0001, 0.001, 0.1, 1],\n",
    "        'reg_lambda': [0.0001, 0.001, 0.1, 1]\n",
    "        }\n",
    "\n",
    "model = XGBClassifier()\n",
    "\n",
    "random_search = RandomizedSearchCV(model, \n",
    "                                   cv=5,\n",
    "                                   param_distributions=params,  \n",
    "                                   scoring='accuracy', \n",
    "                                   n_jobs=-1,\n",
    "                                   verbose=0, \n",
    "                                   random_state=1001)\n",
    "\n",
    "random_search.fit(X_train, y_train)"
   ]
  },
  {
   "cell_type": "code",
   "execution_count": null,
   "metadata": {
    "hidden": true
   },
   "outputs": [],
   "source": [
    "boost"
   ]
  },
  {
   "cell_type": "code",
   "execution_count": null,
   "metadata": {
    "hidden": true
   },
   "outputs": [],
   "source": [
    "best_model = random_search.best_estimator_\n",
    "best_model"
   ]
  },
  {
   "cell_type": "code",
   "execution_count": null,
   "metadata": {
    "hidden": true
   },
   "outputs": [],
   "source": [
    "y_xgbCV = best_model.predict(X_test)\n",
    "print(classification_report(y_test, y_xgbCV))"
   ]
  },
  {
   "cell_type": "markdown",
   "metadata": {
    "heading_collapsed": true,
    "hidden": true
   },
   "source": [
    "### RFC"
   ]
  },
  {
   "cell_type": "code",
   "execution_count": null,
   "metadata": {
    "hidden": true
   },
   "outputs": [],
   "source": [
    "%%time\n",
    "from sklearn.ensemble import RandomForestClassifier\n",
    "from sklearn.model_selection import RandomizedSearchCV\n",
    "\n",
    "params = {'n_estimators' : [100,200,500],\n",
    "        'criterion' : ['gini', 'entropy'],\n",
    "        'min_samples_split': [2, 3, 5],\n",
    "        'max_depth': [5, 10, 25, 50],\n",
    "        'min_samples_leaf': [1, 3, 5],\n",
    "        'max_features': [\"sqrt\", \"log2\"]\n",
    "        }\n",
    "\n",
    "model = RandomForestClassifier()\n",
    "\n",
    "random_search = RandomizedSearchCV(model, \n",
    "                                   cv=5,\n",
    "                                   param_distributions=params,  \n",
    "                                   scoring='accuracy', \n",
    "                                   n_jobs=-1,\n",
    "                                   verbose=1, \n",
    "                                   random_state=1001)\n",
    "\n",
    "random_search.fit(X_train, y_train)"
   ]
  },
  {
   "cell_type": "code",
   "execution_count": null,
   "metadata": {
    "hidden": true
   },
   "outputs": [],
   "source": [
    "best_RFC = random_search.best_estimator_"
   ]
  },
  {
   "cell_type": "code",
   "execution_count": null,
   "metadata": {
    "hidden": true
   },
   "outputs": [],
   "source": [
    "best_RFC"
   ]
  },
  {
   "cell_type": "code",
   "execution_count": null,
   "metadata": {
    "hidden": true
   },
   "outputs": [],
   "source": [
    "ypred = best_RFC.predict(X_test)\n",
    "print(classification_report(y_test, ypred))"
   ]
  },
  {
   "cell_type": "markdown",
   "metadata": {
    "heading_collapsed": true
   },
   "source": [
    "# Test xgb_model.py"
   ]
  },
  {
   "cell_type": "code",
   "execution_count": 1,
   "metadata": {
    "hidden": true
   },
   "outputs": [],
   "source": [
    "from xgb_model import HimalXGB\n",
    "\n",
    "model = HimalXGB().train_model()"
   ]
  },
  {
   "cell_type": "code",
   "execution_count": 4,
   "metadata": {
    "hidden": true
   },
   "outputs": [],
   "source": [
    "to_predict = pd.DataFrame(columns=['peak_id', 'host', 'summit_days', 'camps', 'rope', 'tot_members',\n",
    "       'tot_hired', 'no_hired', 'comrte', 'stdrte', 'peak_height',\n",
    "       'sherpa_ratio', 'maxtempC', 'mintempC', 'totalSnow_cm', 'sunHour',\n",
    "       'moon_illumination', 'DewPointC', 'FeelsLikeC', 'HeatIndexC',\n",
    "       'WindGustKmph', 'cloudcover', 'humidity', 'precipMM', 'pressure',\n",
    "       'visibility', 'winddirDegree', 'windspeedKmph', 'stability', 'season',\n",
    "       'sex_M', 'status', 'age', 'cumul_snow'])\n",
    "# peak_height = peak[peak['peak_id']==mountain]['height_m'].values[0]\n",
    "# sherpa_ratio = total_members/total_hired\n",
    "to_predict = to_predict.append({'peak_id':'EVER', 'host':'China', 'summit_days':18, 'camps':7, 'rope':bool(\"True\"), 'tot_members':20,\n",
    "       'tot_hired':7, 'no_hired':bool(\"False\"), 'comrte': bool(\"True\"), 'stdrte':bool(\"False\"), 'peak_height':8000,\n",
    "       'sherpa_ratio': 0.3 , 'maxtempC':-2.277021, 'mintempC': -9.736381, 'totalSnow_cm': 1.754977, 'sunHour': 10.275210,\n",
    "       'moon_illumination': 48.470733, 'DewPointC' :-8.459432 , 'FeelsLikeC':-9.604752 , 'HeatIndexC': -5.661692,\n",
    "       'WindGustKmph':13.669081, 'cloudcover': 45.633150, 'humidity': 81.966314, 'precipMM': 2.532628, 'pressure' : 1013.688569,\n",
    "       'visibility':7.486308, 'winddirDegree':211.464793, 'windspeedKmph': 10.086931, 'stability': 0.045808, 'season' :\"Spring\",\n",
    "       'sex_M': 1, 'status': \"climber\", 'age': 34, 'cumul_snow':43}, ignore_index=True)"
   ]
  },
  {
   "cell_type": "code",
   "execution_count": 5,
   "metadata": {
    "hidden": true
   },
   "outputs": [
    {
     "data": {
      "text/plain": [
       "array([[0.7708429 , 0.22915712, 0.        ]], dtype=float32)"
      ]
     },
     "execution_count": 5,
     "metadata": {},
     "output_type": "execute_result"
    }
   ],
   "source": [
    "y_pred = HimalXGB().predict_model(to_predict)\n",
    "y_pred"
   ]
  },
  {
   "cell_type": "markdown",
   "metadata": {
    "heading_collapsed": true
   },
   "source": [
    "# Model without weather"
   ]
  },
  {
   "cell_type": "code",
   "execution_count": null,
   "metadata": {
    "hidden": true
   },
   "outputs": [],
   "source": [
    "import pandas as pd\n",
    "import numpy as np\n",
    "from sklearn.preprocessing import MinMaxScaler, OneHotEncoder\n",
    "from sklearn.model_selection import train_test_split\n",
    "from sklearn.pipeline import Pipeline\n",
    "from sklearn.compose import ColumnTransformer, make_column_selector\n",
    "from sklearn.impute import SimpleImputer\n",
    "from xgboost import XGBClassifier\n",
    "from members import Members\n",
    "from expeds import Expeds\n",
    "\n",
    "\n",
    "# Get Data\n",
    "member = Members().get_data()\n",
    "member = Members().clean_data(member)\n",
    "\n",
    "exped = Expeds().get_data()\n",
    "exped = Expeds().clean_data(exped)\n",
    "\n",
    "# Drop columns\n",
    "mem_to_drop = ['memb_id','year','unique_id','peak_id','residence','occupation',\n",
    "'summit_claimed','summit_disputed','highpt','high_point','death','death_type',\n",
    "'death_height','death_class','summit_bid','summit_term','summit_date1',\n",
    "'citizenship','o2_climb','o2_descent','o2_sleep','o2_medical', 'o2_none', \n",
    "'yob', 'route1', 'ascent1', 'leader', 'deputy', 'bconly', 'nottobc', 'support', \n",
    "'hired', 'sherpa', 'tibetan']\n",
    "\n",
    "\n",
    "exp_to_drop = ['year','season','route1','route2','nation','leaders',\n",
    "'sponsor','success1','success2', 'ascent1','claimed','disputed',\n",
    "'countries','summit_time','term_date','term_note','high_point',\n",
    "'traverse','ski','parapente','o2_climb','o2_descent','o2_sleep',\n",
    "'o2_medical','o2_taken','o2_unkwn','o2_used','o2_none','other_smts',\n",
    "'campsites','accidents','achievment','agency','peak_name','primmem',\n",
    "'summiter_deaths','summit_members','summit_hired','hired_deaths']\n",
    "\n",
    "member.drop(columns= mem_to_drop, inplace=True)\n",
    "exped.drop(columns= exp_to_drop, inplace=True)\n",
    "\n",
    "# Feature Engineering (1/2)\n",
    "exped['sherpa_ratio'] = exped['tot_hired'] / exped['tot_members']\n",
    "exped['sherpa_ratio'] = np.where(exped['sherpa_ratio'] == np.inf, 0, exped['sherpa_ratio'])\n",
    "exped['rope'] = np.where(exped['rope']>0, True, False)\n",
    "\n",
    "\n",
    "\n",
    "# Merge DataFrames\n",
    "df = exped.merge(member, on='exp_id', how = 'right')\n",
    "\n",
    "\n",
    "feature_to_drop = ['primrte', 'disabled', \n",
    "                   'traverse', 'parapente', 'solo', 'ski', 'speed', \n",
    "                   'summit_date', 'exp_id', 'bc_date', 'term_reason']\n",
    "\n",
    "df.drop(columns= feature_to_drop, inplace=True)"
   ]
  },
  {
   "cell_type": "code",
   "execution_count": null,
   "metadata": {
    "hidden": true
   },
   "outputs": [],
   "source": [
    "# Data Processing\n",
    "col_num = []\n",
    "col_bool =[]\n",
    "col_object =[]\n",
    "\n",
    "for col in df:\n",
    "    if df[col].dtype == \"float64\":\n",
    "        col_num.append(col)\n",
    "        \n",
    "    if df[col].dtype == \"int64\":\n",
    "        col_num.append(col)\n",
    "        \n",
    "    if df[col].dtype == 'bool':\n",
    "        col_bool.append(col)\n",
    "        \n",
    "    if df[col].dtype == 'object':\n",
    "        col_object.append(col)\n",
    "        \n",
    "col_bool.remove('summit_success')\n",
    "\n",
    "numeric_transformer = Pipeline(steps=[\n",
    "    ('imputer', SimpleImputer()),\n",
    "    ('scaler', MinMaxScaler())])\n",
    "\n",
    "bool_transformer = Pipeline(steps=[\n",
    "    ('imputer', BoolImputer())])\n",
    "\n",
    "categorical_transformer = Pipeline(steps=[\n",
    "    ('imputer', SimpleImputer(strategy='most_frequent')),\n",
    "    ('onehot', OneHotEncoder(drop= 'first', handle_unknown='error'))])\n",
    "\n",
    "preprocessor = ColumnTransformer(\n",
    "    transformers=[\n",
    "        ('num', numeric_transformer, col_num),\n",
    "        ('bool', bool_transformer, col_bool),\n",
    "        ('cat', categorical_transformer, col_object)])\n",
    "\n",
    "clf = Pipeline(steps=[('preprocessor', preprocessor)])\n",
    "\n",
    "X = df.drop(columns=['summit_success'])\n",
    "y = df.summit_success\n",
    "\n",
    "X_trans = clf.fit_transform(X)\n",
    "X_tr = X_trans.toarray()\n",
    "\n",
    "X_train, X_test, y_train, y_test = train_test_split(X_tr, y, test_size= 0.3, random_state= 1)"
   ]
  },
  {
   "cell_type": "code",
   "execution_count": null,
   "metadata": {
    "hidden": true
   },
   "outputs": [],
   "source": [
    "ohe_col = list(clf.named_steps['preprocessor'].transformers_[2][1]\\\n",
    "   .named_steps['onehot'].get_feature_names(col_object))\n",
    "\n",
    "feature_names = col_num + col_bool + ohe_col"
   ]
  },
  {
   "cell_type": "code",
   "execution_count": null,
   "metadata": {
    "hidden": true
   },
   "outputs": [],
   "source": [
    "# Model Traning\n",
    "from sklearn.metrics import classification_report\n",
    "boost = XGBClassifier()\n",
    "boost.fit(X_train, y_train)\n",
    "ypred = boost.predict(X_test)\n",
    "print(classification_report(y_test, ypred))"
   ]
  },
  {
   "cell_type": "code",
   "execution_count": null,
   "metadata": {
    "hidden": true
   },
   "outputs": [],
   "source": [
    "# feature without peak_id\n",
    "dfeat = pd.DataFrame(data=boost.feature_importances_)\n",
    "dfeat['feature'] = feature_names\n",
    "dfeat.columns = ['value', 'feature']\n",
    "df_feat_2 = dfeat[~dfeat['feature'].str.contains('peak_id')]\n",
    "df_feat_2 = df_feat_2.sort_values(by='value')\n",
    "\n",
    "# plot\n",
    "plt.figure(figsize=(15,7))\n",
    "plt.bar(df_feat_2.feature, df_feat_2.value)\n",
    "plt.xticks(rotation=90)\n",
    "plt.show()"
   ]
  },
  {
   "cell_type": "markdown",
   "metadata": {
    "heading_collapsed": true
   },
   "source": [
    "# Peaks GPS"
   ]
  },
  {
   "cell_type": "code",
   "execution_count": null,
   "metadata": {
    "hidden": true
   },
   "outputs": [],
   "source": [
    "import pandas as pd\n",
    "\n",
    "#gps = pd.read_excel('data/Peaks_GPS.xls')\n",
    "\n",
    "gps = pd.read_excel('data/main_peaks.xlsx')"
   ]
  },
  {
   "cell_type": "code",
   "execution_count": null,
   "metadata": {
    "hidden": true
   },
   "outputs": [],
   "source": [
    "import re\n",
    "\n",
    "def coord(x):\n",
    "    numbers = re.findall(r'\\d+', x)\n",
    "    unit = int(numbers[0])\n",
    "    dec = int(numbers[1])/60\n",
    "    cent = int(numbers[2])/3600\n",
    "    \n",
    "    return round(unit+dec+cent,4)"
   ]
  },
  {
   "cell_type": "code",
   "execution_count": null,
   "metadata": {
    "hidden": true
   },
   "outputs": [],
   "source": [
    "gps['lat'] = gps['lat'].apply(lambda x: coord(x))\n",
    "gps['lon'] = gps['lon'].apply(lambda x: coord(x))"
   ]
  },
  {
   "cell_type": "code",
   "execution_count": null,
   "metadata": {
    "hidden": true
   },
   "outputs": [],
   "source": [
    "import folium\n",
    "\n",
    "m = folium.Map(\n",
    "    location=[27.98, 86.92],\n",
    "    zoom_start=8,\n",
    "    tiles='Stamen Terrain'\n",
    ")\n",
    "\n",
    "feature_group = folium.FeatureGroup(\"Locations\")\n",
    "for lat, lng, name in zip(gps.lat, gps.lon, gps.peak_name):\n",
    "    feature_group.add_child(folium.Marker(location=[lat,lng], popup=name))\n",
    "\n",
    "m.add_child(feature_group)\n",
    "\n",
    "folium.Marker(\n",
    "    location=[27.948056, 86.810278],\n",
    "    popup='Weather Station',\n",
    "    icon=folium.Icon(color='red', icon='info-sign')\n",
    ").add_to(m)\n",
    "\n",
    "\n",
    "m"
   ]
  },
  {
   "cell_type": "markdown",
   "metadata": {
    "heading_collapsed": true
   },
   "source": [
    "# Dash"
   ]
  },
  {
   "cell_type": "code",
   "execution_count": 237,
   "metadata": {
    "hidden": true
   },
   "outputs": [],
   "source": [
    "from data import Data\n",
    "\n",
    "df = Data().get_matching_table()"
   ]
  },
  {
   "cell_type": "code",
   "execution_count": 259,
   "metadata": {
    "hidden": true
   },
   "outputs": [],
   "source": [
    "peak, year, season = \"Langmoche Ri\", \"2012\", 'All'"
   ]
  },
  {
   "cell_type": "code",
   "execution_count": 260,
   "metadata": {
    "hidden": true
   },
   "outputs": [
    {
     "data": {
      "text/plain": [
       "'67 %'"
      ]
     },
     "execution_count": 260,
     "metadata": {},
     "output_type": "execute_result"
    }
   ],
   "source": [
    "if season=='All':\n",
    "    season = ''\n",
    "\n",
    "dff = df[(df.peak_name==peak)\\\n",
    "         &(df.year == int(year))\\\n",
    "         &(df.season.str.contains(season))]\n",
    "\n",
    "alt = int(df.loc[df.peak_name==peak, 'peak_height'].mean())\n",
    "climb = dff.shape[0]\n",
    "if climb == 0:\n",
    "    rate = 0\n",
    "else:\n",
    "    rate = round(len(dff[dff['summit_success']==True])/climb*100)\n",
    "rate = f'{rate} %'\n",
    "\n",
    "rate"
   ]
  },
  {
   "cell_type": "code",
   "execution_count": 274,
   "metadata": {
    "hidden": true
   },
   "outputs": [
    {
     "data": {
      "text/html": [
       "<div>\n",
       "<style scoped>\n",
       "    .dataframe tbody tr th:only-of-type {\n",
       "        vertical-align: middle;\n",
       "    }\n",
       "\n",
       "    .dataframe tbody tr th {\n",
       "        vertical-align: top;\n",
       "    }\n",
       "\n",
       "    .dataframe thead th {\n",
       "        text-align: right;\n",
       "    }\n",
       "</style>\n",
       "<table border=\"1\" class=\"dataframe\">\n",
       "  <thead>\n",
       "    <tr style=\"text-align: right;\">\n",
       "      <th></th>\n",
       "      <th>summit_date</th>\n",
       "      <th>exp_id</th>\n",
       "      <th>peak_id</th>\n",
       "      <th>host</th>\n",
       "      <th>leaders</th>\n",
       "      <th>bc_date</th>\n",
       "      <th>summit_days</th>\n",
       "      <th>tot_days</th>\n",
       "      <th>camps</th>\n",
       "      <th>rope</th>\n",
       "      <th>...</th>\n",
       "      <th>high_point</th>\n",
       "      <th>o2_used</th>\n",
       "      <th>death</th>\n",
       "      <th>death_type</th>\n",
       "      <th>death_height</th>\n",
       "      <th>death_class</th>\n",
       "      <th>summit_bid</th>\n",
       "      <th>summit_term</th>\n",
       "      <th>age</th>\n",
       "      <th>cumul_snow</th>\n",
       "    </tr>\n",
       "  </thead>\n",
       "  <tbody>\n",
       "    <tr>\n",
       "      <th>14822</th>\n",
       "      <td>2015-10-04</td>\n",
       "      <td>DZA215301</td>\n",
       "      <td>DZA2</td>\n",
       "      <td>Nepal</td>\n",
       "      <td>Takanori Mashimo</td>\n",
       "      <td>2015-09-17</td>\n",
       "      <td>17</td>\n",
       "      <td>0</td>\n",
       "      <td>3</td>\n",
       "      <td>False</td>\n",
       "      <td>...</td>\n",
       "      <td>6318</td>\n",
       "      <td>False</td>\n",
       "      <td>False</td>\n",
       "      <td>Unspecified</td>\n",
       "      <td>0</td>\n",
       "      <td>Unspecified</td>\n",
       "      <td>Successful summit bid</td>\n",
       "      <td>Success</td>\n",
       "      <td>21.0</td>\n",
       "      <td>87.9</td>\n",
       "    </tr>\n",
       "    <tr>\n",
       "      <th>14823</th>\n",
       "      <td>2015-10-04</td>\n",
       "      <td>DZA215301</td>\n",
       "      <td>DZA2</td>\n",
       "      <td>Nepal</td>\n",
       "      <td>Takanori Mashimo</td>\n",
       "      <td>2015-09-17</td>\n",
       "      <td>17</td>\n",
       "      <td>0</td>\n",
       "      <td>3</td>\n",
       "      <td>False</td>\n",
       "      <td>...</td>\n",
       "      <td>6318</td>\n",
       "      <td>False</td>\n",
       "      <td>False</td>\n",
       "      <td>Unspecified</td>\n",
       "      <td>0</td>\n",
       "      <td>Unspecified</td>\n",
       "      <td>Successful summit bid</td>\n",
       "      <td>Success</td>\n",
       "      <td>24.0</td>\n",
       "      <td>87.9</td>\n",
       "    </tr>\n",
       "    <tr>\n",
       "      <th>14824</th>\n",
       "      <td>2015-10-04</td>\n",
       "      <td>DZA215301</td>\n",
       "      <td>DZA2</td>\n",
       "      <td>Nepal</td>\n",
       "      <td>Takanori Mashimo</td>\n",
       "      <td>2015-09-17</td>\n",
       "      <td>17</td>\n",
       "      <td>0</td>\n",
       "      <td>3</td>\n",
       "      <td>False</td>\n",
       "      <td>...</td>\n",
       "      <td>6318</td>\n",
       "      <td>False</td>\n",
       "      <td>False</td>\n",
       "      <td>Unspecified</td>\n",
       "      <td>0</td>\n",
       "      <td>Unspecified</td>\n",
       "      <td>Successful summit bid</td>\n",
       "      <td>Success</td>\n",
       "      <td>21.0</td>\n",
       "      <td>87.9</td>\n",
       "    </tr>\n",
       "    <tr>\n",
       "      <th>14825</th>\n",
       "      <td>2015-10-04</td>\n",
       "      <td>DZA215301</td>\n",
       "      <td>DZA2</td>\n",
       "      <td>Nepal</td>\n",
       "      <td>Takanori Mashimo</td>\n",
       "      <td>2015-09-17</td>\n",
       "      <td>17</td>\n",
       "      <td>0</td>\n",
       "      <td>3</td>\n",
       "      <td>False</td>\n",
       "      <td>...</td>\n",
       "      <td>6318</td>\n",
       "      <td>False</td>\n",
       "      <td>False</td>\n",
       "      <td>Unspecified</td>\n",
       "      <td>0</td>\n",
       "      <td>Unspecified</td>\n",
       "      <td>Successful summit bid</td>\n",
       "      <td>Success</td>\n",
       "      <td>23.0</td>\n",
       "      <td>87.9</td>\n",
       "    </tr>\n",
       "    <tr>\n",
       "      <th>14826</th>\n",
       "      <td>2015-10-04</td>\n",
       "      <td>DZA215301</td>\n",
       "      <td>DZA2</td>\n",
       "      <td>Nepal</td>\n",
       "      <td>Takanori Mashimo</td>\n",
       "      <td>2015-09-17</td>\n",
       "      <td>17</td>\n",
       "      <td>0</td>\n",
       "      <td>3</td>\n",
       "      <td>False</td>\n",
       "      <td>...</td>\n",
       "      <td>6318</td>\n",
       "      <td>False</td>\n",
       "      <td>False</td>\n",
       "      <td>Unspecified</td>\n",
       "      <td>0</td>\n",
       "      <td>Unspecified</td>\n",
       "      <td>Successful summit bid</td>\n",
       "      <td>Success</td>\n",
       "      <td>20.0</td>\n",
       "      <td>87.9</td>\n",
       "    </tr>\n",
       "    <tr>\n",
       "      <th>14827</th>\n",
       "      <td>2015-10-04</td>\n",
       "      <td>DZA215301</td>\n",
       "      <td>DZA2</td>\n",
       "      <td>Nepal</td>\n",
       "      <td>Takanori Mashimo</td>\n",
       "      <td>2015-09-17</td>\n",
       "      <td>17</td>\n",
       "      <td>0</td>\n",
       "      <td>3</td>\n",
       "      <td>False</td>\n",
       "      <td>...</td>\n",
       "      <td>6318</td>\n",
       "      <td>False</td>\n",
       "      <td>False</td>\n",
       "      <td>Unspecified</td>\n",
       "      <td>0</td>\n",
       "      <td>Unspecified</td>\n",
       "      <td>Successful summit bid</td>\n",
       "      <td>Success</td>\n",
       "      <td>20.0</td>\n",
       "      <td>87.9</td>\n",
       "    </tr>\n",
       "  </tbody>\n",
       "</table>\n",
       "<p>6 rows × 71 columns</p>\n",
       "</div>"
      ],
      "text/plain": [
       "      summit_date     exp_id peak_id   host           leaders    bc_date  \\\n",
       "14822  2015-10-04  DZA215301    DZA2  Nepal  Takanori Mashimo 2015-09-17   \n",
       "14823  2015-10-04  DZA215301    DZA2  Nepal  Takanori Mashimo 2015-09-17   \n",
       "14824  2015-10-04  DZA215301    DZA2  Nepal  Takanori Mashimo 2015-09-17   \n",
       "14825  2015-10-04  DZA215301    DZA2  Nepal  Takanori Mashimo 2015-09-17   \n",
       "14826  2015-10-04  DZA215301    DZA2  Nepal  Takanori Mashimo 2015-09-17   \n",
       "14827  2015-10-04  DZA215301    DZA2  Nepal  Takanori Mashimo 2015-09-17   \n",
       "\n",
       "       summit_days  tot_days  camps   rope  ...  high_point  o2_used  death  \\\n",
       "14822           17         0      3  False  ...        6318    False  False   \n",
       "14823           17         0      3  False  ...        6318    False  False   \n",
       "14824           17         0      3  False  ...        6318    False  False   \n",
       "14825           17         0      3  False  ...        6318    False  False   \n",
       "14826           17         0      3  False  ...        6318    False  False   \n",
       "14827           17         0      3  False  ...        6318    False  False   \n",
       "\n",
       "        death_type  death_height  death_class             summit_bid  \\\n",
       "14822  Unspecified             0  Unspecified  Successful summit bid   \n",
       "14823  Unspecified             0  Unspecified  Successful summit bid   \n",
       "14824  Unspecified             0  Unspecified  Successful summit bid   \n",
       "14825  Unspecified             0  Unspecified  Successful summit bid   \n",
       "14826  Unspecified             0  Unspecified  Successful summit bid   \n",
       "14827  Unspecified             0  Unspecified  Successful summit bid   \n",
       "\n",
       "       summit_term   age  cumul_snow  \n",
       "14822      Success  21.0        87.9  \n",
       "14823      Success  24.0        87.9  \n",
       "14824      Success  21.0        87.9  \n",
       "14825      Success  23.0        87.9  \n",
       "14826      Success  20.0        87.9  \n",
       "14827      Success  20.0        87.9  \n",
       "\n",
       "[6 rows x 71 columns]"
      ]
     },
     "execution_count": 274,
     "metadata": {},
     "output_type": "execute_result"
    }
   ],
   "source": [
    "df[df['peak_name']=='Dzanye II']"
   ]
  },
  {
   "cell_type": "code",
   "execution_count": 298,
   "metadata": {
    "hidden": true
   },
   "outputs": [
    {
     "data": {
      "text/plain": [
       "Slider(id='input_year', marks={2010: '2010', 2011: '2011', 2012: '2012', 2013: '2013', 2014: '2014', 2015: '2015', 2016: '2016', 2017: 'All'}, value=2016, min=2010, max='All')"
      ]
     },
     "execution_count": 298,
     "metadata": {},
     "output_type": "execute_result"
    }
   ],
   "source": [
    "import dash_core_components as dcc\n",
    "\n",
    "years = {i : str(i) for i in range(df.year.min(), df.year.max()+1)}\n",
    "years.update({df.year.max()+1 : 'All'})\n",
    "\n",
    "peak, year, season = 'Everest', '2010', 'Spring'\n",
    "\n",
    "if year == 'All':\n",
    "    dff = df[(df.peak_name==peak)\\\n",
    "                 &(df.year <= list(years.keys())[-1])\\\n",
    "                 &(df.season.str.contains(season))]\n",
    "else:\n",
    "    dff = df[(df.peak_name==peak)\\\n",
    "             &(df.year == int(year))\\\n",
    "             &(df.season.str.contains(season))]\n",
    "    \n",
    "dcc.Slider(\n",
    "        id='input_year',\n",
    "        min=df.year.min(),\n",
    "        max='All',\n",
    "        step=None,\n",
    "        marks=years,\n",
    "        value=df.year.max()\n",
    "    )"
   ]
  },
  {
   "cell_type": "code",
   "execution_count": 311,
   "metadata": {
    "hidden": true
   },
   "outputs": [
    {
     "data": {
      "text/plain": [
       "[{'label': 'Spring', 'value': 'Spring'},\n",
       " {'label': 'Summer', 'value': 'Summer'},\n",
       " {'label': 'Autumn', 'value': 'Autumn'},\n",
       " {'label': 'Winter', 'value': 'Winter'},\n",
       " {'label': 'All', 'value': 'All'}]"
      ]
     },
     "execution_count": 311,
     "metadata": {},
     "output_type": "execute_result"
    }
   ],
   "source": [
    "season_list = ['Spring', 'Summer', 'Autumn', 'Winter', 'All']\n",
    "[{'label' : i, 'value' : str(i)} for i in season_list]"
   ]
  },
  {
   "cell_type": "code",
   "execution_count": 306,
   "metadata": {
    "hidden": true
   },
   "outputs": [
    {
     "data": {
      "text/plain": [
       "[{'label': 'New York City', 'value': 'NYC'},\n",
       " {'label': 'Montréal', 'value': 'MTL'},\n",
       " {'label': 'San Francisco', 'value': 'SF'}]"
      ]
     },
     "execution_count": 306,
     "metadata": {},
     "output_type": "execute_result"
    }
   ],
   "source": [
    "[\n",
    "        {'label': 'New York City', 'value': 'NYC'},\n",
    "        {'label': 'Montréal', 'value': 'MTL'},\n",
    "        {'label': 'San Francisco', 'value': 'SF'}\n",
    "    ]"
   ]
  },
  {
   "cell_type": "markdown",
   "metadata": {
    "heading_collapsed": true
   },
   "source": [
    "# PCA & Tsne"
   ]
  },
  {
   "cell_type": "code",
   "execution_count": null,
   "metadata": {
    "hidden": true
   },
   "outputs": [],
   "source": [
    "%%time\n",
    "from sklearn.decomposition import PCA\n",
    "\n",
    "pca = PCA(n_components=4)\n",
    "pca_result = pca.fit_transform(X_train)"
   ]
  },
  {
   "cell_type": "code",
   "execution_count": null,
   "metadata": {
    "hidden": true
   },
   "outputs": [],
   "source": [
    "pca_df = pd.DataFrame(columns = ['pca1','pca2','pca3','pca4'])\n",
    "\n",
    "pca_df['pca1'] = pca_result[:,0]\n",
    "pca_df['pca2'] = pca_result[:,1]\n",
    "pca_df['pca3'] = pca_result[:,2]\n",
    "pca_df['pca4'] = pca_result[:,3]\n",
    "\n",
    "print('Variance explained per principal component: {}'.format(pca.explained_variance_ratio_))"
   ]
  },
  {
   "cell_type": "code",
   "execution_count": null,
   "metadata": {
    "hidden": true
   },
   "outputs": [],
   "source": [
    "import seaborn as sns\n",
    "import matplotlib.pyplot as plt\n",
    "import matplotlib.patheffects as PathEffects\n",
    "\n",
    "def fashion_scatter(x, colors):\n",
    "    # choose a color palette with seaborn.\n",
    "    num_classes = 2\n",
    "    palette = np.array(sns.color_palette(\"hls\", num_classes))\n",
    "\n",
    "    # create a scatter plot.\n",
    "    f = plt.figure(figsize=(8, 8))\n",
    "    ax = plt.subplot(aspect='equal')\n",
    "    sc = ax.scatter(x[:,0], x[:,1], lw=0, s=40, c=palette[colors.astype(np.int)])\n",
    "    plt.xlim(-25, 25)\n",
    "    plt.ylim(-25, 25)\n",
    "    ax.axis('off')\n",
    "    ax.axis('tight')\n",
    "\n",
    "    # add the labels for each digit corresponding to the label\n",
    "    txts = []\n",
    "\n",
    "    for i in range(num_classes):\n",
    "\n",
    "        # Position of each label at median of data points.\n",
    "\n",
    "        xtext, ytext = np.median(x[colors == i, :], axis=0)\n",
    "        txt = ax.text(xtext, ytext, str(i), fontsize=24)\n",
    "        txt.set_path_effects([\n",
    "            PathEffects.Stroke(linewidth=5, foreground=\"w\"),\n",
    "            PathEffects.Normal()])\n",
    "        txts.append(txt)\n",
    "\n",
    "    return f, ax, sc, txts"
   ]
  },
  {
   "cell_type": "code",
   "execution_count": null,
   "metadata": {
    "hidden": true
   },
   "outputs": [],
   "source": [
    "top_two_comp = pca_df[['pca1','pca2']] # taking first and second principal component\n",
    "\n",
    "fashion_scatter(top_two_comp.values,y_train) # Visualizing the PCA output"
   ]
  },
  {
   "cell_type": "code",
   "execution_count": null,
   "metadata": {
    "hidden": true
   },
   "outputs": [],
   "source": [
    "# PCA 50\n",
    "\n",
    "pca_50 = PCA(n_components=30)\n",
    "pca_result_50 = pca_50.fit_transform(X_train)\n",
    "fashion_pca_tsne = TSNE(random_state=21).fit_transform(pca_result_50)\n",
    "fashion_scatter(fashion_pca_tsne, y_train)"
   ]
  },
  {
   "cell_type": "code",
   "execution_count": null,
   "metadata": {
    "hidden": true
   },
   "outputs": [],
   "source": [
    "from sklearn.manifold import TSNE\n",
    "import plotly.express as px\n",
    "\n",
    "features = X_train\n",
    "\n",
    "tsne = TSNE(n_components=3, random_state=0)\n",
    "projections = tsne.fit_transform(features, )\n",
    "\n",
    "fig = px.scatter_3d(\n",
    "    projections, x=0, y=1, z=2,\n",
    "    color=y_train, labels={'color': 'Success'}\n",
    ")\n",
    "fig.update_traces(marker_size=8)\n",
    "fig.show()"
   ]
  },
  {
   "cell_type": "code",
   "execution_count": 231,
   "metadata": {
    "hidden": true
   },
   "outputs": [],
   "source": [
    "a = np.array([1,2,np.nan])"
   ]
  },
  {
   "cell_type": "code",
   "execution_count": 232,
   "metadata": {
    "hidden": true
   },
   "outputs": [
    {
     "data": {
      "text/plain": [
       "array([ 1.,  2., nan])"
      ]
     },
     "execution_count": 232,
     "metadata": {},
     "output_type": "execute_result"
    }
   ],
   "source": [
    "a"
   ]
  },
  {
   "cell_type": "code",
   "execution_count": 234,
   "metadata": {
    "hidden": true
   },
   "outputs": [
    {
     "data": {
      "text/plain": [
       "1.5"
      ]
     },
     "execution_count": 234,
     "metadata": {},
     "output_type": "execute_result"
    }
   ],
   "source": [
    "np.nanmean(a)"
   ]
  },
  {
   "cell_type": "code",
   "execution_count": null,
   "metadata": {
    "hidden": true
   },
   "outputs": [],
   "source": []
  }
 ],
 "metadata": {
  "kernelspec": {
   "display_name": "Python 3",
   "language": "python",
   "name": "python3"
  },
  "language_info": {
   "codemirror_mode": {
    "name": "ipython",
    "version": 3
   },
   "file_extension": ".py",
   "mimetype": "text/x-python",
   "name": "python",
   "nbconvert_exporter": "python",
   "pygments_lexer": "ipython3",
   "version": "3.7.7"
  },
  "toc": {
   "base_numbering": 1,
   "nav_menu": {},
   "number_sections": true,
   "sideBar": true,
   "skip_h1_title": true,
   "title_cell": "Table of Contents",
   "title_sidebar": "Contents",
   "toc_cell": false,
   "toc_position": {},
   "toc_section_display": true,
   "toc_window_display": false
  }
 },
 "nbformat": 4,
 "nbformat_minor": 4
}
