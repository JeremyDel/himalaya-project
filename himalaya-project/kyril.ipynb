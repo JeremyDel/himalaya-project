{
 "cells": [
  {
   "cell_type": "code",
   "execution_count": 1,
   "metadata": {},
   "outputs": [],
   "source": [
    "%load_ext autoreload\n",
    "%autoreload 2"
   ]
  },
  {
   "cell_type": "code",
   "execution_count": 2,
   "metadata": {},
   "outputs": [],
   "source": [
    "import matplotlib.pyplot as plt\n",
    "import seaborn as sns\n",
    "import pandas as pd\n",
    "import numpy as np"
   ]
  },
  {
   "cell_type": "markdown",
   "metadata": {
    "heading_collapsed": true
   },
   "source": [
    "# Model"
   ]
  },
  {
   "cell_type": "code",
   "execution_count": 320,
   "metadata": {
    "hidden": true
   },
   "outputs": [],
   "source": [
    "from sklearn.preprocessing import MinMaxScaler, OneHotEncoder\n",
    "from sklearn.model_selection import train_test_split\n",
    "from sklearn.pipeline import Pipeline\n",
    "from sklearn.compose import ColumnTransformer, make_column_selector\n",
    "from sklearn.impute import SimpleImputer\n",
    "from xgboost import XGBClassifier\n",
    "from members import Members\n",
    "from weather import Weather\n",
    "from expeds import Expeds\n",
    "\n",
    "\n",
    "# Get Data\n",
    "member = Members().get_data()\n",
    "member = Members().clean_data(member)\n",
    "\n",
    "weather = Weather().get_data()\n",
    "weather = Weather().clean_data(weather)\n",
    "\n",
    "exped = Expeds().get_data()\n",
    "exped = Expeds().clean_data(exped)\n",
    "\n",
    "# Drop columns\n",
    "mem_to_drop = ['memb_id','year','unique_id','peak_id','residence','occupation',\n",
    "'summit_claimed','summit_disputed','highpt','high_point','death','death_type',\n",
    "'death_height','death_class','summit_term','summit_date1', 'summit_bid',\n",
    "'citizenship','o2_climb','o2_descent','o2_sleep','o2_medical', 'o2_none', \n",
    "'yob', 'route1', 'ascent1', 'leader', 'deputy', 'bconly', 'nottobc', 'support', \n",
    "'hired', 'sherpa', 'tibetan']\n",
    "\n",
    "\n",
    "exp_to_drop = ['year','season','route1','route2','nation','leaders',\n",
    "'sponsor','success1','success2', 'ascent1','claimed','disputed',\n",
    "'countries','summit_time','term_date','term_note','high_point',\n",
    "'traverse','ski','parapente','o2_climb','o2_descent','o2_sleep',\n",
    "'o2_medical','o2_taken','o2_unkwn','o2_used','o2_none','other_smts',\n",
    "'campsites','accidents','achievment','agency','peak_name','primmem',\n",
    "'summiter_deaths','summit_members','summit_hired','hired_deaths']\n",
    "\n",
    "member.drop(columns= mem_to_drop, inplace=True)\n",
    "exped.drop(columns= exp_to_drop, inplace=True)\n",
    "\n",
    "exped['summit_date'] = pd.to_datetime(exped.summit_date, errors = 'coerce')\n",
    "exped['bc_date'] = pd.to_datetime(exped.bc_date , errors = 'coerce')\n",
    "exped['rope'] = np.where(exped['rope']>0, True, False)\n",
    "\n",
    "exped = exped.set_index('summit_date')\n",
    "weather = weather.set_index('date_time')\n",
    "\n",
    "# Feature Engineering (1/2)\n",
    "exped['sherpa_ratio'] = exped['tot_hired'] / exped['tot_members']\n",
    "exped['sherpa_ratio'] = np.where(exped['sherpa_ratio'] == np.inf, 0, exped['sherpa_ratio'])\n",
    "\n",
    "weather['pressure_past'] = weather['pressure'].rolling(window=3).mean()\n",
    "weather['pressure_futur'] = weather['pressure'].shift(-2).rolling(window=3).mean()\n",
    "weather['stability'] = weather['pressure_futur'] - weather['pressure_past']\n",
    "\n",
    "# Merge DataFrames\n",
    "df = exped.merge(weather, how='left', left_index=True, right_index=True)\n",
    "df = df.reset_index()\n",
    "df = df.rename(columns={'index' : 'summit_date'})\n",
    "df = df.merge(member, on='exp_id', how = 'right')\n",
    "df = df.dropna(subset=['summit_date', 'bc_date'])\n",
    "\n",
    "# Feature Engineering (2/2)\n",
    "df['cumul_snow'] = 0\n",
    "\n",
    "for index, row in df.iterrows():\n",
    "    date1 = row['bc_date'].date()\n",
    "    date2 = row['summit_date'].date()\n",
    "    acc_snow = weather.loc[date1:date2, 'totalSnow_cm'].sum()\n",
    "    df.loc[index, 'cumul_snow'] = acc_snow\n",
    "    \n",
    "feature_to_drop = ['primrte', 'disabled','moonrise', 'moonset', \n",
    "                   'sunrise', 'sunset', 'traverse', 'parapente', 'solo', 'ski', 'speed', \n",
    "                   'summit_date', 'exp_id', 'bc_date', 'term_reason',\n",
    "                   'pressure_past', 'pressure_futur', 'uvIndex', 'o2_used', 'date_season']\n",
    "\n",
    "df.drop(columns= feature_to_drop, inplace=True)"
   ]
  },
  {
   "cell_type": "code",
   "execution_count": 278,
   "metadata": {},
   "outputs": [
    {
     "data": {
      "text/plain": [
       "Index(['peak_id', 'host', 'summit_days', 'tot_days', 'camps', 'rope',\n",
       "       'tot_members', 'tot_hired', 'no_hired', 'comrte', 'stdrte',\n",
       "       'peak_height', 'sherpa_ratio', 'maxtempC', 'mintempC', 'totalSnow_cm',\n",
       "       'sunHour', 'moon_illumination', 'DewPointC', 'FeelsLikeC', 'HeatIndexC',\n",
       "       'WindGustKmph', 'cloudcover', 'humidity', 'precipMM', 'pressure',\n",
       "       'visibility', 'winddirDegree', 'windspeedKmph', 'stability', 'season',\n",
       "       'sex_M', 'status', 'summit_success', 'age', 'cumul_snow', 'ratio_days'],\n",
       "      dtype='object')"
      ]
     },
     "execution_count": 278,
     "metadata": {},
     "output_type": "execute_result"
    }
   ],
   "source": [
    "df.columns"
   ]
  },
  {
   "cell_type": "code",
   "execution_count": 343,
   "metadata": {},
   "outputs": [],
   "source": [
    "df['ratio_days'] = df['summit_days']/(df['tot_days']+1) + np.log(df['tot_days']+1)"
   ]
  },
  {
   "cell_type": "code",
   "execution_count": 344,
   "metadata": {},
   "outputs": [],
   "source": [
    "df['ratio_camps'] = df['camps']/(df['tot_days']+1) + np.log(df['camps']+1)\n"
   ]
  },
  {
   "cell_type": "code",
   "execution_count": 376,
   "metadata": {},
   "outputs": [],
   "source": [
    "from scipy import stats\n",
    "df['box_camps']=stats.boxcox(abs((df['camps']+1)))[0]"
   ]
  },
  {
   "cell_type": "code",
   "execution_count": 378,
   "metadata": {},
   "outputs": [],
   "source": [
    "from sklearn.preprocessing import PolynomialFeatures\n",
    "interactions = PolynomialFeatures(interaction_only=True)\n",
    "df[['poly1', 'poly2', 'poly3', 'poly4']] =interactions.fit_transform(df[['camps', 'tot_days']])\n",
    "\n",
    "df['ultime_ratio'] = df['ratio_days'] * (df['ratio_camps']-df['ratio_camps'].mean())**2 * df['peak_height']**0.5 "
   ]
  },
  {
   "cell_type": "code",
   "execution_count": null,
   "metadata": {},
   "outputs": [],
   "source": []
  },
  {
   "cell_type": "code",
   "execution_count": 296,
   "metadata": {},
   "outputs": [],
   "source": [
    "df.drop(index = df[(df['tot_days']==0) & (df['summit_days']==0)].index, inplace=True)"
   ]
  },
  {
   "cell_type": "code",
   "execution_count": 335,
   "metadata": {},
   "outputs": [],
   "source": [
    "df.drop(['ultime_ratio'], axis=1, inplace=True)"
   ]
  },
  {
   "cell_type": "code",
   "execution_count": 404,
   "metadata": {},
   "outputs": [],
   "source": [
    "df.drop(index = df[df['status']=='bc member'].index, inplace = True)"
   ]
  },
  {
   "cell_type": "code",
   "execution_count": 406,
   "metadata": {
    "hidden": true
   },
   "outputs": [],
   "source": [
    "from sklearn.base import BaseEstimator, TransformerMixin\n",
    "\n",
    "class BoolImputer(BaseEstimator, TransformerMixin):\n",
    "    def __init__(self):\n",
    "        return None\n",
    "    def fit(self, X, y=None):\n",
    "        return self\n",
    "    def transform(self, X):\n",
    "        return X\n",
    "\n",
    "# Data Processing\n",
    "col_num = []\n",
    "col_bool =[]\n",
    "col_object =[]\n",
    "\n",
    "for col in df:\n",
    "    if df[col].dtype == \"float64\":\n",
    "        col_num.append(col)\n",
    "        \n",
    "    if df[col].dtype == \"int64\":\n",
    "        col_num.append(col)\n",
    "        \n",
    "    if df[col].dtype == 'bool':\n",
    "        col_bool.append(col)\n",
    "        \n",
    "    if df[col].dtype == 'object':\n",
    "        col_object.append(col)\n",
    "        \n",
    "col_bool.remove('summit_success')\n",
    "\n",
    "numeric_transformer = Pipeline(steps=[\n",
    "    ('imputer', SimpleImputer()),\n",
    "    ('scaler', MinMaxScaler())])\n",
    "\n",
    "bool_transformer = Pipeline(steps=[\n",
    "    ('imputer', BoolImputer())])\n",
    "\n",
    "categorical_transformer = Pipeline(steps=[\n",
    "    ('imputer', SimpleImputer(strategy='most_frequent')),\n",
    "    ('onehot', OneHotEncoder(drop= 'first', handle_unknown='error'))])\n",
    "\n",
    "preprocessor = ColumnTransformer(\n",
    "    transformers=[\n",
    "        ('num', numeric_transformer, col_num),\n",
    "        ('bool', bool_transformer, col_bool),\n",
    "        ('cat', categorical_transformer, col_object)])\n",
    "\n",
    "clf = Pipeline(steps=[('preprocessor', preprocessor)])\n",
    "\n",
    "X = df.drop(columns=['summit_success'])\n",
    "y = df.summit_success\n",
    "\n",
    "X_trans = clf.fit_transform(X)\n",
    "X_tr = X_trans.toarray()\n",
    "\n",
    "X_train, X_test, y_train, y_test = train_test_split(X_tr, y, test_size= 0.3)"
   ]
  },
  {
   "cell_type": "code",
   "execution_count": 242,
   "metadata": {
    "hidden": true
   },
   "outputs": [],
   "source": [
    "ohe_col = list(clf.named_steps['preprocessor'].transformers_[2][1]\\\n",
    "   .named_steps['onehot'].get_feature_names(col_object))\n",
    "\n",
    "feature_names = col_num + col_bool + ohe_col"
   ]
  },
  {
   "cell_type": "code",
   "execution_count": 298,
   "metadata": {
    "hidden": true
   },
   "outputs": [
    {
     "name": "stdout",
     "output_type": "stream",
     "text": [
      "              precision    recall  f1-score   support\n",
      "\n",
      "       False       0.82      0.78      0.80      3197\n",
      "        True       0.80      0.83      0.82      3350\n",
      "\n",
      "    accuracy                           0.81      6547\n",
      "   macro avg       0.81      0.81      0.81      6547\n",
      "weighted avg       0.81      0.81      0.81      6547\n",
      "\n"
     ]
    }
   ],
   "source": [
    "# Model Traning\n",
    "from sklearn.metrics import classification_report\n",
    "boost = XGBClassifier(n_estimators = 400,\n",
    "                            max_depth = 18,\n",
    "                            learning_rate = 0.115,\n",
    "                            gamma = 0.8,\n",
    "                            min_child_weight = 4,\n",
    "                            colsample_bytree = 0.3\n",
    "                            )\n",
    "boost.fit(X_train, y_train)\n",
    "ypred = boost.predict(X_test)\n",
    "print(classification_report(y_test, ypred))"
   ]
  },
  {
   "cell_type": "code",
   "execution_count": 383,
   "metadata": {},
   "outputs": [
    {
     "name": "stdout",
     "output_type": "stream",
     "text": [
      "              precision    recall  f1-score   support\n",
      "\n",
      "       False       0.86      0.76      0.81      3252\n",
      "        True       0.79      0.88      0.83      3295\n",
      "\n",
      "    accuracy                           0.82      6547\n",
      "   macro avg       0.83      0.82      0.82      6547\n",
      "weighted avg       0.83      0.82      0.82      6547\n",
      "\n"
     ]
    }
   ],
   "source": [
    "# Model Traning\n",
    "from sklearn.metrics import classification_report\n",
    "boost = XGBClassifier(n_estimators = 200,\n",
    "                            max_depth = 14,\n",
    "                            learning_rate = 0.01,\n",
    "                            gamma = 0.8,\n",
    "                            min_child_weight = 1,\n",
    "                            colsample_bytree = 0.3\n",
    "                            )\n",
    "boost.fit(X_train, y_train)\n",
    "ypred = boost.predict(X_test)\n",
    "print(classification_report(y_test, ypred))"
   ]
  },
  {
   "cell_type": "code",
   "execution_count": 403,
   "metadata": {},
   "outputs": [
    {
     "name": "stdout",
     "output_type": "stream",
     "text": [
      "              precision    recall  f1-score   support\n",
      "\n",
      "       False       0.85      0.78      0.81      3252\n",
      "        True       0.80      0.87      0.83      3295\n",
      "\n",
      "    accuracy                           0.82      6547\n",
      "   macro avg       0.82      0.82      0.82      6547\n",
      "weighted avg       0.82      0.82      0.82      6547\n",
      "\n"
     ]
    }
   ],
   "source": [
    "# Model Traning\n",
    "from sklearn.metrics import classification_report\n",
    "boost = XGBClassifier()\n",
    "boost.fit(X_train, y_train)\n",
    "ypred = boost.predict(X_test)\n",
    "print(classification_report(y_test, ypred))"
   ]
  },
  {
   "cell_type": "code",
   "execution_count": 407,
   "metadata": {},
   "outputs": [
    {
     "name": "stdout",
     "output_type": "stream",
     "text": [
      "              precision    recall  f1-score   support\n",
      "\n",
      "       False       0.82      0.79      0.80      3131\n",
      "        True       0.81      0.84      0.83      3398\n",
      "\n",
      "    accuracy                           0.82      6529\n",
      "   macro avg       0.82      0.81      0.82      6529\n",
      "weighted avg       0.82      0.82      0.82      6529\n",
      "\n"
     ]
    }
   ],
   "source": [
    "# Model Traning\n",
    "from sklearn.metrics import classification_report\n",
    "boost = XGBClassifier()\n",
    "boost.fit(X_train, y_train)\n",
    "ypred = boost.predict(X_test)\n",
    "print(classification_report(y_test, ypred))"
   ]
  },
  {
   "cell_type": "markdown",
   "metadata": {
    "heading_collapsed": true,
    "hidden": true
   },
   "source": [
    "## Test with new data"
   ]
  },
  {
   "cell_type": "code",
   "execution_count": 6,
   "metadata": {
    "hidden": true
   },
   "outputs": [],
   "source": [
    "test = X.reset_index()\n",
    "test = test.iloc[[1122]]\n",
    "test1 = X.reset_index()\n",
    "test1 = test1.iloc[[1122]]"
   ]
  },
  {
   "cell_type": "code",
   "execution_count": 7,
   "metadata": {
    "hidden": true
   },
   "outputs": [],
   "source": [
    "test['rope'] = True\n",
    "test['camps'] = 5\n",
    "test['summit_days'] = 20\n",
    "\n",
    "test1['rope'] = False\n",
    "test1['camps'] = 2\n",
    "test1['summit_days'] = 10"
   ]
  },
  {
   "cell_type": "code",
   "execution_count": 8,
   "metadata": {
    "hidden": true
   },
   "outputs": [
    {
     "name": "stderr",
     "output_type": "stream",
     "text": [
      "c:\\users\\kyril\\.venvs\\himalaya\\lib\\site-packages\\sklearn\\compose\\_column_transformer.py:440: FutureWarning: Given feature/column names or counts do not match the ones for the data given during fit. This will fail from v0.24.\n",
      "  FutureWarning)\n"
     ]
    },
    {
     "data": {
      "text/plain": [
       "array([[0.02564985, 0.97435015]], dtype=float32)"
      ]
     },
     "execution_count": 8,
     "metadata": {},
     "output_type": "execute_result"
    }
   ],
   "source": [
    "X_trans = clf.transform(test)\n",
    "X_tr = X_trans.toarray()\n",
    "boost.predict_proba(X_tr)"
   ]
  },
  {
   "cell_type": "code",
   "execution_count": 9,
   "metadata": {
    "hidden": true
   },
   "outputs": [
    {
     "name": "stderr",
     "output_type": "stream",
     "text": [
      "c:\\users\\kyril\\.venvs\\himalaya\\lib\\site-packages\\sklearn\\compose\\_column_transformer.py:440: FutureWarning: Given feature/column names or counts do not match the ones for the data given during fit. This will fail from v0.24.\n",
      "  FutureWarning)\n"
     ]
    },
    {
     "data": {
      "text/plain": [
       "array([[0.42166865, 0.57833135]], dtype=float32)"
      ]
     },
     "execution_count": 9,
     "metadata": {},
     "output_type": "execute_result"
    }
   ],
   "source": [
    "X_trans = clf.transform(test1)\n",
    "X_tr = X_trans.toarray()\n",
    "boost.predict_proba(X_tr)"
   ]
  },
  {
   "cell_type": "markdown",
   "metadata": {
    "heading_collapsed": true,
    "hidden": true
   },
   "source": [
    "## Features"
   ]
  },
  {
   "cell_type": "markdown",
   "metadata": {
    "heading_collapsed": true,
    "hidden": true
   },
   "source": [
    "### Feature Importance"
   ]
  },
  {
   "cell_type": "code",
   "execution_count": 177,
   "metadata": {
    "hidden": true
   },
   "outputs": [
    {
     "ename": "ValueError",
     "evalue": "Length of values (227) does not match length of index (248)",
     "output_type": "error",
     "traceback": [
      "\u001b[1;31m---------------------------------------------------------------------------\u001b[0m",
      "\u001b[1;31mValueError\u001b[0m                                Traceback (most recent call last)",
      "\u001b[1;32m<ipython-input-177-c04266c31173>\u001b[0m in \u001b[0;36m<module>\u001b[1;34m\u001b[0m\n\u001b[0;32m      1\u001b[0m \u001b[1;31m# feature importance\u001b[0m\u001b[1;33m\u001b[0m\u001b[1;33m\u001b[0m\u001b[1;33m\u001b[0m\u001b[0m\n\u001b[0;32m      2\u001b[0m \u001b[0mdfeat\u001b[0m \u001b[1;33m=\u001b[0m \u001b[0mpd\u001b[0m\u001b[1;33m.\u001b[0m\u001b[0mDataFrame\u001b[0m\u001b[1;33m(\u001b[0m\u001b[0mdata\u001b[0m\u001b[1;33m=\u001b[0m\u001b[0mboost\u001b[0m\u001b[1;33m.\u001b[0m\u001b[0mfeature_importances_\u001b[0m\u001b[1;33m)\u001b[0m\u001b[1;33m\u001b[0m\u001b[1;33m\u001b[0m\u001b[0m\n\u001b[1;32m----> 3\u001b[1;33m \u001b[0mdfeat\u001b[0m\u001b[1;33m[\u001b[0m\u001b[1;34m'feature'\u001b[0m\u001b[1;33m]\u001b[0m \u001b[1;33m=\u001b[0m \u001b[0mfeature_names\u001b[0m\u001b[1;33m\u001b[0m\u001b[1;33m\u001b[0m\u001b[0m\n\u001b[0m\u001b[0;32m      4\u001b[0m \u001b[0mdfeat\u001b[0m\u001b[1;33m.\u001b[0m\u001b[0mcolumns\u001b[0m \u001b[1;33m=\u001b[0m \u001b[1;33m[\u001b[0m\u001b[1;34m'value'\u001b[0m\u001b[1;33m,\u001b[0m \u001b[1;34m'feature'\u001b[0m\u001b[1;33m]\u001b[0m\u001b[1;33m\u001b[0m\u001b[1;33m\u001b[0m\u001b[0m\n\u001b[0;32m      5\u001b[0m \u001b[0mdfeat\u001b[0m \u001b[1;33m=\u001b[0m \u001b[0mdfeat\u001b[0m\u001b[1;33m[\u001b[0m\u001b[0mdfeat\u001b[0m\u001b[1;33m[\u001b[0m\u001b[1;34m'feature'\u001b[0m\u001b[1;33m]\u001b[0m\u001b[1;33m.\u001b[0m\u001b[0mstr\u001b[0m\u001b[1;33m.\u001b[0m\u001b[0mcontains\u001b[0m\u001b[1;33m(\u001b[0m\u001b[1;34m'peak_id'\u001b[0m\u001b[1;33m)\u001b[0m\u001b[1;33m]\u001b[0m\u001b[1;33m\u001b[0m\u001b[1;33m\u001b[0m\u001b[0m\n",
      "\u001b[1;32mc:\\users\\jerem\\.venvs\\himalaya\\lib\\site-packages\\pandas\\core\\frame.py\u001b[0m in \u001b[0;36m__setitem__\u001b[1;34m(self, key, value)\u001b[0m\n\u001b[0;32m   3042\u001b[0m         \u001b[1;32melse\u001b[0m\u001b[1;33m:\u001b[0m\u001b[1;33m\u001b[0m\u001b[1;33m\u001b[0m\u001b[0m\n\u001b[0;32m   3043\u001b[0m             \u001b[1;31m# set column\u001b[0m\u001b[1;33m\u001b[0m\u001b[1;33m\u001b[0m\u001b[1;33m\u001b[0m\u001b[0m\n\u001b[1;32m-> 3044\u001b[1;33m             \u001b[0mself\u001b[0m\u001b[1;33m.\u001b[0m\u001b[0m_set_item\u001b[0m\u001b[1;33m(\u001b[0m\u001b[0mkey\u001b[0m\u001b[1;33m,\u001b[0m \u001b[0mvalue\u001b[0m\u001b[1;33m)\u001b[0m\u001b[1;33m\u001b[0m\u001b[1;33m\u001b[0m\u001b[0m\n\u001b[0m\u001b[0;32m   3045\u001b[0m \u001b[1;33m\u001b[0m\u001b[0m\n\u001b[0;32m   3046\u001b[0m     \u001b[1;32mdef\u001b[0m \u001b[0m_setitem_slice\u001b[0m\u001b[1;33m(\u001b[0m\u001b[0mself\u001b[0m\u001b[1;33m,\u001b[0m \u001b[0mkey\u001b[0m\u001b[1;33m:\u001b[0m \u001b[0mslice\u001b[0m\u001b[1;33m,\u001b[0m \u001b[0mvalue\u001b[0m\u001b[1;33m)\u001b[0m\u001b[1;33m:\u001b[0m\u001b[1;33m\u001b[0m\u001b[1;33m\u001b[0m\u001b[0m\n",
      "\u001b[1;32mc:\\users\\jerem\\.venvs\\himalaya\\lib\\site-packages\\pandas\\core\\frame.py\u001b[0m in \u001b[0;36m_set_item\u001b[1;34m(self, key, value)\u001b[0m\n\u001b[0;32m   3118\u001b[0m         \"\"\"\n\u001b[0;32m   3119\u001b[0m         \u001b[0mself\u001b[0m\u001b[1;33m.\u001b[0m\u001b[0m_ensure_valid_index\u001b[0m\u001b[1;33m(\u001b[0m\u001b[0mvalue\u001b[0m\u001b[1;33m)\u001b[0m\u001b[1;33m\u001b[0m\u001b[1;33m\u001b[0m\u001b[0m\n\u001b[1;32m-> 3120\u001b[1;33m         \u001b[0mvalue\u001b[0m \u001b[1;33m=\u001b[0m \u001b[0mself\u001b[0m\u001b[1;33m.\u001b[0m\u001b[0m_sanitize_column\u001b[0m\u001b[1;33m(\u001b[0m\u001b[0mkey\u001b[0m\u001b[1;33m,\u001b[0m \u001b[0mvalue\u001b[0m\u001b[1;33m)\u001b[0m\u001b[1;33m\u001b[0m\u001b[1;33m\u001b[0m\u001b[0m\n\u001b[0m\u001b[0;32m   3121\u001b[0m         \u001b[0mNDFrame\u001b[0m\u001b[1;33m.\u001b[0m\u001b[0m_set_item\u001b[0m\u001b[1;33m(\u001b[0m\u001b[0mself\u001b[0m\u001b[1;33m,\u001b[0m \u001b[0mkey\u001b[0m\u001b[1;33m,\u001b[0m \u001b[0mvalue\u001b[0m\u001b[1;33m)\u001b[0m\u001b[1;33m\u001b[0m\u001b[1;33m\u001b[0m\u001b[0m\n\u001b[0;32m   3122\u001b[0m \u001b[1;33m\u001b[0m\u001b[0m\n",
      "\u001b[1;32mc:\\users\\jerem\\.venvs\\himalaya\\lib\\site-packages\\pandas\\core\\frame.py\u001b[0m in \u001b[0;36m_sanitize_column\u001b[1;34m(self, key, value, broadcast)\u001b[0m\n\u001b[0;32m   3766\u001b[0m \u001b[1;33m\u001b[0m\u001b[0m\n\u001b[0;32m   3767\u001b[0m             \u001b[1;31m# turn me into an ndarray\u001b[0m\u001b[1;33m\u001b[0m\u001b[1;33m\u001b[0m\u001b[1;33m\u001b[0m\u001b[0m\n\u001b[1;32m-> 3768\u001b[1;33m             \u001b[0mvalue\u001b[0m \u001b[1;33m=\u001b[0m \u001b[0msanitize_index\u001b[0m\u001b[1;33m(\u001b[0m\u001b[0mvalue\u001b[0m\u001b[1;33m,\u001b[0m \u001b[0mself\u001b[0m\u001b[1;33m.\u001b[0m\u001b[0mindex\u001b[0m\u001b[1;33m)\u001b[0m\u001b[1;33m\u001b[0m\u001b[1;33m\u001b[0m\u001b[0m\n\u001b[0m\u001b[0;32m   3769\u001b[0m             \u001b[1;32mif\u001b[0m \u001b[1;32mnot\u001b[0m \u001b[0misinstance\u001b[0m\u001b[1;33m(\u001b[0m\u001b[0mvalue\u001b[0m\u001b[1;33m,\u001b[0m \u001b[1;33m(\u001b[0m\u001b[0mnp\u001b[0m\u001b[1;33m.\u001b[0m\u001b[0mndarray\u001b[0m\u001b[1;33m,\u001b[0m \u001b[0mIndex\u001b[0m\u001b[1;33m)\u001b[0m\u001b[1;33m)\u001b[0m\u001b[1;33m:\u001b[0m\u001b[1;33m\u001b[0m\u001b[1;33m\u001b[0m\u001b[0m\n\u001b[0;32m   3770\u001b[0m                 \u001b[1;32mif\u001b[0m \u001b[0misinstance\u001b[0m\u001b[1;33m(\u001b[0m\u001b[0mvalue\u001b[0m\u001b[1;33m,\u001b[0m \u001b[0mlist\u001b[0m\u001b[1;33m)\u001b[0m \u001b[1;32mand\u001b[0m \u001b[0mlen\u001b[0m\u001b[1;33m(\u001b[0m\u001b[0mvalue\u001b[0m\u001b[1;33m)\u001b[0m \u001b[1;33m>\u001b[0m \u001b[1;36m0\u001b[0m\u001b[1;33m:\u001b[0m\u001b[1;33m\u001b[0m\u001b[1;33m\u001b[0m\u001b[0m\n",
      "\u001b[1;32mc:\\users\\jerem\\.venvs\\himalaya\\lib\\site-packages\\pandas\\core\\internals\\construction.py\u001b[0m in \u001b[0;36msanitize_index\u001b[1;34m(data, index)\u001b[0m\n\u001b[0;32m    746\u001b[0m     \u001b[1;32mif\u001b[0m \u001b[0mlen\u001b[0m\u001b[1;33m(\u001b[0m\u001b[0mdata\u001b[0m\u001b[1;33m)\u001b[0m \u001b[1;33m!=\u001b[0m \u001b[0mlen\u001b[0m\u001b[1;33m(\u001b[0m\u001b[0mindex\u001b[0m\u001b[1;33m)\u001b[0m\u001b[1;33m:\u001b[0m\u001b[1;33m\u001b[0m\u001b[1;33m\u001b[0m\u001b[0m\n\u001b[0;32m    747\u001b[0m         raise ValueError(\n\u001b[1;32m--> 748\u001b[1;33m             \u001b[1;34m\"Length of values \"\u001b[0m\u001b[1;33m\u001b[0m\u001b[1;33m\u001b[0m\u001b[0m\n\u001b[0m\u001b[0;32m    749\u001b[0m             \u001b[1;34mf\"({len(data)}) \"\u001b[0m\u001b[1;33m\u001b[0m\u001b[1;33m\u001b[0m\u001b[0m\n\u001b[0;32m    750\u001b[0m             \u001b[1;34m\"does not match length of index \"\u001b[0m\u001b[1;33m\u001b[0m\u001b[1;33m\u001b[0m\u001b[0m\n",
      "\u001b[1;31mValueError\u001b[0m: Length of values (227) does not match length of index (248)"
     ]
    }
   ],
   "source": [
    "# feature importance\n",
    "dfeat = pd.DataFrame(data=boost.feature_importances_)\n",
    "dfeat['feature'] = feature_names\n",
    "dfeat.columns = ['value', 'feature']\n",
    "dfeat = dfeat[dfeat['feature'].str.contains('peak_id')]\n",
    "dfeat = dfeat.sort_values(by='value')\n",
    "\n",
    "val = 0\n",
    "# plot\n",
    "plt.bar(dfeat.loc[dfeat['value']> val , 'feature'], dfeat.loc[dfeat['value']> val , 'value'])\n",
    "plt.xticks(rotation=90)\n",
    "plt.show()"
   ]
  },
  {
   "cell_type": "code",
   "execution_count": 179,
   "metadata": {
    "hidden": true
   },
   "outputs": [
    {
     "ename": "ValueError",
     "evalue": "Length of values (227) does not match length of index (248)",
     "output_type": "error",
     "traceback": [
      "\u001b[1;31m---------------------------------------------------------------------------\u001b[0m",
      "\u001b[1;31mValueError\u001b[0m                                Traceback (most recent call last)",
      "\u001b[1;32m<ipython-input-179-e0f6d32bbcdf>\u001b[0m in \u001b[0;36m<module>\u001b[1;34m\u001b[0m\n\u001b[0;32m      1\u001b[0m \u001b[1;31m# feature without peak_id\u001b[0m\u001b[1;33m\u001b[0m\u001b[1;33m\u001b[0m\u001b[1;33m\u001b[0m\u001b[0m\n\u001b[0;32m      2\u001b[0m \u001b[0mdfeat\u001b[0m \u001b[1;33m=\u001b[0m \u001b[0mpd\u001b[0m\u001b[1;33m.\u001b[0m\u001b[0mDataFrame\u001b[0m\u001b[1;33m(\u001b[0m\u001b[0mdata\u001b[0m\u001b[1;33m=\u001b[0m\u001b[0mboost\u001b[0m\u001b[1;33m.\u001b[0m\u001b[0mfeature_importances_\u001b[0m\u001b[1;33m)\u001b[0m\u001b[1;33m\u001b[0m\u001b[1;33m\u001b[0m\u001b[0m\n\u001b[1;32m----> 3\u001b[1;33m \u001b[0mdfeat\u001b[0m\u001b[1;33m[\u001b[0m\u001b[1;34m'feature'\u001b[0m\u001b[1;33m]\u001b[0m \u001b[1;33m=\u001b[0m \u001b[0mfeature_names\u001b[0m\u001b[1;33m\u001b[0m\u001b[1;33m\u001b[0m\u001b[0m\n\u001b[0m\u001b[0;32m      4\u001b[0m \u001b[0mdfeat\u001b[0m\u001b[1;33m.\u001b[0m\u001b[0mcolumns\u001b[0m \u001b[1;33m=\u001b[0m \u001b[1;33m[\u001b[0m\u001b[1;34m'value'\u001b[0m\u001b[1;33m,\u001b[0m \u001b[1;34m'feature'\u001b[0m\u001b[1;33m]\u001b[0m\u001b[1;33m\u001b[0m\u001b[1;33m\u001b[0m\u001b[0m\n\u001b[0;32m      5\u001b[0m \u001b[0mdf_feat_2\u001b[0m \u001b[1;33m=\u001b[0m \u001b[0mdfeat\u001b[0m\u001b[1;33m[\u001b[0m\u001b[1;33m~\u001b[0m\u001b[0mdfeat\u001b[0m\u001b[1;33m[\u001b[0m\u001b[1;34m'feature'\u001b[0m\u001b[1;33m]\u001b[0m\u001b[1;33m.\u001b[0m\u001b[0mstr\u001b[0m\u001b[1;33m.\u001b[0m\u001b[0mcontains\u001b[0m\u001b[1;33m(\u001b[0m\u001b[1;34m'peak_id'\u001b[0m\u001b[1;33m)\u001b[0m\u001b[1;33m]\u001b[0m\u001b[1;33m\u001b[0m\u001b[1;33m\u001b[0m\u001b[0m\n",
      "\u001b[1;32mc:\\users\\jerem\\.venvs\\himalaya\\lib\\site-packages\\pandas\\core\\frame.py\u001b[0m in \u001b[0;36m__setitem__\u001b[1;34m(self, key, value)\u001b[0m\n\u001b[0;32m   3042\u001b[0m         \u001b[1;32melse\u001b[0m\u001b[1;33m:\u001b[0m\u001b[1;33m\u001b[0m\u001b[1;33m\u001b[0m\u001b[0m\n\u001b[0;32m   3043\u001b[0m             \u001b[1;31m# set column\u001b[0m\u001b[1;33m\u001b[0m\u001b[1;33m\u001b[0m\u001b[1;33m\u001b[0m\u001b[0m\n\u001b[1;32m-> 3044\u001b[1;33m             \u001b[0mself\u001b[0m\u001b[1;33m.\u001b[0m\u001b[0m_set_item\u001b[0m\u001b[1;33m(\u001b[0m\u001b[0mkey\u001b[0m\u001b[1;33m,\u001b[0m \u001b[0mvalue\u001b[0m\u001b[1;33m)\u001b[0m\u001b[1;33m\u001b[0m\u001b[1;33m\u001b[0m\u001b[0m\n\u001b[0m\u001b[0;32m   3045\u001b[0m \u001b[1;33m\u001b[0m\u001b[0m\n\u001b[0;32m   3046\u001b[0m     \u001b[1;32mdef\u001b[0m \u001b[0m_setitem_slice\u001b[0m\u001b[1;33m(\u001b[0m\u001b[0mself\u001b[0m\u001b[1;33m,\u001b[0m \u001b[0mkey\u001b[0m\u001b[1;33m:\u001b[0m \u001b[0mslice\u001b[0m\u001b[1;33m,\u001b[0m \u001b[0mvalue\u001b[0m\u001b[1;33m)\u001b[0m\u001b[1;33m:\u001b[0m\u001b[1;33m\u001b[0m\u001b[1;33m\u001b[0m\u001b[0m\n",
      "\u001b[1;32mc:\\users\\jerem\\.venvs\\himalaya\\lib\\site-packages\\pandas\\core\\frame.py\u001b[0m in \u001b[0;36m_set_item\u001b[1;34m(self, key, value)\u001b[0m\n\u001b[0;32m   3118\u001b[0m         \"\"\"\n\u001b[0;32m   3119\u001b[0m         \u001b[0mself\u001b[0m\u001b[1;33m.\u001b[0m\u001b[0m_ensure_valid_index\u001b[0m\u001b[1;33m(\u001b[0m\u001b[0mvalue\u001b[0m\u001b[1;33m)\u001b[0m\u001b[1;33m\u001b[0m\u001b[1;33m\u001b[0m\u001b[0m\n\u001b[1;32m-> 3120\u001b[1;33m         \u001b[0mvalue\u001b[0m \u001b[1;33m=\u001b[0m \u001b[0mself\u001b[0m\u001b[1;33m.\u001b[0m\u001b[0m_sanitize_column\u001b[0m\u001b[1;33m(\u001b[0m\u001b[0mkey\u001b[0m\u001b[1;33m,\u001b[0m \u001b[0mvalue\u001b[0m\u001b[1;33m)\u001b[0m\u001b[1;33m\u001b[0m\u001b[1;33m\u001b[0m\u001b[0m\n\u001b[0m\u001b[0;32m   3121\u001b[0m         \u001b[0mNDFrame\u001b[0m\u001b[1;33m.\u001b[0m\u001b[0m_set_item\u001b[0m\u001b[1;33m(\u001b[0m\u001b[0mself\u001b[0m\u001b[1;33m,\u001b[0m \u001b[0mkey\u001b[0m\u001b[1;33m,\u001b[0m \u001b[0mvalue\u001b[0m\u001b[1;33m)\u001b[0m\u001b[1;33m\u001b[0m\u001b[1;33m\u001b[0m\u001b[0m\n\u001b[0;32m   3122\u001b[0m \u001b[1;33m\u001b[0m\u001b[0m\n",
      "\u001b[1;32mc:\\users\\jerem\\.venvs\\himalaya\\lib\\site-packages\\pandas\\core\\frame.py\u001b[0m in \u001b[0;36m_sanitize_column\u001b[1;34m(self, key, value, broadcast)\u001b[0m\n\u001b[0;32m   3766\u001b[0m \u001b[1;33m\u001b[0m\u001b[0m\n\u001b[0;32m   3767\u001b[0m             \u001b[1;31m# turn me into an ndarray\u001b[0m\u001b[1;33m\u001b[0m\u001b[1;33m\u001b[0m\u001b[1;33m\u001b[0m\u001b[0m\n\u001b[1;32m-> 3768\u001b[1;33m             \u001b[0mvalue\u001b[0m \u001b[1;33m=\u001b[0m \u001b[0msanitize_index\u001b[0m\u001b[1;33m(\u001b[0m\u001b[0mvalue\u001b[0m\u001b[1;33m,\u001b[0m \u001b[0mself\u001b[0m\u001b[1;33m.\u001b[0m\u001b[0mindex\u001b[0m\u001b[1;33m)\u001b[0m\u001b[1;33m\u001b[0m\u001b[1;33m\u001b[0m\u001b[0m\n\u001b[0m\u001b[0;32m   3769\u001b[0m             \u001b[1;32mif\u001b[0m \u001b[1;32mnot\u001b[0m \u001b[0misinstance\u001b[0m\u001b[1;33m(\u001b[0m\u001b[0mvalue\u001b[0m\u001b[1;33m,\u001b[0m \u001b[1;33m(\u001b[0m\u001b[0mnp\u001b[0m\u001b[1;33m.\u001b[0m\u001b[0mndarray\u001b[0m\u001b[1;33m,\u001b[0m \u001b[0mIndex\u001b[0m\u001b[1;33m)\u001b[0m\u001b[1;33m)\u001b[0m\u001b[1;33m:\u001b[0m\u001b[1;33m\u001b[0m\u001b[1;33m\u001b[0m\u001b[0m\n\u001b[0;32m   3770\u001b[0m                 \u001b[1;32mif\u001b[0m \u001b[0misinstance\u001b[0m\u001b[1;33m(\u001b[0m\u001b[0mvalue\u001b[0m\u001b[1;33m,\u001b[0m \u001b[0mlist\u001b[0m\u001b[1;33m)\u001b[0m \u001b[1;32mand\u001b[0m \u001b[0mlen\u001b[0m\u001b[1;33m(\u001b[0m\u001b[0mvalue\u001b[0m\u001b[1;33m)\u001b[0m \u001b[1;33m>\u001b[0m \u001b[1;36m0\u001b[0m\u001b[1;33m:\u001b[0m\u001b[1;33m\u001b[0m\u001b[1;33m\u001b[0m\u001b[0m\n",
      "\u001b[1;32mc:\\users\\jerem\\.venvs\\himalaya\\lib\\site-packages\\pandas\\core\\internals\\construction.py\u001b[0m in \u001b[0;36msanitize_index\u001b[1;34m(data, index)\u001b[0m\n\u001b[0;32m    746\u001b[0m     \u001b[1;32mif\u001b[0m \u001b[0mlen\u001b[0m\u001b[1;33m(\u001b[0m\u001b[0mdata\u001b[0m\u001b[1;33m)\u001b[0m \u001b[1;33m!=\u001b[0m \u001b[0mlen\u001b[0m\u001b[1;33m(\u001b[0m\u001b[0mindex\u001b[0m\u001b[1;33m)\u001b[0m\u001b[1;33m:\u001b[0m\u001b[1;33m\u001b[0m\u001b[1;33m\u001b[0m\u001b[0m\n\u001b[0;32m    747\u001b[0m         raise ValueError(\n\u001b[1;32m--> 748\u001b[1;33m             \u001b[1;34m\"Length of values \"\u001b[0m\u001b[1;33m\u001b[0m\u001b[1;33m\u001b[0m\u001b[0m\n\u001b[0m\u001b[0;32m    749\u001b[0m             \u001b[1;34mf\"({len(data)}) \"\u001b[0m\u001b[1;33m\u001b[0m\u001b[1;33m\u001b[0m\u001b[0m\n\u001b[0;32m    750\u001b[0m             \u001b[1;34m\"does not match length of index \"\u001b[0m\u001b[1;33m\u001b[0m\u001b[1;33m\u001b[0m\u001b[0m\n",
      "\u001b[1;31mValueError\u001b[0m: Length of values (227) does not match length of index (248)"
     ]
    }
   ],
   "source": [
    "# feature without peak_id\n",
    "dfeat = pd.DataFrame(data=boost.feature_importances_)\n",
    "dfeat['feature'] = feature_names\n",
    "dfeat.columns = ['value', 'feature']\n",
    "df_feat_2 = dfeat[~dfeat['feature'].str.contains('peak_id')]\n",
    "df_feat_2 = df_feat_2.sort_values(by='value')\n",
    "\n",
    "palette = sns.color_palette(\"Blues_r\", n_colors=10)\n",
    "palette.reverse()\n",
    "\n",
    "plt.figure(figsize=(15,7))\n",
    "sns.barplot(x=df_feat_2.tail(10)['feature'], y=df_feat_2.tail(10)['value'], palette=palette)\n",
    "plt.xticks(rotation=90)\n",
    "sns.set()\n",
    "sns.set_style('white')\n",
    "sns.despine(offset=10, trim=True, bottom=True, left=True)\n",
    "plt.yticks([])\n",
    "plt.ylabel('')\n",
    "plt.title('Features Importance Without O2 Used', fontdict = font)\n",
    "plt.show()"
   ]
  },
  {
   "cell_type": "raw",
   "metadata": {
    "hidden": true
   },
   "source": [
    "font = {'family': 'sans-serif',\n",
    "        'color':  'black',\n",
    "        'weight': 'normal',\n",
    "        'size': 16}\n",
    "\n",
    "x, y, hue = \"o2_used\", \"Percentage\", \"summit_success\"\n",
    "prop_df = (df[hue]\n",
    "           .groupby(df[x])\n",
    "           .value_counts(normalize=True)\n",
    "           .rename(y)\n",
    "           .reset_index())\n",
    "\n",
    "splot = sns.barplot(x=x, y=y, hue=hue, data=prop_df, palette=\"Blues_r\")\n",
    "sns.set()\n",
    "sns.set_style('white')\n",
    "sns.despine(left=True)\n",
    "plt.ylabel('')\n",
    "plt.yticks([], [])\n",
    "plt.legend(title='Success')\n",
    "plt.xlabel('O2 Used', fontdict=font)\n",
    "\n",
    "for p in splot.patches:\n",
    "    splot.annotate(format(p.get_height()*100, '.1f'), \n",
    "                   (p.get_x() + p.get_width() / 2., p.get_height()), \n",
    "                   ha = 'center', \n",
    "                   va = 'center', \n",
    "                   size=15,\n",
    "                   xytext = (0, -12), \n",
    "                   textcoords = 'offset points',\n",
    "                   color = 'white',\n",
    "                  fontsize=20)"
   ]
  },
  {
   "cell_type": "code",
   "execution_count": 253,
   "metadata": {
    "hidden": true
   },
   "outputs": [
    {
     "data": {
      "image/png": "[encoded data removed]",
      "text/plain": [
       "<Figure size 432x288 with 1 Axes>"
      ]
     },
     "metadata": {},
     "output_type": "display_data"
    }
   ],
   "source": [
    "font = {'family': 'sans-serif',\n",
    "        'color':  'black',\n",
    "        'weight': 'normal',\n",
    "        'size': 16}\n",
    "\n",
    "x, y, hue = \"comrte\", \"Percentage\", \"summit_success\"\n",
    "prop_df = (df[hue]\n",
    "           .groupby(df[x])\n",
    "           .value_counts(normalize=True)\n",
    "           .rename(y)\n",
    "           .reset_index())\n",
    "\n",
    "splot = sns.barplot(x=x, y=y, hue=hue, data=prop_df, palette=\"mako\")\n",
    "sns.set()\n",
    "sns.set_style('white')\n",
    "sns.despine(offset=10, trim=True, bottom=True)\n",
    "plt.legend().remove()\n",
    "plt.xlabel('Commercial Route', fontdict=font)\n",
    "plt.show()"
   ]
  },
  {
   "cell_type": "code",
   "execution_count": 250,
   "metadata": {},
   "outputs": [
    {
     "data": {
      "text/html": [
       "<div>\n",
       "<style scoped>\n",
       "    .dataframe tbody tr th:only-of-type {\n",
       "        vertical-align: middle;\n",
       "    }\n",
       "\n",
       "    .dataframe tbody tr th {\n",
       "        vertical-align: top;\n",
       "    }\n",
       "\n",
       "    .dataframe thead th {\n",
       "        text-align: right;\n",
       "    }\n",
       "</style>\n",
       "<table border=\"1\" class=\"dataframe\">\n",
       "  <thead>\n",
       "    <tr style=\"text-align: right;\">\n",
       "      <th></th>\n",
       "      <th>summit_success</th>\n",
       "    </tr>\n",
       "    <tr>\n",
       "      <th>comrte</th>\n",
       "      <th></th>\n",
       "    </tr>\n",
       "  </thead>\n",
       "  <tbody>\n",
       "    <tr>\n",
       "      <th>False</th>\n",
       "      <td>7147</td>\n",
       "    </tr>\n",
       "    <tr>\n",
       "      <th>True</th>\n",
       "      <td>14674</td>\n",
       "    </tr>\n",
       "  </tbody>\n",
       "</table>\n",
       "</div>"
      ],
      "text/plain": [
       "        summit_success\n",
       "comrte                \n",
       "False             7147\n",
       "True             14674"
      ]
     },
     "execution_count": 250,
     "metadata": {},
     "output_type": "execute_result"
    }
   ],
   "source": [
    "df.groupby('comrte').agg({'summit_success': np.sum, 'summit_success': 'count'})"
   ]
  },
  {
   "cell_type": "code",
   "execution_count": 252,
   "metadata": {},
   "outputs": [
    {
     "data": {
      "text/html": [
       "<div>\n",
       "<style scoped>\n",
       "    .dataframe tbody tr th:only-of-type {\n",
       "        vertical-align: middle;\n",
       "    }\n",
       "\n",
       "    .dataframe tbody tr th {\n",
       "        vertical-align: top;\n",
       "    }\n",
       "\n",
       "    .dataframe thead th {\n",
       "        text-align: right;\n",
       "    }\n",
       "</style>\n",
       "<table border=\"1\" class=\"dataframe\">\n",
       "  <thead>\n",
       "    <tr style=\"text-align: right;\">\n",
       "      <th></th>\n",
       "      <th>summit_success</th>\n",
       "    </tr>\n",
       "    <tr>\n",
       "      <th>comrte</th>\n",
       "      <th></th>\n",
       "    </tr>\n",
       "  </thead>\n",
       "  <tbody>\n",
       "    <tr>\n",
       "      <th>False</th>\n",
       "      <td>2599</td>\n",
       "    </tr>\n",
       "    <tr>\n",
       "      <th>True</th>\n",
       "      <td>8607</td>\n",
       "    </tr>\n",
       "  </tbody>\n",
       "</table>\n",
       "</div>"
      ],
      "text/plain": [
       "        summit_success\n",
       "comrte                \n",
       "False             2599\n",
       "True              8607"
      ]
     },
     "execution_count": 252,
     "metadata": {},
     "output_type": "execute_result"
    }
   ],
   "source": [
    "df.groupby('comrte').agg({'summit_success': np.sum})"
   ]
  },
  {
   "cell_type": "code",
   "execution_count": 184,
   "metadata": {
    "hidden": true
   },
   "outputs": [
    {
     "data": {
      "image/png": "[encoded data removed]",
      "text/plain": [
       "<Figure size 432x288 with 1 Axes>"
      ]
     },
     "metadata": {},
     "output_type": "display_data"
    }
   ],
   "source": [
    "x, y, hue = \"status\", \"Percentage\", \"summit_success\"\n",
    "prop_df = (df[hue]\n",
    "           .groupby(df[x])\n",
    "           .value_counts(normalize=True)\n",
    "           .rename(y)\n",
    "           .reset_index())\n",
    "\n",
    "splot = sns.barplot(x=x, y=y, hue=hue, data=prop_df, palette=\"Blues_r\")\n",
    "sns.set()\n",
    "sns.set_style('white')\n",
    "sns.despine(offset=10, trim=True, bottom=True)\n",
    "plt.legend().remove()\n",
    "plt.xlabel('Status', fontdict=font)\n",
    "plt.show()"
   ]
  },
  {
   "cell_type": "code",
   "execution_count": 215,
   "metadata": {},
   "outputs": [],
   "source": [
    "member = Members().get_data()\n",
    "member = Members().clean_data(member)"
   ]
  },
  {
   "cell_type": "code",
   "execution_count": 202,
   "metadata": {},
   "outputs": [],
   "source": [
    "colors = [\"#db525a\", \"#1cb992\"]"
   ]
  },
  {
   "cell_type": "code",
   "execution_count": 224,
   "metadata": {},
   "outputs": [
    {
     "data": {
      "image/png": "[encoded data removed]",
      "text/plain": [
       "<Figure size 432x288 with 1 Axes>"
      ]
     },
     "metadata": {},
     "output_type": "display_data"
    }
   ],
   "source": [
    "x, y, hue = \"o2_used\", \"Percentage\", \"summit_success\"\n",
    "prop_df = (member[x]\n",
    "           .groupby(member[hue])\n",
    "           .value_counts(normalize=True)\n",
    "           .rename(y)\n",
    "           .reset_index())\n",
    "sns.set_palette(sns.color_palette(colors))\n",
    "ax = sns.barplot(x=hue, y=y, hue=x, data=prop_df)\n",
    "sns.set()\n",
    "sns.set_style('white')\n",
    "sns.despine(offset=10, trim=True, bottom=True)\n",
    "plt.legend().remove()\n",
    "plt.xlabel('o2 usage during ascencion', fontdict=font)\n",
    "plt.show()"
   ]
  },
  {
   "cell_type": "code",
   "execution_count": 217,
   "metadata": {},
   "outputs": [],
   "source": [
    "def summit_succes(x):\n",
    "    if x == True:\n",
    "        return \"Summit success\"\n",
    "    elif x == False:\n",
    "        return 'Summit Failure'\n",
    "member[\"summit_success\"] = member[\"summit_success\"].map(summit_succes)"
   ]
  },
  {
   "cell_type": "code",
   "execution_count": 218,
   "metadata": {},
   "outputs": [
    {
     "data": {
      "text/plain": [
       "summit_success\n",
       "Summit Failure    13340\n",
       "Summit success    13165\n",
       "dtype: int64"
      ]
     },
     "execution_count": 218,
     "metadata": {},
     "output_type": "execute_result"
    }
   ],
   "source": [
    "member[[\"summit_success\"]].value_counts()"
   ]
  },
  {
   "cell_type": "code",
   "execution_count": 207,
   "metadata": {
    "hidden": true
   },
   "outputs": [
    {
     "data": {
      "image/png": "[encoded data removed]",
      "text/plain": [
       "<Figure size 432x288 with 1 Axes>"
      ]
     },
     "metadata": {},
     "output_type": "display_data"
    }
   ],
   "source": [
    "sns.boxplot(y=df[\"peak_height\"],x=df['summit_success'], palette=\"Blues_r\")\n",
    "sns.despine(offset=10, trim=True, bottom=True)\n",
    "plt.xlabel('Success', fontdict=font)\n",
    "plt.ylabel('Peak Height')\n",
    "plt.show()"
   ]
  },
  {
   "cell_type": "code",
   "execution_count": 182,
   "metadata": {
    "hidden": true
   },
   "outputs": [
    {
     "ename": "NameError",
     "evalue": "name 'font' is not defined",
     "output_type": "error",
     "traceback": [
      "\u001b[1;31m---------------------------------------------------------------------------\u001b[0m",
      "\u001b[1;31mNameError\u001b[0m                                 Traceback (most recent call last)",
      "\u001b[1;32m<ipython-input-182-35016f378a9c>\u001b[0m in \u001b[0;36m<module>\u001b[1;34m\u001b[0m\n\u001b[0;32m     13\u001b[0m \u001b[0msns\u001b[0m\u001b[1;33m.\u001b[0m\u001b[0mbarplot\u001b[0m\u001b[1;33m(\u001b[0m\u001b[0mx\u001b[0m\u001b[1;33m=\u001b[0m\u001b[0mprop_df\u001b[0m\u001b[1;33m.\u001b[0m\u001b[0mindex\u001b[0m\u001b[1;33m,\u001b[0m \u001b[0my\u001b[0m\u001b[1;33m=\u001b[0m\u001b[0my\u001b[0m\u001b[1;33m,\u001b[0m \u001b[0mhue\u001b[0m\u001b[1;33m=\u001b[0m\u001b[0mhue\u001b[0m\u001b[1;33m,\u001b[0m \u001b[0mdata\u001b[0m\u001b[1;33m=\u001b[0m\u001b[0mprop_df\u001b[0m\u001b[1;33m,\u001b[0m \u001b[0mpalette\u001b[0m\u001b[1;33m=\u001b[0m\u001b[1;34m\"Blues_r\"\u001b[0m\u001b[1;33m)\u001b[0m\u001b[1;33m\u001b[0m\u001b[1;33m\u001b[0m\u001b[0m\n\u001b[0;32m     14\u001b[0m \u001b[0msns\u001b[0m\u001b[1;33m.\u001b[0m\u001b[0mdespine\u001b[0m\u001b[1;33m(\u001b[0m\u001b[0moffset\u001b[0m\u001b[1;33m=\u001b[0m\u001b[1;36m10\u001b[0m\u001b[1;33m,\u001b[0m \u001b[0mtrim\u001b[0m\u001b[1;33m=\u001b[0m\u001b[1;32mTrue\u001b[0m\u001b[1;33m,\u001b[0m \u001b[0mbottom\u001b[0m\u001b[1;33m=\u001b[0m\u001b[1;32mTrue\u001b[0m\u001b[1;33m)\u001b[0m\u001b[1;33m\u001b[0m\u001b[1;33m\u001b[0m\u001b[0m\n\u001b[1;32m---> 15\u001b[1;33m \u001b[0mplt\u001b[0m\u001b[1;33m.\u001b[0m\u001b[0mxlabel\u001b[0m\u001b[1;33m(\u001b[0m\u001b[1;34m'Season'\u001b[0m\u001b[1;33m,\u001b[0m \u001b[0mfontdict\u001b[0m\u001b[1;33m=\u001b[0m\u001b[0mfont\u001b[0m\u001b[1;33m)\u001b[0m\u001b[1;33m\u001b[0m\u001b[1;33m\u001b[0m\u001b[0m\n\u001b[0m\u001b[0;32m     16\u001b[0m \u001b[0mplt\u001b[0m\u001b[1;33m.\u001b[0m\u001b[0mlegend\u001b[0m\u001b[1;33m(\u001b[0m\u001b[1;33m)\u001b[0m\u001b[1;33m.\u001b[0m\u001b[0mremove\u001b[0m\u001b[1;33m(\u001b[0m\u001b[1;33m)\u001b[0m\u001b[1;33m\u001b[0m\u001b[1;33m\u001b[0m\u001b[0m\n\u001b[0;32m     17\u001b[0m \u001b[0mplt\u001b[0m\u001b[1;33m.\u001b[0m\u001b[0mshow\u001b[0m\u001b[1;33m(\u001b[0m\u001b[1;33m)\u001b[0m\u001b[1;33m\u001b[0m\u001b[1;33m\u001b[0m\u001b[0m\n",
      "\u001b[1;31mNameError\u001b[0m: name 'font' is not defined"
     ]
    },
    {
     "data": {
      "image/png": "[encoded data removed]",
      "text/plain": [
       "<Figure size 432x288 with 1 Axes>"
      ]
     },
     "metadata": {},
     "output_type": "display_data"
    }
   ],
   "source": [
    "x, y, hue = \"season\", \"Percentage\", \"summit_success\"\n",
    "\n",
    "prop_df = (df[hue]\n",
    "           .groupby(df[x])\n",
    "           .value_counts(normalize=True)\n",
    "           .rename(y)\n",
    "           .reset_index())\n",
    "\n",
    "field = \"season\"\n",
    "day_order = [\"Spring\", \"Summer\", \"Autumn\", \"Winter\"]\n",
    "prop_df = prop_df.set_index(field).loc[day_order]\n",
    "\n",
    "sns.barplot(x=prop_df.index, y=y, hue=hue, data=prop_df, palette=\"Blues_r\")\n",
    "sns.despine(offset=10, trim=True, bottom=True)\n",
    "plt.xlabel('Season', fontdict=font)\n",
    "plt.legend().remove()\n",
    "plt.show()"
   ]
  },
  {
   "cell_type": "code",
   "execution_count": null,
   "metadata": {
    "hidden": true
   },
   "outputs": [],
   "source": [
    "sns.boxplot(y=df[\"summit_days\"],x=df['summit_success'], palette=\"Blues_r\")\n",
    "sns.despine(offset=10, trim=True, bottom=True)\n",
    "plt.xlabel('Success', fontdict=font)\n",
    "plt.ylabel('Summit Days')\n",
    "plt.show()"
   ]
  },
  {
   "cell_type": "code",
   "execution_count": null,
   "metadata": {
    "hidden": true
   },
   "outputs": [],
   "source": [
    "sns.boxplot(y=df[\"camps\"],x=df['summit_success'], palette=\"Blues_r\")\n",
    "plt.ylim((0,10))\n",
    "sns.despine(offset=10, trim=True, bottom=True)\n",
    "plt.xlabel('Success', fontdict=font)\n",
    "plt.ylabel('Number of Camps')\n",
    "plt.show()"
   ]
  },
  {
   "cell_type": "code",
   "execution_count": null,
   "metadata": {
    "hidden": true
   },
   "outputs": [],
   "source": [
    "x, y, hue = \"no_hired\", \"Percentage\", \"summit_success\"\n",
    "\n",
    "prop_df = (df[hue]\n",
    "           .groupby(df[x])\n",
    "           .value_counts(normalize=True)\n",
    "           .rename(y)\n",
    "           .reset_index())\n",
    "\n",
    "sns.barplot(x=x, y=y, hue=hue, data=prop_df, palette=\"Blues_r\")\n",
    "sns.despine(offset=10, trim=True, bottom=True)\n",
    "plt.legend().remove()\n",
    "plt.xlabel('Hired Sherpas', fontdict=font)\n",
    "plt.show()"
   ]
  },
  {
   "cell_type": "markdown",
   "metadata": {
    "heading_collapsed": true,
    "hidden": true
   },
   "source": [
    "### Feature permutation"
   ]
  },
  {
   "cell_type": "code",
   "execution_count": 227,
   "metadata": {
    "hidden": true
   },
   "outputs": [],
   "source": [
    "from sklearn.inspection import permutation_importance\n",
    "perm_importance = permutation_importance(boost, X_test, y_test)"
   ]
  },
  {
   "cell_type": "code",
   "execution_count": null,
   "metadata": {},
   "outputs": [],
   "source": []
  },
  {
   "cell_type": "code",
   "execution_count": 228,
   "metadata": {
    "hidden": true,
    "scrolled": false
   },
   "outputs": [
    {
     "ename": "ValueError",
     "evalue": "Length of values (227) does not match length of index (248)",
     "output_type": "error",
     "traceback": [
      "\u001b[1;31m---------------------------------------------------------------------------\u001b[0m",
      "\u001b[1;31mValueError\u001b[0m                                Traceback (most recent call last)",
      "\u001b[1;32m<ipython-input-228-258784386e66>\u001b[0m in \u001b[0;36m<module>\u001b[1;34m\u001b[0m\n\u001b[0;32m      5\u001b[0m \u001b[1;33m\u001b[0m\u001b[0m\n\u001b[0;32m      6\u001b[0m \u001b[0mdfeat_prem\u001b[0m \u001b[1;33m=\u001b[0m \u001b[0mpd\u001b[0m\u001b[1;33m.\u001b[0m\u001b[0mDataFrame\u001b[0m\u001b[1;33m(\u001b[0m\u001b[0mdata\u001b[0m\u001b[1;33m=\u001b[0m\u001b[0mperm_importance\u001b[0m\u001b[1;33m.\u001b[0m\u001b[0mimportances_mean\u001b[0m\u001b[1;33m[\u001b[0m\u001b[0msorted_idx\u001b[0m\u001b[1;33m]\u001b[0m\u001b[1;33m)\u001b[0m\u001b[1;33m\u001b[0m\u001b[1;33m\u001b[0m\u001b[0m\n\u001b[1;32m----> 7\u001b[1;33m \u001b[0mdfeat_prem\u001b[0m\u001b[1;33m[\u001b[0m\u001b[1;34m'feature'\u001b[0m\u001b[1;33m]\u001b[0m \u001b[1;33m=\u001b[0m \u001b[0msorted_feat\u001b[0m\u001b[1;33m\u001b[0m\u001b[1;33m\u001b[0m\u001b[0m\n\u001b[0m\u001b[0;32m      8\u001b[0m \u001b[0mdfeat_prem\u001b[0m\u001b[1;33m.\u001b[0m\u001b[0mcolumns\u001b[0m \u001b[1;33m=\u001b[0m \u001b[1;33m[\u001b[0m\u001b[1;34m'value'\u001b[0m\u001b[1;33m,\u001b[0m \u001b[1;34m'feature'\u001b[0m\u001b[1;33m]\u001b[0m\u001b[1;33m\u001b[0m\u001b[1;33m\u001b[0m\u001b[0m\n\u001b[0;32m      9\u001b[0m \u001b[0mdfeat_prem\u001b[0m \u001b[1;33m=\u001b[0m \u001b[0mdfeat_prem\u001b[0m\u001b[1;33m.\u001b[0m\u001b[0msort_values\u001b[0m\u001b[1;33m(\u001b[0m\u001b[0mby\u001b[0m\u001b[1;33m=\u001b[0m\u001b[1;34m'value'\u001b[0m\u001b[1;33m)\u001b[0m\u001b[1;33m\u001b[0m\u001b[1;33m\u001b[0m\u001b[0m\n",
      "\u001b[1;32mc:\\users\\jerem\\.venvs\\himalaya\\lib\\site-packages\\pandas\\core\\frame.py\u001b[0m in \u001b[0;36m__setitem__\u001b[1;34m(self, key, value)\u001b[0m\n\u001b[0;32m   3042\u001b[0m         \u001b[1;32melse\u001b[0m\u001b[1;33m:\u001b[0m\u001b[1;33m\u001b[0m\u001b[1;33m\u001b[0m\u001b[0m\n\u001b[0;32m   3043\u001b[0m             \u001b[1;31m# set column\u001b[0m\u001b[1;33m\u001b[0m\u001b[1;33m\u001b[0m\u001b[1;33m\u001b[0m\u001b[0m\n\u001b[1;32m-> 3044\u001b[1;33m             \u001b[0mself\u001b[0m\u001b[1;33m.\u001b[0m\u001b[0m_set_item\u001b[0m\u001b[1;33m(\u001b[0m\u001b[0mkey\u001b[0m\u001b[1;33m,\u001b[0m \u001b[0mvalue\u001b[0m\u001b[1;33m)\u001b[0m\u001b[1;33m\u001b[0m\u001b[1;33m\u001b[0m\u001b[0m\n\u001b[0m\u001b[0;32m   3045\u001b[0m \u001b[1;33m\u001b[0m\u001b[0m\n\u001b[0;32m   3046\u001b[0m     \u001b[1;32mdef\u001b[0m \u001b[0m_setitem_slice\u001b[0m\u001b[1;33m(\u001b[0m\u001b[0mself\u001b[0m\u001b[1;33m,\u001b[0m \u001b[0mkey\u001b[0m\u001b[1;33m:\u001b[0m \u001b[0mslice\u001b[0m\u001b[1;33m,\u001b[0m \u001b[0mvalue\u001b[0m\u001b[1;33m)\u001b[0m\u001b[1;33m:\u001b[0m\u001b[1;33m\u001b[0m\u001b[1;33m\u001b[0m\u001b[0m\n",
      "\u001b[1;32mc:\\users\\jerem\\.venvs\\himalaya\\lib\\site-packages\\pandas\\core\\frame.py\u001b[0m in \u001b[0;36m_set_item\u001b[1;34m(self, key, value)\u001b[0m\n\u001b[0;32m   3118\u001b[0m         \"\"\"\n\u001b[0;32m   3119\u001b[0m         \u001b[0mself\u001b[0m\u001b[1;33m.\u001b[0m\u001b[0m_ensure_valid_index\u001b[0m\u001b[1;33m(\u001b[0m\u001b[0mvalue\u001b[0m\u001b[1;33m)\u001b[0m\u001b[1;33m\u001b[0m\u001b[1;33m\u001b[0m\u001b[0m\n\u001b[1;32m-> 3120\u001b[1;33m         \u001b[0mvalue\u001b[0m \u001b[1;33m=\u001b[0m \u001b[0mself\u001b[0m\u001b[1;33m.\u001b[0m\u001b[0m_sanitize_column\u001b[0m\u001b[1;33m(\u001b[0m\u001b[0mkey\u001b[0m\u001b[1;33m,\u001b[0m \u001b[0mvalue\u001b[0m\u001b[1;33m)\u001b[0m\u001b[1;33m\u001b[0m\u001b[1;33m\u001b[0m\u001b[0m\n\u001b[0m\u001b[0;32m   3121\u001b[0m         \u001b[0mNDFrame\u001b[0m\u001b[1;33m.\u001b[0m\u001b[0m_set_item\u001b[0m\u001b[1;33m(\u001b[0m\u001b[0mself\u001b[0m\u001b[1;33m,\u001b[0m \u001b[0mkey\u001b[0m\u001b[1;33m,\u001b[0m \u001b[0mvalue\u001b[0m\u001b[1;33m)\u001b[0m\u001b[1;33m\u001b[0m\u001b[1;33m\u001b[0m\u001b[0m\n\u001b[0;32m   3122\u001b[0m \u001b[1;33m\u001b[0m\u001b[0m\n",
      "\u001b[1;32mc:\\users\\jerem\\.venvs\\himalaya\\lib\\site-packages\\pandas\\core\\frame.py\u001b[0m in \u001b[0;36m_sanitize_column\u001b[1;34m(self, key, value, broadcast)\u001b[0m\n\u001b[0;32m   3766\u001b[0m \u001b[1;33m\u001b[0m\u001b[0m\n\u001b[0;32m   3767\u001b[0m             \u001b[1;31m# turn me into an ndarray\u001b[0m\u001b[1;33m\u001b[0m\u001b[1;33m\u001b[0m\u001b[1;33m\u001b[0m\u001b[0m\n\u001b[1;32m-> 3768\u001b[1;33m             \u001b[0mvalue\u001b[0m \u001b[1;33m=\u001b[0m \u001b[0msanitize_index\u001b[0m\u001b[1;33m(\u001b[0m\u001b[0mvalue\u001b[0m\u001b[1;33m,\u001b[0m \u001b[0mself\u001b[0m\u001b[1;33m.\u001b[0m\u001b[0mindex\u001b[0m\u001b[1;33m)\u001b[0m\u001b[1;33m\u001b[0m\u001b[1;33m\u001b[0m\u001b[0m\n\u001b[0m\u001b[0;32m   3769\u001b[0m             \u001b[1;32mif\u001b[0m \u001b[1;32mnot\u001b[0m \u001b[0misinstance\u001b[0m\u001b[1;33m(\u001b[0m\u001b[0mvalue\u001b[0m\u001b[1;33m,\u001b[0m \u001b[1;33m(\u001b[0m\u001b[0mnp\u001b[0m\u001b[1;33m.\u001b[0m\u001b[0mndarray\u001b[0m\u001b[1;33m,\u001b[0m \u001b[0mIndex\u001b[0m\u001b[1;33m)\u001b[0m\u001b[1;33m)\u001b[0m\u001b[1;33m:\u001b[0m\u001b[1;33m\u001b[0m\u001b[1;33m\u001b[0m\u001b[0m\n\u001b[0;32m   3770\u001b[0m                 \u001b[1;32mif\u001b[0m \u001b[0misinstance\u001b[0m\u001b[1;33m(\u001b[0m\u001b[0mvalue\u001b[0m\u001b[1;33m,\u001b[0m \u001b[0mlist\u001b[0m\u001b[1;33m)\u001b[0m \u001b[1;32mand\u001b[0m \u001b[0mlen\u001b[0m\u001b[1;33m(\u001b[0m\u001b[0mvalue\u001b[0m\u001b[1;33m)\u001b[0m \u001b[1;33m>\u001b[0m \u001b[1;36m0\u001b[0m\u001b[1;33m:\u001b[0m\u001b[1;33m\u001b[0m\u001b[1;33m\u001b[0m\u001b[0m\n",
      "\u001b[1;32mc:\\users\\jerem\\.venvs\\himalaya\\lib\\site-packages\\pandas\\core\\internals\\construction.py\u001b[0m in \u001b[0;36msanitize_index\u001b[1;34m(data, index)\u001b[0m\n\u001b[0;32m    746\u001b[0m     \u001b[1;32mif\u001b[0m \u001b[0mlen\u001b[0m\u001b[1;33m(\u001b[0m\u001b[0mdata\u001b[0m\u001b[1;33m)\u001b[0m \u001b[1;33m!=\u001b[0m \u001b[0mlen\u001b[0m\u001b[1;33m(\u001b[0m\u001b[0mindex\u001b[0m\u001b[1;33m)\u001b[0m\u001b[1;33m:\u001b[0m\u001b[1;33m\u001b[0m\u001b[1;33m\u001b[0m\u001b[0m\n\u001b[0;32m    747\u001b[0m         raise ValueError(\n\u001b[1;32m--> 748\u001b[1;33m             \u001b[1;34m\"Length of values \"\u001b[0m\u001b[1;33m\u001b[0m\u001b[1;33m\u001b[0m\u001b[0m\n\u001b[0m\u001b[0;32m    749\u001b[0m             \u001b[1;34mf\"({len(data)}) \"\u001b[0m\u001b[1;33m\u001b[0m\u001b[1;33m\u001b[0m\u001b[0m\n\u001b[0;32m    750\u001b[0m             \u001b[1;34m\"does not match length of index \"\u001b[0m\u001b[1;33m\u001b[0m\u001b[1;33m\u001b[0m\u001b[0m\n",
      "\u001b[1;31mValueError\u001b[0m: Length of values (227) does not match length of index (248)"
     ]
    }
   ],
   "source": [
    "sorted_idx = perm_importance.importances_mean.argsort()\n",
    "\n",
    "Y = list(sorted_idx)\n",
    "sorted_feat = [x for _,x in sorted(zip(Y,feature_names))]\n",
    "\n",
    "dfeat_prem = pd.DataFrame(data=perm_importance.importances_mean[sorted_idx])\n",
    "dfeat_prem['feature'] = sorted_feat\n",
    "dfeat_prem.columns = ['value', 'feature']\n",
    "dfeat_prem = dfeat_prem.sort_values(by='value')\n",
    "dfeat_prem = dfeat_prem[~dfeat_prem['feature'].str.contains('peak')]\n",
    "dfeat_prem = dfeat_prem[dfeat_prem['value']!=0]\n",
    "\n",
    "\n",
    "val = 0.005\n",
    "# plot\n",
    "plt.bar(dfeat_prem.feature, dfeat_prem.value)\n",
    "plt.xticks(rotation=90)\n",
    "plt.show()"
   ]
  },
  {
   "cell_type": "code",
   "execution_count": 244,
   "metadata": {
    "hidden": true
   },
   "outputs": [
    {
     "data": {
      "image/png": "[encoded data removed]",
      "text/plain": [
       "<Figure size 576x684 with 2 Axes>"
      ]
     },
     "metadata": {},
     "output_type": "display_data"
    }
   ],
   "source": [
    "import shap\n",
    "explainer = shap.TreeExplainer(boost)\n",
    "shap_values = explainer.shap_values(X_test)\n",
    "\n",
    "shap.summary_plot(shap_values, X_test, feature_names= feature_names)"
   ]
  },
  {
   "cell_type": "code",
   "execution_count": 238,
   "metadata": {},
   "outputs": [
    {
     "data": {
      "text/plain": [
       "(6547, 248)"
      ]
     },
     "execution_count": 238,
     "metadata": {},
     "output_type": "execute_result"
    }
   ],
   "source": [
    "shap_values.shape"
   ]
  },
  {
   "cell_type": "code",
   "execution_count": 243,
   "metadata": {},
   "outputs": [
    {
     "data": {
      "text/plain": [
       "248"
      ]
     },
     "execution_count": 243,
     "metadata": {},
     "output_type": "execute_result"
    }
   ],
   "source": [
    "len(feature_names)"
   ]
  },
  {
   "cell_type": "markdown",
   "metadata": {
    "heading_collapsed": true,
    "hidden": true
   },
   "source": [
    "## Other Models"
   ]
  },
  {
   "cell_type": "code",
   "execution_count": null,
   "metadata": {
    "hidden": true
   },
   "outputs": [],
   "source": [
    "from sklearn.linear_model import LogisticRegression\n",
    "\n",
    "reg = LogisticRegression(max_iter=500)\n",
    "reg.fit(X_train, y_train)\n",
    "ypred = reg.predict(X_test)\n",
    "print(classification_report(y_test, ypred))"
   ]
  },
  {
   "cell_type": "code",
   "execution_count": null,
   "metadata": {
    "hidden": true
   },
   "outputs": [],
   "source": [
    "from sklearn.ensemble import RandomForestClassifier\n",
    "clf = RandomForestClassifier(random_state=0)\n",
    "clf.fit(X_train, y_train)\n",
    "ypred = clf.predict(X_test)\n",
    "print(classification_report(y_test, ypred))"
   ]
  },
  {
   "cell_type": "code",
   "execution_count": null,
   "metadata": {
    "hidden": true
   },
   "outputs": [],
   "source": [
    "import tensorflow as tf\n",
    "from tensorflow.keras import models\n",
    "from tensorflow.keras.models import Sequential\n",
    "from tensorflow.keras import layers\n",
    "from tensorflow.keras.regularizers import l1\n",
    "\n",
    "\n",
    "def initialize_model():\n",
    "    \n",
    "    # Model architecture\n",
    "    model = Sequential()\n",
    "    model.add(layers.Dropout(0.2, input_shape=(176,)))\n",
    "    model.add(layers.Dense(200, activation = 'relu', activity_regularizer=l1(0.0001)))\n",
    "    model.add(layers.Dense(100, activation = 'relu', activity_regularizer=l1(0.0001)))\n",
    "    model.add(layers.Dense(50, activation = 'relu'))\n",
    "    model.add(layers.Dense(1, activation = 'sigmoid'))\n",
    "    \n",
    "    # Model optimization : Optimizer, loss and metric \n",
    "    model.compile(optimizer = 'adam', \n",
    "                  loss = 'binary_crossentropy', \n",
    "                  metrics = ['accuracy'])\n",
    "    \n",
    "    return model\n",
    "\n",
    "from tensorflow.keras.callbacks import EarlyStopping\n",
    "\n",
    "es = EarlyStopping(patience = 30, restore_best_weights=True)\n",
    "\n",
    "model_NN = initialize_model()\n",
    "\n",
    "history = model_NN.fit(X_train, y_train, \n",
    "                    validation_data=(X_test, y_test), \n",
    "                    epochs= 300, \n",
    "                    batch_size=8,\n",
    "                    verbose=0,\n",
    "                   callbacks = [es])\n",
    "\n",
    "y_pred_NN = model_NN.predict_classes(X_test)\n",
    "print(classification_report(y_test, y_pred_NN))"
   ]
  },
  {
   "cell_type": "markdown",
   "metadata": {
    "heading_collapsed": true,
    "hidden": true
   },
   "source": [
    "## RandomSearchCV"
   ]
  },
  {
   "cell_type": "markdown",
   "metadata": {
    "heading_collapsed": true,
    "hidden": true
   },
   "source": [
    "### XGB"
   ]
  },
  {
   "cell_type": "code",
   "execution_count": null,
   "metadata": {
    "hidden": true
   },
   "outputs": [],
   "source": [
    "%%time\n",
    "from sklearn.model_selection import RandomizedSearchCV\n",
    "\n",
    "params = {'booster' : ['gbtree', 'gblinear'],\n",
    "        'min_child_weight': [0.1, 1, 5, 10, 50],\n",
    "        'gamma': [0.5, 1, 1.5, 2, 5],\n",
    "        'subsample': [0.6, 0.8, 1.0],\n",
    "        'colsample_bytree': [0.6, 0.8, 1.0],\n",
    "        'max_depth': [5, 10, 25, 50],\n",
    "        'learning_rate': [0.0001, 0.001, 0.1, 1],\n",
    "        'n_estimators': [50, 100, 250, 500],\n",
    "        'reg_alpha': [0.0001, 0.001, 0.1, 1],\n",
    "        'reg_lambda': [0.0001, 0.001, 0.1, 1]\n",
    "        }\n",
    "\n",
    "model = XGBClassifier()\n",
    "\n",
    "random_search = RandomizedSearchCV(model, \n",
    "                                   cv=5,\n",
    "                                   param_distributions=params,  \n",
    "                                   scoring='accuracy', \n",
    "                                   n_jobs=-1,\n",
    "                                   verbose=0, \n",
    "                                   random_state=1001)\n",
    "\n",
    "random_search.fit(X_train, y_train)"
   ]
  },
  {
   "cell_type": "code",
   "execution_count": null,
   "metadata": {
    "hidden": true
   },
   "outputs": [],
   "source": [
    "boost"
   ]
  },
  {
   "cell_type": "code",
   "execution_count": null,
   "metadata": {
    "hidden": true
   },
   "outputs": [],
   "source": [
    "best_model = random_search.best_estimator_\n",
    "best_model"
   ]
  },
  {
   "cell_type": "code",
   "execution_count": null,
   "metadata": {
    "hidden": true
   },
   "outputs": [],
   "source": [
    "y_xgbCV = best_model.predict(X_test)\n",
    "print(classification_report(y_test, y_xgbCV))"
   ]
  },
  {
   "cell_type": "markdown",
   "metadata": {
    "heading_collapsed": true,
    "hidden": true
   },
   "source": [
    "### RFC"
   ]
  },
  {
   "cell_type": "code",
   "execution_count": null,
   "metadata": {
    "hidden": true
   },
   "outputs": [],
   "source": [
    "%%time\n",
    "from sklearn.ensemble import RandomForestClassifier\n",
    "from sklearn.model_selection import RandomizedSearchCV\n",
    "\n",
    "params = {'n_estimators' : [100,200,500],\n",
    "        'criterion' : ['gini', 'entropy'],\n",
    "        'min_samples_split': [2, 3, 5],\n",
    "        'max_depth': [5, 10, 25, 50],\n",
    "        'min_samples_leaf': [1, 3, 5],\n",
    "        'max_features': [\"sqrt\", \"log2\"]\n",
    "        }\n",
    "\n",
    "model = RandomForestClassifier()\n",
    "\n",
    "random_search = RandomizedSearchCV(model, \n",
    "                                   cv=5,\n",
    "                                   param_distributions=params,  \n",
    "                                   scoring='accuracy', \n",
    "                                   n_jobs=-1,\n",
    "                                   verbose=1, \n",
    "                                   random_state=1001)\n",
    "\n",
    "random_search.fit(X_train, y_train)"
   ]
  },
  {
   "cell_type": "code",
   "execution_count": null,
   "metadata": {
    "hidden": true
   },
   "outputs": [],
   "source": [
    "best_RFC = random_search.best_estimator_"
   ]
  },
  {
   "cell_type": "code",
   "execution_count": null,
   "metadata": {
    "hidden": true
   },
   "outputs": [],
   "source": [
    "best_RFC"
   ]
  },
  {
   "cell_type": "code",
   "execution_count": null,
   "metadata": {
    "hidden": true
   },
   "outputs": [],
   "source": [
    "ypred = best_RFC.predict(X_test)\n",
    "print(classification_report(y_test, ypred))"
   ]
  },
  {
   "cell_type": "markdown",
   "metadata": {
    "heading_collapsed": true
   },
   "source": [
    "# Test xgb_model.py"
   ]
  },
  {
   "cell_type": "code",
   "execution_count": 1,
   "metadata": {
    "hidden": true
   },
   "outputs": [],
   "source": [
    "from xgb_model import HimalXGB\n",
    "\n",
    "model = HimalXGB().train_model()"
   ]
  },
  {
   "cell_type": "code",
   "execution_count": 4,
   "metadata": {
    "hidden": true
   },
   "outputs": [],
   "source": [
    "to_predict = pd.DataFrame(columns=['peak_id', 'host', 'summit_days', 'camps', 'rope', 'tot_members',\n",
    "       'tot_hired', 'no_hired', 'comrte', 'stdrte', 'peak_height',\n",
    "       'sherpa_ratio', 'maxtempC', 'mintempC', 'totalSnow_cm', 'sunHour',\n",
    "       'moon_illumination', 'DewPointC', 'FeelsLikeC', 'HeatIndexC',\n",
    "       'WindGustKmph', 'cloudcover', 'humidity', 'precipMM', 'pressure',\n",
    "       'visibility', 'winddirDegree', 'windspeedKmph', 'stability', 'season',\n",
    "       'sex_M', 'status', 'age', 'cumul_snow'])\n",
    "# peak_height = peak[peak['peak_id']==mountain]['height_m'].values[0]\n",
    "# sherpa_ratio = total_members/total_hired\n",
    "to_predict = to_predict.append({'peak_id':'EVER', 'host':'China', 'summit_days':18, 'camps':7, 'rope':bool(\"True\"), 'tot_members':20,\n",
    "       'tot_hired':7, 'no_hired':bool(\"False\"), 'comrte': bool(\"True\"), 'stdrte':bool(\"False\"), 'peak_height':8000,\n",
    "       'sherpa_ratio': 0.3 , 'maxtempC':-2.277021, 'mintempC': -9.736381, 'totalSnow_cm': 1.754977, 'sunHour': 10.275210,\n",
    "       'moon_illumination': 48.470733, 'DewPointC' :-8.459432 , 'FeelsLikeC':-9.604752 , 'HeatIndexC': -5.661692,\n",
    "       'WindGustKmph':13.669081, 'cloudcover': 45.633150, 'humidity': 81.966314, 'precipMM': 2.532628, 'pressure' : 1013.688569,\n",
    "       'visibility':7.486308, 'winddirDegree':211.464793, 'windspeedKmph': 10.086931, 'stability': 0.045808, 'season' :\"Spring\",\n",
    "       'sex_M': 1, 'status': \"climber\", 'age': 34, 'cumul_snow':43}, ignore_index=True)"
   ]
  },
  {
   "cell_type": "code",
   "execution_count": 5,
   "metadata": {
    "hidden": true
   },
   "outputs": [
    {
     "data": {
      "text/plain": [
       "array([[0.7708429 , 0.22915712, 0.        ]], dtype=float32)"
      ]
     },
     "execution_count": 5,
     "metadata": {},
     "output_type": "execute_result"
    }
   ],
   "source": [
    "y_pred = HimalXGB().predict_model(to_predict)\n",
    "y_pred"
   ]
  },
  {
   "cell_type": "markdown",
   "metadata": {
    "heading_collapsed": true
   },
   "source": [
    "# Model without weather"
   ]
  },
  {
   "cell_type": "code",
   "execution_count": null,
   "metadata": {
    "hidden": true
   },
   "outputs": [],
   "source": [
    "import pandas as pd\n",
    "import numpy as np\n",
    "from sklearn.preprocessing import MinMaxScaler, OneHotEncoder\n",
    "from sklearn.model_selection import train_test_split\n",
    "from sklearn.pipeline import Pipeline\n",
    "from sklearn.compose import ColumnTransformer, make_column_selector\n",
    "from sklearn.impute import SimpleImputer\n",
    "from xgboost import XGBClassifier\n",
    "from members import Members\n",
    "from expeds import Expeds\n",
    "\n",
    "\n",
    "# Get Data\n",
    "member = Members().get_data()\n",
    "member = Members().clean_data(member)\n",
    "\n",
    "exped = Expeds().get_data()\n",
    "exped = Expeds().clean_data(exped)\n",
    "\n",
    "# Drop columns\n",
    "mem_to_drop = ['memb_id','year','unique_id','peak_id','residence','occupation',\n",
    "'summit_claimed','summit_disputed','highpt','high_point','death','death_type',\n",
    "'death_height','death_class','summit_bid','summit_term','summit_date1',\n",
    "'citizenship','o2_climb','o2_descent','o2_sleep','o2_medical', 'o2_none', \n",
    "'yob', 'route1', 'ascent1', 'leader', 'deputy', 'bconly', 'nottobc', 'support', \n",
    "'hired', 'sherpa', 'tibetan']\n",
    "\n",
    "\n",
    "exp_to_drop = ['year','season','route1','route2','nation','leaders',\n",
    "'sponsor','success1','success2', 'ascent1','claimed','disputed',\n",
    "'countries','summit_time','term_date','term_note','high_point',\n",
    "'traverse','ski','parapente','o2_climb','o2_descent','o2_sleep',\n",
    "'o2_medical','o2_taken','o2_unkwn','o2_used','o2_none','other_smts',\n",
    "'campsites','accidents','achievment','agency','peak_name','primmem',\n",
    "'summiter_deaths','summit_members','summit_hired','hired_deaths']\n",
    "\n",
    "member.drop(columns= mem_to_drop, inplace=True)\n",
    "exped.drop(columns= exp_to_drop, inplace=True)\n",
    "\n",
    "# Feature Engineering (1/2)\n",
    "exped['sherpa_ratio'] = exped['tot_hired'] / exped['tot_members']\n",
    "exped['sherpa_ratio'] = np.where(exped['sherpa_ratio'] == np.inf, 0, exped['sherpa_ratio'])\n",
    "exped['rope'] = np.where(exped['rope']>0, True, False)\n",
    "\n",
    "\n",
    "\n",
    "# Merge DataFrames\n",
    "df = exped.merge(member, on='exp_id', how = 'right')\n",
    "\n",
    "\n",
    "feature_to_drop = ['primrte', 'disabled', \n",
    "                   'traverse', 'parapente', 'solo', 'ski', 'speed', \n",
    "                   'summit_date', 'exp_id', 'bc_date', 'term_reason']\n",
    "\n",
    "df.drop(columns= feature_to_drop, inplace=True)"
   ]
  },
  {
   "cell_type": "code",
   "execution_count": null,
   "metadata": {
    "hidden": true
   },
   "outputs": [],
   "source": [
    "# Data Processing\n",
    "col_num = []\n",
    "col_bool =[]\n",
    "col_object =[]\n",
    "\n",
    "for col in df:\n",
    "    if df[col].dtype == \"float64\":\n",
    "        col_num.append(col)\n",
    "        \n",
    "    if df[col].dtype == \"int64\":\n",
    "        col_num.append(col)\n",
    "        \n",
    "    if df[col].dtype == 'bool':\n",
    "        col_bool.append(col)\n",
    "        \n",
    "    if df[col].dtype == 'object':\n",
    "        col_object.append(col)\n",
    "        \n",
    "col_bool.remove('summit_success')\n",
    "\n",
    "numeric_transformer = Pipeline(steps=[\n",
    "    ('imputer', SimpleImputer()),\n",
    "    ('scaler', MinMaxScaler())])\n",
    "\n",
    "bool_transformer = Pipeline(steps=[\n",
    "    ('imputer', BoolImputer())])\n",
    "\n",
    "categorical_transformer = Pipeline(steps=[\n",
    "    ('imputer', SimpleImputer(strategy='most_frequent')),\n",
    "    ('onehot', OneHotEncoder(drop= 'first', handle_unknown='error'))])\n",
    "\n",
    "preprocessor = ColumnTransformer(\n",
    "    transformers=[\n",
    "        ('num', numeric_transformer, col_num),\n",
    "        ('bool', bool_transformer, col_bool),\n",
    "        ('cat', categorical_transformer, col_object)])\n",
    "\n",
    "clf = Pipeline(steps=[('preprocessor', preprocessor)])\n",
    "\n",
    "X = df.drop(columns=['summit_success'])\n",
    "y = df.summit_success\n",
    "\n",
    "X_trans = clf.fit_transform(X)\n",
    "X_tr = X_trans.toarray()\n",
    "\n",
    "X_train, X_test, y_train, y_test = train_test_split(X_tr, y, test_size= 0.3, random_state= 1)"
   ]
  },
  {
   "cell_type": "code",
   "execution_count": null,
   "metadata": {
    "hidden": true
   },
   "outputs": [],
   "source": [
    "ohe_col = list(clf.named_steps['preprocessor'].transformers_[2][1]\\\n",
    "   .named_steps['onehot'].get_feature_names(col_object))\n",
    "\n",
    "feature_names = col_num + col_bool + ohe_col"
   ]
  },
  {
   "cell_type": "code",
   "execution_count": 104,
   "metadata": {
    "hidden": true
   },
   "outputs": [
    {
     "name": "stdout",
     "output_type": "stream",
     "text": [
      "              precision    recall  f1-score   support\n",
      "\n",
      "       False       0.84      0.77      0.80      3195\n",
      "        True       0.80      0.86      0.83      3352\n",
      "\n",
      "    accuracy                           0.82      6547\n",
      "   macro avg       0.82      0.82      0.82      6547\n",
      "weighted avg       0.82      0.82      0.82      6547\n",
      "\n"
     ]
    }
   ],
   "source": [
    "# Model Traning\n",
    "from sklearn.metrics import classification_report\n",
    "boost = XGBClassifier()\n",
    "boost.fit(X_train, y_train)\n",
    "ypred = boost.predict(X_test)\n",
    "print(classification_report(y_test, ypred))"
   ]
  },
  {
   "cell_type": "code",
   "execution_count": null,
   "metadata": {
    "hidden": true
   },
   "outputs": [],
   "source": [
    "# feature without peak_id\n",
    "dfeat = pd.DataFrame(data=boost.feature_importances_)\n",
    "dfeat['feature'] = feature_names\n",
    "dfeat.columns = ['value', 'feature']\n",
    "df_feat_2 = dfeat[~dfeat['feature'].str.contains('peak_id')]\n",
    "df_feat_2 = df_feat_2.sort_values(by='value')\n",
    "\n",
    "# plot\n",
    "plt.figure(figsize=(15,7))\n",
    "plt.bar(df_feat_2.feature, df_feat_2.value)\n",
    "plt.xticks(rotation=90)\n",
    "plt.show()"
   ]
  },
  {
   "cell_type": "markdown",
   "metadata": {
    "heading_collapsed": true
   },
   "source": [
    "# Peaks GPS"
   ]
  },
  {
   "cell_type": "code",
   "execution_count": null,
   "metadata": {
    "hidden": true
   },
   "outputs": [],
   "source": [
    "import pandas as pd\n",
    "\n",
    "#gps = pd.read_excel('data/Peaks_GPS.xls')\n",
    "\n",
    "gps = pd.read_excel('data/main_peaks.xlsx')"
   ]
  },
  {
   "cell_type": "code",
   "execution_count": null,
   "metadata": {
    "hidden": true
   },
   "outputs": [],
   "source": [
    "import re\n",
    "\n",
    "def coord(x):\n",
    "    numbers = re.findall(r'\\d+', x)\n",
    "    unit = int(numbers[0])\n",
    "    dec = int(numbers[1])/60\n",
    "    cent = int(numbers[2])/3600\n",
    "    \n",
    "    return round(unit+dec+cent,4)"
   ]
  },
  {
   "cell_type": "code",
   "execution_count": null,
   "metadata": {
    "hidden": true
   },
   "outputs": [],
   "source": [
    "gps['lat'] = gps['lat'].apply(lambda x: coord(x))\n",
    "gps['lon'] = gps['lon'].apply(lambda x: coord(x))"
   ]
  },
  {
   "cell_type": "code",
   "execution_count": null,
   "metadata": {
    "hidden": true
   },
   "outputs": [],
   "source": [
    "import folium\n",
    "\n",
    "m = folium.Map(\n",
    "    location=[27.98, 86.92],\n",
    "    zoom_start=8,\n",
    "    tiles='Stamen Terrain'\n",
    ")\n",
    "\n",
    "feature_group = folium.FeatureGroup(\"Locations\")\n",
    "for lat, lng, name in zip(gps.lat, gps.lon, gps.peak_name):\n",
    "    feature_group.add_child(folium.Marker(location=[lat,lng], popup=name))\n",
    "\n",
    "m.add_child(feature_group)\n",
    "\n",
    "folium.Marker(\n",
    "    location=[27.948056, 86.810278],\n",
    "    popup='Weather Station',\n",
    "    icon=folium.Icon(color='red', icon='info-sign')\n",
    ").add_to(m)\n",
    "\n",
    "\n",
    "m"
   ]
  },
  {
   "cell_type": "markdown",
   "metadata": {},
   "source": [
    "# Dash"
   ]
  },
  {
   "cell_type": "code",
   "execution_count": 5,
   "metadata": {},
   "outputs": [],
   "source": [
    "df = pd.read_csv('data/matching_table.csv')"
   ]
  },
  {
   "cell_type": "code",
   "execution_count": 6,
   "metadata": {},
   "outputs": [],
   "source": [
    "df['summit_date'] = pd.to_datetime(df['summit_date'])"
   ]
  },
  {
   "cell_type": "code",
   "execution_count": 259,
   "metadata": {},
   "outputs": [],
   "source": [
    "peak, year, season = \"Langmoche Ri\", \"2012\", 'All'"
   ]
  },
  {
   "cell_type": "code",
   "execution_count": 7,
   "metadata": {},
   "outputs": [],
   "source": [
    "years = [{'label':i, 'value' : str(i)} for i in range(df.year.min(), df.year.max()+1)]\n",
    "years.append({'label' : df.year.max()+1, 'value' : 'All'})"
   ]
  },
  {
   "cell_type": "code",
   "execution_count": 8,
   "metadata": {},
   "outputs": [
    {
     "data": {
      "text/plain": [
       "[{'label': 2010, 'value': '2010'},\n",
       " {'label': 2011, 'value': '2011'},\n",
       " {'label': 2012, 'value': '2012'},\n",
       " {'label': 2013, 'value': '2013'},\n",
       " {'label': 2014, 'value': '2014'},\n",
       " {'label': 2015, 'value': '2015'},\n",
       " {'label': 2016, 'value': '2016'},\n",
       " {'label': 2017, 'value': '2017'},\n",
       " {'label': 2018, 'value': '2018'},\n",
       " {'label': 2019, 'value': '2019'},\n",
       " {'label': 2020, 'value': '2020'},\n",
       " {'label': 2021, 'value': 'All'}]"
      ]
     },
     "execution_count": 8,
     "metadata": {},
     "output_type": "execute_result"
    }
   ],
   "source": [
    "years"
   ]
  },
  {
   "cell_type": "code",
   "execution_count": 298,
   "metadata": {},
   "outputs": [
    {
     "data": {
      "text/plain": [
       "Slider(id='input_year', marks={2010: '2010', 2011: '2011', 2012: '2012', 2013: '2013', 2014: '2014', 2015: '2015', 2016: '2016', 2017: 'All'}, value=2016, min=2010, max='All')"
      ]
     },
     "execution_count": 298,
     "metadata": {},
     "output_type": "execute_result"
    }
   ],
   "source": [
    "import dash_core_components as dcc\n",
    "\n",
    "years = {i : str(i) for i in range(df.year.min(), df.year.max()+1)}\n",
    "years.update({df.year.max()+1 : 'All'})\n",
    "\n",
    "peak, year, season = 'Everest', '2010', 'Spring'\n",
    "\n",
    "if year == 'All':\n",
    "    dff = df[(df.peak_name==peak)\\\n",
    "                 &(df.year <= list(years.keys())[-1])\\\n",
    "                 &(df.season.str.contains(season))]\n",
    "else:\n",
    "    dff = df[(df.peak_name==peak)\\\n",
    "             &(df.year == int(year))\\\n",
    "             &(df.season.str.contains(season))]\n",
    "    \n",
    "dcc.Slider(\n",
    "        id='input_year',\n",
    "        min=df.year.min(),\n",
    "        max='All',\n",
    "        step=None,\n",
    "        marks=years,\n",
    "        value=df.year.max()\n",
    "    )"
   ]
  },
  {
   "cell_type": "code",
   "execution_count": 311,
   "metadata": {},
   "outputs": [
    {
     "data": {
      "text/plain": [
       "[{'label': 'Spring', 'value': 'Spring'},\n",
       " {'label': 'Summer', 'value': 'Summer'},\n",
       " {'label': 'Autumn', 'value': 'Autumn'},\n",
       " {'label': 'Winter', 'value': 'Winter'},\n",
       " {'label': 'All', 'value': 'All'}]"
      ]
     },
     "execution_count": 311,
     "metadata": {},
     "output_type": "execute_result"
    }
   ],
   "source": [
    "season_list = ['Spring', 'Summer', 'Autumn', 'Winter', 'All']\n",
    "[{'label' : i, 'value' : str(i)} for i in season_list]"
   ]
  },
  {
   "cell_type": "code",
   "execution_count": 306,
   "metadata": {},
   "outputs": [
    {
     "data": {
      "text/plain": [
       "[{'label': 'New York City', 'value': 'NYC'},\n",
       " {'label': 'Montréal', 'value': 'MTL'},\n",
       " {'label': 'San Francisco', 'value': 'SF'}]"
      ]
     },
     "execution_count": 306,
     "metadata": {},
     "output_type": "execute_result"
    }
   ],
   "source": [
    "[\n",
    "        {'label': 'New York City', 'value': 'NYC'},\n",
    "        {'label': 'Montréal', 'value': 'MTL'},\n",
    "        {'label': 'San Francisco', 'value': 'SF'}\n",
    "    ]"
   ]
  },
  {
   "cell_type": "markdown",
   "metadata": {
    "heading_collapsed": true
   },
   "source": [
    "# PCA & Tsne"
   ]
  },
  {
   "cell_type": "code",
   "execution_count": null,
   "metadata": {
    "hidden": true
   },
   "outputs": [],
   "source": [
    "%%time\n",
    "from sklearn.decomposition import PCA\n",
    "\n",
    "pca = PCA(n_components=4)\n",
    "pca_result = pca.fit_transform(X_train)"
   ]
  },
  {
   "cell_type": "code",
   "execution_count": null,
   "metadata": {
    "hidden": true
   },
   "outputs": [],
   "source": [
    "pca_df = pd.DataFrame(columns = ['pca1','pca2','pca3','pca4'])\n",
    "\n",
    "pca_df['pca1'] = pca_result[:,0]\n",
    "pca_df['pca2'] = pca_result[:,1]\n",
    "pca_df['pca3'] = pca_result[:,2]\n",
    "pca_df['pca4'] = pca_result[:,3]\n",
    "\n",
    "print('Variance explained per principal component: {}'.format(pca.explained_variance_ratio_))"
   ]
  },
  {
   "cell_type": "code",
   "execution_count": null,
   "metadata": {
    "hidden": true
   },
   "outputs": [],
   "source": [
    "import seaborn as sns\n",
    "import matplotlib.pyplot as plt\n",
    "import matplotlib.patheffects as PathEffects\n",
    "\n",
    "def fashion_scatter(x, colors):\n",
    "    # choose a color palette with seaborn.\n",
    "    num_classes = 2\n",
    "    palette = np.array(sns.color_palette(\"hls\", num_classes))\n",
    "\n",
    "    # create a scatter plot.\n",
    "    f = plt.figure(figsize=(8, 8))\n",
    "    ax = plt.subplot(aspect='equal')\n",
    "    sc = ax.scatter(x[:,0], x[:,1], lw=0, s=40, c=palette[colors.astype(np.int)])\n",
    "    plt.xlim(-25, 25)\n",
    "    plt.ylim(-25, 25)\n",
    "    ax.axis('off')\n",
    "    ax.axis('tight')\n",
    "\n",
    "    # add the labels for each digit corresponding to the label\n",
    "    txts = []\n",
    "\n",
    "    for i in range(num_classes):\n",
    "\n",
    "        # Position of each label at median of data points.\n",
    "\n",
    "        xtext, ytext = np.median(x[colors == i, :], axis=0)\n",
    "        txt = ax.text(xtext, ytext, str(i), fontsize=24)\n",
    "        txt.set_path_effects([\n",
    "            PathEffects.Stroke(linewidth=5, foreground=\"w\"),\n",
    "            PathEffects.Normal()])\n",
    "        txts.append(txt)\n",
    "\n",
    "    return f, ax, sc, txts"
   ]
  },
  {
   "cell_type": "code",
   "execution_count": null,
   "metadata": {
    "hidden": true
   },
   "outputs": [],
   "source": [
    "top_two_comp = pca_df[['pca1','pca2']] # taking first and second principal component\n",
    "\n",
    "fashion_scatter(top_two_comp.values,y_train) # Visualizing the PCA output"
   ]
  },
  {
   "cell_type": "code",
   "execution_count": null,
   "metadata": {
    "hidden": true
   },
   "outputs": [],
   "source": [
    "# PCA 50\n",
    "\n",
    "pca_50 = PCA(n_components=30)\n",
    "pca_result_50 = pca_50.fit_transform(X_train)\n",
    "fashion_pca_tsne = TSNE(random_state=21).fit_transform(pca_result_50)\n",
    "fashion_scatter(fashion_pca_tsne, y_train)"
   ]
  },
  {
   "cell_type": "code",
   "execution_count": null,
   "metadata": {
    "hidden": true
   },
   "outputs": [],
   "source": [
    "from sklearn.manifold import TSNE\n",
    "import plotly.express as px\n",
    "\n",
    "features = X_train\n",
    "\n",
    "tsne = TSNE(n_components=3, random_state=0)\n",
    "projections = tsne.fit_transform(features, )\n",
    "\n",
    "fig = px.scatter_3d(\n",
    "    projections, x=0, y=1, z=2,\n",
    "    color=y_train, labels={'color': 'Success'}\n",
    ")\n",
    "fig.update_traces(marker_size=8)\n",
    "fig.show()"
   ]
  },
  {
   "cell_type": "code",
   "execution_count": 231,
   "metadata": {
    "hidden": true
   },
   "outputs": [],
   "source": [
    "a = np.array([1,2,np.nan])"
   ]
  },
  {
   "cell_type": "code",
   "execution_count": 232,
   "metadata": {
    "hidden": true
   },
   "outputs": [
    {
     "data": {
      "text/plain": [
       "array([ 1.,  2., nan])"
      ]
     },
     "execution_count": 232,
     "metadata": {},
     "output_type": "execute_result"
    }
   ],
   "source": [
    "a"
   ]
  },
  {
   "cell_type": "code",
   "execution_count": 234,
   "metadata": {
    "hidden": true
   },
   "outputs": [
    {
     "data": {
      "text/plain": [
       "1.5"
      ]
     },
     "execution_count": 234,
     "metadata": {},
     "output_type": "execute_result"
    }
   ],
   "source": [
    "np.nanmean(a)"
   ]
  },
  {
   "cell_type": "code",
   "execution_count": 12,
   "metadata": {},
   "outputs": [],
   "source": [
    "mountain= 'EVER'\n",
    "host = \"China\"\n",
    "days=23\n",
    "camps=5\n",
    "rope=\"True\"\n",
    "total_members = 20\n",
    "total_hired =10\n",
    "hired =\"True\"\n",
    "comroute = \"True\"\n",
    "stanroute = \"True\"\n",
    "peak_height =8000\n",
    "sex=1\n",
    "status ='climber'\n",
    "age=20\n",
    "season = \"Spring\"\n"
   ]
  },
  {
   "cell_type": "code",
   "execution_count": 10,
   "metadata": {
    "hidden": true
   },
   "outputs": [
    {
     "data": {
      "text/plain": [
       "Index(['peak_id', 'host', 'summit_days', 'camps', 'rope', 'tot_members',\n",
       "       'tot_hired', 'no_hired', 'comrte', 'stdrte', 'peak_height',\n",
       "       'sherpa_ratio', 'maxtempC', 'mintempC', 'totalSnow_cm', 'sunHour',\n",
       "       'moon_illumination', 'DewPointC', 'FeelsLikeC', 'HeatIndexC',\n",
       "       'WindGustKmph', 'cloudcover', 'humidity', 'precipMM', 'pressure',\n",
       "       'visibility', 'winddirDegree', 'windspeedKmph', 'stability', 'season',\n",
       "       'sex_M', 'status', 'age', 'cumul_snow'],\n",
       "      dtype='object')"
      ]
     },
     "execution_count": 10,
     "metadata": {},
     "output_type": "execute_result"
    }
   ],
   "source": [
    "X.columns"
   ]
  },
  {
   "cell_type": "code",
   "execution_count": 13,
   "metadata": {},
   "outputs": [],
   "source": [
    "to_predict = pd.DataFrame(columns=['peak_id', 'host', 'summit_days', 'camps', 'rope', 'tot_members',\n",
    "       'tot_hired', 'no_hired', 'comrte', 'stdrte', 'peak_height',\n",
    "       'sherpa_ratio', 'maxtempC', 'mintempC', 'totalSnow_cm', 'sunHour',\n",
    "       'moon_illumination', 'DewPointC', 'FeelsLikeC', 'HeatIndexC',\n",
    "       'WindGustKmph', 'cloudcover', 'humidity', 'precipMM', 'pressure',\n",
    "       'visibility', 'winddirDegree', 'windspeedKmph', 'stability', 'season',\n",
    "       'sex_M', 'status', 'age', 'cumul_snow'])\n",
    "\n",
    "\n",
    "\n",
    "sherpa_ratio = total_members/total_hired\n",
    "\n",
    "to_predict = to_predict.append({'peak_id':mountain, 'host':host, 'summit_days':int(days), 'camps':int(camps), 'rope':bool(rope), 'tot_members':int(total_members),\n",
    "       'tot_hired':int(total_hired), 'no_hired':bool(hired), 'comrte': bool(comroute), 'stdrte':bool(stanroute), 'peak_height':peak_height,\n",
    "       'sherpa_ratio': sherpa_ratio , 'maxtempC':-2.277021, 'mintempC': -9.736381, 'totalSnow_cm': 1.754977, 'sunHour': 10.275210,\n",
    "       'moon_illumination': 48.470733, 'DewPointC' :-8.459432 , 'FeelsLikeC':-9.604752 , 'HeatIndexC': -5.661692,\n",
    "       'WindGustKmph':13.669081, 'cloudcover': 45.633150, 'humidity': 81.966314, 'precipMM': 2.532628, 'pressure' : 1013.688569,\n",
    "       'visibility':7.486308, 'winddirDegree':211.464793, 'windspeedKmph': 10.086931, 'stability': 0.045808, 'season' :season,\n",
    "       'sex_M': int(sex), 'status': status, 'age': int(age), 'cumul_snow':43}, ignore_index=True)"
   ]
  },
  {
   "cell_type": "code",
   "execution_count": 16,
   "metadata": {},
   "outputs": [],
   "source": [
    "json_predict = to_predict.to_dict(orient=\"records\")"
   ]
  },
  {
   "cell_type": "code",
   "execution_count": 19,
   "metadata": {},
   "outputs": [
    {
     "data": {
      "text/plain": [
       "dict_keys(['peak_id', 'host', 'summit_days', 'camps', 'rope', 'tot_members', 'tot_hired', 'no_hired', 'comrte', 'stdrte', 'peak_height', 'sherpa_ratio', 'maxtempC', 'mintempC', 'totalSnow_cm', 'sunHour', 'moon_illumination', 'DewPointC', 'FeelsLikeC', 'HeatIndexC', 'WindGustKmph', 'cloudcover', 'humidity', 'precipMM', 'pressure', 'visibility', 'winddirDegree', 'windspeedKmph', 'stability', 'season', 'sex_M', 'status', 'age', 'cumul_snow'])"
      ]
     },
     "execution_count": 19,
     "metadata": {},
     "output_type": "execute_result"
    }
   ],
   "source": [
    "json_predict[0].keys()\n"
   ]
  },
  {
   "cell_type": "code",
   "execution_count": 87,
   "metadata": {},
   "outputs": [],
   "source": [
    "col_float= []\n",
    "col_num = []\n",
    "for col in df.columns:\n",
    "    if df[col].dtype == \"float64\":\n",
    "        col_float.append(col)\n",
    "    if df[col].dtype == \"int64\":\n",
    "        col_num.append(col)"
   ]
  },
  {
   "cell_type": "code",
   "execution_count": 44,
   "metadata": {},
   "outputs": [
    {
     "data": {
      "text/plain": [
       "['sherpa_ratio',\n",
       " 'maxtempC',\n",
       " 'mintempC',\n",
       " 'totalSnow_cm',\n",
       " 'sunHour',\n",
       " 'moon_illumination',\n",
       " 'DewPointC',\n",
       " 'FeelsLikeC',\n",
       " 'HeatIndexC',\n",
       " 'WindGustKmph',\n",
       " 'cloudcover',\n",
       " 'humidity',\n",
       " 'precipMM',\n",
       " 'pressure',\n",
       " 'visibility',\n",
       " 'winddirDegree',\n",
       " 'windspeedKmph',\n",
       " 'stability',\n",
       " 'sex_M',\n",
       " 'age',\n",
       " 'cumul_snow']"
      ]
     },
     "execution_count": 44,
     "metadata": {},
     "output_type": "execute_result"
    }
   ],
   "source": [
    "col_float"
   ]
  },
  {
   "cell_type": "code",
   "execution_count": 45,
   "metadata": {},
   "outputs": [],
   "source": [
    "format_input = {}\n",
    "for col in X.columns:\n",
    "    if col in col_bool:\n",
    "        format_input[col] = f'bool(input[\"{col}\"])'\n",
    "    if col in col_float:\n",
    "        format_input[col] = f'float(input[\"{col}\"])'\n",
    "    if col in col_num:\n",
    "        format_input[col] = f'int(input[\"{col}\"])'\n",
    "    if col in col_object:\n",
    "        format_input[col] = f'str(input[\"{col}\"])'"
   ]
  },
  {
   "cell_type": "code",
   "execution_count": 46,
   "metadata": {},
   "outputs": [
    {
     "data": {
      "text/plain": [
       "{'peak_id': 'str(input[\"peak_id\"])',\n",
       " 'host': 'str(input[\"host\"])',\n",
       " 'rope': 'bool(input[\"rope\"])',\n",
       " 'no_hired': 'bool(input[\"no_hired\"])',\n",
       " 'comrte': 'bool(input[\"comrte\"])',\n",
       " 'stdrte': 'bool(input[\"stdrte\"])',\n",
       " 'sherpa_ratio': 'float(input[\"sherpa_ratio\"])',\n",
       " 'maxtempC': 'float(input[\"maxtempC\"])',\n",
       " 'mintempC': 'float(input[\"mintempC\"])',\n",
       " 'totalSnow_cm': 'float(input[\"totalSnow_cm\"])',\n",
       " 'sunHour': 'float(input[\"sunHour\"])',\n",
       " 'moon_illumination': 'float(input[\"moon_illumination\"])',\n",
       " 'DewPointC': 'float(input[\"DewPointC\"])',\n",
       " 'FeelsLikeC': 'float(input[\"FeelsLikeC\"])',\n",
       " 'HeatIndexC': 'float(input[\"HeatIndexC\"])',\n",
       " 'WindGustKmph': 'float(input[\"WindGustKmph\"])',\n",
       " 'cloudcover': 'float(input[\"cloudcover\"])',\n",
       " 'humidity': 'float(input[\"humidity\"])',\n",
       " 'precipMM': 'float(input[\"precipMM\"])',\n",
       " 'pressure': 'float(input[\"pressure\"])',\n",
       " 'visibility': 'float(input[\"visibility\"])',\n",
       " 'winddirDegree': 'float(input[\"winddirDegree\"])',\n",
       " 'windspeedKmph': 'float(input[\"windspeedKmph\"])',\n",
       " 'stability': 'float(input[\"stability\"])',\n",
       " 'season': 'str(input[\"season\"])',\n",
       " 'sex_M': 'float(input[\"sex_M\"])',\n",
       " 'status': 'str(input[\"status\"])',\n",
       " 'age': 'float(input[\"age\"])',\n",
       " 'cumul_snow': 'float(input[\"cumul_snow\"])'}"
      ]
     },
     "execution_count": 46,
     "metadata": {},
     "output_type": "execute_result"
    }
   ],
   "source": [
    "format_input"
   ]
  },
  {
   "cell_type": "code",
   "execution_count": 47,
   "metadata": {},
   "outputs": [
    {
     "data": {
      "text/plain": [
       "Index(['peak_id', 'host', 'summit_days', 'camps', 'rope', 'tot_members',\n",
       "       'tot_hired', 'no_hired', 'comrte', 'stdrte', 'peak_height',\n",
       "       'sherpa_ratio', 'maxtempC', 'mintempC', 'totalSnow_cm', 'sunHour',\n",
       "       'moon_illumination', 'DewPointC', 'FeelsLikeC', 'HeatIndexC',\n",
       "       'WindGustKmph', 'cloudcover', 'humidity', 'precipMM', 'pressure',\n",
       "       'visibility', 'winddirDegree', 'windspeedKmph', 'stability', 'season',\n",
       "       'sex_M', 'status', 'age', 'cumul_snow'],\n",
       "      dtype='object')"
      ]
     },
     "execution_count": 47,
     "metadata": {},
     "output_type": "execute_result"
    }
   ],
   "source": [
    "X.columns"
   ]
  },
  {
   "cell_type": "code",
   "execution_count": 166,
   "metadata": {},
   "outputs": [],
   "source": [
    "api_url = \"https://himalapi.herokuapp.com/\"\n",
    "# api_url = \"http://127.0.0.1:8080/\""
   ]
  },
  {
   "cell_type": "code",
   "execution_count": 170,
   "metadata": {},
   "outputs": [],
   "source": [
    "\n",
    "pred = X.sample(n=1).to_dict(orient=\"records\")"
   ]
  },
  {
   "cell_type": "code",
   "execution_count": 171,
   "metadata": {},
   "outputs": [],
   "source": [
    "import requests\n",
    "r = requests.get(api_url+\"predict_success\", json=pred)"
   ]
  },
  {
   "cell_type": "code",
   "execution_count": 172,
   "metadata": {},
   "outputs": [
    {
     "data": {
      "text/plain": [
       "{'predictions': 0.869}"
      ]
     },
     "execution_count": 172,
     "metadata": {},
     "output_type": "execute_result"
    }
   ],
   "source": [
    "r.json()"
   ]
  },
  {
   "cell_type": "code",
   "execution_count": 165,
   "metadata": {},
   "outputs": [
    {
     "data": {
      "text/plain": [
       "[{'peak_id': 'MANA',\n",
       "  'host': 'Nepal',\n",
       "  'summit_days': 19,\n",
       "  'camps': 4,\n",
       "  'rope': False,\n",
       "  'tot_members': 10,\n",
       "  'tot_hired': 5,\n",
       "  'no_hired': False,\n",
       "  'comrte': True,\n",
       "  'stdrte': True,\n",
       "  'peak_height': 8163,\n",
       "  'sherpa_ratio': 0.5,\n",
       "  'maxtempC': -2.0,\n",
       "  'mintempC': -9.0,\n",
       "  'totalSnow_cm': 1.6,\n",
       "  'sunHour': 10.2,\n",
       "  'moon_illumination': 45.0,\n",
       "  'DewPointC': -6.0,\n",
       "  'FeelsLikeC': -8.0,\n",
       "  'HeatIndexC': -4.0,\n",
       "  'WindGustKmph': 13.0,\n",
       "  'cloudcover': 39.0,\n",
       "  'humidity': 88.0,\n",
       "  'precipMM': 3.8,\n",
       "  'pressure': 1014.0,\n",
       "  'visibility': 7.0,\n",
       "  'winddirDegree': 192.0,\n",
       "  'windspeedKmph': 9.0,\n",
       "  'stability': 0.33333333333337123,\n",
       "  'season': 'Autumn',\n",
       "  'sex_M': 1.0,\n",
       "  'status': 'h-a worker',\n",
       "  'age': 33.0,\n",
       "  'cumul_snow': 19.4}]"
      ]
     },
     "execution_count": 165,
     "metadata": {},
     "output_type": "execute_result"
    }
   ],
   "source": [
    "pred"
   ]
  },
  {
   "cell_type": "code",
   "execution_count": 111,
   "metadata": {},
   "outputs": [],
   "source": [
    "import joblib"
   ]
  },
  {
   "cell_type": "code",
   "execution_count": 116,
   "metadata": {},
   "outputs": [],
   "source": [
    "pred_test = X.sample(n=1)\n",
    "pipeline = joblib.load('dash/assets/pipe_transformation.joblib')\n",
    "model = joblib.load('dash/assets/XGB_model.joblib')"
   ]
  },
  {
   "cell_type": "code",
   "execution_count": 117,
   "metadata": {},
   "outputs": [],
   "source": [
    "pred_test = pipeline.transform(pred_test)\n",
    "a =model.predict_proba(pred_test)"
   ]
  },
  {
   "cell_type": "code",
   "execution_count": 124,
   "metadata": {},
   "outputs": [
    {
     "data": {
      "text/plain": [
       "0.05"
      ]
     },
     "execution_count": 124,
     "metadata": {},
     "output_type": "execute_result"
    }
   ],
   "source": [
    "round(float(a[0][1]),2)"
   ]
  },
  {
   "cell_type": "code",
   "execution_count": 119,
   "metadata": {},
   "outputs": [
    {
     "data": {
      "text/plain": [
       "array([[0.94866455, 0.05133543]], dtype=float32)"
      ]
     },
     "execution_count": 119,
     "metadata": {},
     "output_type": "execute_result"
    }
   ],
   "source": [
    "a"
   ]
  },
  {
   "cell_type": "code",
   "execution_count": 246,
   "metadata": {},
   "outputs": [
    {
     "data": {
      "text/plain": [
       "1        False\n",
       "1671     False\n",
       "2025     False\n",
       "2101     False\n",
       "2109     False\n",
       "2515     False\n",
       "2863     False\n",
       "2990     False\n",
       "3281     False\n",
       "3283     False\n",
       "4170     False\n",
       "4173     False\n",
       "4178     False\n",
       "4987     False\n",
       "5248     False\n",
       "5565     False\n",
       "5616     False\n",
       "5716     False\n",
       "5748     False\n",
       "6567     False\n",
       "6887     False\n",
       "6929     False\n",
       "7130     False\n",
       "7741     False\n",
       "7742     False\n",
       "7743     False\n",
       "7744     False\n",
       "8088     False\n",
       "8094     False\n",
       "8205     False\n",
       "8501     False\n",
       "8508     False\n",
       "8623     False\n",
       "9650     False\n",
       "9803     False\n",
       "10059    False\n",
       "10160    False\n",
       "10711    False\n",
       "10977    False\n",
       "11442    False\n",
       "11677    False\n",
       "11681    False\n",
       "12647    False\n",
       "12887    False\n",
       "14555    False\n",
       "15483    False\n",
       "15487    False\n",
       "15590    False\n",
       "15759    False\n",
       "18055    False\n",
       "18057    False\n",
       "18791    False\n",
       "19617    False\n",
       "20584    False\n",
       "20924    False\n",
       "21151    False\n",
       "23567    False\n",
       "24173    False\n",
       "24256    False\n",
       "Name: summit_success, dtype: bool"
      ]
     },
     "execution_count": 246,
     "metadata": {},
     "output_type": "execute_result"
    }
   ],
   "source": [
    "df[df['status']=='bc member']['summit_success']"
   ]
  },
  {
   "cell_type": "code",
   "execution_count": 264,
   "metadata": {},
   "outputs": [
    {
     "data": {
      "text/html": [
       "<div>\n",
       "<style scoped>\n",
       "    .dataframe tbody tr th:only-of-type {\n",
       "        vertical-align: middle;\n",
       "    }\n",
       "\n",
       "    .dataframe tbody tr th {\n",
       "        vertical-align: top;\n",
       "    }\n",
       "\n",
       "    .dataframe thead th {\n",
       "        text-align: right;\n",
       "    }\n",
       "</style>\n",
       "<table border=\"1\" class=\"dataframe\">\n",
       "  <thead>\n",
       "    <tr style=\"text-align: right;\">\n",
       "      <th></th>\n",
       "      <th>peak_id</th>\n",
       "      <th>host</th>\n",
       "      <th>summit_days</th>\n",
       "      <th>camps</th>\n",
       "      <th>rope</th>\n",
       "      <th>tot_members</th>\n",
       "      <th>tot_hired</th>\n",
       "      <th>no_hired</th>\n",
       "      <th>comrte</th>\n",
       "      <th>stdrte</th>\n",
       "      <th>...</th>\n",
       "      <th>visibility</th>\n",
       "      <th>winddirDegree</th>\n",
       "      <th>windspeedKmph</th>\n",
       "      <th>stability</th>\n",
       "      <th>season</th>\n",
       "      <th>sex_M</th>\n",
       "      <th>status</th>\n",
       "      <th>summit_success</th>\n",
       "      <th>age</th>\n",
       "      <th>cumul_snow</th>\n",
       "    </tr>\n",
       "  </thead>\n",
       "  <tbody>\n",
       "    <tr>\n",
       "      <th>0</th>\n",
       "      <td>TKRG</td>\n",
       "      <td>Nepal</td>\n",
       "      <td>6</td>\n",
       "      <td>0</td>\n",
       "      <td>False</td>\n",
       "      <td>3</td>\n",
       "      <td>0</td>\n",
       "      <td>True</td>\n",
       "      <td>False</td>\n",
       "      <td>False</td>\n",
       "      <td>...</td>\n",
       "      <td>10.0</td>\n",
       "      <td>270.0</td>\n",
       "      <td>15.0</td>\n",
       "      <td>-4.000000</td>\n",
       "      <td>Spring</td>\n",
       "      <td>1.0</td>\n",
       "      <td>leader</td>\n",
       "      <td>True</td>\n",
       "      <td>43.0</td>\n",
       "      <td>0.0</td>\n",
       "    </tr>\n",
       "    <tr>\n",
       "      <th>2</th>\n",
       "      <td>TKRG</td>\n",
       "      <td>Nepal</td>\n",
       "      <td>6</td>\n",
       "      <td>0</td>\n",
       "      <td>False</td>\n",
       "      <td>3</td>\n",
       "      <td>0</td>\n",
       "      <td>True</td>\n",
       "      <td>False</td>\n",
       "      <td>False</td>\n",
       "      <td>...</td>\n",
       "      <td>10.0</td>\n",
       "      <td>270.0</td>\n",
       "      <td>15.0</td>\n",
       "      <td>-4.000000</td>\n",
       "      <td>Spring</td>\n",
       "      <td>1.0</td>\n",
       "      <td>climber</td>\n",
       "      <td>True</td>\n",
       "      <td>37.0</td>\n",
       "      <td>0.0</td>\n",
       "    </tr>\n",
       "    <tr>\n",
       "      <th>9</th>\n",
       "      <td>AMAD</td>\n",
       "      <td>Nepal</td>\n",
       "      <td>7</td>\n",
       "      <td>3</td>\n",
       "      <td>True</td>\n",
       "      <td>2</td>\n",
       "      <td>0</td>\n",
       "      <td>True</td>\n",
       "      <td>True</td>\n",
       "      <td>False</td>\n",
       "      <td>...</td>\n",
       "      <td>10.0</td>\n",
       "      <td>297.0</td>\n",
       "      <td>13.0</td>\n",
       "      <td>0.333333</td>\n",
       "      <td>Spring</td>\n",
       "      <td>1.0</td>\n",
       "      <td>leader</td>\n",
       "      <td>True</td>\n",
       "      <td>38.0</td>\n",
       "      <td>0.0</td>\n",
       "    </tr>\n",
       "    <tr>\n",
       "      <th>10</th>\n",
       "      <td>AMAD</td>\n",
       "      <td>Nepal</td>\n",
       "      <td>6</td>\n",
       "      <td>3</td>\n",
       "      <td>True</td>\n",
       "      <td>4</td>\n",
       "      <td>2</td>\n",
       "      <td>False</td>\n",
       "      <td>True</td>\n",
       "      <td>False</td>\n",
       "      <td>...</td>\n",
       "      <td>10.0</td>\n",
       "      <td>264.0</td>\n",
       "      <td>17.0</td>\n",
       "      <td>-2.000000</td>\n",
       "      <td>Spring</td>\n",
       "      <td>1.0</td>\n",
       "      <td>climber</td>\n",
       "      <td>True</td>\n",
       "      <td>54.0</td>\n",
       "      <td>0.0</td>\n",
       "    </tr>\n",
       "    <tr>\n",
       "      <th>11</th>\n",
       "      <td>AMAD</td>\n",
       "      <td>Nepal</td>\n",
       "      <td>6</td>\n",
       "      <td>3</td>\n",
       "      <td>True</td>\n",
       "      <td>4</td>\n",
       "      <td>2</td>\n",
       "      <td>False</td>\n",
       "      <td>True</td>\n",
       "      <td>False</td>\n",
       "      <td>...</td>\n",
       "      <td>10.0</td>\n",
       "      <td>264.0</td>\n",
       "      <td>17.0</td>\n",
       "      <td>-2.000000</td>\n",
       "      <td>Spring</td>\n",
       "      <td>1.0</td>\n",
       "      <td>climber</td>\n",
       "      <td>True</td>\n",
       "      <td>38.0</td>\n",
       "      <td>0.0</td>\n",
       "    </tr>\n",
       "    <tr>\n",
       "      <th>...</th>\n",
       "      <td>...</td>\n",
       "      <td>...</td>\n",
       "      <td>...</td>\n",
       "      <td>...</td>\n",
       "      <td>...</td>\n",
       "      <td>...</td>\n",
       "      <td>...</td>\n",
       "      <td>...</td>\n",
       "      <td>...</td>\n",
       "      <td>...</td>\n",
       "      <td>...</td>\n",
       "      <td>...</td>\n",
       "      <td>...</td>\n",
       "      <td>...</td>\n",
       "      <td>...</td>\n",
       "      <td>...</td>\n",
       "      <td>...</td>\n",
       "      <td>...</td>\n",
       "      <td>...</td>\n",
       "      <td>...</td>\n",
       "      <td>...</td>\n",
       "    </tr>\n",
       "    <tr>\n",
       "      <th>26486</th>\n",
       "      <td>TENG</td>\n",
       "      <td>Nepal</td>\n",
       "      <td>1</td>\n",
       "      <td>0</td>\n",
       "      <td>False</td>\n",
       "      <td>4</td>\n",
       "      <td>2</td>\n",
       "      <td>False</td>\n",
       "      <td>False</td>\n",
       "      <td>False</td>\n",
       "      <td>...</td>\n",
       "      <td>10.0</td>\n",
       "      <td>246.0</td>\n",
       "      <td>10.0</td>\n",
       "      <td>0.666667</td>\n",
       "      <td>Autumn</td>\n",
       "      <td>1.0</td>\n",
       "      <td>climber</td>\n",
       "      <td>True</td>\n",
       "      <td>25.0</td>\n",
       "      <td>0.0</td>\n",
       "    </tr>\n",
       "    <tr>\n",
       "      <th>26488</th>\n",
       "      <td>TENG</td>\n",
       "      <td>Nepal</td>\n",
       "      <td>1</td>\n",
       "      <td>0</td>\n",
       "      <td>False</td>\n",
       "      <td>4</td>\n",
       "      <td>2</td>\n",
       "      <td>False</td>\n",
       "      <td>False</td>\n",
       "      <td>False</td>\n",
       "      <td>...</td>\n",
       "      <td>10.0</td>\n",
       "      <td>246.0</td>\n",
       "      <td>10.0</td>\n",
       "      <td>0.666667</td>\n",
       "      <td>Autumn</td>\n",
       "      <td>1.0</td>\n",
       "      <td>h-a worker</td>\n",
       "      <td>True</td>\n",
       "      <td>21.0</td>\n",
       "      <td>0.0</td>\n",
       "    </tr>\n",
       "    <tr>\n",
       "      <th>26489</th>\n",
       "      <td>TENG</td>\n",
       "      <td>Nepal</td>\n",
       "      <td>1</td>\n",
       "      <td>0</td>\n",
       "      <td>False</td>\n",
       "      <td>4</td>\n",
       "      <td>2</td>\n",
       "      <td>False</td>\n",
       "      <td>False</td>\n",
       "      <td>False</td>\n",
       "      <td>...</td>\n",
       "      <td>10.0</td>\n",
       "      <td>246.0</td>\n",
       "      <td>10.0</td>\n",
       "      <td>0.666667</td>\n",
       "      <td>Autumn</td>\n",
       "      <td>1.0</td>\n",
       "      <td>h-a worker</td>\n",
       "      <td>True</td>\n",
       "      <td>39.0</td>\n",
       "      <td>0.0</td>\n",
       "    </tr>\n",
       "    <tr>\n",
       "      <th>26490</th>\n",
       "      <td>TENR</td>\n",
       "      <td>Nepal</td>\n",
       "      <td>4</td>\n",
       "      <td>3</td>\n",
       "      <td>False</td>\n",
       "      <td>2</td>\n",
       "      <td>0</td>\n",
       "      <td>True</td>\n",
       "      <td>False</td>\n",
       "      <td>False</td>\n",
       "      <td>...</td>\n",
       "      <td>10.0</td>\n",
       "      <td>269.0</td>\n",
       "      <td>6.0</td>\n",
       "      <td>1.000000</td>\n",
       "      <td>Autumn</td>\n",
       "      <td>1.0</td>\n",
       "      <td>leader</td>\n",
       "      <td>True</td>\n",
       "      <td>33.0</td>\n",
       "      <td>0.0</td>\n",
       "    </tr>\n",
       "    <tr>\n",
       "      <th>26491</th>\n",
       "      <td>TENR</td>\n",
       "      <td>Nepal</td>\n",
       "      <td>4</td>\n",
       "      <td>3</td>\n",
       "      <td>False</td>\n",
       "      <td>2</td>\n",
       "      <td>0</td>\n",
       "      <td>True</td>\n",
       "      <td>False</td>\n",
       "      <td>False</td>\n",
       "      <td>...</td>\n",
       "      <td>10.0</td>\n",
       "      <td>269.0</td>\n",
       "      <td>6.0</td>\n",
       "      <td>1.000000</td>\n",
       "      <td>Autumn</td>\n",
       "      <td>1.0</td>\n",
       "      <td>climber</td>\n",
       "      <td>True</td>\n",
       "      <td>36.0</td>\n",
       "      <td>0.0</td>\n",
       "    </tr>\n",
       "  </tbody>\n",
       "</table>\n",
       "<p>1702 rows × 35 columns</p>\n",
       "</div>"
      ],
      "text/plain": [
       "      peak_id   host  summit_days  camps   rope  tot_members  tot_hired  \\\n",
       "0        TKRG  Nepal            6      0  False            3          0   \n",
       "2        TKRG  Nepal            6      0  False            3          0   \n",
       "9        AMAD  Nepal            7      3   True            2          0   \n",
       "10       AMAD  Nepal            6      3   True            4          2   \n",
       "11       AMAD  Nepal            6      3   True            4          2   \n",
       "...       ...    ...          ...    ...    ...          ...        ...   \n",
       "26486    TENG  Nepal            1      0  False            4          2   \n",
       "26488    TENG  Nepal            1      0  False            4          2   \n",
       "26489    TENG  Nepal            1      0  False            4          2   \n",
       "26490    TENR  Nepal            4      3  False            2          0   \n",
       "26491    TENR  Nepal            4      3  False            2          0   \n",
       "\n",
       "       no_hired  comrte  stdrte  ...  visibility  winddirDegree  \\\n",
       "0          True   False   False  ...        10.0          270.0   \n",
       "2          True   False   False  ...        10.0          270.0   \n",
       "9          True    True   False  ...        10.0          297.0   \n",
       "10        False    True   False  ...        10.0          264.0   \n",
       "11        False    True   False  ...        10.0          264.0   \n",
       "...         ...     ...     ...  ...         ...            ...   \n",
       "26486     False   False   False  ...        10.0          246.0   \n",
       "26488     False   False   False  ...        10.0          246.0   \n",
       "26489     False   False   False  ...        10.0          246.0   \n",
       "26490      True   False   False  ...        10.0          269.0   \n",
       "26491      True   False   False  ...        10.0          269.0   \n",
       "\n",
       "       windspeedKmph  stability  season  sex_M      status  summit_success  \\\n",
       "0               15.0  -4.000000  Spring    1.0      leader            True   \n",
       "2               15.0  -4.000000  Spring    1.0     climber            True   \n",
       "9               13.0   0.333333  Spring    1.0      leader            True   \n",
       "10              17.0  -2.000000  Spring    1.0     climber            True   \n",
       "11              17.0  -2.000000  Spring    1.0     climber            True   \n",
       "...              ...        ...     ...    ...         ...             ...   \n",
       "26486           10.0   0.666667  Autumn    1.0     climber            True   \n",
       "26488           10.0   0.666667  Autumn    1.0  h-a worker            True   \n",
       "26489           10.0   0.666667  Autumn    1.0  h-a worker            True   \n",
       "26490            6.0   1.000000  Autumn    1.0      leader            True   \n",
       "26491            6.0   1.000000  Autumn    1.0     climber            True   \n",
       "\n",
       "        age  cumul_snow  \n",
       "0      43.0         0.0  \n",
       "2      37.0         0.0  \n",
       "9      38.0         0.0  \n",
       "10     54.0         0.0  \n",
       "11     38.0         0.0  \n",
       "...     ...         ...  \n",
       "26486  25.0         0.0  \n",
       "26488  21.0         0.0  \n",
       "26489  39.0         0.0  \n",
       "26490  33.0         0.0  \n",
       "26491  36.0         0.0  \n",
       "\n",
       "[1702 rows x 35 columns]"
      ]
     },
     "execution_count": 264,
     "metadata": {},
     "output_type": "execute_result"
    }
   ],
   "source": [
    "df[(df['summit_days']<10) & (df['summit_success']==True)]"
   ]
  },
  {
   "cell_type": "code",
   "execution_count": 256,
   "metadata": {},
   "outputs": [
    {
     "data": {
      "text/plain": [
       "Index(['peak_id', 'host', 'summit_days', 'camps', 'rope', 'tot_members',\n",
       "       'tot_hired', 'no_hired', 'comrte', 'stdrte', 'peak_height',\n",
       "       'sherpa_ratio', 'maxtempC', 'mintempC', 'totalSnow_cm', 'sunHour',\n",
       "       'moon_illumination', 'DewPointC', 'FeelsLikeC', 'HeatIndexC',\n",
       "       'WindGustKmph', 'cloudcover', 'humidity', 'precipMM', 'pressure',\n",
       "       'visibility', 'winddirDegree', 'windspeedKmph', 'stability', 'season',\n",
       "       'sex_M', 'status', 'summit_success', 'age', 'cumul_snow'],\n",
       "      dtype='object')"
      ]
     },
     "execution_count": 256,
     "metadata": {},
     "output_type": "execute_result"
    }
   ],
   "source": [
    "df.columns"
   ]
  },
  {
   "cell_type": "code",
   "execution_count": 392,
   "metadata": {},
   "outputs": [
    {
     "data": {
      "text/html": [
       "<div>\n",
       "<style scoped>\n",
       "    .dataframe tbody tr th:only-of-type {\n",
       "        vertical-align: middle;\n",
       "    }\n",
       "\n",
       "    .dataframe tbody tr th {\n",
       "        vertical-align: top;\n",
       "    }\n",
       "\n",
       "    .dataframe thead th {\n",
       "        text-align: right;\n",
       "    }\n",
       "</style>\n",
       "<table border=\"1\" class=\"dataframe\">\n",
       "  <thead>\n",
       "    <tr style=\"text-align: right;\">\n",
       "      <th></th>\n",
       "      <th>peak_id</th>\n",
       "      <th>host</th>\n",
       "      <th>summit_days</th>\n",
       "      <th>tot_days</th>\n",
       "      <th>camps</th>\n",
       "      <th>rope</th>\n",
       "      <th>tot_members</th>\n",
       "      <th>tot_hired</th>\n",
       "      <th>no_hired</th>\n",
       "      <th>comrte</th>\n",
       "      <th>...</th>\n",
       "      <th>age</th>\n",
       "      <th>cumul_snow</th>\n",
       "      <th>ratio_days</th>\n",
       "      <th>ratio_camps</th>\n",
       "      <th>poly1</th>\n",
       "      <th>poly2</th>\n",
       "      <th>poly3</th>\n",
       "      <th>poly4</th>\n",
       "      <th>box_camps</th>\n",
       "      <th>ultime_ratio</th>\n",
       "    </tr>\n",
       "  </thead>\n",
       "  <tbody>\n",
       "    <tr>\n",
       "      <th>17422</th>\n",
       "      <td>EVER</td>\n",
       "      <td>Nepal</td>\n",
       "      <td>41</td>\n",
       "      <td>67</td>\n",
       "      <td>4</td>\n",
       "      <td>False</td>\n",
       "      <td>2</td>\n",
       "      <td>11</td>\n",
       "      <td>False</td>\n",
       "      <td>True</td>\n",
       "      <td>...</td>\n",
       "      <td>35.0</td>\n",
       "      <td>8.7</td>\n",
       "      <td>4.822449</td>\n",
       "      <td>1.668261</td>\n",
       "      <td>1.0</td>\n",
       "      <td>4.0</td>\n",
       "      <td>67.0</td>\n",
       "      <td>268.0</td>\n",
       "      <td>2.806573</td>\n",
       "      <td>34.215469</td>\n",
       "    </tr>\n",
       "    <tr>\n",
       "      <th>17423</th>\n",
       "      <td>EVER</td>\n",
       "      <td>Nepal</td>\n",
       "      <td>41</td>\n",
       "      <td>67</td>\n",
       "      <td>4</td>\n",
       "      <td>False</td>\n",
       "      <td>2</td>\n",
       "      <td>11</td>\n",
       "      <td>False</td>\n",
       "      <td>True</td>\n",
       "      <td>...</td>\n",
       "      <td>28.0</td>\n",
       "      <td>8.7</td>\n",
       "      <td>4.822449</td>\n",
       "      <td>1.668261</td>\n",
       "      <td>1.0</td>\n",
       "      <td>4.0</td>\n",
       "      <td>67.0</td>\n",
       "      <td>268.0</td>\n",
       "      <td>2.806573</td>\n",
       "      <td>34.215469</td>\n",
       "    </tr>\n",
       "    <tr>\n",
       "      <th>17424</th>\n",
       "      <td>EVER</td>\n",
       "      <td>Nepal</td>\n",
       "      <td>41</td>\n",
       "      <td>67</td>\n",
       "      <td>4</td>\n",
       "      <td>False</td>\n",
       "      <td>2</td>\n",
       "      <td>11</td>\n",
       "      <td>False</td>\n",
       "      <td>True</td>\n",
       "      <td>...</td>\n",
       "      <td>34.0</td>\n",
       "      <td>8.7</td>\n",
       "      <td>4.822449</td>\n",
       "      <td>1.668261</td>\n",
       "      <td>1.0</td>\n",
       "      <td>4.0</td>\n",
       "      <td>67.0</td>\n",
       "      <td>268.0</td>\n",
       "      <td>2.806573</td>\n",
       "      <td>34.215469</td>\n",
       "    </tr>\n",
       "    <tr>\n",
       "      <th>17425</th>\n",
       "      <td>EVER</td>\n",
       "      <td>Nepal</td>\n",
       "      <td>41</td>\n",
       "      <td>67</td>\n",
       "      <td>4</td>\n",
       "      <td>False</td>\n",
       "      <td>2</td>\n",
       "      <td>11</td>\n",
       "      <td>False</td>\n",
       "      <td>True</td>\n",
       "      <td>...</td>\n",
       "      <td>34.0</td>\n",
       "      <td>8.7</td>\n",
       "      <td>4.822449</td>\n",
       "      <td>1.668261</td>\n",
       "      <td>1.0</td>\n",
       "      <td>4.0</td>\n",
       "      <td>67.0</td>\n",
       "      <td>268.0</td>\n",
       "      <td>2.806573</td>\n",
       "      <td>34.215469</td>\n",
       "    </tr>\n",
       "    <tr>\n",
       "      <th>17426</th>\n",
       "      <td>EVER</td>\n",
       "      <td>Nepal</td>\n",
       "      <td>41</td>\n",
       "      <td>67</td>\n",
       "      <td>4</td>\n",
       "      <td>False</td>\n",
       "      <td>2</td>\n",
       "      <td>11</td>\n",
       "      <td>False</td>\n",
       "      <td>True</td>\n",
       "      <td>...</td>\n",
       "      <td>35.0</td>\n",
       "      <td>8.7</td>\n",
       "      <td>4.822449</td>\n",
       "      <td>1.668261</td>\n",
       "      <td>1.0</td>\n",
       "      <td>4.0</td>\n",
       "      <td>67.0</td>\n",
       "      <td>268.0</td>\n",
       "      <td>2.806573</td>\n",
       "      <td>34.215469</td>\n",
       "    </tr>\n",
       "    <tr>\n",
       "      <th>17427</th>\n",
       "      <td>EVER</td>\n",
       "      <td>Nepal</td>\n",
       "      <td>41</td>\n",
       "      <td>67</td>\n",
       "      <td>4</td>\n",
       "      <td>False</td>\n",
       "      <td>2</td>\n",
       "      <td>11</td>\n",
       "      <td>False</td>\n",
       "      <td>True</td>\n",
       "      <td>...</td>\n",
       "      <td>38.0</td>\n",
       "      <td>8.7</td>\n",
       "      <td>4.822449</td>\n",
       "      <td>1.668261</td>\n",
       "      <td>1.0</td>\n",
       "      <td>4.0</td>\n",
       "      <td>67.0</td>\n",
       "      <td>268.0</td>\n",
       "      <td>2.806573</td>\n",
       "      <td>34.215469</td>\n",
       "    </tr>\n",
       "    <tr>\n",
       "      <th>17428</th>\n",
       "      <td>EVER</td>\n",
       "      <td>Nepal</td>\n",
       "      <td>41</td>\n",
       "      <td>67</td>\n",
       "      <td>4</td>\n",
       "      <td>False</td>\n",
       "      <td>2</td>\n",
       "      <td>11</td>\n",
       "      <td>False</td>\n",
       "      <td>True</td>\n",
       "      <td>...</td>\n",
       "      <td>30.0</td>\n",
       "      <td>8.7</td>\n",
       "      <td>4.822449</td>\n",
       "      <td>1.668261</td>\n",
       "      <td>1.0</td>\n",
       "      <td>4.0</td>\n",
       "      <td>67.0</td>\n",
       "      <td>268.0</td>\n",
       "      <td>2.806573</td>\n",
       "      <td>34.215469</td>\n",
       "    </tr>\n",
       "    <tr>\n",
       "      <th>17429</th>\n",
       "      <td>EVER</td>\n",
       "      <td>Nepal</td>\n",
       "      <td>41</td>\n",
       "      <td>67</td>\n",
       "      <td>4</td>\n",
       "      <td>False</td>\n",
       "      <td>2</td>\n",
       "      <td>11</td>\n",
       "      <td>False</td>\n",
       "      <td>True</td>\n",
       "      <td>...</td>\n",
       "      <td>36.0</td>\n",
       "      <td>8.7</td>\n",
       "      <td>4.822449</td>\n",
       "      <td>1.668261</td>\n",
       "      <td>1.0</td>\n",
       "      <td>4.0</td>\n",
       "      <td>67.0</td>\n",
       "      <td>268.0</td>\n",
       "      <td>2.806573</td>\n",
       "      <td>34.215469</td>\n",
       "    </tr>\n",
       "    <tr>\n",
       "      <th>17430</th>\n",
       "      <td>EVER</td>\n",
       "      <td>Nepal</td>\n",
       "      <td>41</td>\n",
       "      <td>67</td>\n",
       "      <td>4</td>\n",
       "      <td>False</td>\n",
       "      <td>2</td>\n",
       "      <td>11</td>\n",
       "      <td>False</td>\n",
       "      <td>True</td>\n",
       "      <td>...</td>\n",
       "      <td>27.0</td>\n",
       "      <td>8.7</td>\n",
       "      <td>4.822449</td>\n",
       "      <td>1.668261</td>\n",
       "      <td>1.0</td>\n",
       "      <td>4.0</td>\n",
       "      <td>67.0</td>\n",
       "      <td>268.0</td>\n",
       "      <td>2.806573</td>\n",
       "      <td>34.215469</td>\n",
       "    </tr>\n",
       "    <tr>\n",
       "      <th>17431</th>\n",
       "      <td>EVER</td>\n",
       "      <td>Nepal</td>\n",
       "      <td>41</td>\n",
       "      <td>67</td>\n",
       "      <td>4</td>\n",
       "      <td>False</td>\n",
       "      <td>2</td>\n",
       "      <td>11</td>\n",
       "      <td>False</td>\n",
       "      <td>True</td>\n",
       "      <td>...</td>\n",
       "      <td>26.0</td>\n",
       "      <td>8.7</td>\n",
       "      <td>4.822449</td>\n",
       "      <td>1.668261</td>\n",
       "      <td>1.0</td>\n",
       "      <td>4.0</td>\n",
       "      <td>67.0</td>\n",
       "      <td>268.0</td>\n",
       "      <td>2.806573</td>\n",
       "      <td>34.215469</td>\n",
       "    </tr>\n",
       "    <tr>\n",
       "      <th>17432</th>\n",
       "      <td>EVER</td>\n",
       "      <td>Nepal</td>\n",
       "      <td>41</td>\n",
       "      <td>67</td>\n",
       "      <td>4</td>\n",
       "      <td>False</td>\n",
       "      <td>2</td>\n",
       "      <td>11</td>\n",
       "      <td>False</td>\n",
       "      <td>True</td>\n",
       "      <td>...</td>\n",
       "      <td>34.0</td>\n",
       "      <td>8.7</td>\n",
       "      <td>4.822449</td>\n",
       "      <td>1.668261</td>\n",
       "      <td>1.0</td>\n",
       "      <td>4.0</td>\n",
       "      <td>67.0</td>\n",
       "      <td>268.0</td>\n",
       "      <td>2.806573</td>\n",
       "      <td>34.215469</td>\n",
       "    </tr>\n",
       "    <tr>\n",
       "      <th>17433</th>\n",
       "      <td>EVER</td>\n",
       "      <td>Nepal</td>\n",
       "      <td>41</td>\n",
       "      <td>67</td>\n",
       "      <td>4</td>\n",
       "      <td>False</td>\n",
       "      <td>2</td>\n",
       "      <td>11</td>\n",
       "      <td>False</td>\n",
       "      <td>True</td>\n",
       "      <td>...</td>\n",
       "      <td>28.0</td>\n",
       "      <td>8.7</td>\n",
       "      <td>4.822449</td>\n",
       "      <td>1.668261</td>\n",
       "      <td>1.0</td>\n",
       "      <td>4.0</td>\n",
       "      <td>67.0</td>\n",
       "      <td>268.0</td>\n",
       "      <td>2.806573</td>\n",
       "      <td>34.215469</td>\n",
       "    </tr>\n",
       "    <tr>\n",
       "      <th>17434</th>\n",
       "      <td>EVER</td>\n",
       "      <td>Nepal</td>\n",
       "      <td>41</td>\n",
       "      <td>67</td>\n",
       "      <td>4</td>\n",
       "      <td>False</td>\n",
       "      <td>2</td>\n",
       "      <td>11</td>\n",
       "      <td>False</td>\n",
       "      <td>True</td>\n",
       "      <td>...</td>\n",
       "      <td>24.0</td>\n",
       "      <td>8.7</td>\n",
       "      <td>4.822449</td>\n",
       "      <td>1.668261</td>\n",
       "      <td>1.0</td>\n",
       "      <td>4.0</td>\n",
       "      <td>67.0</td>\n",
       "      <td>268.0</td>\n",
       "      <td>2.806573</td>\n",
       "      <td>34.215469</td>\n",
       "    </tr>\n",
       "    <tr>\n",
       "      <th>19422</th>\n",
       "      <td>EVER</td>\n",
       "      <td>Nepal</td>\n",
       "      <td>28</td>\n",
       "      <td>58</td>\n",
       "      <td>3</td>\n",
       "      <td>True</td>\n",
       "      <td>2</td>\n",
       "      <td>7</td>\n",
       "      <td>False</td>\n",
       "      <td>True</td>\n",
       "      <td>...</td>\n",
       "      <td>36.0</td>\n",
       "      <td>0.2</td>\n",
       "      <td>4.552114</td>\n",
       "      <td>1.437142</td>\n",
       "      <td>1.0</td>\n",
       "      <td>3.0</td>\n",
       "      <td>58.0</td>\n",
       "      <td>174.0</td>\n",
       "      <td>2.226654</td>\n",
       "      <td>0.810569</td>\n",
       "    </tr>\n",
       "    <tr>\n",
       "      <th>19423</th>\n",
       "      <td>EVER</td>\n",
       "      <td>Nepal</td>\n",
       "      <td>28</td>\n",
       "      <td>58</td>\n",
       "      <td>3</td>\n",
       "      <td>True</td>\n",
       "      <td>2</td>\n",
       "      <td>7</td>\n",
       "      <td>False</td>\n",
       "      <td>True</td>\n",
       "      <td>...</td>\n",
       "      <td>41.0</td>\n",
       "      <td>0.2</td>\n",
       "      <td>4.552114</td>\n",
       "      <td>1.437142</td>\n",
       "      <td>1.0</td>\n",
       "      <td>3.0</td>\n",
       "      <td>58.0</td>\n",
       "      <td>174.0</td>\n",
       "      <td>2.226654</td>\n",
       "      <td>0.810569</td>\n",
       "    </tr>\n",
       "    <tr>\n",
       "      <th>19424</th>\n",
       "      <td>EVER</td>\n",
       "      <td>Nepal</td>\n",
       "      <td>28</td>\n",
       "      <td>58</td>\n",
       "      <td>3</td>\n",
       "      <td>True</td>\n",
       "      <td>2</td>\n",
       "      <td>7</td>\n",
       "      <td>False</td>\n",
       "      <td>True</td>\n",
       "      <td>...</td>\n",
       "      <td>35.0</td>\n",
       "      <td>0.2</td>\n",
       "      <td>4.552114</td>\n",
       "      <td>1.437142</td>\n",
       "      <td>1.0</td>\n",
       "      <td>3.0</td>\n",
       "      <td>58.0</td>\n",
       "      <td>174.0</td>\n",
       "      <td>2.226654</td>\n",
       "      <td>0.810569</td>\n",
       "    </tr>\n",
       "    <tr>\n",
       "      <th>19425</th>\n",
       "      <td>EVER</td>\n",
       "      <td>Nepal</td>\n",
       "      <td>28</td>\n",
       "      <td>58</td>\n",
       "      <td>3</td>\n",
       "      <td>True</td>\n",
       "      <td>2</td>\n",
       "      <td>7</td>\n",
       "      <td>False</td>\n",
       "      <td>True</td>\n",
       "      <td>...</td>\n",
       "      <td>35.0</td>\n",
       "      <td>0.2</td>\n",
       "      <td>4.552114</td>\n",
       "      <td>1.437142</td>\n",
       "      <td>1.0</td>\n",
       "      <td>3.0</td>\n",
       "      <td>58.0</td>\n",
       "      <td>174.0</td>\n",
       "      <td>2.226654</td>\n",
       "      <td>0.810569</td>\n",
       "    </tr>\n",
       "    <tr>\n",
       "      <th>19426</th>\n",
       "      <td>EVER</td>\n",
       "      <td>Nepal</td>\n",
       "      <td>28</td>\n",
       "      <td>58</td>\n",
       "      <td>3</td>\n",
       "      <td>True</td>\n",
       "      <td>2</td>\n",
       "      <td>7</td>\n",
       "      <td>False</td>\n",
       "      <td>True</td>\n",
       "      <td>...</td>\n",
       "      <td>28.0</td>\n",
       "      <td>0.2</td>\n",
       "      <td>4.552114</td>\n",
       "      <td>1.437142</td>\n",
       "      <td>1.0</td>\n",
       "      <td>3.0</td>\n",
       "      <td>58.0</td>\n",
       "      <td>174.0</td>\n",
       "      <td>2.226654</td>\n",
       "      <td>0.810569</td>\n",
       "    </tr>\n",
       "    <tr>\n",
       "      <th>19427</th>\n",
       "      <td>EVER</td>\n",
       "      <td>Nepal</td>\n",
       "      <td>28</td>\n",
       "      <td>58</td>\n",
       "      <td>3</td>\n",
       "      <td>True</td>\n",
       "      <td>2</td>\n",
       "      <td>7</td>\n",
       "      <td>False</td>\n",
       "      <td>True</td>\n",
       "      <td>...</td>\n",
       "      <td>25.0</td>\n",
       "      <td>0.2</td>\n",
       "      <td>4.552114</td>\n",
       "      <td>1.437142</td>\n",
       "      <td>1.0</td>\n",
       "      <td>3.0</td>\n",
       "      <td>58.0</td>\n",
       "      <td>174.0</td>\n",
       "      <td>2.226654</td>\n",
       "      <td>0.810569</td>\n",
       "    </tr>\n",
       "    <tr>\n",
       "      <th>19428</th>\n",
       "      <td>EVER</td>\n",
       "      <td>Nepal</td>\n",
       "      <td>28</td>\n",
       "      <td>58</td>\n",
       "      <td>3</td>\n",
       "      <td>True</td>\n",
       "      <td>2</td>\n",
       "      <td>7</td>\n",
       "      <td>False</td>\n",
       "      <td>True</td>\n",
       "      <td>...</td>\n",
       "      <td>31.0</td>\n",
       "      <td>0.2</td>\n",
       "      <td>4.552114</td>\n",
       "      <td>1.437142</td>\n",
       "      <td>1.0</td>\n",
       "      <td>3.0</td>\n",
       "      <td>58.0</td>\n",
       "      <td>174.0</td>\n",
       "      <td>2.226654</td>\n",
       "      <td>0.810569</td>\n",
       "    </tr>\n",
       "    <tr>\n",
       "      <th>19429</th>\n",
       "      <td>EVER</td>\n",
       "      <td>Nepal</td>\n",
       "      <td>28</td>\n",
       "      <td>58</td>\n",
       "      <td>3</td>\n",
       "      <td>True</td>\n",
       "      <td>2</td>\n",
       "      <td>7</td>\n",
       "      <td>False</td>\n",
       "      <td>True</td>\n",
       "      <td>...</td>\n",
       "      <td>27.0</td>\n",
       "      <td>0.2</td>\n",
       "      <td>4.552114</td>\n",
       "      <td>1.437142</td>\n",
       "      <td>1.0</td>\n",
       "      <td>3.0</td>\n",
       "      <td>58.0</td>\n",
       "      <td>174.0</td>\n",
       "      <td>2.226654</td>\n",
       "      <td>0.810569</td>\n",
       "    </tr>\n",
       "    <tr>\n",
       "      <th>19430</th>\n",
       "      <td>EVER</td>\n",
       "      <td>Nepal</td>\n",
       "      <td>28</td>\n",
       "      <td>58</td>\n",
       "      <td>3</td>\n",
       "      <td>True</td>\n",
       "      <td>2</td>\n",
       "      <td>7</td>\n",
       "      <td>False</td>\n",
       "      <td>True</td>\n",
       "      <td>...</td>\n",
       "      <td>42.0</td>\n",
       "      <td>0.2</td>\n",
       "      <td>4.552114</td>\n",
       "      <td>1.437142</td>\n",
       "      <td>1.0</td>\n",
       "      <td>3.0</td>\n",
       "      <td>58.0</td>\n",
       "      <td>174.0</td>\n",
       "      <td>2.226654</td>\n",
       "      <td>0.810569</td>\n",
       "    </tr>\n",
       "    <tr>\n",
       "      <th>25660</th>\n",
       "      <td>EVER</td>\n",
       "      <td>Nepal</td>\n",
       "      <td>67</td>\n",
       "      <td>73</td>\n",
       "      <td>3</td>\n",
       "      <td>True</td>\n",
       "      <td>2</td>\n",
       "      <td>0</td>\n",
       "      <td>True</td>\n",
       "      <td>False</td>\n",
       "      <td>...</td>\n",
       "      <td>27.0</td>\n",
       "      <td>42.6</td>\n",
       "      <td>5.209470</td>\n",
       "      <td>1.426835</td>\n",
       "      <td>1.0</td>\n",
       "      <td>3.0</td>\n",
       "      <td>73.0</td>\n",
       "      <td>219.0</td>\n",
       "      <td>2.226654</td>\n",
       "      <td>0.540165</td>\n",
       "    </tr>\n",
       "    <tr>\n",
       "      <th>25661</th>\n",
       "      <td>EVER</td>\n",
       "      <td>Nepal</td>\n",
       "      <td>67</td>\n",
       "      <td>73</td>\n",
       "      <td>3</td>\n",
       "      <td>True</td>\n",
       "      <td>2</td>\n",
       "      <td>0</td>\n",
       "      <td>True</td>\n",
       "      <td>False</td>\n",
       "      <td>...</td>\n",
       "      <td>34.0</td>\n",
       "      <td>42.6</td>\n",
       "      <td>5.209470</td>\n",
       "      <td>1.426835</td>\n",
       "      <td>1.0</td>\n",
       "      <td>3.0</td>\n",
       "      <td>73.0</td>\n",
       "      <td>219.0</td>\n",
       "      <td>2.226654</td>\n",
       "      <td>0.540165</td>\n",
       "    </tr>\n",
       "    <tr>\n",
       "      <th>25674</th>\n",
       "      <td>EVER</td>\n",
       "      <td>Nepal</td>\n",
       "      <td>3</td>\n",
       "      <td>6</td>\n",
       "      <td>1</td>\n",
       "      <td>False</td>\n",
       "      <td>4</td>\n",
       "      <td>0</td>\n",
       "      <td>True</td>\n",
       "      <td>True</td>\n",
       "      <td>...</td>\n",
       "      <td>34.0</td>\n",
       "      <td>5.9</td>\n",
       "      <td>2.374482</td>\n",
       "      <td>0.836004</td>\n",
       "      <td>1.0</td>\n",
       "      <td>1.0</td>\n",
       "      <td>6.0</td>\n",
       "      <td>6.0</td>\n",
       "      <td>0.871436</td>\n",
       "      <td>69.459952</td>\n",
       "    </tr>\n",
       "    <tr>\n",
       "      <th>25675</th>\n",
       "      <td>EVER</td>\n",
       "      <td>Nepal</td>\n",
       "      <td>3</td>\n",
       "      <td>6</td>\n",
       "      <td>1</td>\n",
       "      <td>False</td>\n",
       "      <td>4</td>\n",
       "      <td>0</td>\n",
       "      <td>True</td>\n",
       "      <td>True</td>\n",
       "      <td>...</td>\n",
       "      <td>29.0</td>\n",
       "      <td>5.9</td>\n",
       "      <td>2.374482</td>\n",
       "      <td>0.836004</td>\n",
       "      <td>1.0</td>\n",
       "      <td>1.0</td>\n",
       "      <td>6.0</td>\n",
       "      <td>6.0</td>\n",
       "      <td>0.871436</td>\n",
       "      <td>69.459952</td>\n",
       "    </tr>\n",
       "    <tr>\n",
       "      <th>25676</th>\n",
       "      <td>EVER</td>\n",
       "      <td>Nepal</td>\n",
       "      <td>3</td>\n",
       "      <td>6</td>\n",
       "      <td>1</td>\n",
       "      <td>False</td>\n",
       "      <td>4</td>\n",
       "      <td>0</td>\n",
       "      <td>True</td>\n",
       "      <td>True</td>\n",
       "      <td>...</td>\n",
       "      <td>30.0</td>\n",
       "      <td>5.9</td>\n",
       "      <td>2.374482</td>\n",
       "      <td>0.836004</td>\n",
       "      <td>1.0</td>\n",
       "      <td>1.0</td>\n",
       "      <td>6.0</td>\n",
       "      <td>6.0</td>\n",
       "      <td>0.871436</td>\n",
       "      <td>69.459952</td>\n",
       "    </tr>\n",
       "    <tr>\n",
       "      <th>25677</th>\n",
       "      <td>EVER</td>\n",
       "      <td>Nepal</td>\n",
       "      <td>3</td>\n",
       "      <td>6</td>\n",
       "      <td>1</td>\n",
       "      <td>False</td>\n",
       "      <td>4</td>\n",
       "      <td>0</td>\n",
       "      <td>True</td>\n",
       "      <td>True</td>\n",
       "      <td>...</td>\n",
       "      <td>31.0</td>\n",
       "      <td>5.9</td>\n",
       "      <td>2.374482</td>\n",
       "      <td>0.836004</td>\n",
       "      <td>1.0</td>\n",
       "      <td>1.0</td>\n",
       "      <td>6.0</td>\n",
       "      <td>6.0</td>\n",
       "      <td>0.871436</td>\n",
       "      <td>69.459952</td>\n",
       "    </tr>\n",
       "  </tbody>\n",
       "</table>\n",
       "<p>28 rows × 46 columns</p>\n",
       "</div>"
      ],
      "text/plain": [
       "      peak_id   host  summit_days  tot_days  camps   rope  tot_members  \\\n",
       "17422    EVER  Nepal           41        67      4  False            2   \n",
       "17423    EVER  Nepal           41        67      4  False            2   \n",
       "17424    EVER  Nepal           41        67      4  False            2   \n",
       "17425    EVER  Nepal           41        67      4  False            2   \n",
       "17426    EVER  Nepal           41        67      4  False            2   \n",
       "17427    EVER  Nepal           41        67      4  False            2   \n",
       "17428    EVER  Nepal           41        67      4  False            2   \n",
       "17429    EVER  Nepal           41        67      4  False            2   \n",
       "17430    EVER  Nepal           41        67      4  False            2   \n",
       "17431    EVER  Nepal           41        67      4  False            2   \n",
       "17432    EVER  Nepal           41        67      4  False            2   \n",
       "17433    EVER  Nepal           41        67      4  False            2   \n",
       "17434    EVER  Nepal           41        67      4  False            2   \n",
       "19422    EVER  Nepal           28        58      3   True            2   \n",
       "19423    EVER  Nepal           28        58      3   True            2   \n",
       "19424    EVER  Nepal           28        58      3   True            2   \n",
       "19425    EVER  Nepal           28        58      3   True            2   \n",
       "19426    EVER  Nepal           28        58      3   True            2   \n",
       "19427    EVER  Nepal           28        58      3   True            2   \n",
       "19428    EVER  Nepal           28        58      3   True            2   \n",
       "19429    EVER  Nepal           28        58      3   True            2   \n",
       "19430    EVER  Nepal           28        58      3   True            2   \n",
       "25660    EVER  Nepal           67        73      3   True            2   \n",
       "25661    EVER  Nepal           67        73      3   True            2   \n",
       "25674    EVER  Nepal            3         6      1  False            4   \n",
       "25675    EVER  Nepal            3         6      1  False            4   \n",
       "25676    EVER  Nepal            3         6      1  False            4   \n",
       "25677    EVER  Nepal            3         6      1  False            4   \n",
       "\n",
       "       tot_hired  no_hired  comrte  ...   age  cumul_snow  ratio_days  \\\n",
       "17422         11     False    True  ...  35.0         8.7    4.822449   \n",
       "17423         11     False    True  ...  28.0         8.7    4.822449   \n",
       "17424         11     False    True  ...  34.0         8.7    4.822449   \n",
       "17425         11     False    True  ...  34.0         8.7    4.822449   \n",
       "17426         11     False    True  ...  35.0         8.7    4.822449   \n",
       "17427         11     False    True  ...  38.0         8.7    4.822449   \n",
       "17428         11     False    True  ...  30.0         8.7    4.822449   \n",
       "17429         11     False    True  ...  36.0         8.7    4.822449   \n",
       "17430         11     False    True  ...  27.0         8.7    4.822449   \n",
       "17431         11     False    True  ...  26.0         8.7    4.822449   \n",
       "17432         11     False    True  ...  34.0         8.7    4.822449   \n",
       "17433         11     False    True  ...  28.0         8.7    4.822449   \n",
       "17434         11     False    True  ...  24.0         8.7    4.822449   \n",
       "19422          7     False    True  ...  36.0         0.2    4.552114   \n",
       "19423          7     False    True  ...  41.0         0.2    4.552114   \n",
       "19424          7     False    True  ...  35.0         0.2    4.552114   \n",
       "19425          7     False    True  ...  35.0         0.2    4.552114   \n",
       "19426          7     False    True  ...  28.0         0.2    4.552114   \n",
       "19427          7     False    True  ...  25.0         0.2    4.552114   \n",
       "19428          7     False    True  ...  31.0         0.2    4.552114   \n",
       "19429          7     False    True  ...  27.0         0.2    4.552114   \n",
       "19430          7     False    True  ...  42.0         0.2    4.552114   \n",
       "25660          0      True   False  ...  27.0        42.6    5.209470   \n",
       "25661          0      True   False  ...  34.0        42.6    5.209470   \n",
       "25674          0      True    True  ...  34.0         5.9    2.374482   \n",
       "25675          0      True    True  ...  29.0         5.9    2.374482   \n",
       "25676          0      True    True  ...  30.0         5.9    2.374482   \n",
       "25677          0      True    True  ...  31.0         5.9    2.374482   \n",
       "\n",
       "       ratio_camps  poly1  poly2  poly3  poly4  box_camps  ultime_ratio  \n",
       "17422     1.668261    1.0    4.0   67.0  268.0   2.806573     34.215469  \n",
       "17423     1.668261    1.0    4.0   67.0  268.0   2.806573     34.215469  \n",
       "17424     1.668261    1.0    4.0   67.0  268.0   2.806573     34.215469  \n",
       "17425     1.668261    1.0    4.0   67.0  268.0   2.806573     34.215469  \n",
       "17426     1.668261    1.0    4.0   67.0  268.0   2.806573     34.215469  \n",
       "17427     1.668261    1.0    4.0   67.0  268.0   2.806573     34.215469  \n",
       "17428     1.668261    1.0    4.0   67.0  268.0   2.806573     34.215469  \n",
       "17429     1.668261    1.0    4.0   67.0  268.0   2.806573     34.215469  \n",
       "17430     1.668261    1.0    4.0   67.0  268.0   2.806573     34.215469  \n",
       "17431     1.668261    1.0    4.0   67.0  268.0   2.806573     34.215469  \n",
       "17432     1.668261    1.0    4.0   67.0  268.0   2.806573     34.215469  \n",
       "17433     1.668261    1.0    4.0   67.0  268.0   2.806573     34.215469  \n",
       "17434     1.668261    1.0    4.0   67.0  268.0   2.806573     34.215469  \n",
       "19422     1.437142    1.0    3.0   58.0  174.0   2.226654      0.810569  \n",
       "19423     1.437142    1.0    3.0   58.0  174.0   2.226654      0.810569  \n",
       "19424     1.437142    1.0    3.0   58.0  174.0   2.226654      0.810569  \n",
       "19425     1.437142    1.0    3.0   58.0  174.0   2.226654      0.810569  \n",
       "19426     1.437142    1.0    3.0   58.0  174.0   2.226654      0.810569  \n",
       "19427     1.437142    1.0    3.0   58.0  174.0   2.226654      0.810569  \n",
       "19428     1.437142    1.0    3.0   58.0  174.0   2.226654      0.810569  \n",
       "19429     1.437142    1.0    3.0   58.0  174.0   2.226654      0.810569  \n",
       "19430     1.437142    1.0    3.0   58.0  174.0   2.226654      0.810569  \n",
       "25660     1.426835    1.0    3.0   73.0  219.0   2.226654      0.540165  \n",
       "25661     1.426835    1.0    3.0   73.0  219.0   2.226654      0.540165  \n",
       "25674     0.836004    1.0    1.0    6.0    6.0   0.871436     69.459952  \n",
       "25675     0.836004    1.0    1.0    6.0    6.0   0.871436     69.459952  \n",
       "25676     0.836004    1.0    1.0    6.0    6.0   0.871436     69.459952  \n",
       "25677     0.836004    1.0    1.0    6.0    6.0   0.871436     69.459952  \n",
       "\n",
       "[28 rows x 46 columns]"
      ]
     },
     "execution_count": 392,
     "metadata": {},
     "output_type": "execute_result"
    }
   ],
   "source": [
    "df[(df['season']=='Winter') & (df['peak_id']=='EVER')]"
   ]
  },
  {
   "cell_type": "code",
   "execution_count": 413,
   "metadata": {},
   "outputs": [],
   "source": [
    "class HimalXGB():\n",
    "\n",
    "    def train_model(self):\n",
    "        \"\"\"\n",
    "        This function get the data from csv files and return a trained model.\n",
    "        It also save the model under the name XGB_model.joblib\n",
    "        \"\"\"\n",
    "\n",
    "        # Get Data\n",
    "        member = Members().get_data()\n",
    "        member = Members().clean_data(member)\n",
    "\n",
    "        weather = Weather().get_data()\n",
    "        weather = Weather().clean_data(weather)\n",
    "\n",
    "        exped = Expeds().get_data()\n",
    "        exped = Expeds().clean_data(exped)\n",
    "\n",
    "        # Drop columns\n",
    "        mem_to_drop = ['memb_id','year','unique_id','peak_id','residence','occupation',\n",
    "        'summit_claimed','summit_disputed','highpt','high_point','death','death_type',\n",
    "        'death_height','death_class','summit_term','summit_date1', 'summit_bid',\n",
    "        'citizenship','o2_climb','o2_descent','o2_sleep','o2_medical', 'o2_none',\n",
    "        'yob', 'route1', 'ascent1', 'leader', 'deputy', 'bconly', 'nottobc', 'support',\n",
    "        'hired', 'sherpa', 'tibetan']\n",
    "\n",
    "\n",
    "        exp_to_drop = ['year','season','route1','route2','nation','leaders',\n",
    "        'sponsor','success1','success2', 'ascent1','claimed','disputed',\n",
    "        'countries','summit_time','term_date','term_note','high_point',\n",
    "        'traverse','ski','parapente','o2_climb','o2_descent','o2_sleep',\n",
    "        'o2_medical','o2_taken','o2_unkwn','o2_used','o2_none','other_smts',\n",
    "        'campsites','accidents','achievment','agency','peak_name','primmem',\n",
    "        'summiter_deaths','summit_members','summit_hired','hired_deaths']\n",
    "\n",
    "        member.drop(columns= mem_to_drop, inplace=True)\n",
    "        exped.drop(columns= exp_to_drop, inplace=True)\n",
    "\n",
    "        exped['summit_date'] = pd.to_datetime(exped.summit_date, errors = 'coerce')\n",
    "        exped['bc_date'] = pd.to_datetime(exped.bc_date , errors = 'coerce')\n",
    "        exped['rope'] = np.where(exped['rope']>0, True, False)\n",
    "\n",
    "        exped = exped.set_index('summit_date')\n",
    "        weather = weather.set_index('date_time')\n",
    "\n",
    "        # Feature Engineering (1/2)\n",
    "        exped['sherpa_ratio'] = exped['tot_hired'] / exped['tot_members']\n",
    "        exped['sherpa_ratio'] = np.where(exped['sherpa_ratio'] == np.inf, 0, exped['sherpa_ratio'])\n",
    "\n",
    "        weather['pressure_past'] = weather['pressure'].rolling(window=3).mean()\n",
    "        weather['pressure_futur'] = weather['pressure'].shift(-2).rolling(window=3).mean()\n",
    "        weather['stability'] = weather['pressure_futur'] - weather['pressure_past']\n",
    "\n",
    "        # Merge DataFrames\n",
    "        df = exped.merge(weather, how='left', left_index=True, right_index=True)\n",
    "        df = df.reset_index()\n",
    "        df = df.rename(columns={'index' : 'summit_date'})\n",
    "        df = df.merge(member, on='exp_id', how = 'right')\n",
    "        df = df.dropna(subset=['summit_date', 'bc_date'])\n",
    "        df.drop('date_season', axis=1, inplace=True)\n",
    "\n",
    "        # Feature Engineering (2/2)\n",
    "        df['cumul_snow'] = 0\n",
    "\n",
    "        for index, row in df.iterrows():\n",
    "            date1 = row['bc_date'].date()\n",
    "            date2 = row['summit_date'].date()\n",
    "            acc_snow = weather.loc[date1:date2, 'totalSnow_cm'].sum()\n",
    "            df.loc[index, 'cumul_snow'] = acc_snow\n",
    "\n",
    "        feature_to_drop = ['tempC', 'WindChillC', 'primrte', 'disabled','moonrise', 'moonset',\n",
    "                           'sunrise', 'sunset', 'traverse', 'parapente', 'solo', 'ski', 'speed',\n",
    "                           'summit_date', 'exp_id', 'bc_date', 'term_reason',\n",
    "                           'pressure_past', 'pressure_futur', 'uvIndex', 'o2_used']\n",
    "\n",
    "        df.drop(columns= feature_to_drop, inplace=True)\n",
    "        \n",
    "        df['ratio_days'] = df['summit_days']/(df['tot_days']+1) + np.log(df['tot_days']+1)\n",
    "        df['ratio_camps'] = df['camps']/(df['tot_days']+1) + np.log(df['camps']+1)\n",
    "        \n",
    "        df.drop(index = df[df['status']=='bc member'].index, inplace = True)\n",
    "        col_num = []\n",
    "        col_bool =[]\n",
    "        col_object =[]\n",
    "        for col in df:\n",
    "            if df[col].dtype == \"float64\":\n",
    "                col_num.append(col)\n",
    "            if df[col].dtype == \"int64\":\n",
    "                col_num.append(col)\n",
    "            if df[col].dtype == 'bool':\n",
    "                col_bool.append(col)\n",
    "            if df[col].dtype == 'object':\n",
    "                col_object.append(col)\n",
    "\n",
    "        col_bool.remove('summit_success')\n",
    "\n",
    "        numeric_transformer = Pipeline(steps=[\n",
    "            ('imputer', SimpleImputer()),\n",
    "            ('scaler', MinMaxScaler())])\n",
    "\n",
    "        categorical_transformer = Pipeline(steps=[\n",
    "            ('imputer', SimpleImputer(strategy='most_frequent')),\n",
    "            ('onehot', OneHotEncoder(drop= 'first', handle_unknown='error'))])\n",
    "\n",
    "        preprocessor = ColumnTransformer(\n",
    "            transformers=[\n",
    "                ('num', numeric_transformer, col_num),\n",
    "                ('cat', categorical_transformer, col_object)], remainder=\"passthrough\")\n",
    "\n",
    "        pipeline = Pipeline(steps=[('preprocessor', preprocessor)])\n",
    "\n",
    "        X = df.drop(columns=['summit_success'])\n",
    "        X = pipeline.fit_transform(X)\n",
    "        y = df.summit_success\n",
    "\n",
    "        col_cat_names = list(pipeline.named_steps[\"preprocessor\"].transformers_[1][1]\\\n",
    "            .named_steps['onehot'].get_feature_names(col_object))\n",
    "\n",
    "        feat_name = col_num + col_cat_names + col_bool\n",
    "\n",
    "        X_train, X_test, y_train, y_test = train_test_split(X, y, test_size= 0.3, random_state= 1)\n",
    "\n",
    "        # Model Traning\n",
    "        boost = XGBClassifier()\n",
    "        boost.fit(X_train, y_train)\n",
    "        boost.fit(X_train, y_train)\n",
    "        ypred = boost.predict(X_test)\n",
    "        \n",
    "        return print(classification_report(y_test, ypred))\n"
   ]
  },
  {
   "cell_type": "code",
   "execution_count": 395,
   "metadata": {},
   "outputs": [
    {
     "name": "stdout",
     "output_type": "stream",
     "text": [
      "              precision    recall  f1-score   support\n",
      "\n",
      "       False       0.84      0.76      0.80      3224\n",
      "        True       0.79      0.86      0.82      3323\n",
      "\n",
      "    accuracy                           0.81      6547\n",
      "   macro avg       0.81      0.81      0.81      6547\n",
      "weighted avg       0.81      0.81      0.81      6547\n",
      "\n"
     ]
    }
   ],
   "source": [
    "HimalXGB().train_model()"
   ]
  },
  {
   "cell_type": "code",
   "execution_count": 414,
   "metadata": {},
   "outputs": [
    {
     "name": "stdout",
     "output_type": "stream",
     "text": [
      "              precision    recall  f1-score   support\n",
      "\n",
      "       False       0.83      0.78      0.80      3108\n",
      "        True       0.81      0.85      0.83      3421\n",
      "\n",
      "    accuracy                           0.82      6529\n",
      "   macro avg       0.82      0.81      0.81      6529\n",
      "weighted avg       0.82      0.82      0.81      6529\n",
      "\n"
     ]
    }
   ],
   "source": [
    "HimalXGB().train_model()"
   ]
  },
  {
   "cell_type": "code",
   "execution_count": 398,
   "metadata": {},
   "outputs": [],
   "source": [
    "member = Members().get_data()\n",
    "member = Members().clean_data(member)\n",
    "    "
   ]
  },
  {
   "cell_type": "code",
   "execution_count": 420,
   "metadata": {},
   "outputs": [
    {
     "data": {
      "text/html": [
       "<div>\n",
       "<style scoped>\n",
       "    .dataframe tbody tr th:only-of-type {\n",
       "        vertical-align: middle;\n",
       "    }\n",
       "\n",
       "    .dataframe tbody tr th {\n",
       "        vertical-align: top;\n",
       "    }\n",
       "\n",
       "    .dataframe thead th {\n",
       "        text-align: right;\n",
       "    }\n",
       "</style>\n",
       "<table border=\"1\" class=\"dataframe\">\n",
       "  <thead>\n",
       "    <tr style=\"text-align: right;\">\n",
       "      <th></th>\n",
       "      <th>residence</th>\n",
       "    </tr>\n",
       "  </thead>\n",
       "  <tbody>\n",
       "    <tr>\n",
       "      <th>26485</th>\n",
       "      <td>Adelaide, SA, Australia</td>\n",
       "    </tr>\n",
       "    <tr>\n",
       "      <th>26486</th>\n",
       "      <td>Adelaide, SA, Australia</td>\n",
       "    </tr>\n",
       "    <tr>\n",
       "      <th>26487</th>\n",
       "      <td>Adelaide, SA, Australia</td>\n",
       "    </tr>\n",
       "    <tr>\n",
       "      <th>26488</th>\n",
       "      <td>Lelep-9, Taplejung</td>\n",
       "    </tr>\n",
       "    <tr>\n",
       "      <th>26489</th>\n",
       "      <td>Paiya, Jubing-7, Solukhumbu</td>\n",
       "    </tr>\n",
       "    <tr>\n",
       "      <th>26490</th>\n",
       "      <td>Salt Lake City, Utah</td>\n",
       "    </tr>\n",
       "    <tr>\n",
       "      <th>26491</th>\n",
       "      <td>Seattle, Washington</td>\n",
       "    </tr>\n",
       "    <tr>\n",
       "      <th>26492</th>\n",
       "      <td>Grenoble, Isere, France</td>\n",
       "    </tr>\n",
       "    <tr>\n",
       "      <th>26493</th>\n",
       "      <td>Saint Sulpice, Tarn, France</td>\n",
       "    </tr>\n",
       "    <tr>\n",
       "      <th>26494</th>\n",
       "      <td>Ipsach, Bern, Switzerland</td>\n",
       "    </tr>\n",
       "    <tr>\n",
       "      <th>26495</th>\n",
       "      <td>Bagam, Solukhumbu</td>\n",
       "    </tr>\n",
       "    <tr>\n",
       "      <th>26496</th>\n",
       "      <td>Plouezec, Cotes-d'Armor, France</td>\n",
       "    </tr>\n",
       "    <tr>\n",
       "      <th>26497</th>\n",
       "      <td>Unknown</td>\n",
       "    </tr>\n",
       "    <tr>\n",
       "      <th>26498</th>\n",
       "      <td>Unknown</td>\n",
       "    </tr>\n",
       "    <tr>\n",
       "      <th>26499</th>\n",
       "      <td>Yilajung, Khumbu</td>\n",
       "    </tr>\n",
       "    <tr>\n",
       "      <th>26500</th>\n",
       "      <td>Thami, Khumbu</td>\n",
       "    </tr>\n",
       "    <tr>\n",
       "      <th>26501</th>\n",
       "      <td>Taksindu-3, Solukhumbu</td>\n",
       "    </tr>\n",
       "    <tr>\n",
       "      <th>26502</th>\n",
       "      <td>Imatra, Finland</td>\n",
       "    </tr>\n",
       "    <tr>\n",
       "      <th>26503</th>\n",
       "      <td>Calgary, Alberta</td>\n",
       "    </tr>\n",
       "    <tr>\n",
       "      <th>26504</th>\n",
       "      <td>Canmore, Alberta</td>\n",
       "    </tr>\n",
       "  </tbody>\n",
       "</table>\n",
       "</div>"
      ],
      "text/plain": [
       "                             residence\n",
       "26485          Adelaide, SA, Australia\n",
       "26486          Adelaide, SA, Australia\n",
       "26487          Adelaide, SA, Australia\n",
       "26488               Lelep-9, Taplejung\n",
       "26489      Paiya, Jubing-7, Solukhumbu\n",
       "26490             Salt Lake City, Utah\n",
       "26491              Seattle, Washington\n",
       "26492          Grenoble, Isere, France\n",
       "26493      Saint Sulpice, Tarn, France\n",
       "26494        Ipsach, Bern, Switzerland\n",
       "26495                Bagam, Solukhumbu\n",
       "26496  Plouezec, Cotes-d'Armor, France\n",
       "26497                          Unknown\n",
       "26498                          Unknown\n",
       "26499                 Yilajung, Khumbu\n",
       "26500                    Thami, Khumbu\n",
       "26501           Taksindu-3, Solukhumbu\n",
       "26502                  Imatra, Finland\n",
       "26503                 Calgary, Alberta\n",
       "26504                 Canmore, Alberta"
      ]
     },
     "execution_count": 420,
     "metadata": {},
     "output_type": "execute_result"
    }
   ],
   "source": [
    "member[['residence']].tail(20)"
   ]
  },
  {
   "cell_type": "code",
   "execution_count": 421,
   "metadata": {},
   "outputs": [
    {
     "name": "stdout",
     "output_type": "stream",
     "text": [
      "Collecting pycountry\n",
      "  Downloading pycountry-20.7.3.tar.gz (10.1 MB)\n",
      "Building wheels for collected packages: pycountry\n",
      "  Building wheel for pycountry (setup.py): started\n",
      "  Building wheel for pycountry (setup.py): finished with status 'done'\n",
      "  Created wheel for pycountry: filename=pycountry-20.7.3-py2.py3-none-any.whl size=10746869 sha256=6e879ac8fc7706ad73e89c2845e5cbd66253d4e4cf94e565e4d0a1740448a3ac\n",
      "  Stored in directory: c:\\users\\jerem\\appdata\\local\\pip\\cache\\wheels\\57\\e8\\3f\\120ccc1ff7541c108bc5d656e2a14c39da0d824653b62284c6\n",
      "Successfully built pycountry\n",
      "Installing collected packages: pycountry\n",
      "Successfully installed pycountry-20.7.3\n"
     ]
    }
   ],
   "source": [
    "!pip install pycountry\n"
   ]
  },
  {
   "cell_type": "code",
   "execution_count": 422,
   "metadata": {},
   "outputs": [],
   "source": [
    "us_states = {\n",
    "    'Alabama': 'AL',\n",
    "    'Alaska': 'AK',\n",
    "    'Arizona': 'AZ',\n",
    "    'Arkansas': 'AR',\n",
    "    'California': 'CA',\n",
    "    'Colorado': 'CO',\n",
    "    'Connecticut': 'CT',\n",
    "    'Delaware': 'DE',\n",
    "    'District of Columbia': 'DC',\n",
    "    'Florida': 'FL',\n",
    "    'Georgia': 'GA',\n",
    "    'Hawaii': 'HI',\n",
    "    'Idaho': 'ID',\n",
    "    'Illinois': 'IL',\n",
    "    'Indiana': 'IN',\n",
    "    'Iowa': 'IA',\n",
    "    'Kansas': 'KS',\n",
    "    'Kentucky': 'KY',\n",
    "    'Louisiana': 'LA',\n",
    "    'Maine': 'ME',\n",
    "    'Maryland': 'MD',\n",
    "    'Massachusetts': 'MA',\n",
    "    'Michigan': 'MI',\n",
    "    'Minnesota': 'MN',\n",
    "    'Mississippi': 'MS',\n",
    "    'Missouri': 'MO',\n",
    "    'Montana': 'MT',\n",
    "    'Nebraska': 'NE',\n",
    "    'Nevada': 'NV',\n",
    "    'New Hampshire': 'NH',\n",
    "    'New Jersey': 'NJ',\n",
    "    'New Mexico': 'NM',\n",
    "    'New York': 'NY',\n",
    "    'North Carolina': 'NC',\n",
    "    'North Dakota': 'ND',\n",
    "    'Ohio': 'OH',\n",
    "    'Oklahoma': 'OK',\n",
    "    'Oregon': 'OR',\n",
    "    'Pennsylvania': 'PA',\n",
    "    'Rhode Island': 'RI',\n",
    "    'South Carolina': 'SC',\n",
    "    'South Dakota': 'SD',\n",
    "    'Tennessee': 'TN',\n",
    "    'Texas': 'TX',\n",
    "    'Utah': 'UT',\n",
    "    'Vermont': 'VT',\n",
    "    'Virginia': 'VA',\n",
    "    'Washington': 'WA',\n",
    "    'West Virginia': 'WV',\n",
    "    'Wisconsin': 'WI',\n",
    "    'Wyoming': 'WY'\n",
    "}"
   ]
  },
  {
   "cell_type": "code",
   "execution_count": null,
   "metadata": {},
   "outputs": [],
   "source": []
  }
 ],
 "metadata": {
  "kernelspec": {
   "display_name": "Python 3",
   "language": "python",
   "name": "python3"
  },
  "language_info": {
   "codemirror_mode": {
    "name": "ipython",
    "version": 3
   },
   "file_extension": ".py",
   "mimetype": "text/x-python",
   "name": "python",
   "nbconvert_exporter": "python",
   "pygments_lexer": "ipython3",
   "version": "3.7.7"
  },
  "toc": {
   "base_numbering": 1,
   "nav_menu": {},
   "number_sections": true,
   "sideBar": true,
   "skip_h1_title": true,
   "title_cell": "Table of Contents",
   "title_sidebar": "Contents",
   "toc_cell": false,
   "toc_position": {},
   "toc_section_display": true,
   "toc_window_display": false
  }
 },
 "nbformat": 4,
 "nbformat_minor": 4
}
