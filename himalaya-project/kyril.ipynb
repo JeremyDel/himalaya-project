{
 "cells": [
  {
   "cell_type": "markdown",
   "metadata": {
    "heading_collapsed": true
   },
   "source": [
    "# Model"
   ]
  },
  {
   "cell_type": "code",
   "execution_count": 1,
   "metadata": {
    "hidden": true
   },
   "outputs": [],
   "source": [
    "import pandas as pd\n",
    "import numpy as np\n",
    "from sklearn.preprocessing import MinMaxScaler, OneHotEncoder\n",
    "from sklearn.model_selection import train_test_split\n",
    "from sklearn.pipeline import Pipeline\n",
    "from sklearn.compose import ColumnTransformer, make_column_selector\n",
    "from sklearn.impute import SimpleImputer\n",
    "from xgboost import XGBClassifier\n",
    "from members import Members\n",
    "from weather import Weather\n",
    "from expeds import Expeds\n",
    "\n",
    "\n",
    "# Get Data\n",
    "member = Members().get_data()\n",
    "member = Members().clean_data(member)\n",
    "\n",
    "weather = Weather().get_data()\n",
    "weather = Weather().clean_data(weather)\n",
    "\n",
    "exped = Expeds().get_data()\n",
    "exped = Expeds().clean_data(exped)\n",
    "\n",
    "# Drop columns\n",
    "mem_to_drop = ['memb_id','year','unique_id','peak_id','residence','occupation',\n",
    "'summit_claimed','summit_disputed','highpt','high_point','death','death_type',\n",
    "'death_height','death_class','summit_bid','summit_term','summit_date1',\n",
    "'citizenship','o2_climb','o2_descent','o2_sleep','o2_medical', 'o2_none', \n",
    "'yob', 'route1', 'ascent1', 'leader', 'deputy', 'bconly', 'nottobc', 'support', \n",
    "'hired', 'sherpa', 'tibetan']\n",
    "\n",
    "\n",
    "exp_to_drop = ['year','season','route1','route2','nation','leaders',\n",
    "'sponsor','success1','success2', 'ascent1','claimed','disputed',\n",
    "'countries','summit_time','term_date','term_note','high_point',\n",
    "'traverse','ski','parapente','o2_climb','o2_descent','o2_sleep',\n",
    "'o2_medical','o2_taken','o2_unkwn','o2_used','o2_none','other_smts',\n",
    "'campsites','accidents','achievment','agency','peak_name','primmem',\n",
    "'summiter_deaths','summit_members','summit_hired','hired_deaths']\n",
    "\n",
    "member.drop(columns= mem_to_drop, inplace=True)\n",
    "exped.drop(columns= exp_to_drop, inplace=True)\n",
    "\n",
    "exped['summit_date'] = pd.to_datetime(exped.summit_date, errors = 'coerce')\n",
    "exped['bc_date'] = pd.to_datetime(exped.bc_date , errors = 'coerce')\n",
    "exped = exped.set_index('summit_date')\n",
    "weather = weather.set_index('date_time')\n",
    "\n",
    "# Feature Engineering (1/2)\n",
    "exped['sherpa_ratio'] = exped['tot_hired'] / exped['tot_members']\n",
    "exped['sherpa_ratio'] = np.where(exped['sherpa_ratio'] == np.inf, 0, exped['sherpa_ratio'])\n",
    "\n",
    "weather['pressure_past'] = weather['pressure'].rolling(window=3).mean()\n",
    "weather['pressure_futur'] = weather['pressure'].shift(-2).rolling(window=3).mean()\n",
    "weather['stability'] = weather['pressure_futur'] - weather['pressure_past']\n",
    "\n",
    "# Merge DataFrames\n",
    "df = exped.merge(weather, how='left', left_index=True, right_index=True)\n",
    "df = df.reset_index()\n",
    "df = df.rename(columns={'index' : 'summit_date'})\n",
    "df = df.merge(member, on='exp_id', how = 'right')\n",
    "df.drop(columns=['moonrise', 'moonset', 'sunrise', 'sunset'], inplace = True)\n",
    "df = df.dropna(subset=['summit_date', 'bc_date'])\n",
    "\n",
    "# Feature Engineering (2/2)\n",
    "df['cumul_snow'] = 0\n",
    "\n",
    "for index, row in df.iterrows():\n",
    "    date1 = row['bc_date'].date()\n",
    "    date2 = row['summit_date'].date()\n",
    "    acc_snow = weather.loc[date1:date2, 'totalSnow_cm'].sum()\n",
    "    df.loc[index, 'cumul_snow'] = acc_snow\n",
    "\n",
    "df.drop(columns=['summit_date', 'exp_id', 'bc_date', 'term_reason', 'pressure_past', 'pressure_futur'], inplace=True)"
   ]
  },
  {
   "cell_type": "code",
   "execution_count": 2,
   "metadata": {
    "hidden": true
   },
   "outputs": [
    {
     "data": {
      "text/plain": [
       "Index(['peak_id', 'host', 'summit_days', 'tot_days', 'camps', 'rope',\n",
       "       'tot_members', 'tot_hired', 'no_hired', 'comrte', 'stdrte', 'primrte',\n",
       "       'peak_height', 'sherpa_ratio', 'maxtempC', 'mintempC', 'totalSnow_cm',\n",
       "       'sunHour', 'uvIndex', 'moon_illumination', 'DewPointC', 'FeelsLikeC',\n",
       "       'HeatIndexC', 'WindChillC', 'WindGustKmph', 'cloudcover', 'humidity',\n",
       "       'precipMM', 'pressure', 'tempC', 'visibility', 'winddirDegree',\n",
       "       'windspeedKmph', 'stability', 'season', 'sex_M', 'status', 'disabled',\n",
       "       'summit_success', 'solo', 'traverse', 'ski', 'parapente', 'speed',\n",
       "       'o2_used', 'age', 'cumul_snow'],\n",
       "      dtype='object')"
      ]
     },
     "execution_count": 2,
     "metadata": {},
     "output_type": "execute_result"
    }
   ],
   "source": [
    "# Columns used for the model\n",
    "df.columns"
   ]
  },
  {
   "cell_type": "code",
   "execution_count": 3,
   "metadata": {
    "hidden": true
   },
   "outputs": [],
   "source": [
    "# Data Processing\n",
    "col_num = []\n",
    "col_bool =[]\n",
    "col_object =[]\n",
    "\n",
    "for col in df:\n",
    "    if df[col].dtype == \"float64\":\n",
    "        col_num.append(col)\n",
    "        \n",
    "    if df[col].dtype == \"int64\":\n",
    "        col_num.append(col)\n",
    "        \n",
    "    if df[col].dtype == 'bool':\n",
    "        col_bool.append(col)\n",
    "        \n",
    "    if df[col].dtype == 'object':\n",
    "        col_object.append(col)\n",
    "        \n",
    "col_bool.remove('summit_success')\n",
    "\n",
    "numeric_transformer = Pipeline(steps=[\n",
    "    ('imputer', SimpleImputer()),\n",
    "    ('scaler', MinMaxScaler())])\n",
    "\n",
    "categorical_transformer = Pipeline(steps=[\n",
    "    ('imputer', SimpleImputer(strategy='most_frequent')),\n",
    "    ('onehot', OneHotEncoder(drop= 'first', handle_unknown='error'))])\n",
    "\n",
    "preprocessor = ColumnTransformer(\n",
    "    transformers=[\n",
    "        ('num', numeric_transformer, col_num),\n",
    "        ('cat', categorical_transformer, col_object)])\n",
    "\n",
    "clf = Pipeline(steps=[('preprocessor', preprocessor)])\n",
    "\n",
    "X = df.drop(columns=['summit_success'])\n",
    "y = df.summit_success\n",
    "\n",
    "X_trans = clf.fit_transform(X)\n",
    "X_tr = X_trans.toarray()\n",
    "\n",
    "X_train, X_test, y_train, y_test = train_test_split(X_tr, y, test_size= 0.3, random_state= 1)"
   ]
  },
  {
   "cell_type": "code",
   "execution_count": 4,
   "metadata": {
    "hidden": true
   },
   "outputs": [
    {
     "name": "stdout",
     "output_type": "stream",
     "text": [
      "              precision    recall  f1-score   support\n",
      "\n",
      "       False       0.85      0.83      0.84      2290\n",
      "        True       0.79      0.82      0.81      1852\n",
      "\n",
      "    accuracy                           0.82      4142\n",
      "   macro avg       0.82      0.82      0.82      4142\n",
      "weighted avg       0.83      0.82      0.82      4142\n",
      "\n"
     ]
    }
   ],
   "source": [
    "# Model Traning\n",
    "from sklearn.metrics import classification_report\n",
    "boost = XGBClassifier()\n",
    "boost.fit(X_train, y_train)\n",
    "ypred = boost.predict(X_test)\n",
    "print(classification_report(y_test, ypred))"
   ]
  },
  {
   "cell_type": "code",
   "execution_count": 5,
   "metadata": {
    "hidden": true
   },
   "outputs": [
    {
     "name": "stdout",
     "output_type": "stream",
     "text": [
      "              precision    recall  f1-score   support\n",
      "\n",
      "       False       0.84      0.82      0.83      2290\n",
      "        True       0.78      0.81      0.79      1852\n",
      "\n",
      "    accuracy                           0.81      4142\n",
      "   macro avg       0.81      0.81      0.81      4142\n",
      "weighted avg       0.81      0.81      0.81      4142\n",
      "\n"
     ]
    }
   ],
   "source": [
    "# Best model of Jeremy\n",
    "best_of_best = XGBClassifier(n_estimators = 300,\n",
    "                            max_depth = 18,\n",
    "                            learning_rate = 0.3,\n",
    "                            gamma = 0.8,\n",
    "                            min_child_weight = 4,\n",
    "                            colsample_bytree = 0.3\n",
    "                            )\n",
    "\n",
    "best_of_best.fit(X_train, y_train)\n",
    "ypred = best_of_best.predict(X_test)\n",
    "print(classification_report(y_test, ypred))"
   ]
  },
  {
   "cell_type": "markdown",
   "metadata": {
    "heading_collapsed": true,
    "hidden": true
   },
   "source": [
    "## Other Models"
   ]
  },
  {
   "cell_type": "code",
   "execution_count": 6,
   "metadata": {
    "hidden": true
   },
   "outputs": [
    {
     "name": "stdout",
     "output_type": "stream",
     "text": [
      "              precision    recall  f1-score   support\n",
      "\n",
      "       False       0.73      0.76      0.75      2290\n",
      "        True       0.69      0.66      0.68      1852\n",
      "\n",
      "    accuracy                           0.72      4142\n",
      "   macro avg       0.71      0.71      0.71      4142\n",
      "weighted avg       0.72      0.72      0.72      4142\n",
      "\n"
     ]
    }
   ],
   "source": [
    "from sklearn.linear_model import LogisticRegression\n",
    "\n",
    "reg = LogisticRegression(max_iter=500)\n",
    "reg.fit(X_train, y_train)\n",
    "ypred = reg.predict(X_test)\n",
    "print(classification_report(y_test, ypred))"
   ]
  },
  {
   "cell_type": "code",
   "execution_count": 7,
   "metadata": {
    "hidden": true
   },
   "outputs": [
    {
     "name": "stdout",
     "output_type": "stream",
     "text": [
      "              precision    recall  f1-score   support\n",
      "\n",
      "       False       0.83      0.81      0.82      2290\n",
      "        True       0.77      0.80      0.79      1852\n",
      "\n",
      "    accuracy                           0.81      4142\n",
      "   macro avg       0.80      0.81      0.80      4142\n",
      "weighted avg       0.81      0.81      0.81      4142\n",
      "\n"
     ]
    }
   ],
   "source": [
    "from sklearn.ensemble import RandomForestClassifier\n",
    "clf = RandomForestClassifier(random_state=0)\n",
    "clf.fit(X_train, y_train)\n",
    "ypred = clf.predict(X_test)\n",
    "print(classification_report(y_test, ypred))"
   ]
  },
  {
   "cell_type": "markdown",
   "metadata": {
    "heading_collapsed": true,
    "hidden": true
   },
   "source": [
    "## RandomSearchCV"
   ]
  },
  {
   "cell_type": "markdown",
   "metadata": {
    "hidden": true
   },
   "source": [
    "### XGB"
   ]
  },
  {
   "cell_type": "code",
   "execution_count": 8,
   "metadata": {
    "hidden": true
   },
   "outputs": [
    {
     "name": "stdout",
     "output_type": "stream",
     "text": [
      "Fitting 5 folds for each of 10 candidates, totalling 50 fits\n"
     ]
    },
    {
     "name": "stderr",
     "output_type": "stream",
     "text": [
      "[Parallel(n_jobs=-1)]: Using backend LokyBackend with 8 concurrent workers.\n",
      "[Parallel(n_jobs=-1)]: Done  34 tasks      | elapsed:  1.7min\n",
      "[Parallel(n_jobs=-1)]: Done  50 out of  50 | elapsed:  1.9min finished\n"
     ]
    },
    {
     "name": "stdout",
     "output_type": "stream",
     "text": [
      "Wall time: 1min 58s\n"
     ]
    },
    {
     "data": {
      "text/plain": [
       "RandomizedSearchCV(cv=5,\n",
       "                   estimator=XGBClassifier(base_score=None, booster=None,\n",
       "                                           colsample_bylevel=None,\n",
       "                                           colsample_bynode=None,\n",
       "                                           colsample_bytree=None, gamma=None,\n",
       "                                           gpu_id=None, importance_type='gain',\n",
       "                                           interaction_constraints=None,\n",
       "                                           learning_rate=None,\n",
       "                                           max_delta_step=None, max_depth=None,\n",
       "                                           min_child_weight=None, missing=nan,\n",
       "                                           monotone_constraints=None,\n",
       "                                           n_estimators=100,...\n",
       "                   param_distributions={'booster': ['gbtree', 'gblinear'],\n",
       "                                        'colsample_bytree': [0.6, 0.8, 1.0],\n",
       "                                        'gamma': [0.5, 1, 1.5, 2, 5],\n",
       "                                        'learning_rate': [0.0001, 0.001, 0.1,\n",
       "                                                          1],\n",
       "                                        'max_depth': [5, 10, 25, 50],\n",
       "                                        'min_child_weight': [0.1, 1, 5, 10, 50],\n",
       "                                        'n_estimators': [50, 100, 250, 500],\n",
       "                                        'reg_alpha': [0.0001, 0.001, 0.1, 1],\n",
       "                                        'reg_lambda': [0.0001, 0.001, 0.1, 1],\n",
       "                                        'subsample': [0.6, 0.8, 1.0]},\n",
       "                   random_state=1001, scoring='accuracy', verbose=1)"
      ]
     },
     "execution_count": 8,
     "metadata": {},
     "output_type": "execute_result"
    }
   ],
   "source": [
    "%%time\n",
    "from sklearn.model_selection import RandomizedSearchCV\n",
    "\n",
    "params = {'booster' : ['gbtree', 'gblinear'],\n",
    "        'min_child_weight': [0.1, 1, 5, 10, 50],\n",
    "        'gamma': [0.5, 1, 1.5, 2, 5],\n",
    "        'subsample': [0.6, 0.8, 1.0],\n",
    "        'colsample_bytree': [0.6, 0.8, 1.0],\n",
    "        'max_depth': [5, 10, 25, 50],\n",
    "        'learning_rate': [0.0001, 0.001, 0.1, 1],\n",
    "        'n_estimators': [50, 100, 250, 500],\n",
    "        'reg_alpha': [0.0001, 0.001, 0.1, 1],\n",
    "        'reg_lambda': [0.0001, 0.001, 0.1, 1]\n",
    "        }\n",
    "\n",
    "model = XGBClassifier()\n",
    "\n",
    "random_search = RandomizedSearchCV(model, \n",
    "                                   cv=5,\n",
    "                                   param_distributions=params,  \n",
    "                                   scoring='accuracy', \n",
    "                                   n_jobs=-1,\n",
    "                                   verbose=1, \n",
    "                                   random_state=1001)\n",
    "\n",
    "random_search.fit(X_train, y_train)"
   ]
  },
  {
   "cell_type": "code",
   "execution_count": 9,
   "metadata": {
    "hidden": true
   },
   "outputs": [
    {
     "data": {
      "text/plain": [
       "XGBClassifier(base_score=0.5, booster='gbtree', colsample_bylevel=1,\n",
       "              colsample_bynode=1, colsample_bytree=1, gamma=0, gpu_id=-1,\n",
       "              importance_type='gain', interaction_constraints='',\n",
       "              learning_rate=0.300000012, max_delta_step=0, max_depth=6,\n",
       "              min_child_weight=1, missing=nan, monotone_constraints='()',\n",
       "              n_estimators=100, n_jobs=0, num_parallel_tree=1, random_state=0,\n",
       "              reg_alpha=0, reg_lambda=1, scale_pos_weight=1, subsample=1,\n",
       "              tree_method='exact', validate_parameters=1, verbosity=None)"
      ]
     },
     "execution_count": 9,
     "metadata": {},
     "output_type": "execute_result"
    }
   ],
   "source": [
    "boost"
   ]
  },
  {
   "cell_type": "code",
   "execution_count": 10,
   "metadata": {
    "hidden": true
   },
   "outputs": [
    {
     "data": {
      "text/plain": [
       "XGBClassifier(base_score=0.5, booster='gbtree', colsample_bylevel=1,\n",
       "              colsample_bynode=1, colsample_bytree=0.6, gamma=2, gpu_id=-1,\n",
       "              importance_type='gain', interaction_constraints='',\n",
       "              learning_rate=0.001, max_delta_step=0, max_depth=25,\n",
       "              min_child_weight=1, missing=nan, monotone_constraints='()',\n",
       "              n_estimators=100, n_jobs=0, num_parallel_tree=1, random_state=0,\n",
       "              reg_alpha=0.1, reg_lambda=0.0001, scale_pos_weight=1,\n",
       "              subsample=0.8, tree_method='exact', validate_parameters=1,\n",
       "              verbosity=None)"
      ]
     },
     "execution_count": 10,
     "metadata": {},
     "output_type": "execute_result"
    }
   ],
   "source": [
    "best_model = random_search.best_estimator_\n",
    "best_model"
   ]
  },
  {
   "cell_type": "code",
   "execution_count": 11,
   "metadata": {
    "hidden": true
   },
   "outputs": [
    {
     "name": "stdout",
     "output_type": "stream",
     "text": [
      "              precision    recall  f1-score   support\n",
      "\n",
      "       False       0.86      0.81      0.84      2290\n",
      "        True       0.78      0.84      0.81      1852\n",
      "\n",
      "    accuracy                           0.82      4142\n",
      "   macro avg       0.82      0.82      0.82      4142\n",
      "weighted avg       0.83      0.82      0.82      4142\n",
      "\n"
     ]
    }
   ],
   "source": [
    "ypred = best_model.predict(X_test)\n",
    "print(classification_report(y_test, ypred))"
   ]
  },
  {
   "cell_type": "markdown",
   "metadata": {
    "heading_collapsed": true,
    "hidden": true
   },
   "source": [
    "### RFC"
   ]
  },
  {
   "cell_type": "code",
   "execution_count": 12,
   "metadata": {
    "hidden": true
   },
   "outputs": [
    {
     "name": "stdout",
     "output_type": "stream",
     "text": [
      "Fitting 5 folds for each of 10 candidates, totalling 50 fits\n"
     ]
    },
    {
     "name": "stderr",
     "output_type": "stream",
     "text": [
      "[Parallel(n_jobs=-1)]: Using backend LokyBackend with 8 concurrent workers.\n",
      "[Parallel(n_jobs=-1)]: Done  34 tasks      | elapsed:   19.9s\n",
      "[Parallel(n_jobs=-1)]: Done  50 out of  50 | elapsed:   24.3s finished\n"
     ]
    },
    {
     "name": "stdout",
     "output_type": "stream",
     "text": [
      "Wall time: 26.3 s\n"
     ]
    },
    {
     "data": {
      "text/plain": [
       "RandomizedSearchCV(cv=5, estimator=RandomForestClassifier(), n_jobs=-1,\n",
       "                   param_distributions={'criterion': ['gini', 'entropy'],\n",
       "                                        'max_depth': [5, 10, 25, 50],\n",
       "                                        'max_features': ['sqrt', 'log2'],\n",
       "                                        'min_samples_leaf': [1, 3, 5],\n",
       "                                        'min_samples_split': [2, 3, 5],\n",
       "                                        'n_estimators': [100, 200, 500]},\n",
       "                   random_state=1001, scoring='accuracy', verbose=1)"
      ]
     },
     "execution_count": 12,
     "metadata": {},
     "output_type": "execute_result"
    }
   ],
   "source": [
    "%%time\n",
    "from sklearn.model_selection import RandomizedSearchCV\n",
    "\n",
    "params = {'n_estimators' : [100,200,500],\n",
    "        'criterion' : ['gini', 'entropy'],\n",
    "        'min_samples_split': [2, 3, 5],\n",
    "        'max_depth': [5, 10, 25, 50],\n",
    "        'min_samples_leaf': [1, 3, 5],\n",
    "        'max_features': [\"sqrt\", \"log2\"]\n",
    "        }\n",
    "\n",
    "model = RandomForestClassifier()\n",
    "\n",
    "random_search = RandomizedSearchCV(model, \n",
    "                                   cv=5,\n",
    "                                   param_distributions=params,  \n",
    "                                   scoring='accuracy', \n",
    "                                   n_jobs=-1,\n",
    "                                   verbose=1, \n",
    "                                   random_state=1001)\n",
    "\n",
    "random_search.fit(X_train, y_train)"
   ]
  },
  {
   "cell_type": "code",
   "execution_count": 13,
   "metadata": {
    "hidden": true
   },
   "outputs": [],
   "source": [
    "best_model = random_search.best_estimator_"
   ]
  },
  {
   "cell_type": "code",
   "execution_count": 14,
   "metadata": {
    "hidden": true
   },
   "outputs": [
    {
     "data": {
      "text/plain": [
       "RandomForestClassifier(criterion='entropy', max_depth=25, max_features='log2',\n",
       "                       min_samples_split=5, n_estimators=200)"
      ]
     },
     "execution_count": 14,
     "metadata": {},
     "output_type": "execute_result"
    }
   ],
   "source": [
    "best_model"
   ]
  },
  {
   "cell_type": "code",
   "execution_count": 15,
   "metadata": {
    "hidden": true
   },
   "outputs": [
    {
     "name": "stdout",
     "output_type": "stream",
     "text": [
      "              precision    recall  f1-score   support\n",
      "\n",
      "       False       0.85      0.81      0.83      2290\n",
      "        True       0.78      0.83      0.80      1852\n",
      "\n",
      "    accuracy                           0.82      4142\n",
      "   macro avg       0.81      0.82      0.82      4142\n",
      "weighted avg       0.82      0.82      0.82      4142\n",
      "\n"
     ]
    }
   ],
   "source": [
    "ypred = best_model.predict(X_test)\n",
    "print(classification_report(y_test, ypred))"
   ]
  },
  {
   "cell_type": "markdown",
   "metadata": {
    "heading_collapsed": true
   },
   "source": [
    "# Test xgb_model.py"
   ]
  },
  {
   "cell_type": "code",
   "execution_count": 1,
   "metadata": {
    "hidden": true
   },
   "outputs": [],
   "source": [
    "from xgb_model import HimalXGB\n",
    "\n",
    "model = HimalXGB().train_model()"
   ]
  },
  {
   "cell_type": "code",
   "execution_count": 2,
   "metadata": {
    "hidden": true
   },
   "outputs": [
    {
     "ename": "NameError",
     "evalue": "name 'X' is not defined",
     "output_type": "error",
     "traceback": [
      "\u001b[1;31m---------------------------------------------------------------------------\u001b[0m",
      "\u001b[1;31mNameError\u001b[0m                                 Traceback (most recent call last)",
      "\u001b[1;32m<ipython-input-2-6fefe5c93724>\u001b[0m in \u001b[0;36m<module>\u001b[1;34m\u001b[0m\n\u001b[1;32m----> 1\u001b[1;33m \u001b[0my_pred\u001b[0m \u001b[1;33m=\u001b[0m \u001b[0mHimalXGB\u001b[0m\u001b[1;33m(\u001b[0m\u001b[1;33m)\u001b[0m\u001b[1;33m.\u001b[0m\u001b[0mpredict_model\u001b[0m\u001b[1;33m(\u001b[0m\u001b[0mX\u001b[0m\u001b[1;33m)\u001b[0m\u001b[1;33m\u001b[0m\u001b[1;33m\u001b[0m\u001b[0m\n\u001b[0m",
      "\u001b[1;31mNameError\u001b[0m: name 'X' is not defined"
     ]
    }
   ],
   "source": [
    "y_pred = HimalXGB().predict_model(X)"
   ]
  },
  {
   "cell_type": "code",
   "execution_count": null,
   "metadata": {
    "hidden": true
   },
   "outputs": [],
   "source": [
    "print(classification_report(y, y_pred))"
   ]
  },
  {
   "cell_type": "markdown",
   "metadata": {
    "heading_collapsed": true
   },
   "source": [
    "# Model without weather"
   ]
  },
  {
   "cell_type": "code",
   "execution_count": 4,
   "metadata": {
    "hidden": true
   },
   "outputs": [],
   "source": [
    "import pandas as pd\n",
    "import numpy as np\n",
    "from sklearn.preprocessing import MinMaxScaler, OneHotEncoder\n",
    "from sklearn.model_selection import train_test_split\n",
    "from sklearn.pipeline import Pipeline\n",
    "from sklearn.compose import ColumnTransformer, make_column_selector\n",
    "from sklearn.impute import SimpleImputer\n",
    "from xgboost import XGBClassifier\n",
    "from members import Members\n",
    "from expeds import Expeds\n",
    "\n",
    "\n",
    "# Get Data\n",
    "member = Members().get_data()\n",
    "member = Members().clean_data(member)\n",
    "\n",
    "exped = Expeds().get_data()\n",
    "exped = Expeds().clean_data(exped)\n",
    "\n",
    "# Drop columns\n",
    "mem_to_drop = ['memb_id','year','unique_id','peak_id','residence','occupation',\n",
    "'summit_claimed','summit_disputed','highpt','high_point','death','death_type',\n",
    "'death_height','death_class','summit_bid','summit_term','summit_date1',\n",
    "'citizenship','o2_climb','o2_descent','o2_sleep','o2_medical', 'o2_none', \n",
    "'yob', 'route1', 'ascent1', 'leader', 'deputy', 'bconly', 'nottobc', 'support', \n",
    "'hired', 'sherpa', 'tibetan']\n",
    "\n",
    "\n",
    "exp_to_drop = ['year','season','route1','route2','nation','leaders',\n",
    "'sponsor','success1','success2', 'ascent1','claimed','disputed',\n",
    "'countries','summit_time','term_date','term_note','high_point',\n",
    "'traverse','ski','parapente','o2_climb','o2_descent','o2_sleep',\n",
    "'o2_medical','o2_taken','o2_unkwn','o2_used','o2_none','other_smts',\n",
    "'campsites','accidents','achievment','agency','peak_name','primmem',\n",
    "'summiter_deaths','summit_members','summit_hired','hired_deaths']\n",
    "\n",
    "member.drop(columns= mem_to_drop, inplace=True)\n",
    "exped.drop(columns= exp_to_drop, inplace=True)\n",
    "\n",
    "# Feature Engineering (1/2)\n",
    "exped['sherpa_ratio'] = exped['tot_hired'] / exped['tot_members']\n",
    "exped['sherpa_ratio'] = np.where(exped['sherpa_ratio'] == np.inf, 0, exped['sherpa_ratio'])\n",
    "\n",
    "\n",
    "# Merge DataFrames\n",
    "df = exped.merge(member, on='exp_id', how = 'right')\n",
    "\n",
    "\n",
    "df.drop(columns=['summit_date', 'exp_id', 'bc_date', 'term_reason'], inplace=True)"
   ]
  },
  {
   "cell_type": "code",
   "execution_count": 5,
   "metadata": {
    "hidden": true
   },
   "outputs": [],
   "source": [
    "# Data Processing\n",
    "col_num = []\n",
    "col_bool =[]\n",
    "col_object =[]\n",
    "\n",
    "for col in df:\n",
    "    if df[col].dtype == \"float64\":\n",
    "        col_num.append(col)\n",
    "        \n",
    "    if df[col].dtype == \"int64\":\n",
    "        col_num.append(col)\n",
    "        \n",
    "    if df[col].dtype == 'bool':\n",
    "        col_bool.append(col)\n",
    "        \n",
    "    if df[col].dtype == 'object':\n",
    "        col_object.append(col)\n",
    "        \n",
    "col_bool.remove('summit_success')\n",
    "\n",
    "numeric_transformer = Pipeline(steps=[\n",
    "    ('imputer', SimpleImputer()),\n",
    "    ('scaler', MinMaxScaler())])\n",
    "\n",
    "categorical_transformer = Pipeline(steps=[\n",
    "    ('imputer', SimpleImputer(strategy='most_frequent')),\n",
    "    ('onehot', OneHotEncoder(drop= 'first', handle_unknown='error'))])\n",
    "\n",
    "preprocessor = ColumnTransformer(\n",
    "    transformers=[\n",
    "        ('num', numeric_transformer, col_num),\n",
    "        ('cat', categorical_transformer, col_object)])\n",
    "\n",
    "clf = Pipeline(steps=[('preprocessor', preprocessor)])\n",
    "\n",
    "X = df.drop(columns=['summit_success'])\n",
    "y = df.summit_success\n",
    "\n",
    "X_trans = clf.fit_transform(X)\n",
    "X_tr = X_trans.toarray()\n",
    "\n",
    "X_train, X_test, y_train, y_test = train_test_split(X_tr, y, test_size= 0.3, random_state= 1)"
   ]
  },
  {
   "cell_type": "code",
   "execution_count": 6,
   "metadata": {
    "hidden": true
   },
   "outputs": [
    {
     "name": "stdout",
     "output_type": "stream",
     "text": [
      "              precision    recall  f1-score   support\n",
      "\n",
      "       False       0.83      0.82      0.83      2792\n",
      "        True       0.77      0.78      0.78      2123\n",
      "\n",
      "    accuracy                           0.81      4915\n",
      "   macro avg       0.80      0.80      0.80      4915\n",
      "weighted avg       0.81      0.81      0.81      4915\n",
      "\n"
     ]
    }
   ],
   "source": [
    "# Model Traning\n",
    "from sklearn.metrics import classification_report\n",
    "boost = XGBClassifier()\n",
    "boost.fit(X_train, y_train)\n",
    "ypred = boost.predict(X_test)\n",
    "print(classification_report(y_test, ypred))"
   ]
  },
  {
   "cell_type": "markdown",
   "metadata": {
    "heading_collapsed": true
   },
   "source": [
    "# Peaks GPS"
   ]
  },
  {
   "cell_type": "code",
   "execution_count": 66,
   "metadata": {
    "hidden": true
   },
   "outputs": [],
   "source": [
    "import pandas as pd\n",
    "\n",
    "#gps = pd.read_excel('data/Peaks_GPS.xls')\n",
    "\n",
    "gps = pd.read_excel('data/main_peaks.xlsx')"
   ]
  },
  {
   "cell_type": "code",
   "execution_count": 68,
   "metadata": {
    "hidden": true
   },
   "outputs": [],
   "source": [
    "import re\n",
    "\n",
    "def coord(x):\n",
    "    numbers = re.findall(r'\\d+', x)\n",
    "    unit = int(numbers[0])\n",
    "    dec = int(numbers[1])/60\n",
    "    cent = int(numbers[2])/3600\n",
    "    \n",
    "    return round(unit+dec+cent,4)"
   ]
  },
  {
   "cell_type": "code",
   "execution_count": 70,
   "metadata": {
    "hidden": true
   },
   "outputs": [],
   "source": [
    "gps['lat'] = gps['lat'].apply(lambda x: coord(x))\n",
    "gps['lon'] = gps['lon'].apply(lambda x: coord(x))"
   ]
  },
  {
   "cell_type": "code",
   "execution_count": 74,
   "metadata": {
    "hidden": true
   },
   "outputs": [
    {
     "data": {
      "text/html": [
       "<div style=\"width:100%;\"><div style=\"position:relative;width:100%;height:0;padding-bottom:60%;\"><span style=\"color:#565656\">Make this Notebook Trusted to load map: File -> Trust Notebook</span><iframe src=\"about:blank\" style=\"position:absolute;width:100%;height:100%;left:0;top:0;border:none !important;\" data-html=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 onload=\"this.contentDocument.open();this.contentDocument.write(atob(this.getAttribute('data-html')));this.contentDocument.close();\" allowfullscreen webkitallowfullscreen mozallowfullscreen></iframe></div></div>"
      ],
      "text/plain": [
       "<folium.folium.Map at 0x237ac148a48>"
      ]
     },
     "execution_count": 74,
     "metadata": {},
     "output_type": "execute_result"
    }
   ],
   "source": [
    "import folium\n",
    "\n",
    "m = folium.Map(\n",
    "    location=[27.98, 86.92],\n",
    "    zoom_start=8,\n",
    "    tiles='Stamen Terrain'\n",
    ")\n",
    "\n",
    "feature_group = folium.FeatureGroup(\"Locations\")\n",
    "for lat, lng, name in zip(gps.lat, gps.lon, gps.peak_name):\n",
    "    feature_group.add_child(folium.Marker(location=[lat,lng], popup=name))\n",
    "\n",
    "m.add_child(feature_group)\n",
    "\n",
    "folium.Marker(\n",
    "    location=[27.948056, 86.810278],\n",
    "    popup='Weather Station',\n",
    "    icon=folium.Icon(color='red', icon='info-sign')\n",
    ").add_to(m)\n",
    "\n",
    "\n",
    "m"
   ]
  },
  {
   "cell_type": "markdown",
   "metadata": {},
   "source": [
    "# Dash"
   ]
  },
  {
   "cell_type": "code",
   "execution_count": 1,
   "metadata": {},
   "outputs": [
    {
     "ename": "KeyboardInterrupt",
     "evalue": "",
     "output_type": "error",
     "traceback": [
      "\u001b[1;31m---------------------------------------------------------------------------\u001b[0m",
      "\u001b[1;31mKeyboardInterrupt\u001b[0m                         Traceback (most recent call last)",
      "\u001b[1;32m<ipython-input-1-0f1e0df8a7e3>\u001b[0m in \u001b[0;36m<module>\u001b[1;34m\u001b[0m\n\u001b[0;32m     12\u001b[0m \u001b[1;31m# ------------------------------------------------------------------------------\u001b[0m\u001b[1;33m\u001b[0m\u001b[1;33m\u001b[0m\u001b[1;33m\u001b[0m\u001b[0m\n\u001b[0;32m     13\u001b[0m \u001b[1;31m# Import and clean data (importing csv into pandas)\u001b[0m\u001b[1;33m\u001b[0m\u001b[1;33m\u001b[0m\u001b[1;33m\u001b[0m\u001b[0m\n\u001b[1;32m---> 14\u001b[1;33m \u001b[0mdf\u001b[0m \u001b[1;33m=\u001b[0m \u001b[0mData\u001b[0m\u001b[1;33m(\u001b[0m\u001b[1;33m)\u001b[0m\u001b[1;33m.\u001b[0m\u001b[0mget_matching_table\u001b[0m\u001b[1;33m(\u001b[0m\u001b[1;33m)\u001b[0m\u001b[1;33m\u001b[0m\u001b[1;33m\u001b[0m\u001b[0m\n\u001b[0m\u001b[0;32m     15\u001b[0m \u001b[1;33m\u001b[0m\u001b[0m\n\u001b[0;32m     16\u001b[0m \u001b[0mmylist\u001b[0m \u001b[1;33m=\u001b[0m \u001b[0mdf\u001b[0m\u001b[1;33m.\u001b[0m\u001b[0mpeak_id\u001b[0m\u001b[1;33m.\u001b[0m\u001b[0munique\u001b[0m\u001b[1;33m(\u001b[0m\u001b[1;33m)\u001b[0m\u001b[1;33m\u001b[0m\u001b[1;33m\u001b[0m\u001b[0m\n",
      "\u001b[1;32m~\\code\\kyrilwittouck\\himalaya-project\\himalaya-project\\data.py\u001b[0m in \u001b[0;36mget_matching_table\u001b[1;34m(self)\u001b[0m\n\u001b[0;32m    100\u001b[0m             \u001b[0mdate2\u001b[0m \u001b[1;33m=\u001b[0m \u001b[0mrow\u001b[0m\u001b[1;33m[\u001b[0m\u001b[1;34m'summit_date'\u001b[0m\u001b[1;33m]\u001b[0m\u001b[1;33m.\u001b[0m\u001b[0mdate\u001b[0m\u001b[1;33m(\u001b[0m\u001b[1;33m)\u001b[0m\u001b[1;33m\u001b[0m\u001b[1;33m\u001b[0m\u001b[0m\n\u001b[0;32m    101\u001b[0m             \u001b[0macc_snow\u001b[0m \u001b[1;33m=\u001b[0m \u001b[0mweather\u001b[0m\u001b[1;33m.\u001b[0m\u001b[0mloc\u001b[0m\u001b[1;33m[\u001b[0m\u001b[0mdate1\u001b[0m\u001b[1;33m:\u001b[0m\u001b[0mdate2\u001b[0m\u001b[1;33m,\u001b[0m \u001b[1;34m'totalSnow_cm'\u001b[0m\u001b[1;33m]\u001b[0m\u001b[1;33m.\u001b[0m\u001b[0msum\u001b[0m\u001b[1;33m(\u001b[0m\u001b[1;33m)\u001b[0m\u001b[1;33m\u001b[0m\u001b[1;33m\u001b[0m\u001b[0m\n\u001b[1;32m--> 102\u001b[1;33m             \u001b[0mdf\u001b[0m\u001b[1;33m.\u001b[0m\u001b[0mloc\u001b[0m\u001b[1;33m[\u001b[0m\u001b[0mindex\u001b[0m\u001b[1;33m,\u001b[0m \u001b[1;34m'cumul_snow'\u001b[0m\u001b[1;33m]\u001b[0m \u001b[1;33m=\u001b[0m \u001b[0macc_snow\u001b[0m\u001b[1;33m\u001b[0m\u001b[1;33m\u001b[0m\u001b[0m\n\u001b[0m\u001b[0;32m    103\u001b[0m \u001b[1;33m\u001b[0m\u001b[0m\n\u001b[0;32m    104\u001b[0m         \u001b[0mdf\u001b[0m\u001b[1;33m.\u001b[0m\u001b[0mdrop\u001b[0m\u001b[1;33m(\u001b[0m\u001b[0mcolumns\u001b[0m\u001b[1;33m=\u001b[0m\u001b[1;33m[\u001b[0m\u001b[1;34m'pressure_past'\u001b[0m\u001b[1;33m,\u001b[0m \u001b[1;34m'pressure_futur'\u001b[0m\u001b[1;33m,\u001b[0m \u001b[1;34m'term_reason'\u001b[0m\u001b[1;33m]\u001b[0m\u001b[1;33m,\u001b[0m \u001b[0minplace\u001b[0m\u001b[1;33m=\u001b[0m\u001b[1;32mTrue\u001b[0m\u001b[1;33m)\u001b[0m\u001b[1;33m\u001b[0m\u001b[1;33m\u001b[0m\u001b[0m\n",
      "\u001b[1;32mc:\\users\\kyril\\.venvs\\himalaya\\lib\\site-packages\\pandas\\core\\indexing.py\u001b[0m in \u001b[0;36m__setitem__\u001b[1;34m(self, key, value)\u001b[0m\n\u001b[0;32m    668\u001b[0m \u001b[1;33m\u001b[0m\u001b[0m\n\u001b[0;32m    669\u001b[0m         \u001b[0miloc\u001b[0m \u001b[1;33m=\u001b[0m \u001b[0mself\u001b[0m \u001b[1;32mif\u001b[0m \u001b[0mself\u001b[0m\u001b[1;33m.\u001b[0m\u001b[0mname\u001b[0m \u001b[1;33m==\u001b[0m \u001b[1;34m\"iloc\"\u001b[0m \u001b[1;32melse\u001b[0m \u001b[0mself\u001b[0m\u001b[1;33m.\u001b[0m\u001b[0mobj\u001b[0m\u001b[1;33m.\u001b[0m\u001b[0miloc\u001b[0m\u001b[1;33m\u001b[0m\u001b[1;33m\u001b[0m\u001b[0m\n\u001b[1;32m--> 670\u001b[1;33m         \u001b[0miloc\u001b[0m\u001b[1;33m.\u001b[0m\u001b[0m_setitem_with_indexer\u001b[0m\u001b[1;33m(\u001b[0m\u001b[0mindexer\u001b[0m\u001b[1;33m,\u001b[0m \u001b[0mvalue\u001b[0m\u001b[1;33m)\u001b[0m\u001b[1;33m\u001b[0m\u001b[1;33m\u001b[0m\u001b[0m\n\u001b[0m\u001b[0;32m    671\u001b[0m \u001b[1;33m\u001b[0m\u001b[0m\n\u001b[0;32m    672\u001b[0m     \u001b[1;32mdef\u001b[0m \u001b[0m_validate_key\u001b[0m\u001b[1;33m(\u001b[0m\u001b[0mself\u001b[0m\u001b[1;33m,\u001b[0m \u001b[0mkey\u001b[0m\u001b[1;33m,\u001b[0m \u001b[0maxis\u001b[0m\u001b[1;33m:\u001b[0m \u001b[0mint\u001b[0m\u001b[1;33m)\u001b[0m\u001b[1;33m:\u001b[0m\u001b[1;33m\u001b[0m\u001b[1;33m\u001b[0m\u001b[0m\n",
      "\u001b[1;32mc:\\users\\kyril\\.venvs\\himalaya\\lib\\site-packages\\pandas\\core\\indexing.py\u001b[0m in \u001b[0;36m_setitem_with_indexer\u001b[1;34m(self, indexer, value)\u001b[0m\n\u001b[0;32m   1761\u001b[0m                 \u001b[1;31m# scalar value\u001b[0m\u001b[1;33m\u001b[0m\u001b[1;33m\u001b[0m\u001b[1;33m\u001b[0m\u001b[0m\n\u001b[0;32m   1762\u001b[0m                 \u001b[1;32mfor\u001b[0m \u001b[0mloc\u001b[0m \u001b[1;32min\u001b[0m \u001b[0milocs\u001b[0m\u001b[1;33m:\u001b[0m\u001b[1;33m\u001b[0m\u001b[1;33m\u001b[0m\u001b[0m\n\u001b[1;32m-> 1763\u001b[1;33m                     \u001b[0misetter\u001b[0m\u001b[1;33m(\u001b[0m\u001b[0mloc\u001b[0m\u001b[1;33m,\u001b[0m \u001b[0mvalue\u001b[0m\u001b[1;33m)\u001b[0m\u001b[1;33m\u001b[0m\u001b[1;33m\u001b[0m\u001b[0m\n\u001b[0m\u001b[0;32m   1764\u001b[0m \u001b[1;33m\u001b[0m\u001b[0m\n\u001b[0;32m   1765\u001b[0m         \u001b[1;32melse\u001b[0m\u001b[1;33m:\u001b[0m\u001b[1;33m\u001b[0m\u001b[1;33m\u001b[0m\u001b[0m\n",
      "\u001b[1;32mc:\\users\\kyril\\.venvs\\himalaya\\lib\\site-packages\\pandas\\core\\indexing.py\u001b[0m in \u001b[0;36misetter\u001b[1;34m(loc, v)\u001b[0m\n\u001b[0;32m   1686\u001b[0m                 \u001b[1;32melse\u001b[0m\u001b[1;33m:\u001b[0m\u001b[1;33m\u001b[0m\u001b[1;33m\u001b[0m\u001b[0m\n\u001b[0;32m   1687\u001b[0m                     \u001b[1;31m# set the item, possibly having a dtype change\u001b[0m\u001b[1;33m\u001b[0m\u001b[1;33m\u001b[0m\u001b[1;33m\u001b[0m\u001b[0m\n\u001b[1;32m-> 1688\u001b[1;33m                     \u001b[0mser\u001b[0m \u001b[1;33m=\u001b[0m \u001b[0mser\u001b[0m\u001b[1;33m.\u001b[0m\u001b[0mcopy\u001b[0m\u001b[1;33m(\u001b[0m\u001b[1;33m)\u001b[0m\u001b[1;33m\u001b[0m\u001b[1;33m\u001b[0m\u001b[0m\n\u001b[0m\u001b[0;32m   1689\u001b[0m                     \u001b[0mser\u001b[0m\u001b[1;33m.\u001b[0m\u001b[0m_mgr\u001b[0m \u001b[1;33m=\u001b[0m \u001b[0mser\u001b[0m\u001b[1;33m.\u001b[0m\u001b[0m_mgr\u001b[0m\u001b[1;33m.\u001b[0m\u001b[0msetitem\u001b[0m\u001b[1;33m(\u001b[0m\u001b[0mindexer\u001b[0m\u001b[1;33m=\u001b[0m\u001b[0mplane_indexer\u001b[0m\u001b[1;33m,\u001b[0m \u001b[0mvalue\u001b[0m\u001b[1;33m=\u001b[0m\u001b[0mv\u001b[0m\u001b[1;33m)\u001b[0m\u001b[1;33m\u001b[0m\u001b[1;33m\u001b[0m\u001b[0m\n\u001b[0;32m   1690\u001b[0m                     \u001b[0mser\u001b[0m\u001b[1;33m.\u001b[0m\u001b[0m_maybe_update_cacher\u001b[0m\u001b[1;33m(\u001b[0m\u001b[0mclear\u001b[0m\u001b[1;33m=\u001b[0m\u001b[1;32mTrue\u001b[0m\u001b[1;33m)\u001b[0m\u001b[1;33m\u001b[0m\u001b[1;33m\u001b[0m\u001b[0m\n",
      "\u001b[1;32mc:\\users\\kyril\\.venvs\\himalaya\\lib\\site-packages\\pandas\\core\\generic.py\u001b[0m in \u001b[0;36mcopy\u001b[1;34m(self, deep)\u001b[0m\n\u001b[0;32m   5661\u001b[0m         \u001b[0mdtype\u001b[0m\u001b[1;33m:\u001b[0m \u001b[0mobject\u001b[0m\u001b[1;33m\u001b[0m\u001b[1;33m\u001b[0m\u001b[0m\n\u001b[0;32m   5662\u001b[0m         \"\"\"\n\u001b[1;32m-> 5663\u001b[1;33m         \u001b[0mdata\u001b[0m \u001b[1;33m=\u001b[0m \u001b[0mself\u001b[0m\u001b[1;33m.\u001b[0m\u001b[0m_mgr\u001b[0m\u001b[1;33m.\u001b[0m\u001b[0mcopy\u001b[0m\u001b[1;33m(\u001b[0m\u001b[0mdeep\u001b[0m\u001b[1;33m=\u001b[0m\u001b[0mdeep\u001b[0m\u001b[1;33m)\u001b[0m\u001b[1;33m\u001b[0m\u001b[1;33m\u001b[0m\u001b[0m\n\u001b[0m\u001b[0;32m   5664\u001b[0m         \u001b[0mself\u001b[0m\u001b[1;33m.\u001b[0m\u001b[0m_clear_item_cache\u001b[0m\u001b[1;33m(\u001b[0m\u001b[1;33m)\u001b[0m\u001b[1;33m\u001b[0m\u001b[1;33m\u001b[0m\u001b[0m\n\u001b[0;32m   5665\u001b[0m         \u001b[1;32mreturn\u001b[0m \u001b[0mself\u001b[0m\u001b[1;33m.\u001b[0m\u001b[0m_constructor\u001b[0m\u001b[1;33m(\u001b[0m\u001b[0mdata\u001b[0m\u001b[1;33m)\u001b[0m\u001b[1;33m.\u001b[0m\u001b[0m__finalize__\u001b[0m\u001b[1;33m(\u001b[0m\u001b[0mself\u001b[0m\u001b[1;33m,\u001b[0m \u001b[0mmethod\u001b[0m\u001b[1;33m=\u001b[0m\u001b[1;34m\"copy\"\u001b[0m\u001b[1;33m)\u001b[0m\u001b[1;33m\u001b[0m\u001b[1;33m\u001b[0m\u001b[0m\n",
      "\u001b[1;32mc:\\users\\kyril\\.venvs\\himalaya\\lib\\site-packages\\pandas\\core\\internals\\managers.py\u001b[0m in \u001b[0;36mcopy\u001b[1;34m(self, deep)\u001b[0m\n\u001b[0;32m    800\u001b[0m             \u001b[0mnew_axes\u001b[0m \u001b[1;33m=\u001b[0m \u001b[0mlist\u001b[0m\u001b[1;33m(\u001b[0m\u001b[0mself\u001b[0m\u001b[1;33m.\u001b[0m\u001b[0maxes\u001b[0m\u001b[1;33m)\u001b[0m\u001b[1;33m\u001b[0m\u001b[1;33m\u001b[0m\u001b[0m\n\u001b[0;32m    801\u001b[0m \u001b[1;33m\u001b[0m\u001b[0m\n\u001b[1;32m--> 802\u001b[1;33m         \u001b[0mres\u001b[0m \u001b[1;33m=\u001b[0m \u001b[0mself\u001b[0m\u001b[1;33m.\u001b[0m\u001b[0mapply\u001b[0m\u001b[1;33m(\u001b[0m\u001b[1;34m\"copy\"\u001b[0m\u001b[1;33m,\u001b[0m \u001b[0mdeep\u001b[0m\u001b[1;33m=\u001b[0m\u001b[0mdeep\u001b[0m\u001b[1;33m)\u001b[0m\u001b[1;33m\u001b[0m\u001b[1;33m\u001b[0m\u001b[0m\n\u001b[0m\u001b[0;32m    803\u001b[0m         \u001b[0mres\u001b[0m\u001b[1;33m.\u001b[0m\u001b[0maxes\u001b[0m \u001b[1;33m=\u001b[0m \u001b[0mnew_axes\u001b[0m\u001b[1;33m\u001b[0m\u001b[1;33m\u001b[0m\u001b[0m\n\u001b[0;32m    804\u001b[0m         \u001b[1;32mreturn\u001b[0m \u001b[0mres\u001b[0m\u001b[1;33m\u001b[0m\u001b[1;33m\u001b[0m\u001b[0m\n",
      "\u001b[1;32mc:\\users\\kyril\\.venvs\\himalaya\\lib\\site-packages\\pandas\\core\\internals\\managers.py\u001b[0m in \u001b[0;36mapply\u001b[1;34m(self, f, align_keys, **kwargs)\u001b[0m\n\u001b[0;32m    404\u001b[0m                 \u001b[0mapplied\u001b[0m \u001b[1;33m=\u001b[0m \u001b[0mb\u001b[0m\u001b[1;33m.\u001b[0m\u001b[0mapply\u001b[0m\u001b[1;33m(\u001b[0m\u001b[0mf\u001b[0m\u001b[1;33m,\u001b[0m \u001b[1;33m**\u001b[0m\u001b[0mkwargs\u001b[0m\u001b[1;33m)\u001b[0m\u001b[1;33m\u001b[0m\u001b[1;33m\u001b[0m\u001b[0m\n\u001b[0;32m    405\u001b[0m             \u001b[1;32melse\u001b[0m\u001b[1;33m:\u001b[0m\u001b[1;33m\u001b[0m\u001b[1;33m\u001b[0m\u001b[0m\n\u001b[1;32m--> 406\u001b[1;33m                 \u001b[0mapplied\u001b[0m \u001b[1;33m=\u001b[0m \u001b[0mgetattr\u001b[0m\u001b[1;33m(\u001b[0m\u001b[0mb\u001b[0m\u001b[1;33m,\u001b[0m \u001b[0mf\u001b[0m\u001b[1;33m)\u001b[0m\u001b[1;33m(\u001b[0m\u001b[1;33m**\u001b[0m\u001b[0mkwargs\u001b[0m\u001b[1;33m)\u001b[0m\u001b[1;33m\u001b[0m\u001b[1;33m\u001b[0m\u001b[0m\n\u001b[0m\u001b[0;32m    407\u001b[0m             \u001b[0mresult_blocks\u001b[0m \u001b[1;33m=\u001b[0m \u001b[0m_extend_blocks\u001b[0m\u001b[1;33m(\u001b[0m\u001b[0mapplied\u001b[0m\u001b[1;33m,\u001b[0m \u001b[0mresult_blocks\u001b[0m\u001b[1;33m)\u001b[0m\u001b[1;33m\u001b[0m\u001b[1;33m\u001b[0m\u001b[0m\n\u001b[0;32m    408\u001b[0m \u001b[1;33m\u001b[0m\u001b[0m\n",
      "\u001b[1;32mc:\\users\\kyril\\.venvs\\himalaya\\lib\\site-packages\\pandas\\core\\internals\\blocks.py\u001b[0m in \u001b[0;36mcopy\u001b[1;34m(self, deep)\u001b[0m\n\u001b[0;32m    677\u001b[0m         \u001b[0mvalues\u001b[0m \u001b[1;33m=\u001b[0m \u001b[0mself\u001b[0m\u001b[1;33m.\u001b[0m\u001b[0mvalues\u001b[0m\u001b[1;33m\u001b[0m\u001b[1;33m\u001b[0m\u001b[0m\n\u001b[0;32m    678\u001b[0m         \u001b[1;32mif\u001b[0m \u001b[0mdeep\u001b[0m\u001b[1;33m:\u001b[0m\u001b[1;33m\u001b[0m\u001b[1;33m\u001b[0m\u001b[0m\n\u001b[1;32m--> 679\u001b[1;33m             \u001b[0mvalues\u001b[0m \u001b[1;33m=\u001b[0m \u001b[0mvalues\u001b[0m\u001b[1;33m.\u001b[0m\u001b[0mcopy\u001b[0m\u001b[1;33m(\u001b[0m\u001b[1;33m)\u001b[0m\u001b[1;33m\u001b[0m\u001b[1;33m\u001b[0m\u001b[0m\n\u001b[0m\u001b[0;32m    680\u001b[0m         \u001b[1;32mreturn\u001b[0m \u001b[0mself\u001b[0m\u001b[1;33m.\u001b[0m\u001b[0mmake_block_same_class\u001b[0m\u001b[1;33m(\u001b[0m\u001b[0mvalues\u001b[0m\u001b[1;33m,\u001b[0m \u001b[0mndim\u001b[0m\u001b[1;33m=\u001b[0m\u001b[0mself\u001b[0m\u001b[1;33m.\u001b[0m\u001b[0mndim\u001b[0m\u001b[1;33m)\u001b[0m\u001b[1;33m\u001b[0m\u001b[1;33m\u001b[0m\u001b[0m\n\u001b[0;32m    681\u001b[0m \u001b[1;33m\u001b[0m\u001b[0m\n",
      "\u001b[1;31mKeyboardInterrupt\u001b[0m: "
     ]
    }
   ],
   "source": [
    "import pandas as pd\n",
    "import plotly.express as px\n",
    "import plotly.graph_objects as go\n",
    "import dash\n",
    "import dash_core_components as dcc\n",
    "import dash_html_components as html\n",
    "from dash.dependencies import Input, Output\n",
    "from data import Data\n",
    "\n",
    "app = dash.Dash(__name__)\n",
    "\n",
    "# ------------------------------------------------------------------------------\n",
    "# Import and clean data (importing csv into pandas)\n",
    "df = Data().get_matching_table()\n",
    "\n",
    "mylist = df.peak_id.unique()\n",
    "peak_list = pd.DataFrame({'peak' : mylist})\n",
    "\n",
    "# ------------------------------------------------------------------------------\n",
    "# App layout\n",
    "app.layout = html.Div([\n",
    "\n",
    "    html.H1(\"HimalayApp\", style={'text-align': 'center'}),\n",
    "\n",
    "    dcc.RangeSlider(\n",
    "        id='year_slider',\n",
    "        min=2010,\n",
    "        max=2020,\n",
    "        step=1,\n",
    "        value=[2010, 2020],\n",
    "        marks= {i : str(i) for i in range(2010, 2021)}),\n",
    "\n",
    "    html.Div(id='output_container', children=[]),\n",
    "    html.Br(),\n",
    "\n",
    "    dcc.Dropdown(\n",
    "        id='dropdown',\n",
    "        options=[{'label':i, 'value':i} for i in peak_list['peak']]),\n",
    "\n",
    "    html.Div(id='output', children=[]),\n",
    "    html.Br(),\n",
    "\n",
    "    html.Div(html.Iframe(src = \"https://fatmap.com/around/Mount_Everest/China/@27.9967433,86.9117653,28274.0557688,-63.6300764,0.4395348,7406.1808273,normal\"))\n",
    "])\n",
    "\n",
    "\n",
    "# # ------------------------------------------------------------------------------\n",
    "# # Connect the Plotly graphs with Dash Components\n",
    "# @app.callback(\n",
    "#     [Output(component_id='output_container', component_property='children'),\n",
    "#      Output(component_id='output', component_property='children')],\n",
    "#     [Input(component_id='year_slider', component_property='value')])\n",
    "\n",
    "\n",
    "\n",
    "# # ------------------------------------------------------------------------------\n",
    "__name__ == '__main__'\n",
    "app.run_server(debug=True)"
   ]
  },
  {
   "cell_type": "code",
   "execution_count": null,
   "metadata": {},
   "outputs": [],
   "source": [
    "url = \"https://fatmap.com/routeid/339173/camp-one-to-camp-two-and-three?fmid=em\"\n",
    "app.layout = html.Div([\n",
    "    html.Embed(src=url,width=\"750\",height=\"400\"),\n",
    "    html.Div(id='my-div')\n",
    "])\n",
    "\n",
    "\n",
    "@app.callback(\n",
    "    Output(component_id='my-div', component_property='children')\n",
    ")\n",
    "\n",
    "app.run_server(\"inline\",port=8060)"
   ]
  }
 ],
 "metadata": {
  "kernelspec": {
   "display_name": "Python 3",
   "language": "python",
   "name": "python3"
  },
  "language_info": {
   "codemirror_mode": {
    "name": "ipython",
    "version": 3
   },
   "file_extension": ".py",
   "mimetype": "text/x-python",
   "name": "python",
   "nbconvert_exporter": "python",
   "pygments_lexer": "ipython3",
   "version": "3.7.7"
  },
  "toc": {
   "base_numbering": 1,
   "nav_menu": {},
   "number_sections": true,
   "sideBar": true,
   "skip_h1_title": true,
   "title_cell": "Table of Contents",
   "title_sidebar": "Contents",
   "toc_cell": false,
   "toc_position": {},
   "toc_section_display": true,
   "toc_window_display": false
  }
 },
 "nbformat": 4,
 "nbformat_minor": 4
}
